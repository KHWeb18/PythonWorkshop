{
 "cells": [
  {
   "cell_type": "code",
   "execution_count": 1,
   "id": "b7dccb97",
   "metadata": {},
   "outputs": [],
   "source": [
    "## File Write\n",
    "data = \"hello\"\n",
    "with open(\"test.txt\", \"w\") as fp:\n",
    "    fp.write(data)"
   ]
  },
  {
   "cell_type": "code",
   "execution_count": 2,
   "id": "db9cd176",
   "metadata": {},
   "outputs": [
    {
     "name": "stdout",
     "output_type": "stream",
     "text": [
      "python test\n",
      "hello\n"
     ]
    }
   ],
   "source": [
    "## File REad\n",
    "with open(\"test.txt\", \"r\") as fp:\n",
    "    print(\"python test\")\n",
    "    print(fp.read())"
   ]
  },
  {
   "cell_type": "code",
   "execution_count": 3,
   "id": "53622d24",
   "metadata": {},
   "outputs": [
    {
     "name": "stdout",
     "output_type": "stream",
     "text": [
      " C 드라이브의 볼륨에는 이름이 없습니다.\n",
      " 볼륨 일련 번호: BC22-E86F\n",
      "\n",
      " C:\\Users\\jaqkq\\python_works\\PythonWorkshop 디렉터리\n",
      "\n",
      "2021-09-17  오후 06:25    <DIR>          .\n",
      "2021-09-17  오후 06:25    <DIR>          ..\n",
      "2021-09-17  오후 06:21             1,928 .gitignore\n",
      "2021-09-17  오후 06:22    <DIR>          .ipynb_checkpoints\n",
      "2021-09-17  오후 06:21                51 README.md\n",
      "2021-09-17  오후 06:24               615 test.ipynb\n",
      "2021-09-17  오후 06:25                 5 test.txt\n",
      "               4개 파일               2,599 바이트\n",
      "               3개 디렉터리  355,065,872,384 바이트 남음\n"
     ]
    }
   ],
   "source": [
    "!dir"
   ]
  },
  {
   "cell_type": "code",
   "execution_count": 4,
   "id": "62fb14d5",
   "metadata": {},
   "outputs": [
    {
     "name": "stdout",
     "output_type": "stream",
     "text": [
      "hello\n"
     ]
    }
   ],
   "source": [
    "!type test.txt"
   ]
  },
  {
   "cell_type": "code",
   "execution_count": null,
   "id": "104264b2",
   "metadata": {},
   "outputs": [],
   "source": []
  }
 ],
 "metadata": {
  "kernelspec": {
   "display_name": "Python 3",
   "language": "python",
   "name": "python3"
  },
  "language_info": {
   "codemirror_mode": {
    "name": "ipython",
    "version": 3
   },
   "file_extension": ".py",
   "mimetype": "text/x-python",
   "name": "python",
   "nbconvert_exporter": "python",
   "pygments_lexer": "ipython3",
   "version": "3.8.8"
  }
 },
 "nbformat": 4,
 "nbformat_minor": 5
}
