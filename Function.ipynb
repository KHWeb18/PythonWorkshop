{
 "cells": [
  {
   "cell_type": "code",
   "execution_count": 3,
   "id": "c872eb9c",
   "metadata": {},
   "outputs": [
    {
     "name": "stdout",
     "output_type": "stream",
     "text": [
      "<function times at 0x0000029AFF44D1F0>\n",
      "100\n",
      "<class 'function'>\n"
     ]
    }
   ],
   "source": [
    "def times(a, b): #메소드이다. 파라미터와 리턴 타입이 없음.\n",
    "    return a * b\n",
    "\n",
    "print(times)\n",
    "print(times(10, 10))\n",
    "print(type(times)) "
   ]
  },
  {
   "cell_type": "code",
   "execution_count": 4,
   "id": "bdbfcc48",
   "metadata": {},
   "outputs": [
    {
     "name": "stdout",
     "output_type": "stream",
     "text": [
      "{'__name__': '__main__', '__doc__': 'Automatically created module for IPython interactive environment', '__package__': None, '__loader__': None, '__spec__': None, '__builtin__': <module 'builtins' (built-in)>, '__builtins__': <module 'builtins' (built-in)>, '_ih': ['', 'def times(a, b):\\n    return a * b\\n\\nprint(times)', 'def times(a, b):\\n    return a * b\\n\\nprint(times)\\nprint(times(10, 10))', 'def times(a, b): #메소드이다.\\n    return a * b\\n\\nprint(times)\\nprint(times(10, 10))\\nprint(type(times)) ', 'print(globals())'], '_oh': {}, '_dh': ['C:\\\\Users\\\\jdy87\\\\python_works\\\\PythonWorkshop'], 'In': ['', 'def times(a, b):\\n    return a * b\\n\\nprint(times)', 'def times(a, b):\\n    return a * b\\n\\nprint(times)\\nprint(times(10, 10))', 'def times(a, b): #메소드이다.\\n    return a * b\\n\\nprint(times)\\nprint(times(10, 10))\\nprint(type(times)) ', 'print(globals())'], 'Out': {}, 'get_ipython': <bound method InteractiveShell.get_ipython of <ipykernel.zmqshell.ZMQInteractiveShell object at 0x0000029AFF431850>>, 'exit': <IPython.core.autocall.ZMQExitAutocall object at 0x0000029AFF4A0640>, 'quit': <IPython.core.autocall.ZMQExitAutocall object at 0x0000029AFF4A0640>, '_': '', '__': '', '___': '', '_i': 'def times(a, b): #메소드이다.\\n    return a * b\\n\\nprint(times)\\nprint(times(10, 10))\\nprint(type(times)) ', '_ii': 'def times(a, b):\\n    return a * b\\n\\nprint(times)\\nprint(times(10, 10))', '_iii': 'def times(a, b):\\n    return a * b\\n\\nprint(times)', '_i1': 'def times(a, b):\\n    return a * b\\n\\nprint(times)', 'times': <function times at 0x0000029AFF44D1F0>, '_i2': 'def times(a, b):\\n    return a * b\\n\\nprint(times)\\nprint(times(10, 10))', '_i3': 'def times(a, b): #메소드이다.\\n    return a * b\\n\\nprint(times)\\nprint(times(10, 10))\\nprint(type(times)) ', '_i4': 'print(globals())'}\n"
     ]
    }
   ],
   "source": [
    "print(globals()) #모든 메소드들이 출력됨"
   ]
  },
  {
   "cell_type": "code",
   "execution_count": 5,
   "id": "56368842",
   "metadata": {},
   "outputs": [
    {
     "name": "stdout",
     "output_type": "stream",
     "text": [
      "30\n"
     ]
    }
   ],
   "source": [
    "pointerOfFunction = times \n",
    "#pointerOfFunction에다 times의 주소값을 저장\n",
    "#자바의 인터페이스의 원리 --> 한개의 저장소에 각기 다른 주소값을 넣어서 다르게 실행되게한다.\n",
    "res = pointerOfFunction(10, 3)\n",
    "\n",
    "print(res)"
   ]
  },
  {
   "cell_type": "code",
   "execution_count": 3,
   "id": "56b3dac7",
   "metadata": {},
   "outputs": [
    {
     "name": "stdout",
     "output_type": "stream",
     "text": [
      "['a', 'm', 'a', 'n']\n"
     ]
    }
   ],
   "source": [
    "def intersect(prelist, postlist):\n",
    "    ret_list = []\n",
    "    \n",
    "    for x in prelist:\n",
    "        if x in postlist:\n",
    "            ret_list.append(x)\n",
    "            \n",
    "    return ret_list\n",
    "\n",
    "list1 = 'batman'\n",
    "list2 = 'superman'\n",
    "\n",
    "pointer_of_intersect = intersect\n",
    "print(pointer_of_intersect(list1, list2))"
   ]
  },
  {
   "cell_type": "code",
   "execution_count": 4,
   "id": "6317be8f",
   "metadata": {},
   "outputs": [
    {
     "name": "stdout",
     "output_type": "stream",
     "text": [
      "['b', 't']\n"
     ]
    }
   ],
   "source": [
    "print(intersect(list1, ['y', 'o', 'u', 't', 'u', 'b', 'e']))"
   ]
  },
  {
   "cell_type": "code",
   "execution_count": 5,
   "id": "e277c8d6",
   "metadata": {},
   "outputs": [
    {
     "name": "stdout",
     "output_type": "stream",
     "text": [
      "fifth\n"
     ]
    }
   ],
   "source": [
    "def test(text):\n",
    "    return text\n",
    "\n",
    "pointerOfFunction = test\n",
    "res = pointerOfFunction('fifth')\n",
    "print(res)"
   ]
  },
  {
   "cell_type": "code",
   "execution_count": 11,
   "id": "322b97ba",
   "metadata": {},
   "outputs": [
    {
     "name": "stdout",
     "output_type": "stream",
     "text": [
      "(5, 3)\n",
      "44 22\n"
     ]
    }
   ],
   "source": [
    "def swap(x, y):\n",
    "    return y, x #파이선은 리턴을 복수로 할 수 있음\n",
    "\n",
    "print(swap(3, 5))\n",
    "\n",
    "a, b = swap(22, 44)\n",
    "print(a, b)"
   ]
  },
  {
   "cell_type": "code",
   "execution_count": 13,
   "id": "ed8670f7",
   "metadata": {
    "scrolled": true
   },
   "outputs": [
    {
     "name": "stdout",
     "output_type": "stream",
     "text": [
      "(555, 333)\n",
      "<class 'tuple'>\n"
     ]
    }
   ],
   "source": [
    "x = swap(333, 555)\n",
    "\n",
    "print(x)\n",
    "print(type(x)) #tuple 클래스는 변경 불가능한 리스트라는 뜻, 절대로 바꿔서는 안되는 것이라는 뜻?"
   ]
  },
  {
   "cell_type": "code",
   "execution_count": 7,
   "id": "3fa64163",
   "metadata": {},
   "outputs": [
    {
     "name": "stdout",
     "output_type": "stream",
     "text": [
      "11\n",
      "10\n"
     ]
    }
   ],
   "source": [
    "x = 10\n",
    "\n",
    "def sum(x, y):\n",
    "    x = 1\n",
    "    return x + y\n",
    "\n",
    "print(sum(x, x))\n",
    "print(x)"
   ]
  },
  {
   "cell_type": "code",
   "execution_count": 37,
   "id": "458b1b12",
   "metadata": {},
   "outputs": [
    {
     "name": "stdout",
     "output_type": "stream",
     "text": [
      "1\n",
      "10\n",
      "7\n"
     ]
    }
   ],
   "source": [
    "glob = 1\n",
    "print(glob)\n",
    "\n",
    "def exch_scope(x):\n",
    "    global glob #glob를 전역변수로 설정함\n",
    "    glob = 7\n",
    "    \n",
    "    return glob + x\n",
    "\n",
    "print(exch_scope(3))\n",
    "print(glob)"
   ]
  },
  {
   "cell_type": "code",
   "execution_count": 11,
   "id": "2fb6ac14",
   "metadata": {},
   "outputs": [
    {
     "name": "stdout",
     "output_type": "stream",
     "text": [
      "3\n",
      "125\n"
     ]
    }
   ],
   "source": [
    "g = lambda x, y: x + y\n",
    "print(g(1, 2))\n",
    "\n",
    "print((lambda x: x * x * x)(5)) #함수 객체를 저장하는 변수이름이 없는 함수는 '익명함수'"
   ]
  },
  {
   "cell_type": "code",
   "execution_count": 14,
   "id": "091af3be",
   "metadata": {},
   "outputs": [
    {
     "name": "stdout",
     "output_type": "stream",
     "text": [
      "1\n",
      "3\n",
      "5\n",
      "7\n",
      "9\n"
     ]
    }
   ],
   "source": [
    "for i in range(1, 10):\n",
    "    if(i % 2 == 0):\n",
    "        pass #continue와 비슷한 역할을 한다.\n",
    "    else:\n",
    "        print(i)"
   ]
  },
  {
   "cell_type": "code",
   "execution_count": 18,
   "id": "993bed1c",
   "metadata": {
    "scrolled": true
   },
   "outputs": [
    {
     "name": "stdout",
     "output_type": "stream",
     "text": [
      "0 1\n",
      "1 1\n",
      "2 2\n",
      "3 3\n",
      "4 5\n",
      "5 8\n",
      "6 13\n",
      "7 21\n",
      "8 34\n",
      "9 55\n",
      "10 89\n",
      "11 144\n",
      "12 233\n",
      "13 377\n",
      "14 610\n",
      "15 987\n",
      "16 1597\n",
      "17 2584\n",
      "18 4181\n",
      "19 6765\n"
     ]
    }
   ],
   "source": [
    "def fib():\n",
    "    a, b = 1, 1\n",
    "    \n",
    "    while 1: #조건 없는 true\n",
    "        yield a # 현재 실행 스택 메모리를 유지하면서 결과값을 호출한곳에 돌려준다. return과 유사\n",
    "        a, b = b, a + b\n",
    "        \n",
    "for i, ret in enumerate(fib()):\n",
    "    if i < 20:\n",
    "        print(i, ret)\n",
    "    else:\n",
    "        break"
   ]
  },
  {
   "cell_type": "code",
   "execution_count": 19,
   "id": "3a9d9b24",
   "metadata": {},
   "outputs": [
    {
     "name": "stdout",
     "output_type": "stream",
     "text": [
      "6765\n"
     ]
    }
   ],
   "source": [
    "def fib2(n):\n",
    "    if n < 2:\n",
    "        return n\n",
    "    else:\n",
    "        return fib2(n - 1) + fib2(n - 2) #재귀함수...\n",
    "\n",
    "print(fib2(20)) "
   ]
  },
  {
   "cell_type": "code",
   "execution_count": null,
   "id": "21b99ebf",
   "metadata": {},
   "outputs": [],
   "source": []
  }
 ],
 "metadata": {
  "kernelspec": {
   "display_name": "Python 3",
   "language": "python",
   "name": "python3"
  },
  "language_info": {
   "codemirror_mode": {
    "name": "ipython",
    "version": 3
   },
   "file_extension": ".py",
   "mimetype": "text/x-python",
   "name": "python",
   "nbconvert_exporter": "python",
   "pygments_lexer": "ipython3",
   "version": "3.8.8"
  }
 },
 "nbformat": 4,
 "nbformat_minor": 5
}
