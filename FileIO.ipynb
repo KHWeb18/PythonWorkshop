{
 "cells": [
  {
   "cell_type": "code",
   "execution_count": 1,
   "id": "95de0a38",
   "metadata": {},
   "outputs": [
    {
     "name": "stdout",
     "output_type": "stream",
     "text": [
      " C 드라이브의 볼륨에는 이름이 없습니다.\n",
      " 볼륨 일련 번호: AEE8-5E1C\n",
      "\n",
      " C:\\Users\\jjjr9\\python_works\\PythonWorkshop 디렉터리\n",
      "\n",
      "2021-09-24  오후 05:57    <DIR>          .\n",
      "2021-09-24  오후 05:57    <DIR>          ..\n",
      "2021-09-17  오후 05:51             1,928 .gitignore\n",
      "2021-09-24  오후 05:56    <DIR>          .ipynb_checkpoints\n",
      "2021-09-23  오후 08:06            14,841 Array.ipynb\n",
      "2021-09-23  오후 08:06            10,377 ControlStatement.ipynb\n",
      "2021-09-23  오후 08:06             4,071 DataType.ipynb\n",
      "2021-09-24  오후 05:57               892 FileIO.ipynb\n",
      "2021-09-24  오후 05:55            13,296 Function(Method).ipynb\n",
      "2021-09-17  오후 08:16            18,932 python_taste.ipynb\n",
      "2021-09-17  오후 05:51                51 README.md\n",
      "2021-09-17  오후 07:11            27,952 request_success.jpg\n",
      "2021-09-17  오후 06:11                 5 test.txt\n",
      "              10개 파일              92,345 바이트\n",
      "               3개 디렉터리  307,957,747,712 바이트 남음\n"
     ]
    }
   ],
   "source": [
    "# Windows\n",
    "!dir\n",
    "# Unix or Linux\n",
    "# !ls"
   ]
  },
  {
   "cell_type": "code",
   "execution_count": 2,
   "id": "4cb13ad1",
   "metadata": {},
   "outputs": [
    {
     "name": "stdout",
     "output_type": "stream",
     "text": [
      "50\n"
     ]
    }
   ],
   "source": [
    "f = open('test.txt', 'w')\n",
    "print(f.write('Python Basic Programming For Interconnect with Web'))\n",
    "f.close()"
   ]
  },
  {
   "cell_type": "code",
   "execution_count": 3,
   "id": "bff2c331",
   "metadata": {},
   "outputs": [
    {
     "name": "stdout",
     "output_type": "stream",
     "text": [
      " C 드라이브의 볼륨에는 이름이 없습니다.\n",
      " 볼륨 일련 번호: AEE8-5E1C\n",
      "\n",
      " C:\\Users\\jjjr9\\python_works\\PythonWorkshop 디렉터리\n",
      "\n",
      "2021-09-24  오후 05:57    <DIR>          .\n",
      "2021-09-24  오후 05:57    <DIR>          ..\n",
      "2021-09-17  오후 05:51             1,928 .gitignore\n",
      "2021-09-24  오후 05:56    <DIR>          .ipynb_checkpoints\n",
      "2021-09-23  오후 08:06            14,841 Array.ipynb\n",
      "2021-09-23  오후 08:06            10,377 ControlStatement.ipynb\n",
      "2021-09-23  오후 08:06             4,071 DataType.ipynb\n",
      "2021-09-24  오후 05:57               892 FileIO.ipynb\n",
      "2021-09-24  오후 05:55            13,296 Function(Method).ipynb\n",
      "2021-09-17  오후 08:16            18,932 python_taste.ipynb\n",
      "2021-09-17  오후 05:51                51 README.md\n",
      "2021-09-17  오후 07:11            27,952 request_success.jpg\n",
      "2021-09-24  오후 05:58                50 test.txt\n",
      "              10개 파일              92,390 바이트\n",
      "               3개 디렉터리  307,956,420,608 바이트 남음\n"
     ]
    }
   ],
   "source": [
    "!dir"
   ]
  },
  {
   "cell_type": "code",
   "execution_count": 4,
   "id": "8c5aac5e",
   "metadata": {},
   "outputs": [
    {
     "name": "stdout",
     "output_type": "stream",
     "text": [
      "Python Basic Programming For Interconnect with Web\n"
     ]
    }
   ],
   "source": [
    "!type test.txt"
   ]
  },
  {
   "cell_type": "code",
   "execution_count": 5,
   "id": "5395b24b",
   "metadata": {},
   "outputs": [
    {
     "name": "stdout",
     "output_type": "stream",
     "text": [
      "Python Basic Programming For Interconnect with Web\n",
      "True\n"
     ]
    }
   ],
   "source": [
    "# Unix의 핵심 철학\n",
    "# 모든것은 파일이다\n",
    "# 그러다보니 읽기던 쓰기던 뭘 하더 open()을 먼저하게 되어 있음\n",
    "f = open('test.txt')\n",
    "print(f.read())\n",
    "f.close()\n",
    "print(f.closed)"
   ]
  },
  {
   "cell_type": "code",
   "execution_count": 6,
   "id": "1d47cfcd",
   "metadata": {},
   "outputs": [
    {
     "name": "stdout",
     "output_type": "stream",
     "text": [
      "['Python Basic Programming For Interconnect with Web']\n",
      "False\n",
      "True\n"
     ]
    }
   ],
   "source": [
    "with open('test.txt')as f:\n",
    "    print(f.readlines())\n",
    "    print(f.closed)\n",
    "    \n",
    "print(f.closed)"
   ]
  },
  {
   "cell_type": "code",
   "execution_count": 7,
   "id": "ddc61d3b",
   "metadata": {},
   "outputs": [
    {
     "name": "stdout",
     "output_type": "stream",
     "text": [
      "['red', 'green', 'blue']\n"
     ]
    }
   ],
   "source": [
    "colors = ['red', 'green', 'blue']\n",
    "print(colors)"
   ]
  },
  {
   "cell_type": "code",
   "execution_count": 9,
   "id": "11d35fbc",
   "metadata": {},
   "outputs": [
    {
     "name": "stdout",
     "output_type": "stream",
     "text": [
      "True\n"
     ]
    }
   ],
   "source": [
    "# globals()를 활용하는 방법\n",
    "# 실제 객체가 만들어졌는지 안 만들어졌는지 등을 아래와 같은 형식으로 체크할 수 있음\n",
    "def chk_colors():\n",
    "    if 'colors' in globals():\n",
    "        print(\"True\")\n",
    "    else:\n",
    "        print(\"False\")\n",
    "        \n",
    "chk_colors()"
   ]
  },
  {
   "cell_type": "code",
   "execution_count": 10,
   "id": "8d34a62e",
   "metadata": {},
   "outputs": [
    {
     "name": "stdout",
     "output_type": "stream",
     "text": [
      "False\n"
     ]
    }
   ],
   "source": [
    "import pickle\n",
    "\n",
    "f = open('colors', 'wb')\n",
    "pickle.dump(colors, f)  # dump <- 저장\n",
    "f.close()\n",
    "\n",
    "del colors\n",
    "\n",
    "chk_colors()"
   ]
  },
  {
   "cell_type": "code",
   "execution_count": 11,
   "id": "c0a56d94",
   "metadata": {},
   "outputs": [
    {
     "data": {
      "text/plain": [
       "{'__name__': '__main__',\n",
       " '__doc__': 'Automatically created module for IPython interactive environment',\n",
       " '__package__': None,\n",
       " '__loader__': None,\n",
       " '__spec__': None,\n",
       " '__builtin__': <module 'builtins' (built-in)>,\n",
       " '__builtins__': <module 'builtins' (built-in)>,\n",
       " '_ih': ['',\n",
       "  \"# Windows\\nget_ipython().system('dir')\\n# Unix or Linux\\n# !ls\",\n",
       "  \"f = open('test.txt', 'w')\\nprint(f.write('Python Basic Programming For Interconnect with Web'))\\nf.close()\",\n",
       "  \"get_ipython().system('dir')\",\n",
       "  \"get_ipython().system('type test.txt')\",\n",
       "  \"f = open('test.txt')\\nprint(f.read())\\nf.close()\\nprint(f.closed)\",\n",
       "  \"with open('test.txt')as f:\\n    print(f.readlines())\\n    print(f.closed)\\n    \\nprint(f.closed)\",\n",
       "  \"colors = ['red', 'green', 'blue']\\nprint(colors)\",\n",
       "  'def chk_colors()\\n    if \\'colors\\' in globals():\\n        print(\"True\")\\n    else:\\n        print(\"False\")\\n        \\nchk_colors()',\n",
       "  'def chk_colors():\\n    if \\'colors\\' in globals():\\n        print(\"True\")\\n    else:\\n        print(\"False\")\\n        \\nchk_colors()',\n",
       "  \"import pickle\\n\\nf = open('colors', 'wb')\\npickle.dump(colors, f)\\nf.close()\\n\\ndel colors\\n\\nchk_colors()\",\n",
       "  'globals()'],\n",
       " '_oh': {},\n",
       " '_dh': ['C:\\\\Users\\\\jjjr9\\\\python_works\\\\PythonWorkshop'],\n",
       " 'In': ['',\n",
       "  \"# Windows\\nget_ipython().system('dir')\\n# Unix or Linux\\n# !ls\",\n",
       "  \"f = open('test.txt', 'w')\\nprint(f.write('Python Basic Programming For Interconnect with Web'))\\nf.close()\",\n",
       "  \"get_ipython().system('dir')\",\n",
       "  \"get_ipython().system('type test.txt')\",\n",
       "  \"f = open('test.txt')\\nprint(f.read())\\nf.close()\\nprint(f.closed)\",\n",
       "  \"with open('test.txt')as f:\\n    print(f.readlines())\\n    print(f.closed)\\n    \\nprint(f.closed)\",\n",
       "  \"colors = ['red', 'green', 'blue']\\nprint(colors)\",\n",
       "  'def chk_colors()\\n    if \\'colors\\' in globals():\\n        print(\"True\")\\n    else:\\n        print(\"False\")\\n        \\nchk_colors()',\n",
       "  'def chk_colors():\\n    if \\'colors\\' in globals():\\n        print(\"True\")\\n    else:\\n        print(\"False\")\\n        \\nchk_colors()',\n",
       "  \"import pickle\\n\\nf = open('colors', 'wb')\\npickle.dump(colors, f)\\nf.close()\\n\\ndel colors\\n\\nchk_colors()\",\n",
       "  'globals()'],\n",
       " 'Out': {},\n",
       " 'get_ipython': <bound method InteractiveShell.get_ipython of <ipykernel.zmqshell.ZMQInteractiveShell object at 0x00000204DC322850>>,\n",
       " 'exit': <IPython.core.autocall.ZMQExitAutocall at 0x204dc393580>,\n",
       " 'quit': <IPython.core.autocall.ZMQExitAutocall at 0x204dc393580>,\n",
       " '_': '',\n",
       " '__': '',\n",
       " '___': '',\n",
       " '_i': \"import pickle\\n\\nf = open('colors', 'wb')\\npickle.dump(colors, f)\\nf.close()\\n\\ndel colors\\n\\nchk_colors()\",\n",
       " '_ii': 'def chk_colors():\\n    if \\'colors\\' in globals():\\n        print(\"True\")\\n    else:\\n        print(\"False\")\\n        \\nchk_colors()',\n",
       " '_iii': 'def chk_colors()\\n    if \\'colors\\' in globals():\\n        print(\"True\")\\n    else:\\n        print(\"False\")\\n        \\nchk_colors()',\n",
       " '_i1': '# Windows\\n!dir\\n# Unix or Linux\\n# !ls',\n",
       " '_exit_code': 0,\n",
       " '_i2': \"f = open('test.txt', 'w')\\nprint(f.write('Python Basic Programming For Interconnect with Web'))\\nf.close()\",\n",
       " 'f': <_io.BufferedWriter name='colors'>,\n",
       " '_i3': '!dir',\n",
       " '_i4': '!type test.txt',\n",
       " '_i5': \"f = open('test.txt')\\nprint(f.read())\\nf.close()\\nprint(f.closed)\",\n",
       " '_i6': \"with open('test.txt')as f:\\n    print(f.readlines())\\n    print(f.closed)\\n    \\nprint(f.closed)\",\n",
       " '_i7': \"colors = ['red', 'green', 'blue']\\nprint(colors)\",\n",
       " '_i8': 'def chk_colors()\\n    if \\'colors\\' in globals():\\n        print(\"True\")\\n    else:\\n        print(\"False\")\\n        \\nchk_colors()',\n",
       " '_i9': 'def chk_colors():\\n    if \\'colors\\' in globals():\\n        print(\"True\")\\n    else:\\n        print(\"False\")\\n        \\nchk_colors()',\n",
       " 'chk_colors': <function __main__.chk_colors()>,\n",
       " '_i10': \"import pickle\\n\\nf = open('colors', 'wb')\\npickle.dump(colors, f)\\nf.close()\\n\\ndel colors\\n\\nchk_colors()\",\n",
       " 'pickle': <module 'pickle' from 'C:\\\\ProgramData\\\\Anaconda3\\\\lib\\\\pickle.py'>,\n",
       " '_i11': 'globals()'}"
      ]
     },
     "execution_count": 11,
     "metadata": {},
     "output_type": "execute_result"
    }
   ],
   "source": [
    "globals()"
   ]
  },
  {
   "cell_type": "code",
   "execution_count": 13,
   "id": "bc0648f2",
   "metadata": {},
   "outputs": [
    {
     "name": "stdout",
     "output_type": "stream",
     "text": [
      "['red', 'green', 'blue']\n"
     ]
    }
   ],
   "source": [
    "f = open('colors', 'rb')\n",
    "colors = pickle.load(f) # <- load 불러오기\n",
    "f.close()\n",
    "\n",
    "print(colors)"
   ]
  },
  {
   "cell_type": "code",
   "execution_count": 15,
   "id": "598e5106",
   "metadata": {},
   "outputs": [
    {
     "name": "stdout",
     "output_type": "stream",
     "text": [
      "True\n"
     ]
    }
   ],
   "source": [
    "chk_colors()"
   ]
  },
  {
   "cell_type": "code",
   "execution_count": 14,
   "id": "e78347f8",
   "metadata": {},
   "outputs": [
    {
     "data": {
      "text/plain": [
       "{'__name__': '__main__',\n",
       " '__doc__': 'Automatically created module for IPython interactive environment',\n",
       " '__package__': None,\n",
       " '__loader__': None,\n",
       " '__spec__': None,\n",
       " '__builtin__': <module 'builtins' (built-in)>,\n",
       " '__builtins__': <module 'builtins' (built-in)>,\n",
       " '_ih': ['',\n",
       "  \"# Windows\\nget_ipython().system('dir')\\n# Unix or Linux\\n# !ls\",\n",
       "  \"f = open('test.txt', 'w')\\nprint(f.write('Python Basic Programming For Interconnect with Web'))\\nf.close()\",\n",
       "  \"get_ipython().system('dir')\",\n",
       "  \"get_ipython().system('type test.txt')\",\n",
       "  \"f = open('test.txt')\\nprint(f.read())\\nf.close()\\nprint(f.closed)\",\n",
       "  \"with open('test.txt')as f:\\n    print(f.readlines())\\n    print(f.closed)\\n    \\nprint(f.closed)\",\n",
       "  \"colors = ['red', 'green', 'blue']\\nprint(colors)\",\n",
       "  'def chk_colors()\\n    if \\'colors\\' in globals():\\n        print(\"True\")\\n    else:\\n        print(\"False\")\\n        \\nchk_colors()',\n",
       "  'def chk_colors():\\n    if \\'colors\\' in globals():\\n        print(\"True\")\\n    else:\\n        print(\"False\")\\n        \\nchk_colors()',\n",
       "  \"import pickle\\n\\nf = open('colors', 'wb')\\npickle.dump(colors, f)\\nf.close()\\n\\ndel colors\\n\\nchk_colors()\",\n",
       "  'globals()',\n",
       "  \"f = open('colors'm 'rb')\\ncolors = pickle.load(f)\\nf.close()\\n\\nprint(colors)\",\n",
       "  \"f = open('colors', 'rb')\\ncolors = pickle.load(f)\\nf.close()\\n\\nprint(colors)\",\n",
       "  'globals()'],\n",
       " '_oh': {11: {...}},\n",
       " '_dh': ['C:\\\\Users\\\\jjjr9\\\\python_works\\\\PythonWorkshop'],\n",
       " 'In': ['',\n",
       "  \"# Windows\\nget_ipython().system('dir')\\n# Unix or Linux\\n# !ls\",\n",
       "  \"f = open('test.txt', 'w')\\nprint(f.write('Python Basic Programming For Interconnect with Web'))\\nf.close()\",\n",
       "  \"get_ipython().system('dir')\",\n",
       "  \"get_ipython().system('type test.txt')\",\n",
       "  \"f = open('test.txt')\\nprint(f.read())\\nf.close()\\nprint(f.closed)\",\n",
       "  \"with open('test.txt')as f:\\n    print(f.readlines())\\n    print(f.closed)\\n    \\nprint(f.closed)\",\n",
       "  \"colors = ['red', 'green', 'blue']\\nprint(colors)\",\n",
       "  'def chk_colors()\\n    if \\'colors\\' in globals():\\n        print(\"True\")\\n    else:\\n        print(\"False\")\\n        \\nchk_colors()',\n",
       "  'def chk_colors():\\n    if \\'colors\\' in globals():\\n        print(\"True\")\\n    else:\\n        print(\"False\")\\n        \\nchk_colors()',\n",
       "  \"import pickle\\n\\nf = open('colors', 'wb')\\npickle.dump(colors, f)\\nf.close()\\n\\ndel colors\\n\\nchk_colors()\",\n",
       "  'globals()',\n",
       "  \"f = open('colors'm 'rb')\\ncolors = pickle.load(f)\\nf.close()\\n\\nprint(colors)\",\n",
       "  \"f = open('colors', 'rb')\\ncolors = pickle.load(f)\\nf.close()\\n\\nprint(colors)\",\n",
       "  'globals()'],\n",
       " 'Out': {11: {...}},\n",
       " 'get_ipython': <bound method InteractiveShell.get_ipython of <ipykernel.zmqshell.ZMQInteractiveShell object at 0x00000204DC322850>>,\n",
       " 'exit': <IPython.core.autocall.ZMQExitAutocall at 0x204dc393580>,\n",
       " 'quit': <IPython.core.autocall.ZMQExitAutocall at 0x204dc393580>,\n",
       " '_': {...},\n",
       " '__': '',\n",
       " '___': '',\n",
       " '_i': \"f = open('colors', 'rb')\\ncolors = pickle.load(f)\\nf.close()\\n\\nprint(colors)\",\n",
       " '_ii': \"f = open('colors'm 'rb')\\ncolors = pickle.load(f)\\nf.close()\\n\\nprint(colors)\",\n",
       " '_iii': 'globals()',\n",
       " '_i1': '# Windows\\n!dir\\n# Unix or Linux\\n# !ls',\n",
       " '_exit_code': 0,\n",
       " '_i2': \"f = open('test.txt', 'w')\\nprint(f.write('Python Basic Programming For Interconnect with Web'))\\nf.close()\",\n",
       " 'f': <_io.BufferedReader name='colors'>,\n",
       " '_i3': '!dir',\n",
       " '_i4': '!type test.txt',\n",
       " '_i5': \"f = open('test.txt')\\nprint(f.read())\\nf.close()\\nprint(f.closed)\",\n",
       " '_i6': \"with open('test.txt')as f:\\n    print(f.readlines())\\n    print(f.closed)\\n    \\nprint(f.closed)\",\n",
       " '_i7': \"colors = ['red', 'green', 'blue']\\nprint(colors)\",\n",
       " '_i8': 'def chk_colors()\\n    if \\'colors\\' in globals():\\n        print(\"True\")\\n    else:\\n        print(\"False\")\\n        \\nchk_colors()',\n",
       " '_i9': 'def chk_colors():\\n    if \\'colors\\' in globals():\\n        print(\"True\")\\n    else:\\n        print(\"False\")\\n        \\nchk_colors()',\n",
       " 'chk_colors': <function __main__.chk_colors()>,\n",
       " '_i10': \"import pickle\\n\\nf = open('colors', 'wb')\\npickle.dump(colors, f)\\nf.close()\\n\\ndel colors\\n\\nchk_colors()\",\n",
       " 'pickle': <module 'pickle' from 'C:\\\\ProgramData\\\\Anaconda3\\\\lib\\\\pickle.py'>,\n",
       " '_i11': 'globals()',\n",
       " '_11': {...},\n",
       " '_i12': \"f = open('colors'm 'rb')\\ncolors = pickle.load(f)\\nf.close()\\n\\nprint(colors)\",\n",
       " '_i13': \"f = open('colors', 'rb')\\ncolors = pickle.load(f)\\nf.close()\\n\\nprint(colors)\",\n",
       " 'colors': ['red', 'green', 'blue'],\n",
       " '_i14': 'globals()'}"
      ]
     },
     "execution_count": 14,
     "metadata": {},
     "output_type": "execute_result"
    }
   ],
   "source": [
    "globals()"
   ]
  },
  {
   "cell_type": "code",
   "execution_count": 16,
   "id": "25d98012",
   "metadata": {},
   "outputs": [
    {
     "name": "stdout",
     "output_type": "stream",
     "text": [
      "<__main__.Test object at 0x00000204DC41A520>\n",
      "Test\n"
     ]
    }
   ],
   "source": [
    "class Test:\n",
    "    var = None\n",
    "    \n",
    "a = Test()\n",
    "a.var = \"Test\"\n",
    "\n",
    "f = open('test', 'wb')\n",
    "pickle.dump(a, f)\n",
    "f.close()\n",
    "\n",
    "print(a)\n",
    "print(a.var)\n",
    "\n",
    "del a"
   ]
  },
  {
   "cell_type": "code",
   "execution_count": 17,
   "id": "f73bd9f4",
   "metadata": {},
   "outputs": [
    {
     "ename": "NameError",
     "evalue": "name 'a' is not defined",
     "output_type": "error",
     "traceback": [
      "\u001b[1;31m---------------------------------------------------------------------------\u001b[0m",
      "\u001b[1;31mNameError\u001b[0m                                 Traceback (most recent call last)",
      "\u001b[1;32m<ipython-input-17-bca0e2660b9f>\u001b[0m in \u001b[0;36m<module>\u001b[1;34m\u001b[0m\n\u001b[1;32m----> 1\u001b[1;33m \u001b[0mprint\u001b[0m\u001b[1;33m(\u001b[0m\u001b[0ma\u001b[0m\u001b[1;33m)\u001b[0m\u001b[1;33m\u001b[0m\u001b[1;33m\u001b[0m\u001b[0m\n\u001b[0m",
      "\u001b[1;31mNameError\u001b[0m: name 'a' is not defined"
     ]
    }
   ],
   "source": [
    "print(a)"
   ]
  },
  {
   "cell_type": "code",
   "execution_count": 18,
   "id": "81c3c98d",
   "metadata": {},
   "outputs": [
    {
     "name": "stdout",
     "output_type": "stream",
     "text": [
      "<__main__.Test object at 0x00000204DC3C5E80>\n",
      "Test\n"
     ]
    }
   ],
   "source": [
    "f = open('test', 'rb')\n",
    "b = pickle.load(f)\n",
    "f.close()\n",
    "\n",
    "print(b)\n",
    "print(b.var)"
   ]
  },
  {
   "cell_type": "code",
   "execution_count": null,
   "id": "8159cfd6",
   "metadata": {},
   "outputs": [],
   "source": []
  }
 ],
 "metadata": {
  "kernelspec": {
   "display_name": "Python 3",
   "language": "python",
   "name": "python3"
  },
  "language_info": {
   "codemirror_mode": {
    "name": "ipython",
    "version": 3
   },
   "file_extension": ".py",
   "mimetype": "text/x-python",
   "name": "python",
   "nbconvert_exporter": "python",
   "pygments_lexer": "ipython3",
   "version": "3.8.8"
  }
 },
 "nbformat": 4,
 "nbformat_minor": 5
}
