{
 "cells": [
  {
   "cell_type": "code",
   "execution_count": 1,
   "id": "91fec8b9",
   "metadata": {},
   "outputs": [],
   "source": [
    "### File Write\n",
    "data = \"hello\"\n",
    "with open(\"test.txt\", \"w\") as fp:\n",
    "    fp.write(data)"
   ]
  },
  {
   "cell_type": "code",
   "execution_count": 2,
   "id": "67487b99",
   "metadata": {},
   "outputs": [
    {
     "name": "stdout",
     "output_type": "stream",
     "text": [
      "파이썬 쉽네?\n",
      "hello\n"
     ]
    }
   ],
   "source": [
    "### File Read\n",
    "with open(\"test.txt\", \"r\") as fp:\n",
    "    print(\"파이썬 쉽네?\")\n",
    "    print(fp.read())"
   ]
  },
  {
   "cell_type": "code",
   "execution_count": 3,
   "id": "32732161",
   "metadata": {},
   "outputs": [
    {
     "name": "stdout",
     "output_type": "stream",
     "text": [
      " C 드라이브의 볼륨에는 이름이 없습니다.\n",
      " 볼륨 일련 번호: AEE8-5E1C\n",
      "\n",
      " C:\\Users\\jjjr9 디렉터리\n",
      "\n",
      "2021-09-17  오후 06:08    <DIR>          .\n",
      "2021-09-17  오후 06:08    <DIR>          ..\n",
      "2021-06-10  오후 06:02    <DIR>          .android\n",
      "2021-09-16  오후 09:39             9,071 .bash_history\n",
      "2021-03-25  오후 07:58    <DIR>          .cache\n",
      "2021-03-30  오후 04:40    <DIR>          .config\n",
      "2021-03-26  오전 11:17    <DIR>          .eclipse\n",
      "2021-08-09  오전 03:28                54 .gitconfig\n",
      "2021-06-17  오후 08:28    <DIR>          .gradle\n",
      "2021-09-17  오후 06:05    <DIR>          .ipynb_checkpoints\n",
      "2021-09-17  오후 05:58    <DIR>          .ipython\n",
      "2021-07-19  오후 11:34    <DIR>          .jdks\n",
      "2021-06-10  오후 06:11    <DIR>          .m2\n",
      "2021-09-17  오후 05:57                14 .minttyrc\n",
      "2021-07-04  오후 09:56                 0 .node_repl_history\n",
      "2021-06-03  오후 02:49    <DIR>          .Origin\n",
      "2021-05-07  오후 03:41    <DIR>          .p2\n",
      "2021-06-03  오후 02:49    <DIR>          .QtWebEngineProcess\n",
      "2021-07-15  오후 05:36             4,159 .viminfo\n",
      "2021-06-09  오후 07:33    <DIR>          .vscode\n",
      "2021-08-02  오전 02:16               828 .vuerc\n",
      "2021-03-09  오후 12:25    <DIR>          3D Objects\n",
      "2021-03-26  오전 11:46                 0 calc.exe\n",
      "2021-03-09  오후 12:25    <DIR>          Contacts\n",
      "2021-03-11  오후 06:42               298 d4ac4633ebd6440fa397b84f1bc94a3c.7z\n",
      "2021-09-17  오후 03:09    <DIR>          Desktop\n",
      "2021-09-17  오후 04:58    <DIR>          Documents\n",
      "2021-09-17  오후 04:48    <DIR>          Downloads\n",
      "2021-03-26  오전 11:44                 0 echo\n",
      "2021-03-26  오전 11:00    <DIR>          eclipse\n",
      "2021-03-26  오전 11:37    <DIR>          eclipse-workspace\n",
      "2021-03-26  오전 11:46                 0 explorer.exe\n",
      "2021-03-09  오후 12:25    <DIR>          Favorites\n",
      "2021-09-17  오전 11:59    <DIR>          Google Drive\n",
      "2021-03-11  오후 05:34                66 inittk.ini\n",
      "2021-03-11  오후 05:34                41 inst.ini\n",
      "2021-03-26  오전 11:48                 0 java\n",
      "2021-04-05  오후 09:43    <DIR>          Links\n",
      "2021-03-09  오후 12:25    <DIR>          Music\n",
      "2021-03-11  오후 05:34    <DIR>          Nox_share\n",
      "2021-03-11  오후 05:33                45 nuuid.ini\n",
      "2021-09-17  오전 11:58    <DIR>          OneDrive\n",
      "2021-04-28  오후 08:24    <DIR>          Pictures\n",
      "2021-09-17  오후 06:08               972 python_taste.ipynb\n",
      "2021-09-17  오후 05:51    <DIR>          python_works\n",
      "2021-03-09  오후 12:25    <DIR>          Saved Games\n",
      "2021-03-09  오후 12:26    <DIR>          Searches\n",
      "2021-09-17  오후 06:07                 5 test.txt\n",
      "2021-03-11  오후 05:33                53 useruid.ini\n",
      "2021-03-10  오후 12:27    <DIR>          Videos\n",
      "2021-03-11  오후 05:33    <DIR>          vmlogs\n",
      "              17개 파일              15,606 바이트\n",
      "              34개 디렉터리  303,702,233,088 바이트 남음\n"
     ]
    }
   ],
   "source": [
    "!dir"
   ]
  },
  {
   "cell_type": "code",
   "execution_count": null,
   "id": "266ce916",
   "metadata": {},
   "outputs": [],
   "source": []
  }
 ],
 "metadata": {
  "kernelspec": {
   "display_name": "Python 3",
   "language": "python",
   "name": "python3"
  },
  "language_info": {
   "codemirror_mode": {
    "name": "ipython",
    "version": 3
   },
   "file_extension": ".py",
   "mimetype": "text/x-python",
   "name": "python",
   "nbconvert_exporter": "python",
   "pygments_lexer": "ipython3",
   "version": "3.8.8"
  }
 },
 "nbformat": 4,
 "nbformat_minor": 5
}
