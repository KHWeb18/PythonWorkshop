{
 "cells": [
  {
   "cell_type": "code",
   "execution_count": 1,
   "id": "b35242ba",
   "metadata": {},
   "outputs": [
    {
     "name": "stdout",
     "output_type": "stream",
     "text": [
      " * Serving Flask app \"__main__\" (lazy loading)\n",
      " * Environment: production\n",
      "   WARNING: This is a development server. Do not use it in a production deployment.\n",
      "   Use a production WSGI server instead.\n",
      " * Debug mode: off\n"
     ]
    },
    {
     "name": "stderr",
     "output_type": "stream",
     "text": [
      " * Running on http://127.0.0.1:5000/ (Press CTRL+C to quit)\n",
      "127.0.0.1 - - [29/Sep/2021 15:43:00] \"\u001b[37mGET / HTTP/1.1\u001b[0m\" 200 -\n",
      "127.0.0.1 - - [29/Sep/2021 15:43:01] \"\u001b[33mGET /favicon.ico HTTP/1.1\u001b[0m\" 404 -\n",
      "127.0.0.1 - - [29/Sep/2021 16:06:35] \"\u001b[37mGET / HTTP/1.1\u001b[0m\" 200 -\n",
      "127.0.0.1 - - [29/Sep/2021 16:06:35] \"\u001b[33mGET /favicon.ico HTTP/1.1\u001b[0m\" 404 -\n"
     ]
    }
   ],
   "source": [
    "from flask import Flask\n",
    "app = Flask(__name__)\n",
    "\n",
    "# Spring Controller와 동일한 역할 수행\n",
    "@app.route(\"/\")\n",
    "def hello():\n",
    "    return \"<h1>Hello Python</h1>\"\n",
    "\n",
    "if __name__ == \"__main__\":\n",
    "    app.run()"
   ]
  },
  {
   "cell_type": "code",
   "execution_count": 15,
   "id": "274bc999",
   "metadata": {},
   "outputs": [],
   "source": [
    "# 1) https://developers.kakao.com/ 로그인\n",
    "# 2) 내 애플리케이션 -> 이전에 만들었던 사항(test) 클릭\n",
    "# 3) 동의항목 : 닉네임 - 필수, 카카오계정 - 선택, 카톡 메시지 - 선택\n",
    "# 4) 카카오 로그인 - 활성화 ON\n",
    "# 5) Redirect URI에 https://localhost.com 설정\n",
    "# 6) 플랫폼 - Web 도메인으로 https://www.naver.com과 https://localhost.com 설정\n",
    "# 7) kakao API 문서 위치 - https://developers.kakao.com/docs/latest/ko/kakaologin/rest-api\n",
    "# 8) 주어진 정보 확인\n",
    "#   GET /oauth/authorize?client_id={REST_API_KEY}&redirect_uri={REDIRECT_URI}&response_type=code HTTP/1.1\n",
    "#   Host: kauth.kakao.com\n",
    "\n",
    "# 구글 시크릿모드 창에서 검색어 : \n",
    "#                https://kauth.kakao.com/oauth/authorize?client_id={REST_API_KEY}&redirect_uri={REDIRECT_URI}&response_type=code\n",
    "\n",
    "#   요약 정보에 있는 REST API 키가 REST_API_KEY 위치에 배치되면 된다\n",
    "#   REDIRECT_URI의 경우 앞서 등록했던  https://localhost.com\n",
    "# 9) 해당 URL로 요청을 하면 kakao API를 활용할 수 있는 토큰을 발급받을 수 있고\n",
    "#    주어진 시간내에 처리하지 않으면 토큰이 만료되므로 먼저 코드를 작성하도록 한다"
   ]
  },
  {
   "cell_type": "code",
   "execution_count": 5,
   "id": "56a9d42f",
   "metadata": {},
   "outputs": [
    {
     "name": "stdout",
     "output_type": "stream",
     "text": [
      "Error\n"
     ]
    }
   ],
   "source": [
    "import requests\n",
    "\n",
    "url = \"https://kauth.kakao.com/oauth/token\"\n",
    "\n",
    "# data = {\n",
    "#    \"grant_type\" : \"authorization_code\",\n",
    "#    \"client_id\" : \"REST_API_키, 카카오 확인\",\n",
    "#    \"redirect_uri\" : \"https://localhost.com\",\n",
    "#    \"code\" : \"발급받은 토큰 값\"  \n",
    "# }\n",
    "\n",
    "data = {\n",
    "    \"grant_type\" : \"authorization_code\",\n",
    "    \"client_id\" : \"\",\n",
    "    \"redirect_uri\" : \"https://localhost.com\",\n",
    "    \"code\" : \"\"  \n",
    "}\n",
    "\n",
    "# data 파라미터로 data를 넣는다\n",
    "# requests.post(url, data=data)가 axios랑 비슷하다\n",
    "response = requests.post(url, data=data)\n",
    "\n",
    "if response.status_code != 200:\n",
    "    print(\"Error\")\n",
    "else:\n",
    "    tokens = response.json()\n",
    "    print(tokens)"
   ]
  },
  {
   "cell_type": "code",
   "execution_count": 17,
   "id": "fdf7d402",
   "metadata": {},
   "outputs": [],
   "source": [
    "import json\n",
    "import requests\n",
    "import datetime\n",
    "import os\n",
    "\n",
    "# Kakao Token 저장 파일\n",
    "KAKAO_TOKEN_SAVED_FILE = \"res/kakao_msg/kakao_token.json\"\n",
    "\n",
    "# 저장\n",
    "def save_tokens(filename, tokens):\n",
    "    with open(filename, \"w\") as fp:\n",
    "        json.dump(tokens, fp)\n",
    "        \n",
    "# 읽기\n",
    "def load_tokens(filename):\n",
    "    with open(filename) as fp:\n",
    "        tokens = json.load(fp)\n",
    "        \n",
    "        return tokens\n",
    "    \n",
    "# Access Token 갱신을 위한 Refresh\n",
    "def update_tokens(app_key, filename):\n",
    "    tokens = load_tokens(filename)\n",
    "    \n",
    "    url = \"https://kauth.kakao.com/oauth/token\"\n",
    "    \n",
    "    data = {\n",
    "        \"grant_type\" : \"refresh_token\",\n",
    "        \"client_id\" : app_key,\n",
    "        \"refresh_token\" : tokens['refresh_token']\n",
    "    }\n",
    "    \n",
    "    response = requests.post(url, data=data)\n",
    "    \n",
    "    if response.status_code !=200:\n",
    "        print(\"Error\")\n",
    "        tokens = None\n",
    "    else:\n",
    "        print(response.json())\n",
    "        \n",
    "        # 기존 내용 백업\n",
    "        now = datetime.datetime.now().strftime(\"%Y%m%d_%H%M%S\")\n",
    "        backup_filename = filename + \".\" + now\n",
    "        os.rename(filename, backup_filename)\n",
    "\n",
    "        # 새롭게 업데이트된 토큰 저장\n",
    "        tokens['access_token'] = response.json()['access_token']\n",
    "        save_tokens(filename, tokens)\n",
    "        \n",
    "    return tokens\n",
    "\n",
    "# token 저장\n",
    "save_tokens(KAKAO_TOKEN_SAVED_FILE, tokens)"
   ]
  },
  {
   "cell_type": "code",
   "execution_count": 19,
   "id": "a39ad809",
   "metadata": {},
   "outputs": [
    {
     "name": "stdout",
     "output_type": "stream",
     "text": [
      "200\n",
      "메시지 전송이 완료되었습니다.\n"
     ]
    }
   ],
   "source": [
    "# Kakao Talk Message 보내기\n",
    "# 1) https://developers.kakao.com/docs/latest/ko/message/rest-api\n",
    "\n",
    "import json\n",
    "import requests\n",
    "\n",
    "# 토큰 정보 활용\n",
    "tokens = load_tokens(KAKAO_TOKEN_SAVED_FILE)\n",
    "\n",
    "# 메시지 보내기 URL\n",
    "url = \"https://kapi.kakao.com/v2/api/talk/memo/default/send\"\n",
    "\n",
    "# requests parameter 설정\n",
    "headers = {\n",
    "    # Authorization: Bearer {ACCESS_TOKEN}\n",
    "    \"Authorization\" : \"Bearer \" + tokens['access_token']\n",
    "}\n",
    "\n",
    "data = {\n",
    "    \"template_object\" : json.dumps({\n",
    "        \"object_type\" : \"text\",\n",
    "        \"text\": \"예약이 완료되었습니다. 12시간 내 미입금 시 예약은 자동 취소됩니다.\",\n",
    "        \"link\" : {\n",
    "            # 이동할 링크 정보니까 사이트 주소를 걸면 더 좋음\n",
    "            \"web_url\" : \"www.naver.com\"\n",
    "        }\n",
    "    })\n",
    "}\n",
    "\n",
    "# 메시지 전송\n",
    "response = requests.post(url, headers=headers, data=data)\n",
    "print(response.status_code)\n",
    "\n",
    "if response.status_code != 200:\n",
    "    print(\"Error\")\n",
    "else:\n",
    "    print(\"메시지 전송이 완료되었습니다.\")"
   ]
  },
  {
   "cell_type": "code",
   "execution_count": 20,
   "id": "cc50efaa",
   "metadata": {},
   "outputs": [
    {
     "name": "stdout",
     "output_type": "stream",
     "text": [
      "/\n",
      "/member/cinzel\n"
     ]
    }
   ],
   "source": [
    "# 가변인자 테스트 예제 <id>\n",
    "from flask import Flask, url_for\n",
    "app = Flask(__name__)\n",
    "\n",
    "# Spring Controller와 동일한 역할 수행\n",
    "@app.route(\"/\")\n",
    "def hello():\n",
    "    return \"<h1>Hello Python</h1>\"\n",
    "\n",
    "@app.route(\"/member/<id>\")\n",
    "def get_member(id):\n",
    "    return \"member: \" + id\n",
    "\n",
    "if __name__ == \"__main__\":\n",
    "    with app.test_request_context():\n",
    "        print (url_for('hello'))\n",
    "        print (url_for('get_member', id='cinzel'))"
   ]
  },
  {
   "cell_type": "code",
   "execution_count": 24,
   "id": "ef0b658e",
   "metadata": {},
   "outputs": [
    {
     "name": "stdout",
     "output_type": "stream",
     "text": [
      " * Serving Flask app \"__main__\" (lazy loading)\n",
      " * Environment: production\n",
      "   WARNING: This is a development server. Do not use it in a production deployment.\n",
      "   Use a production WSGI server instead.\n",
      " * Debug mode: off\n"
     ]
    },
    {
     "name": "stderr",
     "output_type": "stream",
     "text": [
      " * Running on http://127.0.0.1:5000/ (Press CTRL+C to quit)\n",
      "127.0.0.1 - - [29/Sep/2021 19:10:21] \"\u001b[37mGET / HTTP/1.1\u001b[0m\" 200 -\n",
      "127.0.0.1 - - [29/Sep/2021 19:10:21] \"\u001b[37mGET / HTTP/1.1\u001b[0m\" 200 -\n",
      "127.0.0.1 - - [29/Sep/2021 19:10:42] \"\u001b[37mGET /test HTTP/1.1\u001b[0m\" 200 -\n"
     ]
    }
   ],
   "source": [
    "from flask import Flask, url_for, request\n",
    "app = Flask(__name__)\n",
    "\n",
    "# Spring Controller와 동일한 역할 수행\n",
    "@app.route(\"/\")\n",
    "def hello():\n",
    "    return \"<h1>Hello Python</h1>\"\n",
    "\n",
    "@app.route(\"/member/<id>\")\n",
    "def get_member(id):\n",
    "    return \"member: \" + id\n",
    "\n",
    "@app.route(\"/test\", methods=['POST', 'GET'])\n",
    "# 값이 아무것도 안들어오면 None으로 함\n",
    "def chk_get_post(entity=None):\n",
    "    err = None\n",
    "    \n",
    "    if request.method == 'POST':\n",
    "        id = request.form['id']\n",
    "        email = request.form['email']\n",
    "        \n",
    "        if not id and not email:\n",
    "            return add_entity(request.form)\n",
    "    else:\n",
    "        err = \"Invalid\"\n",
    "        \n",
    "    return err\n",
    "            \n",
    "\n",
    "if __name__ == \"__main__\":\n",
    "    app.run()"
   ]
  },
  {
   "cell_type": "code",
   "execution_count": 4,
   "id": "ba0cc935",
   "metadata": {},
   "outputs": [
    {
     "name": "stdout",
     "output_type": "stream",
     "text": [
      " * Serving Flask app \"__main__\" (lazy loading)\n",
      " * Environment: production\n",
      "   WARNING: This is a development server. Do not use it in a production deployment.\n",
      "   Use a production WSGI server instead.\n",
      " * Debug mode: off\n"
     ]
    },
    {
     "name": "stderr",
     "output_type": "stream",
     "text": [
      " * Running on http://127.0.0.1:5000/ (Press CTRL+C to quit)\n",
      "127.0.0.1 - - [29/Sep/2021 19:52:17] \"\u001b[37mOPTIONS /login HTTP/1.1\u001b[0m\" 200 -\n",
      "127.0.0.1 - - [29/Sep/2021 19:52:18] \"\u001b[37mPOST /login HTTP/1.1\u001b[0m\" 200 -\n"
     ]
    },
    {
     "name": "stdout",
     "output_type": "stream",
     "text": [
      "POST 처리\n",
      "{'userId': 'test', 'password': 'test'}\n"
     ]
    },
    {
     "name": "stderr",
     "output_type": "stream",
     "text": [
      "127.0.0.1 - - [29/Sep/2021 19:53:10] \"\u001b[37mOPTIONS /login HTTP/1.1\u001b[0m\" 200 -\n",
      "127.0.0.1 - - [29/Sep/2021 19:53:10] \"\u001b[37mPOST /login HTTP/1.1\u001b[0m\" 200 -\n"
     ]
    },
    {
     "name": "stdout",
     "output_type": "stream",
     "text": [
      "POST 처리\n",
      "{'userId': 'test', 'password': 'test'}\n"
     ]
    },
    {
     "name": "stderr",
     "output_type": "stream",
     "text": [
      "127.0.0.1 - - [29/Sep/2021 19:54:01] \"\u001b[37mOPTIONS /login HTTP/1.1\u001b[0m\" 200 -\n",
      "127.0.0.1 - - [29/Sep/2021 19:54:01] \"\u001b[37mPOST /login HTTP/1.1\u001b[0m\" 200 -\n"
     ]
    },
    {
     "name": "stdout",
     "output_type": "stream",
     "text": [
      "POST 처리\n",
      "{'userId': 'test', 'password': 'test'}\n"
     ]
    },
    {
     "name": "stderr",
     "output_type": "stream",
     "text": [
      "127.0.0.1 - - [29/Sep/2021 19:54:12] \"\u001b[37mOPTIONS /login HTTP/1.1\u001b[0m\" 200 -\n",
      "127.0.0.1 - - [29/Sep/2021 19:54:13] \"\u001b[37mPOST /login HTTP/1.1\u001b[0m\" 200 -\n"
     ]
    },
    {
     "name": "stdout",
     "output_type": "stream",
     "text": [
      "POST 처리\n",
      "{'userId': 'test', 'password': '1234'}\n"
     ]
    }
   ],
   "source": [
    "\n",
    "from flask import Flask, url_for, request, jsonify\n",
    "from flask_cors import CORS, cross_origin\n",
    "app = Flask(__name__)\n",
    "CORS(app)\n",
    "\n",
    "# Spring Controller와 동일한 역할 수행\n",
    "@app.route(\"/\")\n",
    "def hello():\n",
    "    return \"<h1>Hello Python</h1>\"\n",
    "\n",
    "@app.route(\"/member/<id>\")\n",
    "def get_member(id):\n",
    "    return \"member: \" + id\n",
    "\n",
    "# methods=['POST', 'GET'] 같이 사용해도 되고, 따로 사용해도 됨\n",
    "@app.route(\"/login\", methods=['POST', 'GET'])\n",
    "# 값이 아무것도 안들어오면 None으로 함\n",
    "def chk_get_post(entity=None):\n",
    "    err = None\n",
    "    \n",
    "    if request.method == 'POST':\n",
    "        print(\"POST 처리\")\n",
    "        # userId = request.form['userId']\n",
    "        # pw = request.form['password']\n",
    "        # print(\"userId = {0}, pw = {1}\".format(userId, pw))\n",
    "        # request.get_json() 상대편에서 보낸 json 내용을 읽음\n",
    "        data = request.get_json()\n",
    "        print(data)\n",
    "        \n",
    "        # 여기에 카톡 Open API 연동하거나 딥러닝을 활용하는 것임\n",
    "        # 물론 우리는 시간이 부족해서 딥러닝이 불가함\n",
    "        # 그러므로 카톡 Open API나 주식 API 등등 여러가지 Open API 들을 활용하면 될 것임\n",
    "        \n",
    "            # *****  Open API는 파이썬으로, DB처리는 Spirng으로 *****\n",
    "        \n",
    "        # return \"userId = \" + userId + \", password = \" + pw\n",
    "        # json 데이터를 전송\n",
    "        return jsonify(data)\n",
    "    \n",
    "    # GET일 경우\n",
    "    else:\n",
    "        print(\"GET 처리\")\n",
    "        err = \"Invalid\"\n",
    "        \n",
    "    return err\n",
    "            \n",
    "\n",
    "if __name__ == \"__main__\":\n",
    "    app.run()"
   ]
  },
  {
   "cell_type": "code",
   "execution_count": null,
   "id": "140fabba",
   "metadata": {},
   "outputs": [],
   "source": []
  }
 ],
 "metadata": {
  "kernelspec": {
   "display_name": "Python 3",
   "language": "python",
   "name": "python3"
  },
  "language_info": {
   "codemirror_mode": {
    "name": "ipython",
    "version": 3
   },
   "file_extension": ".py",
   "mimetype": "text/x-python",
   "name": "python",
   "nbconvert_exporter": "python",
   "pygments_lexer": "ipython3",
   "version": "3.8.8"
  }
 },
 "nbformat": 4,
 "nbformat_minor": 5
}
