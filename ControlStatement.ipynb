{
 "cells": [
  {
   "cell_type": "code",
   "execution_count": 1,
   "id": "1f07e18a",
   "metadata": {},
   "outputs": [
    {
     "name": "stdout",
     "output_type": "stream",
     "text": [
      "val is bigger than 5\n"
     ]
    }
   ],
   "source": [
    "val = 10\n",
    "\n",
    "if val > 5:\n",
    "    print(\"val is bigger than 5\")"
   ]
  },
  {
   "cell_type": "code",
   "execution_count": 2,
   "id": "7e8090d9",
   "metadata": {},
   "outputs": [],
   "source": [
    "val = 1\n",
    "\n",
    "if val > 5:\n",
    "    print(\"val is bigger than 5\")"
   ]
  },
  {
   "cell_type": "code",
   "execution_count": 3,
   "id": "fbcfe57a",
   "metadata": {},
   "outputs": [
    {
     "name": "stdout",
     "output_type": "stream",
     "text": [
      "val is bigger than 5\n"
     ]
    }
   ],
   "source": [
    "val = 1\n",
    "\n",
    "if val > 5:\n",
    "    print(\"test\")\n",
    "    \n",
    "print(\"val is bigger than 5\")"
   ]
  },
  {
   "cell_type": "code",
   "execution_count": 4,
   "id": "c0919a04",
   "metadata": {},
   "outputs": [
    {
     "name": "stdout",
     "output_type": "stream",
     "text": [
      "banana\n"
     ]
    }
   ],
   "source": [
    "money = 10\n",
    "\n",
    "if money > 100:\n",
    "    item = \"apple\"\n",
    "else:\n",
    "    item = \"banana\"\n",
    "    \n",
    "print(item)"
   ]
  },
  {
   "cell_type": "code",
   "execution_count": 6,
   "id": "9673567d",
   "metadata": {},
   "outputs": [
    {
     "name": "stdout",
     "output_type": "stream",
     "text": [
      "input Score: 99\n",
      "점수 통보! 등급 = A\n"
     ]
    }
   ],
   "source": [
    "score = int(input(('input Score: ')))\n",
    "\n",
    "if 90 <= score <= 100:\n",
    "    grade = 'A'\n",
    "elif 80 <= score < 90:\n",
    "    grade = 'B'\n",
    "elif 70 <= score < 80:\n",
    "    grade = \"C\"\n",
    "elif 60 <= score <70:\n",
    "    grade = \"D\"\n",
    "else:\n",
    "    grade = \"F\"\n",
    "    \n",
    "print(\"점수 통보! 등급 = \" + grade)"
   ]
  },
  {
   "cell_type": "code",
   "execution_count": 9,
   "id": "26b54286",
   "metadata": {},
   "outputs": [
    {
     "name": "stdout",
     "output_type": "stream",
     "text": [
      "input Math score: 20\n",
      "input English score: 30\n",
      "input History score: 40\n",
      "평균 : 30.0\n",
      "fail\n"
     ]
    }
   ],
   "source": [
    "# 수학, 영어, 국사 시험을 봤다.\n",
    "# 각각의 점수를 입력하여 토탈 평균이 60점 미만이며\n",
    "# 또한 각 과목의 점수들이 50점 미만인 경우에도 탈락 처리를 하도록 한다.\n",
    "Math = int(input(('input Math score: ')))\n",
    "English = int(input(('input English score: ')))\n",
    "History = int(input(('input History score: ')))\n",
    "\n",
    "avg = (Math + English + History)/3\n",
    "print(\"평균 : \" + str(avg))\n",
    "\n",
    "if avg < 60:\n",
    "    grade = 'fail'\n",
    "elif Math < 50:\n",
    "    grade = 'fail'\n",
    "elif English < 50:\n",
    "    grade = 'fail'\n",
    "elif History < 50:\n",
    "    grade = 'fail'\n",
    "else: \n",
    "    grade = 'success'\n",
    "\n",
    "print(grade)"
   ]
  },
  {
   "cell_type": "code",
   "execution_count": 10,
   "id": "067a2262",
   "metadata": {},
   "outputs": [
    {
     "name": "stdout",
     "output_type": "stream",
     "text": [
      "5\n",
      "4\n",
      "3\n",
      "2\n",
      "1\n"
     ]
    }
   ],
   "source": [
    "val = 5\n",
    "\n",
    "while val > 0:\n",
    "    print(val)\n",
    "    val -= 1"
   ]
  },
  {
   "cell_type": "code",
   "execution_count": 11,
   "id": "1e446936",
   "metadata": {},
   "outputs": [
    {
     "name": "stdout",
     "output_type": "stream",
     "text": [
      "Apple <class 'str'>\n",
      "100 <class 'int'>\n",
      "15.33 <class 'float'>\n"
     ]
    }
   ],
   "source": [
    "lists = ['Apple',  100, 15.33]\n",
    "\n",
    "for i in list:\n",
    "    print(i, type(i))"
   ]
  },
  {
   "cell_type": "code",
   "execution_count": 12,
   "id": "5d09a30c",
   "metadata": {},
   "outputs": [
    {
     "name": "stdout",
     "output_type": "stream",
     "text": [
      "Item: 1\n",
      "Item: 2\n",
      "Item: 3\n",
      "Item: 4\n",
      "Item: 5\n"
     ]
    }
   ],
   "source": [
    "numList = [1, 2, 3, 4, 5, 6, 7, 8, 9, 10]\n",
    "for i in numList:\n",
    "    if i > 5:\n",
    "        break\n",
    "    print(\"Item: {0}\".format(i))"
   ]
  },
  {
   "cell_type": "code",
   "execution_count": 13,
   "id": "a7abb266",
   "metadata": {},
   "outputs": [
    {
     "name": "stdout",
     "output_type": "stream",
     "text": [
      "Item: 1\n",
      "Item: 3\n",
      "Item: 5\n",
      "Item: 7\n",
      "Item: 9\n"
     ]
    }
   ],
   "source": [
    "for i in numList:\n",
    "    if i % 2 == 0:\n",
    "        continue\n",
    "    print(\"Item: {0}\".format(i))"
   ]
  },
  {
   "cell_type": "code",
   "execution_count": 1,
   "id": "d92fd1aa",
   "metadata": {},
   "outputs": [
    {
     "name": "stdout",
     "output_type": "stream",
     "text": [
      "[0, 1, 2, 3, 4, 5, 6, 7, 8, 9]\n"
     ]
    }
   ],
   "source": [
    "print(list(range(10)))"
   ]
  },
  {
   "cell_type": "code",
   "execution_count": 2,
   "id": "6bc9b05a",
   "metadata": {},
   "outputs": [
    {
     "name": "stdout",
     "output_type": "stream",
     "text": [
      "[5, 6, 7, 8, 9]\n"
     ]
    }
   ],
   "source": [
    "print(list(range(5,10)))"
   ]
  },
  {
   "cell_type": "code",
   "execution_count": 3,
   "id": "be6a379f",
   "metadata": {},
   "outputs": [
    {
     "name": "stdout",
     "output_type": "stream",
     "text": [
      "[10, 9, 8, 7, 6, 5, 4, 3, 2, 1]\n"
     ]
    }
   ],
   "source": [
    "print(list(range(10, 0, -1)))"
   ]
  },
  {
   "cell_type": "code",
   "execution_count": 4,
   "id": "60f38580",
   "metadata": {},
   "outputs": [
    {
     "name": "stdout",
     "output_type": "stream",
     "text": [
      "[10, 12, 14, 16, 18]\n"
     ]
    }
   ],
   "source": [
    "print(list(range(10,20,2)))"
   ]
  },
  {
   "cell_type": "code",
   "execution_count": 5,
   "id": "293ff80d",
   "metadata": {},
   "outputs": [
    {
     "name": "stdout",
     "output_type": "stream",
     "text": [
      "[1, 2, 3, 4, 5, 6, 7, 8, 9, 10]\n"
     ]
    }
   ],
   "source": [
    "numList = list(range(1,11))\n",
    "\n",
    "print(numList)"
   ]
  },
  {
   "cell_type": "code",
   "execution_count": 7,
   "id": "63409f6b",
   "metadata": {},
   "outputs": [
    {
     "name": "stdout",
     "output_type": "stream",
     "text": [
      "idx: 0, val: Apple\n",
      "idx: 1, val: Orange\n",
      "idx: 2, val: Grape\n",
      "idx: 3, val: Banana\n"
     ]
    }
   ],
   "source": [
    "strList = [\"Apple\", 'Orange', 'Grape', 'Banana']\n",
    "\n",
    "for i in range(len(strList)):\n",
    "    print(\"idx: {0}, val: {1}\".format(i, strList[i]))"
   ]
  },
  {
   "cell_type": "code",
   "execution_count": 8,
   "id": "9ec7d804",
   "metadata": {},
   "outputs": [
    {
     "name": "stdout",
     "output_type": "stream",
     "text": [
      "(0, 100)\n",
      "(1, 33.7)\n",
      "(2, 'Grape')\n"
     ]
    }
   ],
   "source": [
    "varList = [100, 33.7, \"Grape\"]\n",
    "\n",
    "for i in enumerate(varList):\n",
    "    print(i)"
   ]
  },
  {
   "cell_type": "code",
   "execution_count": 11,
   "id": "6e020948",
   "metadata": {},
   "outputs": [
    {
     "name": "stdout",
     "output_type": "stream",
     "text": [
      "[4.5, -1.5, 12, 6.0, -2.0, 16, 7.5, -2.5, 20]\n",
      "<class 'list'>\n"
     ]
    }
   ],
   "source": [
    "numList1 = [3, 4, 5]\n",
    "numList2 = [1.5, -0.5, 4]\n",
    "\n",
    "resLists = [x * y for x in numList1 for y in numList2]\n",
    "\n",
    "print(resLists)\n",
    "print(type(resLists))"
   ]
  },
  {
   "cell_type": "code",
   "execution_count": null,
   "id": "05a27a07",
   "metadata": {},
   "outputs": [],
   "source": []
  }
 ],
 "metadata": {
  "kernelspec": {
   "display_name": "Python 3",
   "language": "python",
   "name": "python3"
  },
  "language_info": {
   "codemirror_mode": {
    "name": "ipython",
    "version": 3
   },
   "file_extension": ".py",
   "mimetype": "text/x-python",
   "name": "python",
   "nbconvert_exporter": "python",
   "pygments_lexer": "ipython3",
   "version": "3.8.8"
  }
 },
 "nbformat": 4,
 "nbformat_minor": 5
}
