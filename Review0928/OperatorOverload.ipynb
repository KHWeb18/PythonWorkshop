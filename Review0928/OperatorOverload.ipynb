{
 "cells": [
  {
   "cell_type": "code",
   "execution_count": 1,
   "id": "cfbb7d3a",
   "metadata": {},
   "outputs": [
    {
     "name": "stdout",
     "output_type": "stream",
     "text": [
      "덧셈\n",
      "3, 5\n",
      "뺄셈\n",
      "-1, -1\n"
     ]
    }
   ],
   "source": [
    "# 연산자 오버로딩: 덧셈의 기능을 확장할 수 있음\n",
    "class Vector2d(object):\n",
    "    def __init__(self, x, y):\n",
    "        self.x = x\n",
    "        self.y = y\n",
    "        \n",
    "    # 자바에서 toString 역할\n",
    "    def __repr__(self):\n",
    "        return str(self.x) + ', ' + str(self.y)\n",
    "    \n",
    "    # 덧셈 기호가 붙었을 때 할 동작\n",
    "    # ex) A + B = A.__add__(B)\n",
    "    # 즉 A는 self, B는 other\n",
    "    def __add__(self, other):\n",
    "        print('덧셈')\n",
    "        return Vector2d(self.x + other.x, self.y + other.y)\n",
    "    \n",
    "    def __sub__(self, other):\n",
    "        print('뺄셈')\n",
    "        return Vector2d(self.x - other.x, self.y - other.y)\n",
    "    \n",
    "    def getVector(self):\n",
    "        return [self.x, self.y] \n",
    "    \n",
    "A = Vector2d(1, 2)\n",
    "B = Vector2d(2, 3)\n",
    "\n",
    "print(A + B)\n",
    "print(A - B)"
   ]
  },
  {
   "cell_type": "code",
   "execution_count": null,
   "id": "cc737624",
   "metadata": {},
   "outputs": [],
   "source": []
  }
 ],
 "metadata": {
  "kernelspec": {
   "display_name": "Python 3",
   "language": "python",
   "name": "python3"
  },
  "language_info": {
   "codemirror_mode": {
    "name": "ipython",
    "version": 3
   },
   "file_extension": ".py",
   "mimetype": "text/x-python",
   "name": "python",
   "nbconvert_exporter": "python",
   "pygments_lexer": "ipython3",
   "version": "3.8.8"
  }
 },
 "nbformat": 4,
 "nbformat_minor": 5
}
