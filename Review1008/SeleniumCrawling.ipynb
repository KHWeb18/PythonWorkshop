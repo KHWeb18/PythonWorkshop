{
 "cells": [
  {
   "cell_type": "code",
   "execution_count": 2,
   "id": "babd4ec2",
   "metadata": {},
   "outputs": [
    {
     "name": "stdout",
     "output_type": "stream",
     "text": [
      "Collecting selenium\n",
      "  Downloading selenium-3.141.0-py2.py3-none-any.whl (904 kB)\n",
      "Requirement already satisfied: urllib3 in c:\\programdata\\anaconda3\\lib\\site-packages (from selenium) (1.26.4)\n",
      "Installing collected packages: selenium\n",
      "Successfully installed selenium-3.141.0\n"
     ]
    }
   ],
   "source": [
    "!pip install selenium"
   ]
  },
  {
   "cell_type": "code",
   "execution_count": 3,
   "id": "b83473c4",
   "metadata": {},
   "outputs": [],
   "source": [
    "import selenium"
   ]
  },
  {
   "cell_type": "code",
   "execution_count": 4,
   "id": "3f07f61f",
   "metadata": {},
   "outputs": [],
   "source": [
    "from selenium import webdriver"
   ]
  },
  {
   "cell_type": "code",
   "execution_count": 10,
   "id": "95b43fb8",
   "metadata": {},
   "outputs": [],
   "source": [
    "url = 'https://www.youtube.com/'\n",
    "\n",
    "# Edge driver 검색하여 다운받고 드라이버 경로 입력하기\n",
    "driver = webdriver.Edge(r'C:\\msedgedriver.exe')\n",
    "driver.get(url = url)"
   ]
  },
  {
   "cell_type": "code",
   "execution_count": 12,
   "id": "3eeaabf4",
   "metadata": {},
   "outputs": [
    {
     "name": "stdout",
     "output_type": "stream",
     "text": [
      "https://www.youtube.com/\n",
      "YouTube\n"
     ]
    }
   ],
   "source": [
    "print(driver.current_url)\n",
    "print(driver.title)"
   ]
  },
  {
   "cell_type": "code",
   "execution_count": 23,
   "id": "61caee4a",
   "metadata": {},
   "outputs": [
    {
     "ename": "KeyboardInterrupt",
     "evalue": "",
     "output_type": "error",
     "traceback": [
      "\u001b[1;31m---------------------------------------------------------------------------\u001b[0m",
      "\u001b[1;31mKeyboardInterrupt\u001b[0m                         Traceback (most recent call last)",
      "\u001b[1;32m<ipython-input-23-5830a7dcbc0d>\u001b[0m in \u001b[0;36m<module>\u001b[1;34m\u001b[0m\n\u001b[0;32m      8\u001b[0m \u001b[1;32mfor\u001b[0m \u001b[0mitem\u001b[0m \u001b[1;32min\u001b[0m \u001b[0mallContents\u001b[0m\u001b[1;33m:\u001b[0m\u001b[1;33m\u001b[0m\u001b[1;33m\u001b[0m\u001b[0m\n\u001b[0;32m      9\u001b[0m     \u001b[0mitem\u001b[0m\u001b[1;33m.\u001b[0m\u001b[0mclick\u001b[0m\u001b[1;33m(\u001b[0m\u001b[1;33m)\u001b[0m\u001b[1;33m\u001b[0m\u001b[1;33m\u001b[0m\u001b[0m\n\u001b[1;32m---> 10\u001b[1;33m     \u001b[0mtime\u001b[0m\u001b[1;33m.\u001b[0m\u001b[0msleep\u001b[0m\u001b[1;33m(\u001b[0m\u001b[1;36m5\u001b[0m\u001b[1;33m)\u001b[0m\u001b[1;33m\u001b[0m\u001b[1;33m\u001b[0m\u001b[0m\n\u001b[0m\u001b[0;32m     11\u001b[0m     \u001b[0mdriver\u001b[0m\u001b[1;33m.\u001b[0m\u001b[0mback\u001b[0m\u001b[1;33m(\u001b[0m\u001b[1;33m)\u001b[0m\u001b[1;33m\u001b[0m\u001b[1;33m\u001b[0m\u001b[0m\n",
      "\u001b[1;31mKeyboardInterrupt\u001b[0m: "
     ]
    }
   ],
   "source": [
    "import time\n",
    "\n",
    "allContents = driver.find_elements_by_css_selector(\n",
    "    '#contents > ytd-rich-item-renderer > div > ytd-rich-grid-media > div > ytd-thumbnail > a'\n",
    ")\n",
    "\n",
    "# 광고 없을 때 영상 자동 클릭하고 5초 재생후 뒤로가기 반복\n",
    "for item in allContents:\n",
    "    item.click()\n",
    "    time.sleep(5)\n",
    "    driver.back()"
   ]
  },
  {
   "cell_type": "code",
   "execution_count": 25,
   "id": "2e787fc5",
   "metadata": {},
   "outputs": [
    {
     "name": "stdout",
     "output_type": "stream",
     "text": [
      "접속하고자 하는 경로:  https://www.youtube.com/watch?v=pA9zZkf3rhw\n",
      "접속하고자 하는 경로:  https://www.youtube.com/watch?v=2ONTVf8E3Mc\n",
      "접속하고자 하는 경로:  https://www.youtube.com/watch?v=zRBjqC27wSU\n",
      "접속하고자 하는 경로:  https://www.youtube.com/watch?v=0C3gnxIh7kc\n",
      "접속하고자 하는 경로:  https://www.youtube.com/watch?v=mY0gZCxibJQ\n",
      "접속하고자 하는 경로:  https://www.youtube.com/watch?v=okTctvWu8O0\n",
      "접속하고자 하는 경로:  https://www.youtube.com/watch?v=c5JQp6xafqc\n",
      "접속하고자 하는 경로:  https://www.youtube.com/watch?v=SyDBXuGs7as\n",
      "접속하고자 하는 경로:  https://www.youtube.com/watch?v=SiDbWgrSCk4\n",
      "접속하고자 하는 경로:  https://www.youtube.com/watch?v=Z5-6wbdbgA4\n",
      "접속하고자 하는 경로:  https://www.youtube.com/watch?v=KsVC_QQPg60\n",
      "접속하고자 하는 경로:  https://www.youtube.com/watch?v=Yqu16-aTFso\n",
      "접속하고자 하는 경로:  https://www.youtube.com/watch?v=Nd0LUouAGFU\n",
      "접속하고자 하는 경로:  https://www.youtube.com/watch?v=MekcRhHVUhc\n",
      "접속하고자 하는 경로:  https://www.youtube.com/watch?v=NIZGjl7fqns\n",
      "접속하고자 하는 경로:  https://www.youtube.com/watch?v=kwxGO4HnFM8\n",
      "접속하고자 하는 경로:  https://www.youtube.com/watch?v=teW4t31VMMA\n",
      "접속하고자 하는 경로:  https://www.youtube.com/watch?v=ftldAdfX40Q\n",
      "접속하고자 하는 경로:  https://www.youtube.com/watch?v=k8hGxgYVyaE\n",
      "접속하고자 하는 경로:  https://www.youtube.com/watch?v=yauh_osy0f8\n",
      "접속하고자 하는 경로:  https://www.youtube.com/watch?v=mfWSUVx9Q9U\n",
      "접속하고자 하는 경로:  https://www.youtube.com/watch?v=hfXqgH2RscE\n",
      "접속하고자 하는 경로:  https://www.youtube.com/watch?v=iMTblJbmam4\n",
      "접속하고자 하는 경로:  https://www.youtube.com/watch?v=n9A1W52uJIA\n",
      "접속하고자 하는 경로:  https://www.youtube.com/watch?v=uqtA_MEbYls\n",
      "접속하고자 하는 경로:  https://www.youtube.com/watch?v=oU7n2tDeE-4\n",
      "접속하고자 하는 경로:  https://www.youtube.com/watch?v=CVIDRWdVSWs\n",
      "접속하고자 하는 경로:  https://www.youtube.com/watch?v=EhWlGtu1q2U\n",
      "접속하고자 하는 경로:  https://www.youtube.com/watch?v=XpkTRidpYvY\n",
      "접속하고자 하는 경로:  https://www.youtube.com/watch?v=XytBK-wMlmM\n",
      "접속하고자 하는 경로:  https://www.youtube.com/watch?v=fhfNQIELN-M\n",
      "접속하고자 하는 경로:  https://www.youtube.com/watch?v=xCzSE4j4qgY\n",
      "접속하고자 하는 경로:  https://www.youtube.com/watch?v=Gw0WY4GavPA\n"
     ]
    }
   ],
   "source": [
    "allContents = driver.find_elements_by_css_selector(\n",
    "    '#contents > ytd-rich-item-renderer > div > ytd-rich-grid-media > div > ytd-thumbnail > a'\n",
    ")\n",
    "\n",
    "# 메인페이지에 있는 모든 영상의 url 가져오기\n",
    "for item in allContents:\n",
    "    if (item != ''):\n",
    "        hrefURL = item.get_attribute('href')\n",
    "        print('접속하고자 하는 경로: ', hrefURL)"
   ]
  },
  {
   "cell_type": "code",
   "execution_count": 26,
   "id": "d4c3a38e",
   "metadata": {},
   "outputs": [],
   "source": [
    "# 드라이버 닫기\n",
    "driver.close()"
   ]
  },
  {
   "cell_type": "code",
   "execution_count": 27,
   "id": "54f7a858",
   "metadata": {},
   "outputs": [],
   "source": [
    "driver = webdriver.Edge(r'C:\\msedgedriver.exe')\n",
    "\n",
    "# 유튜브 검색 url\n",
    "url= 'https://www.youtube.com/results?search_query='\n",
    "\n",
    "text = 'bts'\n",
    "\n",
    "search_url = url + text\n",
    "\n",
    "driver.get(url = search_url)"
   ]
  },
  {
   "cell_type": "code",
   "execution_count": 32,
   "id": "0d282e57",
   "metadata": {},
   "outputs": [
    {
     "name": "stdout",
     "output_type": "stream",
     "text": [
      "영상 제목:  [긴급속보] 일본 생방송에서 BTS 방탄소년단 신곡 마이 유니버스 뮤비를 보고 충격받은 탄도소년단 멤버들 리액션 주목 BTS Coldplay My Universe Kpop MV\n",
      "영상 제목:  Coldplay X BTS - My Universe (Official Video - Behind The Scenes)\n",
      "영상 제목:  Coldplay X BTS - My Universe (Official Video)\n",
      "영상 제목:  방탄소년단-유엔 총회에서  공연된 \"Permission to Dance\" | 지속가능발전목표| 공식 비디오\n",
      "영상 제목:  BTS (방탄소년단) 'Permission to Dance' Official MV\n",
      "영상 제목:  안녕하세요.\n",
      "영상 제목:  콜드플레이 X 방탄소년단 (Coldplay X BTS) - My Universe 가사 번역 뮤직비디오\n",
      "영상 제목:  한국어로 UN 연설한 BTS & 국군의날 펼쳐진 '육·해·공 합동상륙작전'(탁현민) [김어준의 뉴스공장]\n",
      "영상 제목:  [오징어 게임 BTS 01] 이렇게 찍었다, 오겜 촬영 현장 비하인드 공개! | 오징어 게임 | 넷플릭스\n",
      "영상 제목:  [실제방송] BTS 방탄소년단 빌보드 1위 속보를 듣고 갑자기 차트 조작이라고 소리지른 극우 인사들 생방송 현장 BTS Coldplay My Universe Kpop JapanTV\n",
      "영상 제목:  Koreans React To POP VS K-POP [MV] | 𝙊𝙎𝙎𝘾\n",
      "영상 제목:  B T S PLAYLIST 2021 UPDATED | 방탄소년단 노래 모음\n",
      "영상 제목:  [1시간 듣기] BTS×Coldplay My Universe 1시간 듣기 (가사&한국어 번역 포함) | My Universe 1Hours (lyrics)\n",
      "영상 제목:  [긴급속보] 실시간 미국 뉴욕 도시를 마비시킨 BTS 방탄소년단 신곡 한국어 떼창을 보고 충격받은 패널들 표정 리액션 BTS Coldplay My Universe MV Kpop\n",
      "영상 제목:  BTS (방탄소년단) 'Butter' Official MV\n",
      "영상 제목:  BTS (방탄소년단) 'Permission to Dance' @ Global Citizen Live\n",
      "영상 제목:  Secret Message in BTS' Departure Photo Made ARMYs Sob..?\n",
      "영상 제목:  WATCH: BTS performs 'Permission to Dance' at 2021 United Nations General Assembly\n",
      "영상 제목:  BTS Performs \"Permission to Dance\" in Seoul to open Global Citizen Live | Global Citizen Live\n",
      "영상 제목:  \"우겨봤자 소용없어요!\" 영국에서 한국의 고유문화를 지키기 위해 사상초유의 대응을 펼치고 나서자 이에 당혹감을 감추지 못하는 중국상황\n",
      "영상 제목:  BTS 방탄소년단 또 한번 한국최초 대기록 세워 화제! 콜드플레이와 협업한 마이 유니버스가 롤링스톤 1위! bts coldplay\n",
      "영상 제목:  [BTS 방탄소년단] 현지속보  BTS 버터 \"2022 그래미 최유력 후보\" (BTS' \"Butter\" is a leading contender at \"2022 Grammys\")\n",
      "영상 제목:  [ Online Compilation Concert #1 ] #BTS  | SINCE 2013 ~ 2021\n"
     ]
    }
   ],
   "source": [
    "# 검색한 페이지의 영상의 제목을 가져오기\n",
    "allTitles = driver.find_elements_by_id(\n",
    "    # 태그 이름이 유일하다면 간단하게 작성\n",
    "    'video-title'\n",
    ")\n",
    "\n",
    "for item in allTitles:\n",
    "    if (item != ''):\n",
    "        titles = item.get_attribute('title')\n",
    "        print('영상 제목: ', titles)"
   ]
  },
  {
   "cell_type": "code",
   "execution_count": 33,
   "id": "d2e31151",
   "metadata": {},
   "outputs": [],
   "source": [
    "driver.close()"
   ]
  },
  {
   "cell_type": "code",
   "execution_count": null,
   "id": "9fd5da97",
   "metadata": {},
   "outputs": [],
   "source": []
  }
 ],
 "metadata": {
  "kernelspec": {
   "display_name": "Python 3",
   "language": "python",
   "name": "python3"
  },
  "language_info": {
   "codemirror_mode": {
    "name": "ipython",
    "version": 3
   },
   "file_extension": ".py",
   "mimetype": "text/x-python",
   "name": "python",
   "nbconvert_exporter": "python",
   "pygments_lexer": "ipython3",
   "version": "3.8.8"
  }
 },
 "nbformat": 4,
 "nbformat_minor": 5
}
