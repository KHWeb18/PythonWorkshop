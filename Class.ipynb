{
 "cells": [
  {
   "cell_type": "code",
   "execution_count": 1,
   "id": "1042f8b1",
   "metadata": {},
   "outputs": [
    {
     "name": "stdout",
     "output_type": "stream",
     "text": [
      "['In', 'Out', 'PyTestClass', '_', '__', '___', '__builtin__', '__builtins__', '__doc__', '__loader__', '__name__', '__package__', '__spec__', '_dh', '_i', '_i1', '_ih', '_ii', '_iii', '_oh', 'exit', 'get_ipython', 'quit']\n",
      "<class 'type'>\n"
     ]
    }
   ],
   "source": [
    "class PyTestClass:\n",
    "    \"\"\"TEST CLASS\"\"\"\n",
    "    \n",
    "print(dir()) #현재 존재하는 모든 클래스를 보여줌\n",
    "print(type(PyTestClass))"
   ]
  },
  {
   "cell_type": "code",
   "execution_count": 3,
   "id": "aee235d8",
   "metadata": {},
   "outputs": [
    {
     "name": "stdout",
     "output_type": "stream",
     "text": [
      "It's Name is Default\n",
      "It's Name is 정도영\n",
      "It's Name is 정도영\n"
     ]
    }
   ],
   "source": [
    "class Person:\n",
    "    Name = \"Default\"\n",
    "    \n",
    "    def Print(self): #self는 자바의 this\n",
    "        print(\"It's Name is {0}\".format(self.Name))\n",
    "        \n",
    "p = Person()\n",
    "p.Print()\n",
    "\n",
    "p.Name = \"정도영\"\n",
    "p.Print()\n",
    "Person.Print(p) #p.Name출력"
   ]
  },
  {
   "cell_type": "code",
   "execution_count": 5,
   "id": "d5b471da",
   "metadata": {},
   "outputs": [
    {
     "name": "stdout",
     "output_type": "stream",
     "text": [
      "p Name:  정도영\n",
      "p2 Name:  Default\n",
      "p title:  정도영 타이틀\n",
      "p2 title:  정도영 타이틀\n",
      "Person title:  정도영 타이틀\n",
      "p age:  20\n",
      "<__main__.Person object at 0x0000024E11D7D5B0>\n"
     ]
    }
   ],
   "source": [
    "p2 = Person()\n",
    "\n",
    "print(\"p Name: \", p.Name)\n",
    "print(\"p2 Name: \", p2.Name)\n",
    "\n",
    "Person.title = \"정도영 타이틀\" #원래 클래스에서 선언이 안돼있던 변수를 나중에 따로 값을 넣어주면 원래 클래스에서 자동으로 생기는듯\n",
    "print(\"p title: \", p.title)\n",
    "print(\"p2 title: \", p2.title)\n",
    "print(\"Person title: \", Person.title)\n",
    "\n",
    "p.age = 20\n",
    "print(\"p age: \", p.age)\n",
    "\n",
    "print(Person())"
   ]
  },
  {
   "cell_type": "code",
   "execution_count": 7,
   "id": "dc2d86e2",
   "metadata": {},
   "outputs": [
    {
     "name": "stdout",
     "output_type": "stream",
     "text": [
      "xxx\n",
      "ccc\n"
     ]
    }
   ],
   "source": [
    "str1 = \"xxx\"\n",
    "\n",
    "class NonSelfTest:\n",
    "    str1 = \"\"\n",
    "    \n",
    "    def Set(self, msg):\n",
    "        self.str1 = msg\n",
    "        \n",
    "    def Print(self):\n",
    "        print(str1) #self없이는 클래스 안 str1의 값이 아닌 외부의 str1의 값이 출력\n",
    "    \n",
    "    def PrintWithSelf(self): #self가 있어야 안에 들어간 값이 출력된다!\n",
    "        print(self.str1)\n",
    "        \n",
    "test = NonSelfTest()\n",
    "\n",
    "test.Set(\"ccc\")\n",
    "test.Print()\n",
    "test.PrintWithSelf()\n",
    "    \n",
    "    "
   ]
  },
  {
   "cell_type": "code",
   "execution_count": 28,
   "id": "cd27ab50",
   "metadata": {},
   "outputs": [
    {
     "name": "stdout",
     "output_type": "stream",
     "text": [
      "생성자 Value:  333\n",
      "소멸자\n",
      "누가 먼저?\n"
     ]
    }
   ],
   "source": [
    "class Vehicles:\n",
    "    def __init__(self, value): #기본으로 있는 생성자 메소드\n",
    "        self.Value = value\n",
    "        print(\"생성자 Value: \", self.Value)\n",
    "    \n",
    "    def __del__(self):\n",
    "        print(\"소멸자\")\n",
    "        \n",
    "def test():\n",
    "    v = Vehicles(333);\n",
    "    \n",
    "test() #test 메소드가 실행하면 v객체가 생성되고 소멸되기때문에 밑의 print보다 먼저 소멸자가 출력된다!\n",
    "print('누가 먼저?')"
   ]
  },
  {
   "cell_type": "code",
   "execution_count": 11,
   "id": "35795bda",
   "metadata": {},
   "outputs": [
    {
     "name": "stdout",
     "output_type": "stream",
     "text": [
      "Info name: 정도영, phoneNum: 010-8739-2582\n",
      "{'name': '정도영', 'phoneNum': '010-8739-2582'}\n",
      "{'name': '정도염', 'phoneNum': '010-2222-2222', 'subject': '띵똥학과', 'studentId': '2014220007'}\n"
     ]
    }
   ],
   "source": [
    "class Person:\n",
    "    def __init__(self, name, phoneNum):\n",
    "        self.name = name\n",
    "        self.phoneNum = phoneNum\n",
    "        \n",
    "    def printInfo(self):\n",
    "        print(\"Info name: {0}, phoneNum: {1}\".format(self.name, self.phoneNum))\n",
    "\n",
    "class Student(Person): #Person을 상속함\n",
    "    def __init__(self, name, phoneNum, subject, studentId):\n",
    "        self.name = name\n",
    "        self.phoneNum = phoneNum\n",
    "        self.subject = subject\n",
    "        self.studentId = studentId\n",
    "        \n",
    "p = Person(\"정도영\", \"010-8739-2582\")\n",
    "s = Student(\"정도염\", \"010-2222-2222\", \"띵똥학과\", \"2014220007\")\n",
    "\n",
    "p.printInfo()\n",
    "\n",
    "print(p.__dict__) #__dict__는 기본으로 있는 메서드, 객체의 값을 볼 수 있음\n",
    "print(s.__dict__)"
   ]
  },
  {
   "cell_type": "code",
   "execution_count": 43,
   "id": "66bbab13",
   "metadata": {},
   "outputs": [
    {
     "name": "stdout",
     "output_type": "stream",
     "text": [
      "Sub Class: [3]\n",
      "Super Class!\n",
      "{'Number': 3}\n"
     ]
    }
   ],
   "source": [
    "class Parent(object): #object --> 자바처럼 모든 클래스들을 포용할 수 있는 최상위 클래스!\n",
    "    def __init__(self, number):\n",
    "        self.Number = number\n",
    "    \n",
    "    def printMsg(self):\n",
    "        print(\"Super Class!\")\n",
    "        \n",
    "class Child(Parent):\n",
    "    def __init__(self, number):\n",
    "        super(Child, self).__init__(number) #인자 앞에는 현재 클래스 이름, 부모클래스의 생성자에 number전달\n",
    "        \n",
    "    def printMsg(self):\n",
    "        print(\"Sub Class: [%s]\" % str(self.Number))\n",
    "        super(Child, self).printMsg() #부모 클래스의 printMsg()를 호출해서 실행되게 함!\n",
    "        \n",
    "c = Child(3)\n",
    "c.printMsg()\n",
    "\n",
    "print(c.__dict__)"
   ]
  },
  {
   "cell_type": "code",
   "execution_count": 44,
   "id": "c9792297",
   "metadata": {},
   "outputs": [
    {
     "name": "stdout",
     "output_type": "stream",
     "text": [
      "0 26 65.88312613094926\n",
      "1 39 86.41879647464488\n",
      "2 57 73.87878108694382\n",
      "3 37 51.29596853248519\n",
      "4 80 15.784966137298827\n",
      "5 41 17.993094115431564\n",
      "6 70 96.97589868445776\n",
      "7 89 87.216886696034\n",
      "8 22 12.46075685503919\n",
      "9 3 56.54731398982348\n",
      "10 93 17.842370678860554\n",
      "11 19 83.71933391570718\n",
      "12 43 81.72576337129256\n",
      "13 17 99.5552327435415\n",
      "14 37 47.424097804509536\n",
      "15 83 47.56846402939321\n",
      "16 55 68.79181019523318\n",
      "17 42 99.97135903296825\n",
      "18 15 34.43983583569159\n",
      "19 44 38.808796695290305\n"
     ]
    }
   ],
   "source": [
    "from random import *\n",
    "\n",
    "for i in range(20):\n",
    "    rand_int = randint(1, 100)\n",
    "    rand_float = random() * 100\n",
    "    print(i, rand_int, rand_float)"
   ]
  },
  {
   "cell_type": "code",
   "execution_count": null,
   "id": "9d6091b1",
   "metadata": {},
   "outputs": [],
   "source": []
  }
 ],
 "metadata": {
  "kernelspec": {
   "display_name": "Python 3",
   "language": "python",
   "name": "python3"
  },
  "language_info": {
   "codemirror_mode": {
    "name": "ipython",
    "version": 3
   },
   "file_extension": ".py",
   "mimetype": "text/x-python",
   "name": "python",
   "nbconvert_exporter": "python",
   "pygments_lexer": "ipython3",
   "version": "3.8.8"
  }
 },
 "nbformat": 4,
 "nbformat_minor": 5
}
