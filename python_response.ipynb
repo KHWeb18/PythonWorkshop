{
 "cells": [
  {
   "cell_type": "code",
   "execution_count": 59,
   "id": "6efe845c",
   "metadata": {},
   "outputs": [
    {
     "name": "stdout",
     "output_type": "stream",
     "text": [
      "Python 3.8.8\n"
     ]
    }
   ],
   "source": [
    "!python --version"
   ]
  },
  {
   "cell_type": "code",
   "execution_count": 60,
   "id": "2a0f90b8",
   "metadata": {},
   "outputs": [],
   "source": [
    "from flask import Flask, url_for, request, jsonify #Spring같은거.. Axios가 아님\n",
    "from flask_cors import CORS, cross_origin #cross origin 문제 해결\n",
    "\n",
    "import json"
   ]
  },
  {
   "cell_type": "code",
   "execution_count": 64,
   "id": "fc9274d8",
   "metadata": {},
   "outputs": [
    {
     "name": "stdout",
     "output_type": "stream",
     "text": [
      " * Serving Flask app \"__main__\" (lazy loading)\n",
      " * Environment: production\n",
      "   WARNING: This is a development server. Do not use it in a production deployment.\n",
      "   Use a production WSGI server instead.\n",
      " * Debug mode: off\n"
     ]
    },
    {
     "name": "stderr",
     "output_type": "stream",
     "text": [
      " * Running on http://127.0.0.1:5000/ (Press CTRL+C to quit)\n",
      "<ipython-input-64-03124e31f342>:23: DeprecationWarning: 'encoding' is ignored and deprecated. It will be removed in Python 3.9\n",
      "  params = json.loads(request.get_data(), encoding='utf-8')\n",
      "[2021-10-05 00:35:23,390] ERROR in app: Exception on /spring2pythonRequestWithData [POST]\n",
      "Traceback (most recent call last):\n",
      "  File \"C:\\ProgramData\\Anaconda3\\lib\\site-packages\\flask\\app.py\", line 2447, in wsgi_app\n",
      "    response = self.full_dispatch_request()\n",
      "  File \"C:\\ProgramData\\Anaconda3\\lib\\site-packages\\flask\\app.py\", line 1952, in full_dispatch_request\n",
      "    rv = self.handle_user_exception(e)\n",
      "  File \"C:\\ProgramData\\Anaconda3\\lib\\site-packages\\flask_cors\\extension.py\", line 165, in wrapped_function\n",
      "    return cors_after_request(app.make_response(f(*args, **kwargs)))\n",
      "  File \"C:\\ProgramData\\Anaconda3\\lib\\site-packages\\flask\\app.py\", line 1821, in handle_user_exception\n",
      "    reraise(exc_type, exc_value, tb)\n",
      "  File \"C:\\ProgramData\\Anaconda3\\lib\\site-packages\\flask\\_compat.py\", line 39, in reraise\n",
      "    raise value\n",
      "  File \"C:\\ProgramData\\Anaconda3\\lib\\site-packages\\flask\\app.py\", line 1950, in full_dispatch_request\n",
      "    rv = self.dispatch_request()\n",
      "  File \"C:\\ProgramData\\Anaconda3\\lib\\site-packages\\flask\\app.py\", line 1936, in dispatch_request\n",
      "    return self.view_functions[rule.endpoint](**req.view_args)\n",
      "  File \"<ipython-input-64-03124e31f342>\", line 30, in spring2pythonRequestWithData\n",
      "    for i in len(parmas):\n",
      "NameError: name 'parmas' is not defined\n",
      "127.0.0.1 - - [05/Oct/2021 00:35:23] \"\u001b[35m\u001b[1mPOST /spring2pythonRequestWithData HTTP/1.1\u001b[0m\" 500 -\n"
     ]
    },
    {
     "name": "stdout",
     "output_type": "stream",
     "text": [
      "params:  [{'price': 12000}, {'price': 24900}]\n"
     ]
    }
   ],
   "source": [
    "app = Flask(__name__)\n",
    "CORS(app)\n",
    "\n",
    "@app.route('/spring2pythonRequest', methods = ['GET', 'POST'])\n",
    "def spring2pythonRequest():\n",
    "    data = {\"success\": True}\n",
    "    \n",
    "    return jsonify(data)\n",
    "\n",
    "@app.route('/spring2pythonRequestMulti', methods = ['GET', 'POST'])\n",
    "def spring2pythonRequestMulti():\n",
    "    data = {\"success\": True}\n",
    "    \n",
    "    data[\"userId\"] = \"jack\"\n",
    "    data[\"userEmail\"] = \"jack222@naver.com\"\n",
    "    \n",
    "    return jsonify(data)\n",
    "\n",
    "@app.route('/spring2pythonRequestWithData', methods = ['GET', 'POST'])\n",
    "def spring2pythonRequestWithData():\n",
    "    print(\"request: \", request.get_data())\n",
    "    print(\"request: \" + str(request.get_data()))\n",
    "\n",
    "    tmp = str(request.get_data()).strip(\"'<>() \").replace('\\'', '\\\"')\n",
    "    print(\"tmp: \", tmp)\n",
    "    \n",
    "    tmp2 = request.get_data().decode('utf-8').replace('\\0', '')\n",
    "    print(\"tmp2: \", tmp2)\n",
    "    \n",
    "    tmp3 = request.get_data().decode('utf8').replace(\"'\", '\"')\n",
    "    print(\"tmp3: \", tmp3)\n",
    "    \n",
    "    params = json.loads(request.get_data(), encoding='utf-8')\n",
    "    print(\"params: \", params)\n",
    "    \n",
    "    if len(params) == 0:\n",
    "        return jsonify(\"No Parameter\")\n",
    "    \n",
    "    params_string = \"\"\n",
    "    for key in params.keys():\n",
    "        params_string += 'key: {}, value: {}<br>'.format(key, params[key])\n",
    "    \n",
    "    return jsonify(params_string)\n",
    "\n",
    "if __name__ == \"__main__\":\n",
    "    app.run()"
   ]
  },
  {
   "cell_type": "code",
   "execution_count": null,
   "id": "b33df040",
   "metadata": {},
   "outputs": [],
   "source": []
  }
 ],
 "metadata": {
  "kernelspec": {
   "display_name": "Python 3",
   "language": "python",
   "name": "python3"
  },
  "language_info": {
   "codemirror_mode": {
    "name": "ipython",
    "version": 3
   },
   "file_extension": ".py",
   "mimetype": "text/x-python",
   "name": "python",
   "nbconvert_exporter": "python",
   "pygments_lexer": "ipython3",
   "version": "3.8.8"
  }
 },
 "nbformat": 4,
 "nbformat_minor": 5
}
