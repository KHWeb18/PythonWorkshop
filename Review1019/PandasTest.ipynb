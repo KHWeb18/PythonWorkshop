{
 "cells": [
  {
   "cell_type": "code",
   "execution_count": 1,
   "id": "b07f6cf3",
   "metadata": {},
   "outputs": [],
   "source": [
    "import pandas as pd"
   ]
  },
  {
   "cell_type": "code",
   "execution_count": 2,
   "id": "8576b8f9",
   "metadata": {},
   "outputs": [
    {
     "name": "stdout",
     "output_type": "stream",
     "text": [
      "  Signal Name Direction      Target  Signal Value\n",
      "0   VehSpeed1        Tx  Component1          10.4\n",
      "1   VehSpeed2        Tx  Component1          10.3\n",
      "2   VehSpeed3        Rx  Component1          12.0\n",
      "3   VehSpeed4        Tx  Component1          13.1\n",
      "4   VehSpeed5        Tx  Component2           9.4\n",
      "5   VehSpeed6        Tx  Component2           8.4\n",
      "6   VehSpeed7        Rx  Component2           3.9\n",
      "7   VehSpeed8        Tx  Component2           7.1\n",
      "8   VehSpeed9        Tx  Component2           7.5\n",
      "9  VehSpeed10        Tx  Component2           4.3\n"
     ]
    }
   ],
   "source": [
    "data = pd.read_csv('Data_example.csv')\n",
    "\n",
    "print(data)"
   ]
  },
  {
   "cell_type": "code",
   "execution_count": 3,
   "id": "eac4abd3",
   "metadata": {},
   "outputs": [
    {
     "name": "stdout",
     "output_type": "stream",
     "text": [
      "  Signal Name  Signal Value      Target\n",
      "0   VehSpeed1          10.4  Component1\n",
      "1   VehSpeed2          10.3  Component1\n",
      "2   VehSpeed3          12.0  Component1\n",
      "3   VehSpeed4          13.1  Component1\n",
      "4   VehSpeed5           9.4  Component2\n",
      "5   VehSpeed6           8.4  Component2\n",
      "6   VehSpeed7           3.9  Component2\n",
      "7   VehSpeed8           7.1  Component2\n",
      "8   VehSpeed9           7.5  Component2\n",
      "9  VehSpeed10           4.3  Component2\n"
     ]
    }
   ],
   "source": [
    "selected_data = pd.DataFrame(data, columns = ['Signal Name', 'Signal Value', 'Target'])\n",
    "\n",
    "print(selected_data)"
   ]
  },
  {
   "cell_type": "code",
   "execution_count": 4,
   "id": "aa5f3ded",
   "metadata": {},
   "outputs": [],
   "source": [
    "selected_data.to_csv('./modify.csv')"
   ]
  },
  {
   "cell_type": "code",
   "execution_count": 5,
   "id": "6d0e4791",
   "metadata": {},
   "outputs": [
    {
     "name": "stdout",
     "output_type": "stream",
     "text": [
      " C 드라이브의 볼륨에는 이름이 없습니다.\n",
      " 볼륨 일련 번호: BC22-E86F\n",
      "\n",
      " C:\\Users\\jaqkq\\python_works\\PythonWorkshop\\Review1019 디렉터리\n",
      "\n",
      "2021-10-19  오후 03:56    <DIR>          .\n",
      "2021-10-19  오후 03:41    <DIR>          ..\n",
      "2021-10-19  오후 03:41    <DIR>          .ipynb_checkpoints\n",
      "2021-10-19  오후 03:44               337 Data_example.csv\n",
      "2021-10-19  오후 03:56               319 modify.csv\n",
      "2021-10-19  오후 03:55             2,632 Untitled.ipynb\n",
      "               3개 파일               3,288 바이트\n",
      "               3개 디렉터리  342,871,355,392 바이트 남음\n"
     ]
    }
   ],
   "source": [
    "!dir"
   ]
  },
  {
   "cell_type": "code",
   "execution_count": 8,
   "id": "83163b7f",
   "metadata": {},
   "outputs": [],
   "source": [
    "import pymysql\n",
    "import datetime"
   ]
  },
  {
   "cell_type": "code",
   "execution_count": 9,
   "id": "85536c9a",
   "metadata": {},
   "outputs": [
    {
     "name": "stdout",
     "output_type": "stream",
     "text": [
      "start: 2021-10-19 16:04:41\n"
     ]
    }
   ],
   "source": [
    "print('start:', str(datetime.datetime.now())[:19])"
   ]
  },
  {
   "cell_type": "code",
   "execution_count": 10,
   "id": "35eabd5f",
   "metadata": {},
   "outputs": [],
   "source": [
    "import pickle\n",
    "\n",
    "MYSQL_USER_DATA_SAVED_FILE = 'res/mysql/userinfo'\n",
    "\n",
    "f = open(MYSQL_USER_DATA_SAVED_FILE, 'rb')\n",
    "mysql_user_info = pickle.load(f)\n",
    "f.close()"
   ]
  },
  {
   "cell_type": "code",
   "execution_count": 14,
   "id": "818c9c25",
   "metadata": {},
   "outputs": [
    {
     "name": "stdout",
     "output_type": "stream",
     "text": [
      "<pymysql.connections.Connection object at 0x000001604A41CFA0>\n"
     ]
    }
   ],
   "source": [
    "db = pymysql.connect(\n",
    "    host = '127.0.0.1',\n",
    "    port = 3306,\n",
    "    user = mysql_user_info['user_id'],\n",
    "    password = mysql_user_info['user_pw'],\n",
    "    db = 'jpa_db'\n",
    ")\n",
    "\n",
    "print(db)"
   ]
  },
  {
   "cell_type": "code",
   "execution_count": 16,
   "id": "ef69c8a9",
   "metadata": {},
   "outputs": [
    {
     "name": "stdout",
     "output_type": "stream",
     "text": [
      "((1, '200000', 'test'), (2, '200000', 'testtest'), (3, '200000', 'test'), (4, '200000', 'test'), (5, '200000', 'test'), (6, '200000', 'test2'), (7, '200000', 'test2'), (8, '200000', '안녕'), (9, '200000', 'ㅎㅎㅎ'), (10, '200000', 'ㅎㅎㅎ'), (11, '200000', 'ㅎㅎㅎ'), (12, '200000', 'ㅎㅎㅎ'), (13, '200000', '테스트!!'), (14, '200000', '나야나'), (15, '200000', '나야나'))\n"
     ]
    }
   ],
   "source": [
    "cursor = db.cursor()\n",
    "\n",
    "sql = \"\"\"\n",
    "    select * from hybrid_order;\n",
    "\"\"\"\n",
    "\n",
    "cursor.execute(sql)\n",
    "rows = cursor.fetchall()\n",
    "\n",
    "print(rows)"
   ]
  },
  {
   "cell_type": "code",
   "execution_count": 17,
   "id": "e18c3d6a",
   "metadata": {},
   "outputs": [],
   "source": [
    "def db2csv():\n",
    "    with open('mysql2csv.csv', 'a') as f:\n",
    "        f.writelines(text[:-1] + '\\n')"
   ]
  },
  {
   "cell_type": "code",
   "execution_count": 18,
   "id": "7c730b19",
   "metadata": {},
   "outputs": [],
   "source": [
    "for x in rows:\n",
    "    text = ''\n",
    "    for y in x:\n",
    "        y = str(y)\n",
    "        text = text + y + ', '\n",
    "    \n",
    "    db2csv()\n",
    "    \n",
    "cursor.close()\n",
    "db.close()"
   ]
  },
  {
   "cell_type": "code",
   "execution_count": 19,
   "id": "a39066c1",
   "metadata": {},
   "outputs": [
    {
     "name": "stdout",
     "output_type": "stream",
     "text": [
      " C 드라이브의 볼륨에는 이름이 없습니다.\n",
      " 볼륨 일련 번호: BC22-E86F\n",
      "\n",
      " C:\\Users\\jaqkq\\python_works\\PythonWorkshop\\Review1019 디렉터리\n",
      "\n",
      "2021-10-19  오후 04:34    <DIR>          .\n",
      "2021-10-19  오후 03:41    <DIR>          ..\n",
      "2021-10-19  오후 03:41    <DIR>          .ipynb_checkpoints\n",
      "2021-10-19  오후 03:44               337 Data_example.csv\n",
      "2021-10-19  오후 03:56               319 modify.csv\n",
      "2021-10-19  오후 04:34               298 mysql2csv.csv\n",
      "2021-10-19  오후 04:11    <DIR>          res\n",
      "2021-10-19  오후 04:33             6,535 Untitled.ipynb\n",
      "               4개 파일               7,489 바이트\n",
      "               4개 디렉터리  342,822,195,200 바이트 남음\n"
     ]
    }
   ],
   "source": [
    "!dir"
   ]
  },
  {
   "cell_type": "code",
   "execution_count": 25,
   "id": "ab22dc2b",
   "metadata": {},
   "outputs": [
    {
     "name": "stdout",
     "output_type": "stream",
     "text": [
      "<pymysql.connections.Connection object at 0x000001604A919850>\n"
     ]
    }
   ],
   "source": [
    "db = pymysql.connect(\n",
    "    host = '127.0.0.1',\n",
    "    port = 3306,\n",
    "    user = mysql_user_info['user_id'],\n",
    "    password = mysql_user_info['user_pw'],\n",
    "    db = 'jpa_db',\n",
    "    charset = 'utf8'\n",
    ")\n",
    "\n",
    "print(db)"
   ]
  },
  {
   "cell_type": "code",
   "execution_count": 27,
   "id": "3b8624b4",
   "metadata": {},
   "outputs": [],
   "source": [
    "sql = \"\"\"\n",
    "    select * from hybrid_order;\n",
    "\"\"\"\n",
    "\n",
    "df = pd.read_sql_query(sql, db)\n",
    "df.to_csv('panda2csv.csv', index = False, encoding='utf-8-sig')"
   ]
  },
  {
   "cell_type": "code",
   "execution_count": 28,
   "id": "86648228",
   "metadata": {},
   "outputs": [
    {
     "name": "stdout",
     "output_type": "stream",
     "text": [
      " C 드라이브의 볼륨에는 이름이 없습니다.\n",
      " 볼륨 일련 번호: BC22-E86F\n",
      "\n",
      " C:\\Users\\jaqkq\\python_works\\PythonWorkshop\\Review1019 디렉터리\n",
      "\n",
      "2021-10-19  오후 05:01    <DIR>          .\n",
      "2021-10-19  오후 03:41    <DIR>          ..\n",
      "2021-10-19  오후 03:41    <DIR>          .ipynb_checkpoints\n",
      "2021-10-19  오후 03:44               337 Data_example.csv\n",
      "2021-10-19  오후 03:56               319 modify.csv\n",
      "2021-10-19  오후 04:34               298 mysql2csv.csv\n",
      "2021-10-19  오후 05:01               293 panda2csv.csv\n",
      "2021-10-19  오후 04:11    <DIR>          res\n",
      "2021-10-19  오후 05:01             8,865 Untitled.ipynb\n",
      "               5개 파일              10,112 바이트\n",
      "               4개 디렉터리  342,843,387,904 바이트 남음\n"
     ]
    }
   ],
   "source": [
    "!dir"
   ]
  },
  {
   "cell_type": "code",
   "execution_count": 29,
   "id": "b40813f9",
   "metadata": {},
   "outputs": [],
   "source": [
    "import csv"
   ]
  },
  {
   "cell_type": "code",
   "execution_count": 33,
   "id": "1006a07e",
   "metadata": {},
   "outputs": [],
   "source": [
    "db = pymysql.connect(\n",
    "    host = '127.0.0.1',\n",
    "    port = 3306,\n",
    "    user = mysql_user_info['user_id'],\n",
    "    password = mysql_user_info['user_pw'],\n",
    "    db = 'jpa_db',\n",
    "    charset = 'utf8'\n",
    ")\n",
    "\n",
    "cursor = db.cursor()\n",
    "\n",
    "f = open('member.csv', 'r')\n",
    "csv_reader = csv.reader(f)"
   ]
  },
  {
   "cell_type": "code",
   "execution_count": 36,
   "id": "942d78df",
   "metadata": {},
   "outputs": [],
   "source": [
    "cnt = 0\n",
    "\n",
    "for row in csv_reader:\n",
    "    if cnt == 0:\n",
    "        cnt += 1\n",
    "        continue\n",
    "        \n",
    "    id = (row[0])\n",
    "    pw = (row[1])\n",
    "    \n",
    "    print(id)\n",
    "    print(pw)\n",
    "    \n",
    "    sql = \"\"\"\n",
    "        insert into member(id, pw) values (%s, %s);\n",
    "    \"\"\"\n",
    "    \n",
    "    cursor.execute(sql, (id, pw))\n",
    "    \n",
    "db.commit()\n",
    "\n",
    "f.close()\n",
    "db.close()"
   ]
  },
  {
   "cell_type": "code",
   "execution_count": null,
   "id": "7be54946",
   "metadata": {},
   "outputs": [],
   "source": []
  }
 ],
 "metadata": {
  "kernelspec": {
   "display_name": "Python 3",
   "language": "python",
   "name": "python3"
  },
  "language_info": {
   "codemirror_mode": {
    "name": "ipython",
    "version": 3
   },
   "file_extension": ".py",
   "mimetype": "text/x-python",
   "name": "python",
   "nbconvert_exporter": "python",
   "pygments_lexer": "ipython3",
   "version": "3.8.8"
  }
 },
 "nbformat": 4,
 "nbformat_minor": 5
}
