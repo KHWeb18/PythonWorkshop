{
 "cells": [
  {
   "cell_type": "code",
   "execution_count": 4,
   "id": "cbd7dfa5",
   "metadata": {},
   "outputs": [],
   "source": [
    "from flask import Flask, url_for, request, jsonify\n",
    "from flask_cors import CORS, cross_origin\n",
    "\n",
    "import json, requests\n",
    "\n",
    "import selenium\n",
    "from selenium import webdriver"
   ]
  },
  {
   "cell_type": "code",
   "execution_count": 11,
   "id": "821a8446",
   "metadata": {},
   "outputs": [
    {
     "name": "stdout",
     "output_type": "stream",
     "text": [
      " * Serving Flask app \"__main__\" (lazy loading)\n",
      " * Environment: production\n",
      "   WARNING: This is a development server. Do not use it in a production deployment.\n",
      "   Use a production WSGI server instead.\n",
      " * Debug mode: off\n"
     ]
    },
    {
     "name": "stderr",
     "output_type": "stream",
     "text": [
      " * Running on http://127.0.0.1:5000/ (Press CTRL+C to quit)\n",
      "127.0.0.1 - - [08/Oct/2021 19:19:50] \"\u001b[37mOPTIONS /pythonCrawl HTTP/1.1\u001b[0m\" 200 -\n",
      "<ipython-input-11-530361839707>:6: DeprecationWarning: 'encoding' is ignored and deprecated. It will be removed in Python 3.9\n",
      "  params = json.loads(request.get_data(), encoding='utf-8')\n"
     ]
    },
    {
     "name": "stdout",
     "output_type": "stream",
     "text": [
      "parmas:  {'search': 'bts'}\n"
     ]
    },
    {
     "name": "stderr",
     "output_type": "stream",
     "text": [
      "127.0.0.1 - - [08/Oct/2021 19:20:01] \"\u001b[37mPOST /pythonCrawl HTTP/1.1\u001b[0m\" 200 -\n"
     ]
    }
   ],
   "source": [
    "app = Flask(__name__)\n",
    "CORS(app)\n",
    "\n",
    "@app.route('/pythonCrawl', methods = ['GET', 'POST'])\n",
    "def pythonCrawl():\n",
    "    params = json.loads(request.get_data(), encoding='utf-8')\n",
    "    print('parmas: ', params)\n",
    "    \n",
    "    url= 'https://www.youtube.com/results?search_query='\n",
    "\n",
    "    # hidden option(눈에 보이지 않게 동작)\n",
    "    #options = webdriver.EdgeOptions()\n",
    "    #options.add_argument('--headless')\n",
    "    #options.add_argument('--window-size=1024,768')\n",
    "    #options.add_argument('--disable-gpu')\n",
    "\n",
    "    driver = webdriver.Edge(r'C:\\msedgedriver.exe')\n",
    "\n",
    "    search_url = url + params['search']\n",
    "\n",
    "    driver.get(url = search_url)\n",
    "\n",
    "    allTitles = driver.find_elements_by_id('video-title')\n",
    "\n",
    "    titles = []\n",
    "\n",
    "    for item in allTitles:\n",
    "        if (item != ''):\n",
    "            titles.append(item.get_attribute('title'))\n",
    "\n",
    "    # hidden이라도 작업이 완료되면 닫아 주어야 함\n",
    "    driver.close()\n",
    "    \n",
    "    return jsonify(titles)\n",
    "\n",
    "if __name__ == '__main__':\n",
    "    app.run()"
   ]
  },
  {
   "cell_type": "code",
   "execution_count": null,
   "id": "2c91c361",
   "metadata": {},
   "outputs": [],
   "source": []
  }
 ],
 "metadata": {
  "kernelspec": {
   "display_name": "Python 3",
   "language": "python",
   "name": "python3"
  },
  "language_info": {
   "codemirror_mode": {
    "name": "ipython",
    "version": 3
   },
   "file_extension": ".py",
   "mimetype": "text/x-python",
   "name": "python",
   "nbconvert_exporter": "python",
   "pygments_lexer": "ipython3",
   "version": "3.8.8"
  }
 },
 "nbformat": 4,
 "nbformat_minor": 5
}
