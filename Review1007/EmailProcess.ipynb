{
 "cells": [
  {
   "cell_type": "code",
   "execution_count": 1,
   "id": "5b8ad5e6",
   "metadata": {},
   "outputs": [],
   "source": [
    "import smtplib\n",
    "import os\n",
    "from email.mime.multipart import MIMEMultipart\n",
    "from email import encoders\n",
    "from email.mime.text import MIMEText\n",
    "from email.mime.image import MIMEImage\n",
    "from email.mime.audio import MIMEAudio\n",
    "from email.mime.base import MIMEBase"
   ]
  },
  {
   "cell_type": "code",
   "execution_count": 2,
   "id": "46bff4cb",
   "metadata": {},
   "outputs": [],
   "source": [
    "def send_email(smtp_info, msg):\n",
    "    with smtplib.SMTP(smtp_info['smtp_server'], smtp_info['smtp_port']) as server:\n",
    "        # TLS 보안 설정 및 시작(보안 정책상 필수)\n",
    "        server.starttls()\n",
    "        \n",
    "        # 로그인\n",
    "        server.login(smtp_info['smtp_user_id'], smtp_info['smtp_user_pw'])\n",
    "        \n",
    "        # 이메일 전송\n",
    "        # 이메일 전송 시 반드시 as_string()으로 변환\n",
    "        res = server.sendmail(msg['from'], msg['to'], msg.as_string())\n",
    "        \n",
    "        if not res:\n",
    "            print('이메일 전송 성공')\n",
    "        else:\n",
    "            print(res)"
   ]
  },
  {
   "cell_type": "code",
   "execution_count": 3,
   "id": "e8032216",
   "metadata": {},
   "outputs": [],
   "source": [
    "def make_multimsg(msg_dict):\n",
    "    multi = MIMEMultipart(_subtype = 'mixed')\n",
    "    \n",
    "    for key, value in msg_dict.items():\n",
    "        # text 형식인 경우\n",
    "        if key == 'text':\n",
    "            with open(value['filename'], encoding='utf-8') as fp:\n",
    "                msg = MIMEText(fp.read(), _subtype = value['subtype'])\n",
    "        \n",
    "        # image 형식인 경우\n",
    "        elif key == 'image':\n",
    "            with open(value['filename'], 'rb') as fp:\n",
    "                msg = MIMEImage(fp.read(), _subtype = value['subtype'])\n",
    "                \n",
    "        # audio, video 형식은 설정x\n",
    "        elif key == 'audio':\n",
    "            print('음원은 지원하지 않습니다.')\n",
    "        elif key == 'video':\n",
    "            print('영상은 지원하지 않습니다.')\n",
    "            \n",
    "        # 그 외의 형식    \n",
    "        else:\n",
    "            with open(value['filename'], 'rb') as fp:\n",
    "                msg = MIMEBase(value['maintype'], _subtype = value['subtype'])\n",
    "                msg.set_payload(fp.read())\n",
    "                encoders.encode_base64(msg)\n",
    "        \n",
    "        # 파일 이름은 첨부파일 제목\n",
    "        msg.add_header('Content-Disposition', 'attachment',\n",
    "                      filename = os.path.basename(value['filename']))\n",
    "        \n",
    "        # 파일 첨부\n",
    "        multi.attach(msg)\n",
    "        \n",
    "    return multi"
   ]
  },
  {
   "cell_type": "code",
   "execution_count": 6,
   "id": "e2366480",
   "metadata": {},
   "outputs": [
    {
     "name": "stdout",
     "output_type": "stream",
     "text": [
      "이메일 전송 성공\n"
     ]
    }
   ],
   "source": [
    "# text 와 image 함께 전송하기\n",
    "smtp_info = dict({\n",
    "    'smtp_server': 'smtp.naver.com',\n",
    "    'smtp_user_id': '@naver.com',\n",
    "    'smtp_user_pw': '',\n",
    "    'smtp_port': 587\n",
    "})\n",
    "\n",
    "msg_dict = {\n",
    "    # text형식의 첨부파일\n",
    "    'text': {\n",
    "        'maintype': 'text',\n",
    "        'subtype': 'plain',\n",
    "        'filename': 'email/test.txt'\n",
    "    },\n",
    "    # image형식의 첨부파일\n",
    "    'image': {\n",
    "        'maintype': 'image',\n",
    "        'subtype': 'jfif',\n",
    "        'filename': 'email/보노보노.jfif'\n",
    "    },\n",
    "    # pdf형식의 첨부파일\n",
    "    'application': {\n",
    "        'maintype': 'application',\n",
    "        'subtype': 'octect-stream',\n",
    "        'filename': 'email/test.pdf'\n",
    "    }  \n",
    "}\n",
    "\n",
    "# 메일 전송\n",
    "title = '첨부파일 포함하여 메일보내기'\n",
    "content = '첨부파일을 확인해보세요.'\n",
    "sender = smtp_info['smtp_user_id']\n",
    "receiver = smtp_info['smtp_user_id']\n",
    "\n",
    "msg = MIMEText(_text = content, _charset = 'utf-8')\n",
    "\n",
    "# 파일 첨부\n",
    "multi = make_multimsg(msg_dict)\n",
    "multi['Subject'] = title\n",
    "multi['From'] = sender\n",
    "multi['To'] = receiver\n",
    "multi.attach(msg)\n",
    "\n",
    "send_email(smtp_info, multi)"
   ]
  },
  {
   "cell_type": "code",
   "execution_count": null,
   "id": "7162ccdf",
   "metadata": {},
   "outputs": [],
   "source": []
  }
 ],
 "metadata": {
  "kernelspec": {
   "display_name": "Python 3",
   "language": "python",
   "name": "python3"
  },
  "language_info": {
   "codemirror_mode": {
    "name": "ipython",
    "version": 3
   },
   "file_extension": ".py",
   "mimetype": "text/x-python",
   "name": "python",
   "nbconvert_exporter": "python",
   "pygments_lexer": "ipython3",
   "version": "3.8.8"
  }
 },
 "nbformat": 4,
 "nbformat_minor": 5
}
