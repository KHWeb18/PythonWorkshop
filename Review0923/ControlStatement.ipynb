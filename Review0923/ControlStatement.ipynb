{
 "cells": [
  {
   "cell_type": "code",
   "execution_count": 1,
   "id": "44f7b552",
   "metadata": {},
   "outputs": [
    {
     "name": "stdout",
     "output_type": "stream",
     "text": [
      "val is bigger than 5\n"
     ]
    }
   ],
   "source": [
    "val = 10\n",
    "\n",
    "if val > 5:\n",
    "    print('val is bigger than 5')"
   ]
  },
  {
   "cell_type": "code",
   "execution_count": 2,
   "id": "772e92cb",
   "metadata": {},
   "outputs": [
    {
     "name": "stdout",
     "output_type": "stream",
     "text": [
      "val is bigger than 5\n"
     ]
    }
   ],
   "source": [
    "# 파이썬은 {}을 사용하지 않으므로 탭으로 구분, 탭을 잘 사용해야 함\n",
    "val = 1 \n",
    "if val > 5:\n",
    "    print('test')\n",
    "\n",
    "print('val is bigger than 5')"
   ]
  },
  {
   "cell_type": "code",
   "execution_count": 3,
   "id": "7f18cda7",
   "metadata": {},
   "outputs": [
    {
     "name": "stdout",
     "output_type": "stream",
     "text": [
      "banana\n"
     ]
    }
   ],
   "source": [
    "money = 10\n",
    "\n",
    "if money > 100:\n",
    "    item = 'apple'\n",
    "else: \n",
    "    item = 'banana'\n",
    "    \n",
    "print(item)"
   ]
  },
  {
   "cell_type": "code",
   "execution_count": 4,
   "id": "d55c2ee3",
   "metadata": {},
   "outputs": [
    {
     "name": "stdout",
     "output_type": "stream",
     "text": [
      "Input Score: 95\n",
      "등급: A\n"
     ]
    }
   ],
   "source": [
    "score = int(input(('Input Score: ')))\n",
    "\n",
    "if 90 <= score <= 100:\n",
    "    grade = 'A'\n",
    "elif 80 <= score < 90:\n",
    "    grade = 'B'\n",
    "elif 70 <= score < 80:\n",
    "    grade = 'C'\n",
    "elif 60 <= score < 70:\n",
    "    grade = 'D'\n",
    "else: \n",
    "    grade = 'F'\n",
    "    \n",
    "print('등급: ' + grade)"
   ]
  },
  {
   "cell_type": "code",
   "execution_count": 5,
   "id": "8fd4c8fb",
   "metadata": {},
   "outputs": [
    {
     "name": "stdout",
     "output_type": "stream",
     "text": [
      "수학점수: 40\n",
      "영어점수: 95\n",
      "국사점수: 75\n",
      "탈락\n"
     ]
    }
   ],
   "source": [
    "# Quiz\n",
    "# 수학, 영어, 국사 각각의 점수를 입력하여 평균이 60점 미만이고,\n",
    "# 각 과목의 점수들이 50점 미만인 경우 탈락처리\n",
    "\n",
    "math = int(input(('수학점수: ')))\n",
    "english = int(input(('영어점수: ')))\n",
    "history = int(input(('국사점수: ')))\n",
    "\n",
    "mean = (math + english + history) / 3\n",
    "\n",
    "if mean >=60 and math >= 50 and english >= 50 and history >= 50:\n",
    "    print('통과')\n",
    "else: \n",
    "    print('탈락')"
   ]
  },
  {
   "cell_type": "code",
   "execution_count": 6,
   "id": "a5a22a30",
   "metadata": {},
   "outputs": [
    {
     "name": "stdout",
     "output_type": "stream",
     "text": [
      "5\n",
      "4\n",
      "3\n",
      "2\n",
      "1\n"
     ]
    }
   ],
   "source": [
    "val = 5\n",
    "\n",
    "while val > 0:\n",
    "    print(val)\n",
    "    val -= 1"
   ]
  },
  {
   "cell_type": "code",
   "execution_count": 7,
   "id": "955e6001",
   "metadata": {},
   "outputs": [
    {
     "name": "stdout",
     "output_type": "stream",
     "text": [
      "apple <class 'str'>\n",
      "100 <class 'int'>\n",
      "15.3 <class 'float'>\n"
     ]
    }
   ],
   "source": [
    "# 리스트에는 여러 타입의 값을 넣을 수 있음\n",
    "lists = ['apple', 100, 15.3]\n",
    "\n",
    "for i in lists:\n",
    "    print(i, type(i))"
   ]
  },
  {
   "cell_type": "code",
   "execution_count": 8,
   "id": "ea65f357",
   "metadata": {},
   "outputs": [
    {
     "name": "stdout",
     "output_type": "stream",
     "text": [
      "item: 1\n",
      "item: 2\n",
      "item: 3\n",
      "item: 4\n",
      "item: 5\n"
     ]
    }
   ],
   "source": [
    "numList = [1, 2, 3, 4, 5, 6, 7, 8, 9, 10]\n",
    "\n",
    "# break 사용하기\n",
    "for i in numList:\n",
    "    if i > 5:\n",
    "        break\n",
    "    print('item: {0}'.format(i))"
   ]
  },
  {
   "cell_type": "code",
   "execution_count": 9,
   "id": "195ad9df",
   "metadata": {},
   "outputs": [
    {
     "name": "stdout",
     "output_type": "stream",
     "text": [
      "item: 1\n",
      "item: 3\n",
      "item: 5\n",
      "item: 7\n",
      "item: 9\n"
     ]
    }
   ],
   "source": [
    "# continue 사용하기\n",
    "for i in numList:\n",
    "    if i % 2 == 0:\n",
    "        continue\n",
    "    print('item: {0}'.format(i))"
   ]
  },
  {
   "cell_type": "code",
   "execution_count": 11,
   "id": "b189a6f2",
   "metadata": {},
   "outputs": [
    {
     "name": "stdout",
     "output_type": "stream",
     "text": [
      "[0, 1, 2, 3, 4, 5, 6, 7, 8, 9]\n"
     ]
    }
   ],
   "source": [
    "# range: 숫자 생성 함수\n",
    "# 0부터 10번째 까지\n",
    "print(list(range(10)))"
   ]
  },
  {
   "cell_type": "code",
   "execution_count": 12,
   "id": "5236c633",
   "metadata": {},
   "outputs": [
    {
     "name": "stdout",
     "output_type": "stream",
     "text": [
      "[5, 6, 7, 8, 9]\n"
     ]
    }
   ],
   "source": [
    "# 5부터 시작하여 10번째 까지\n",
    "print(list(range(5, 10)))"
   ]
  },
  {
   "cell_type": "code",
   "execution_count": 13,
   "id": "65356934",
   "metadata": {},
   "outputs": [
    {
     "name": "stdout",
     "output_type": "stream",
     "text": [
      "[10, 9, 8, 7, 6, 5, 4, 3, 2, 1]\n"
     ]
    }
   ],
   "source": [
    "# 10부터 0까지 1씩 감소\n",
    "print(list(range(10, 0 ,-1)))"
   ]
  },
  {
   "cell_type": "code",
   "execution_count": 14,
   "id": "eafd5b66",
   "metadata": {},
   "outputs": [
    {
     "name": "stdout",
     "output_type": "stream",
     "text": [
      "[10, 12, 14, 16, 18]\n"
     ]
    }
   ],
   "source": [
    "# 10부터 20까지 2씩 증가\n",
    "print(list(range(10, 20, 2)))"
   ]
  },
  {
   "cell_type": "code",
   "execution_count": 15,
   "id": "e5e63575",
   "metadata": {},
   "outputs": [
    {
     "name": "stdout",
     "output_type": "stream",
     "text": [
      "[1, 2, 3, 4, 5, 6, 7, 8, 9, 10]\n"
     ]
    }
   ],
   "source": [
    "numList = list(range(1, 11))\n",
    "\n",
    "print(numList)"
   ]
  },
  {
   "cell_type": "code",
   "execution_count": 16,
   "id": "79f8278f",
   "metadata": {},
   "outputs": [
    {
     "name": "stdout",
     "output_type": "stream",
     "text": [
      "idx: 0, val: apple\n",
      "idx: 1, val: orange\n",
      "idx: 2, val: grape\n",
      "idx: 3, val: banana\n"
     ]
    }
   ],
   "source": [
    "strList = ['apple', 'orange', 'grape', 'banana']\n",
    "\n",
    "# len: 값의 길이 or 개수\n",
    "for i in range(len(strList)):\n",
    "    # {0}은 자바에서 %d와 같은 역할,\n",
    "    # {0}은 format의 첫 번째, {1}은 format의 두 번째와 맵핑\n",
    "    print('idx: {0}, val: {1}'.format(i, strList[i]))"
   ]
  },
  {
   "cell_type": "code",
   "execution_count": 17,
   "id": "48cbcf49",
   "metadata": {},
   "outputs": [
    {
     "name": "stdout",
     "output_type": "stream",
     "text": [
      "(0, 100)\n",
      "(1, 33.7)\n",
      "(2, 'apple')\n"
     ]
    }
   ],
   "source": [
    "# enumerate: 리스트의 인덱스와 값\n",
    "varList = [100, 33.7, 'apple']\n",
    "\n",
    "for i in enumerate(varList):\n",
    "    print(i)"
   ]
  },
  {
   "cell_type": "code",
   "execution_count": 19,
   "id": "6c7bb3ab",
   "metadata": {},
   "outputs": [
    {
     "name": "stdout",
     "output_type": "stream",
     "text": [
      "[4.5, -1.5, 12, 6.0, -2.0, 16, 7.5, -2.5, 20] <class 'list'>\n"
     ]
    }
   ],
   "source": [
    "numList1 = [3, 4, 5]\n",
    "numList2 = [1.5, -0.5, 4]\n",
    "\n",
    "resLists = [x * y for x in numList1 for y in numList2]\n",
    "\n",
    "print(resLists, type(resLists))"
   ]
  },
  {
   "cell_type": "code",
   "execution_count": null,
   "id": "5a7e13d8",
   "metadata": {},
   "outputs": [],
   "source": []
  }
 ],
 "metadata": {
  "kernelspec": {
   "display_name": "Python 3",
   "language": "python",
   "name": "python3"
  },
  "language_info": {
   "codemirror_mode": {
    "name": "ipython",
    "version": 3
   },
   "file_extension": ".py",
   "mimetype": "text/x-python",
   "name": "python",
   "nbconvert_exporter": "python",
   "pygments_lexer": "ipython3",
   "version": "3.8.8"
  }
 },
 "nbformat": 4,
 "nbformat_minor": 5
}
