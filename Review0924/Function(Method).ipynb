{
 "cells": [
  {
   "cell_type": "code",
   "execution_count": 1,
   "id": "a04dfcba",
   "metadata": {},
   "outputs": [
    {
     "name": "stdout",
     "output_type": "stream",
     "text": [
      "<function times at 0x00000202D159F160>\n",
      "100\n",
      "<class 'function'>\n"
     ]
    }
   ],
   "source": [
    "# 자바와 다르게 파라미터 타입, 리턴 타입을 명시하지 않음\n",
    "def times(a, b):\n",
    "    return a * b\n",
    "\n",
    "print(times)\n",
    "print(times(10, 10))\n",
    "print(type(times))"
   ]
  },
  {
   "cell_type": "code",
   "execution_count": 2,
   "id": "6324c621",
   "metadata": {},
   "outputs": [
    {
     "name": "stdout",
     "output_type": "stream",
     "text": [
      "{'__name__': '__main__', '__doc__': 'Automatically created module for IPython interactive environment', '__package__': None, '__loader__': None, '__spec__': None, '__builtin__': <module 'builtins' (built-in)>, '__builtins__': <module 'builtins' (built-in)>, '_ih': ['', 'def times(a, b):\\n    return a * b\\n\\nprint(times)\\nprint(times(10, 10))\\nprint(type(times))', '# globals: 내장된 함수, 작성한 함수가 모두 출력\\nprint(globals())'], '_oh': {}, '_dh': ['C:\\\\Users\\\\jaqkq\\\\python_works\\\\PythonWorkshop\\\\Review0924'], 'In': ['', 'def times(a, b):\\n    return a * b\\n\\nprint(times)\\nprint(times(10, 10))\\nprint(type(times))', '# globals: 내장된 함수, 작성한 함수가 모두 출력\\nprint(globals())'], 'Out': {}, 'get_ipython': <bound method InteractiveShell.get_ipython of <ipykernel.zmqshell.ZMQInteractiveShell object at 0x00000202D14D1850>>, 'exit': <IPython.core.autocall.ZMQExitAutocall object at 0x00000202D1543640>, 'quit': <IPython.core.autocall.ZMQExitAutocall object at 0x00000202D1543640>, '_': '', '__': '', '___': '', '_i': 'def times(a, b):\\n    return a * b\\n\\nprint(times)\\nprint(times(10, 10))\\nprint(type(times))', '_ii': '', '_iii': '', '_i1': 'def times(a, b):\\n    return a * b\\n\\nprint(times)\\nprint(times(10, 10))\\nprint(type(times))', 'times': <function times at 0x00000202D159F160>, '_i2': '# globals: 내장된 함수, 작성한 함수가 모두 출력\\nprint(globals())'}\n"
     ]
    }
   ],
   "source": [
    "# globals: 내장된 함수, 작성한 함수가 모두 출력\n",
    "print(globals())"
   ]
  },
  {
   "cell_type": "code",
   "execution_count": 3,
   "id": "45c14ec0",
   "metadata": {},
   "outputs": [
    {
     "name": "stdout",
     "output_type": "stream",
     "text": [
      "100\n"
     ]
    }
   ],
   "source": [
    "# pointerOfFunction에는 times 함수의 주소값(0x00000202D159F160)이 저장\n",
    "pointerOfFunction = times\n",
    "res = pointerOfFunction(10, 10)\n",
    "\n",
    "print(res)"
   ]
  },
  {
   "cell_type": "code",
   "execution_count": 4,
   "id": "0359cc8b",
   "metadata": {},
   "outputs": [
    {
     "name": "stdout",
     "output_type": "stream",
     "text": [
      "😊😘\n"
     ]
    }
   ],
   "source": [
    "def test():\n",
    "    return \"😊😘\"\n",
    "\n",
    "pointerOfFunction = test\n",
    "res = pointerOfFunction()\n",
    "\n",
    "print(res)"
   ]
  },
  {
   "cell_type": "code",
   "execution_count": 5,
   "id": "3ab47fac",
   "metadata": {},
   "outputs": [
    {
     "name": "stdout",
     "output_type": "stream",
     "text": [
      "['a', 'p', 'p', 'e']\n"
     ]
    }
   ],
   "source": [
    "def intersect(prelist, postlist):\n",
    "    retList = []\n",
    "    \n",
    "    for x in prelist: \n",
    "        if x in postlist:\n",
    "            retList.append(x)\n",
    "            \n",
    "    return retList\n",
    "\n",
    "list1 = 'apple'\n",
    "list2 = 'grape'\n",
    "\n",
    "print(intersect(list1, list2))"
   ]
  },
  {
   "cell_type": "code",
   "execution_count": 6,
   "id": "360a2d9d",
   "metadata": {},
   "outputs": [
    {
     "name": "stdout",
     "output_type": "stream",
     "text": [
      "['l']\n"
     ]
    }
   ],
   "source": [
    "print(intersect(list1, ['l', 'm', 'n']))"
   ]
  },
  {
   "cell_type": "code",
   "execution_count": 9,
   "id": "5fbd83a6",
   "metadata": {},
   "outputs": [
    {
     "name": "stdout",
     "output_type": "stream",
     "text": [
      "(7, 3)\n"
     ]
    }
   ],
   "source": [
    "def swap(x, y): \n",
    "    return y, x\n",
    "\n",
    "print(swap(3, 7))"
   ]
  },
  {
   "cell_type": "code",
   "execution_count": 10,
   "id": "5f487da9",
   "metadata": {},
   "outputs": [
    {
     "name": "stdout",
     "output_type": "stream",
     "text": [
      "77\n",
      "33\n"
     ]
    }
   ],
   "source": [
    "a, b = swap(33, 77)\n",
    "\n",
    "print(a)\n",
    "print(b)"
   ]
  },
  {
   "cell_type": "code",
   "execution_count": 11,
   "id": "84febf1d",
   "metadata": {},
   "outputs": [
    {
     "name": "stdout",
     "output_type": "stream",
     "text": [
      "(777, 333)\n",
      "<class 'tuple'>\n"
     ]
    }
   ],
   "source": [
    "# tuple(튜플)은 변경 불가능한 리스트(= const)\n",
    "x = swap(333, 777)\n",
    "\n",
    "print(x)\n",
    "print(type(x))"
   ]
  },
  {
   "cell_type": "code",
   "execution_count": 12,
   "id": "29e4aa17",
   "metadata": {},
   "outputs": [
    {
     "name": "stdout",
     "output_type": "stream",
     "text": [
      "30\n"
     ]
    }
   ],
   "source": [
    "a = 10\n",
    "b = 20\n",
    "\n",
    "def mysum(x, y):\n",
    "    return x + y\n",
    "\n",
    "print(mysum(a, b))"
   ]
  },
  {
   "cell_type": "code",
   "execution_count": 13,
   "id": "e9f30958",
   "metadata": {},
   "outputs": [
    {
     "name": "stdout",
     "output_type": "stream",
     "text": [
      "11\n",
      "10\n"
     ]
    }
   ],
   "source": [
    "x = 10\n",
    "\n",
    "def mysum2(x, y):\n",
    "    # x = 10, y = 10이 들어왔지만 x = 1 로 선언되었기 때문에 11이 나옴\n",
    "    x = 1\n",
    "    return x + y\n",
    "\n",
    "print(mysum2(x, x))\n",
    "print(x)"
   ]
  },
  {
   "cell_type": "code",
   "execution_count": 14,
   "id": "9eee0fa5",
   "metadata": {},
   "outputs": [
    {
     "name": "stdout",
     "output_type": "stream",
     "text": [
      "1\n",
      "10\n",
      "7\n"
     ]
    }
   ],
   "source": [
    "glob = 1\n",
    "print(glob)\n",
    "\n",
    "def exch_scope(x):\n",
    "    # global: 해당 변수를 지역변수가 아닌 전역변수로 사용\n",
    "    global glob\n",
    "    glob = 7\n",
    "    return glob + x\n",
    "\n",
    "print(exch_scope(3))\n",
    "print(glob)"
   ]
  },
  {
   "cell_type": "code",
   "execution_count": 15,
   "id": "db0149af",
   "metadata": {},
   "outputs": [
    {
     "name": "stdout",
     "output_type": "stream",
     "text": [
      "6\n"
     ]
    }
   ],
   "source": [
    "# lambda: def 함수를 더 간단하게\n",
    "g = lambda x, y: x * y\n",
    "\n",
    "print(g(2,3))"
   ]
  },
  {
   "cell_type": "code",
   "execution_count": 16,
   "id": "93275967",
   "metadata": {},
   "outputs": [
    {
     "name": "stdout",
     "output_type": "stream",
     "text": [
      "9\n"
     ]
    }
   ],
   "source": [
    "# 아래와 같이 변수 없이 작성하면 익명 함수가 됨\n",
    "print((lambda x: x * x)(3))"
   ]
  },
  {
   "cell_type": "code",
   "execution_count": 17,
   "id": "1d1dba7a",
   "metadata": {},
   "outputs": [
    {
     "name": "stdout",
     "output_type": "stream",
     "text": [
      "1\n",
      "2\n",
      "4\n"
     ]
    }
   ],
   "source": [
    "for i in range(1, 5):\n",
    "    if (i == 3):\n",
    "        # pass: continue와 유사한 기능\n",
    "        pass\n",
    "    else:\n",
    "        print(i)"
   ]
  },
  {
   "cell_type": "code",
   "execution_count": 18,
   "id": "72754aa1",
   "metadata": {},
   "outputs": [
    {
     "name": "stdout",
     "output_type": "stream",
     "text": [
      "0 1\n",
      "1 1\n",
      "2 2\n",
      "3 3\n",
      "4 5\n",
      "5 8\n",
      "6 13\n",
      "7 21\n",
      "8 34\n",
      "9 55\n",
      "10 89\n",
      "11 144\n",
      "12 233\n",
      "13 377\n",
      "14 610\n",
      "15 987\n",
      "16 1597\n",
      "17 2584\n",
      "18 4181\n",
      "19 6765\n"
     ]
    }
   ],
   "source": [
    "# 피보나치수열(yield 사용)\n",
    "\n",
    "def fib():\n",
    "    # 아래는 다음과 같음 a = 1, b = 1\n",
    "    a, b = 1, 1\n",
    "    \n",
    "    # while 1: 0이 아니면 모두 참이므로 무한루프\n",
    "    while 1:\n",
    "        # yield: 현재 실행 스택 메모리를 유지하면서 결과값을 호출한 곳에 돌려줌\n",
    "        yield a\n",
    "        # 아래는 다음과 같음 a = b, b = a + b\n",
    "        a, b = b, a + b\n",
    "        \n",
    "for i, ret in enumerate(fib()):\n",
    "    if i < 20:\n",
    "        print(i, ret)\n",
    "    else: \n",
    "        break"
   ]
  },
  {
   "cell_type": "code",
   "execution_count": 19,
   "id": "c0195098",
   "metadata": {},
   "outputs": [
    {
     "name": "stdout",
     "output_type": "stream",
     "text": [
      "6765\n"
     ]
    }
   ],
   "source": [
    "# 피보나치수열(yield 사용 x)\n",
    "def fib2(n):\n",
    "    if n < 2:\n",
    "        return n\n",
    "    else: \n",
    "        return fib2(n - 1) + fib2(n - 2)\n",
    "    \n",
    "print(fib2(20))"
   ]
  },
  {
   "cell_type": "code",
   "execution_count": null,
   "id": "a37eef0b",
   "metadata": {},
   "outputs": [],
   "source": []
  }
 ],
 "metadata": {
  "kernelspec": {
   "display_name": "Python 3",
   "language": "python",
   "name": "python3"
  },
  "language_info": {
   "codemirror_mode": {
    "name": "ipython",
    "version": 3
   },
   "file_extension": ".py",
   "mimetype": "text/x-python",
   "name": "python",
   "nbconvert_exporter": "python",
   "pygments_lexer": "ipython3",
   "version": "3.8.8"
  }
 },
 "nbformat": 4,
 "nbformat_minor": 5
}
