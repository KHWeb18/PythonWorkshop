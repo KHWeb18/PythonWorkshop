{
 "cells": [
  {
   "cell_type": "code",
   "execution_count": 39,
   "id": "6efe845c",
   "metadata": {},
   "outputs": [
    {
     "name": "stdout",
     "output_type": "stream",
     "text": [
      "Python 3.8.8\n"
     ]
    }
   ],
   "source": [
    "!python --version"
   ]
  },
  {
   "cell_type": "code",
   "execution_count": 40,
   "id": "2f75e2c9",
   "metadata": {},
   "outputs": [],
   "source": [
    "from flask import Flask, url_for, request, jsonify #Spring같은거.. Axios가 아님\n",
    "from flask_cors import CORS, cross_origin #cross origin 문제 해결\n",
    "\n",
    "import json"
   ]
  },
  {
   "cell_type": "code",
   "execution_count": null,
   "id": "fc9274d8",
   "metadata": {},
   "outputs": [
    {
     "name": "stdout",
     "output_type": "stream",
     "text": [
      " * Serving Flask app \"__main__\" (lazy loading)\n",
      " * Environment: production\n",
      "   WARNING: This is a development server. Do not use it in a production deployment.\n",
      "   Use a production WSGI server instead.\n",
      " * Debug mode: off\n"
     ]
    },
    {
     "name": "stderr",
     "output_type": "stream",
     "text": [
      " * Running on http://127.0.0.1:5000/ (Press CTRL+C to quit)\n",
      "<ipython-input-49-81d451c139c7>:33: DeprecationWarning: 'encoding' is ignored and deprecated. It will be removed in Python 3.9\n",
      "  params = json.loads(request.get_data(), encoding='utf-8')\n",
      "127.0.0.1 - - [04/Oct/2021 23:50:48] \"\u001b[37mPOST /spring2pythonRequestWithData HTTP/1.1\u001b[0m\" 200 -\n"
     ]
    },
    {
     "name": "stdout",
     "output_type": "stream",
     "text": [
      "request:  b'{\"cost\":35000}'\n",
      "request: b'{\"cost\":35000}'\n",
      "tmp:  b\"{\"cost\":35000}\n",
      "tmp2:  {\"cost\":35000}\n",
      "tmp3:  {\"cost\":35000}\n",
      "params:  {'cost': 35000}\n"
     ]
    }
   ],
   "source": [
    "app = Flask(__name__)\n",
    "CORS(app)\n",
    "\n",
    "@app.route('/spring2pythonRequest', methods = ['GET', 'POST'])\n",
    "def spring2pythonRequest():\n",
    "    data = {\"success\": True}\n",
    "    \n",
    "    return jsonify(data)\n",
    "\n",
    "@app.route('/spring2pythonRequestMulti', methods = ['GET', 'POST'])\n",
    "def spring2pythonRequestMulti():\n",
    "    data = {\"success\": True}\n",
    "    \n",
    "    data[\"userId\"] = \"jack\"\n",
    "    data[\"userEmail\"] = \"jack222@naver.com\"\n",
    "    \n",
    "    return jsonify(data)\n",
    "\n",
    "@app.route('/spring2pythonRequestWithData', methods = ['GET', 'POST'])\n",
    "def spring2pythonRequestWithData():\n",
    "    print(\"request: \", request.get_data())\n",
    "    print(\"request: \" + str(request.get_data()))\n",
    "\n",
    "    tmp = str(request.get_data()).strip(\"'<>() \").replace('\\'', '\\\"')\n",
    "    print(\"tmp: \", tmp)\n",
    "    \n",
    "    tmp2 = request.get_data().decode('utf-8').replace('\\0', '')\n",
    "    print(\"tmp2: \", tmp2)\n",
    "    \n",
    "    tmp3 = request.get_data().decode('utf8').replace(\"'\", '\"')\n",
    "    print(\"tmp3: \", tmp3)\n",
    "    \n",
    "    params = json.loads(request.get_data(), encoding='utf-8')\n",
    "    print(\"params: \", params)\n",
    "    \n",
    "    if len(params) == 0:\n",
    "        return jsonify(\"No Parameter\")\n",
    "    \n",
    "    params_string = \"\"\n",
    "    for key in params.keys():\n",
    "        params_string += 'key: {}, value: {}<br>'.format(key, params[key])\n",
    "    \n",
    "    return jsonify(params_string)\n",
    "\n",
    "if __name__ == \"__main__\":\n",
    "    app.run()"
   ]
  },
  {
   "cell_type": "code",
   "execution_count": null,
   "id": "961f6d0b",
   "metadata": {},
   "outputs": [],
   "source": []
  }
 ],
 "metadata": {
  "kernelspec": {
   "display_name": "Python 3",
   "language": "python",
   "name": "python3"
  },
  "language_info": {
   "codemirror_mode": {
    "name": "ipython",
    "version": 3
   },
   "file_extension": ".py",
   "mimetype": "text/x-python",
   "name": "python",
   "nbconvert_exporter": "python",
   "pygments_lexer": "ipython3",
   "version": "3.8.8"
  }
 },
 "nbformat": 4,
 "nbformat_minor": 5
}
