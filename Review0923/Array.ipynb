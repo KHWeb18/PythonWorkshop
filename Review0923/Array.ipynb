{
 "cells": [
  {
   "cell_type": "code",
   "execution_count": 1,
   "id": "4f99b66a",
   "metadata": {},
   "outputs": [
    {
     "name": "stdout",
     "output_type": "stream",
     "text": [
      "testpython\n"
     ]
    }
   ],
   "source": [
    "# 홑따옴표, 쌍따옴표 가리지 않음\n",
    "testStr = 'test' + \"python\"\n",
    "print(testStr)"
   ]
  },
  {
   "cell_type": "code",
   "execution_count": 2,
   "id": "2bbc51d0",
   "metadata": {},
   "outputs": [
    {
     "name": "stdout",
     "output_type": "stream",
     "text": [
      "pointer\n",
      "p\n",
      "n\n"
     ]
    }
   ],
   "source": [
    "# [0] [1] [2] [3] [4] [5] [6]\n",
    "#  p   o   i   n   t   e   r\n",
    "str1 = 'pointer'\n",
    "print(str1)\n",
    "print(str1[0])\n",
    "print(str1[3])"
   ]
  },
  {
   "cell_type": "code",
   "execution_count": 3,
   "id": "227e82cf",
   "metadata": {},
   "outputs": [
    {
     "name": "stdout",
     "output_type": "stream",
     "text": [
      "p\n"
     ]
    }
   ],
   "source": [
    "# [0:1] -> 0 ~ 1 미만\n",
    "# 배열의 인덱스에 소수점이 있을 수 없으므로 0\n",
    "print(str1[0:1])"
   ]
  },
  {
   "cell_type": "code",
   "execution_count": 4,
   "id": "fe6d29bf",
   "metadata": {},
   "outputs": [
    {
     "name": "stdout",
     "output_type": "stream",
     "text": [
      "oin\n"
     ]
    }
   ],
   "source": [
    "# 1 ~ 4 미만\n",
    "print(str1[1:4])"
   ]
  },
  {
   "cell_type": "code",
   "execution_count": 5,
   "id": "5d60084a",
   "metadata": {},
   "outputs": [
    {
     "name": "stdout",
     "output_type": "stream",
     "text": [
      "po\n"
     ]
    }
   ],
   "source": [
    "# 0 ~ 2 미만 \n",
    "# 빈 칸인 경우 자동으로 0\n",
    "print(str1[:2])"
   ]
  },
  {
   "cell_type": "code",
   "execution_count": 6,
   "id": "b757927a",
   "metadata": {},
   "outputs": [
    {
     "name": "stdout",
     "output_type": "stream",
     "text": [
      "er\n"
     ]
    }
   ],
   "source": [
    "# 마이너스의 경우 뒤에서 부터\n",
    "print(str1[-2:])"
   ]
  },
  {
   "cell_type": "code",
   "execution_count": 7,
   "id": "05dd0276",
   "metadata": {},
   "outputs": [
    {
     "name": "stdout",
     "output_type": "stream",
     "text": [
      "pointer\n"
     ]
    }
   ],
   "source": [
    "# 전부 빈 칸인 경우 처음부터 끝까지\n",
    "print(str1[:])"
   ]
  },
  {
   "cell_type": "code",
   "execution_count": 8,
   "id": "3bc24714",
   "metadata": {},
   "outputs": [
    {
     "name": "stdout",
     "output_type": "stream",
     "text": [
      "pitr\n"
     ]
    }
   ],
   "source": [
    "# 0부터 시작하여 2칸씩 건너뛰기\n",
    "print(str1[::2])"
   ]
  },
  {
   "cell_type": "code",
   "execution_count": 9,
   "id": "93dbbd97",
   "metadata": {},
   "outputs": [
    {
     "name": "stdout",
     "output_type": "stream",
     "text": [
      "3.14\n",
      "<class 'str'>\n",
      "77\n",
      "<class 'int'>\n",
      "33.0\n",
      "<class 'float'>\n"
     ]
    }
   ],
   "source": [
    "makeStr = str(3.14)\n",
    "intStr = int('77')\n",
    "floatStr = float('33')\n",
    "\n",
    "print(makeStr)\n",
    "print(type(makeStr))\n",
    "print(intStr)\n",
    "print(type(intStr))\n",
    "print(floatStr)\n",
    "print(type(floatStr))"
   ]
  },
  {
   "cell_type": "code",
   "execution_count": 10,
   "id": "5232455c",
   "metadata": {},
   "outputs": [
    {
     "name": "stdout",
     "output_type": "stream",
     "text": [
      "['red', 'green', 'blue']\n",
      "<class 'list'>\n"
     ]
    }
   ],
   "source": [
    "# Array 계열의 리스트\n",
    "colors = ['red', 'green', 'blue']\n",
    "\n",
    "print(colors)\n",
    "print(type(colors))"
   ]
  },
  {
   "cell_type": "code",
   "execution_count": 12,
   "id": "a91b885a",
   "metadata": {},
   "outputs": [
    {
     "name": "stdout",
     "output_type": "stream",
     "text": [
      "['red', 'green', 'blue', 'gold', 'gold']\n"
     ]
    }
   ],
   "source": [
    "# append: 맨 뒤에 리스트 추가\n",
    "colors.append('gold')\n",
    "\n",
    "print(colors)"
   ]
  },
  {
   "cell_type": "code",
   "execution_count": 13,
   "id": "56dee0e5",
   "metadata": {},
   "outputs": [
    {
     "name": "stdout",
     "output_type": "stream",
     "text": [
      "['red', 'black', 'green', 'blue', 'gold', 'gold']\n"
     ]
    }
   ],
   "source": [
    "# insert: 원하는 위치에 리스트 추가\n",
    "colors.insert(1, 'black')\n",
    "\n",
    "print(colors)"
   ]
  },
  {
   "cell_type": "code",
   "execution_count": 14,
   "id": "18b6b11a",
   "metadata": {},
   "outputs": [
    {
     "name": "stdout",
     "output_type": "stream",
     "text": [
      "['red', 'black', 'green', 'blue', 'gold', 'gold', 'white', 'gray']\n"
     ]
    }
   ],
   "source": [
    "extension_colors = ['white', 'gray']\n",
    "\n",
    "# extend: 리스트와 리스트를 병합\n",
    "colors.extend(extension_colors)\n",
    "\n",
    "print(colors)"
   ]
  },
  {
   "cell_type": "code",
   "execution_count": 15,
   "id": "ecfbec29",
   "metadata": {},
   "outputs": [
    {
     "name": "stdout",
     "output_type": "stream",
     "text": [
      "['red', 'black', 'green', 'blue', 'gold', 'gold', 'white', 'gray', 'purple', 'red']\n"
     ]
    }
   ],
   "source": [
    "# 이것도 가능은 함\n",
    "colors += ['purple']\n",
    "colors += ['red']\n",
    "\n",
    "print(colors)"
   ]
  },
  {
   "cell_type": "code",
   "execution_count": 16,
   "id": "20331c4b",
   "metadata": {},
   "outputs": [
    {
     "name": "stdout",
     "output_type": "stream",
     "text": [
      "8\n"
     ]
    }
   ],
   "source": [
    "# index: 인덱스 번호를 찾아줌\n",
    "print(colors.index('purple'))"
   ]
  },
  {
   "cell_type": "code",
   "execution_count": 17,
   "id": "cadbf5a1",
   "metadata": {},
   "outputs": [
    {
     "name": "stdout",
     "output_type": "stream",
     "text": [
      "0\n"
     ]
    }
   ],
   "source": [
    "# 중복된 값이 있을 경우 앞의 값만 찾아줌\n",
    "print(colors.index('red'))"
   ]
  },
  {
   "cell_type": "code",
   "execution_count": 18,
   "id": "97393a64",
   "metadata": {},
   "outputs": [
    {
     "name": "stdout",
     "output_type": "stream",
     "text": [
      "9\n"
     ]
    }
   ],
   "source": [
    "# 인덱스 번호 1번 부터 찾아줌\n",
    "print(colors.index('red', 1))"
   ]
  },
  {
   "cell_type": "code",
   "execution_count": 19,
   "id": "4b3613e5",
   "metadata": {},
   "outputs": [
    {
     "ename": "ValueError",
     "evalue": "'gray' is not in list",
     "output_type": "error",
     "traceback": [
      "\u001b[1;31m---------------------------------------------------------------------------\u001b[0m",
      "\u001b[1;31mValueError\u001b[0m                                Traceback (most recent call last)",
      "\u001b[1;32m<ipython-input-19-2608085a16a4>\u001b[0m in \u001b[0;36m<module>\u001b[1;34m\u001b[0m\n\u001b[0;32m      1\u001b[0m \u001b[1;31m# 없는 값을 찾으면 오류가 남\u001b[0m\u001b[1;33m\u001b[0m\u001b[1;33m\u001b[0m\u001b[1;33m\u001b[0m\u001b[0m\n\u001b[1;32m----> 2\u001b[1;33m \u001b[0mprint\u001b[0m\u001b[1;33m(\u001b[0m\u001b[0mcolors\u001b[0m\u001b[1;33m.\u001b[0m\u001b[0mindex\u001b[0m\u001b[1;33m(\u001b[0m\u001b[1;34m'gray'\u001b[0m\u001b[1;33m,\u001b[0m \u001b[1;36m8\u001b[0m\u001b[1;33m)\u001b[0m\u001b[1;33m)\u001b[0m\u001b[1;33m\u001b[0m\u001b[1;33m\u001b[0m\u001b[0m\n\u001b[0m",
      "\u001b[1;31mValueError\u001b[0m: 'gray' is not in list"
     ]
    }
   ],
   "source": [
    "# 없는 값을 찾으면 오류가 남\n",
    "print(colors.index('gray', 8))"
   ]
  },
  {
   "cell_type": "code",
   "execution_count": 20,
   "id": "92e72393",
   "metadata": {},
   "outputs": [
    {
     "name": "stdout",
     "output_type": "stream",
     "text": [
      "3\n"
     ]
    }
   ],
   "source": [
    "# 2 ~ 5번 사이의 값을 찾아줌\n",
    "print(colors.index('blue', 2, 5))"
   ]
  },
  {
   "cell_type": "code",
   "execution_count": 21,
   "id": "120afbf9",
   "metadata": {},
   "outputs": [
    {
     "name": "stdout",
     "output_type": "stream",
     "text": [
      "2\n"
     ]
    }
   ],
   "source": [
    "# count: 값의 개수\n",
    "print(colors.count('red'))"
   ]
  },
  {
   "cell_type": "code",
   "execution_count": 22,
   "id": "9c7c83b1",
   "metadata": {},
   "outputs": [
    {
     "name": "stdout",
     "output_type": "stream",
     "text": [
      "red\n"
     ]
    }
   ],
   "source": [
    "# 맨 뒤의 값을 제거\n",
    "print(colors.pop())"
   ]
  },
  {
   "cell_type": "code",
   "execution_count": 23,
   "id": "bdfab87f",
   "metadata": {},
   "outputs": [
    {
     "name": "stdout",
     "output_type": "stream",
     "text": [
      "purple\n"
     ]
    }
   ],
   "source": [
    "print(colors.pop())"
   ]
  },
  {
   "cell_type": "code",
   "execution_count": 24,
   "id": "3e5888ff",
   "metadata": {},
   "outputs": [
    {
     "name": "stdout",
     "output_type": "stream",
     "text": [
      "gray\n"
     ]
    }
   ],
   "source": [
    "print(colors.pop())"
   ]
  },
  {
   "cell_type": "code",
   "execution_count": 25,
   "id": "3e5aaea9",
   "metadata": {},
   "outputs": [
    {
     "name": "stdout",
     "output_type": "stream",
     "text": [
      "white\n"
     ]
    }
   ],
   "source": [
    "print(colors.pop())"
   ]
  },
  {
   "cell_type": "code",
   "execution_count": 26,
   "id": "5f197438",
   "metadata": {},
   "outputs": [
    {
     "name": "stdout",
     "output_type": "stream",
     "text": [
      "gold\n"
     ]
    }
   ],
   "source": [
    "print(colors.pop())"
   ]
  },
  {
   "cell_type": "code",
   "execution_count": 27,
   "id": "0f313fa3",
   "metadata": {},
   "outputs": [
    {
     "name": "stdout",
     "output_type": "stream",
     "text": [
      "['red', 'black', 'green', 'blue', 'gold']\n"
     ]
    }
   ],
   "source": [
    "print(colors)"
   ]
  },
  {
   "cell_type": "code",
   "execution_count": 28,
   "id": "377d3195",
   "metadata": {},
   "outputs": [
    {
     "name": "stdout",
     "output_type": "stream",
     "text": [
      "['red', 'black', 'blue', 'gold']\n"
     ]
    }
   ],
   "source": [
    "# remove: 원하는 값을 제거\n",
    "colors.remove('green')\n",
    "\n",
    "print(colors)"
   ]
  },
  {
   "cell_type": "code",
   "execution_count": 31,
   "id": "a48c82ec",
   "metadata": {},
   "outputs": [
    {
     "name": "stdout",
     "output_type": "stream",
     "text": [
      "['black', 'blue', 'gold', 'red']\n"
     ]
    }
   ],
   "source": [
    "# sort: 알파벳 순으로 정렬\n",
    "colors.sort()\n",
    "\n",
    "print(colors)"
   ]
  },
  {
   "cell_type": "code",
   "execution_count": 32,
   "id": "eba7c8f1",
   "metadata": {},
   "outputs": [
    {
     "name": "stdout",
     "output_type": "stream",
     "text": [
      "['red', 'gold', 'blue', 'black']\n"
     ]
    }
   ],
   "source": [
    "# reverse: 순서를 뒤집음\n",
    "colors.reverse()\n",
    "\n",
    "print(colors)"
   ]
  },
  {
   "cell_type": "code",
   "execution_count": 35,
   "id": "fabd654c",
   "metadata": {},
   "outputs": [
    {
     "name": "stdout",
     "output_type": "stream",
     "text": [
      "{1, 2, 3}\n",
      "{3, 4, 5}\n",
      "<class 'set'> <class 'set'>\n"
     ]
    }
   ],
   "source": [
    "# Array의 또 다른 형태인 Set(집합)\n",
    "a = {1, 2, 3}\n",
    "b = {3, 4, 5}\n",
    "\n",
    "print(a)\n",
    "print(b)\n",
    "print(type(a), type(b))"
   ]
  },
  {
   "cell_type": "code",
   "execution_count": 36,
   "id": "90cffedf",
   "metadata": {},
   "outputs": [
    {
     "name": "stdout",
     "output_type": "stream",
     "text": [
      "{1, 2, 3, 4, 5}\n"
     ]
    }
   ],
   "source": [
    "# union: 합집합\n",
    "print(a.union(b))"
   ]
  },
  {
   "cell_type": "code",
   "execution_count": 37,
   "id": "d4c55c6d",
   "metadata": {},
   "outputs": [
    {
     "name": "stdout",
     "output_type": "stream",
     "text": [
      "{3}\n"
     ]
    }
   ],
   "source": [
    "# intersection: 교집합\n",
    "print(a.intersection(b))"
   ]
  },
  {
   "cell_type": "code",
   "execution_count": 38,
   "id": "f142206a",
   "metadata": {},
   "outputs": [
    {
     "name": "stdout",
     "output_type": "stream",
     "text": [
      "{1, 2}\n",
      "{1, 2, 3, 4, 5}\n",
      "{3}\n",
      "{1, 2, 4, 5}\n"
     ]
    }
   ],
   "source": [
    "# 차집합\n",
    "print(a - b)\n",
    "\n",
    "# 합집합\n",
    "print(a | b)\n",
    "\n",
    "# 교집합\n",
    "print(a & b)\n",
    "\n",
    "# 교집합 제외 나머지\n",
    "print(a ^ b)"
   ]
  },
  {
   "cell_type": "code",
   "execution_count": 39,
   "id": "48bba73c",
   "metadata": {},
   "outputs": [
    {
     "name": "stdout",
     "output_type": "stream",
     "text": [
      "{'a': 1, 'b': 3, 'c': 5}\n",
      "<class 'dict'>\n"
     ]
    }
   ],
   "source": [
    "# dict: json(or HashMap) 형태\n",
    "d = dict(a = 1, b = 3, c = 5)\n",
    "\n",
    "print(d)\n",
    "print(type(d))"
   ]
  },
  {
   "cell_type": "code",
   "execution_count": 40,
   "id": "10f09fe7",
   "metadata": {},
   "outputs": [
    {
     "name": "stdout",
     "output_type": "stream",
     "text": [
      "{'apple': 'red', 'banana': 'yellow'}\n",
      "red\n"
     ]
    }
   ],
   "source": [
    "color = {'apple': 'red', 'banana': 'yellow'}\n",
    "\n",
    "print(color)\n",
    "print(color['apple'])"
   ]
  },
  {
   "cell_type": "code",
   "execution_count": 41,
   "id": "17011bf4",
   "metadata": {},
   "outputs": [
    {
     "name": "stdout",
     "output_type": "stream",
     "text": [
      "{'apple': 'red', 'banana': 'yellow', 'cherry': 'red'}\n"
     ]
    }
   ],
   "source": [
    "# k, v 추가\n",
    "color['cherry'] = 'red'\n",
    "\n",
    "print(color)"
   ]
  },
  {
   "cell_type": "code",
   "execution_count": 42,
   "id": "e51d0b17",
   "metadata": {},
   "outputs": [
    {
     "name": "stdout",
     "output_type": "stream",
     "text": [
      "{'apple': 'green', 'banana': 'yellow', 'cherry': 'red'}\n"
     ]
    }
   ],
   "source": [
    "# v 변경\n",
    "color['apple'] = 'green'\n",
    "\n",
    "print(color)"
   ]
  },
  {
   "cell_type": "code",
   "execution_count": 43,
   "id": "e8706285",
   "metadata": {},
   "outputs": [
    {
     "name": "stdout",
     "output_type": "stream",
     "text": [
      "('apple', 'green')\n",
      "('banana', 'yellow')\n",
      "('cherry', 'red')\n"
     ]
    }
   ],
   "source": [
    "# color 내에 있는 요소들을 c로 (foreach와 비슷)\n",
    "for c in color.items():\n",
    "    print(c)"
   ]
  },
  {
   "cell_type": "code",
   "execution_count": 44,
   "id": "5ce966b3",
   "metadata": {},
   "outputs": [
    {
     "name": "stdout",
     "output_type": "stream",
     "text": [
      "apple green\n",
      "banana yellow\n",
      "cherry red\n"
     ]
    }
   ],
   "source": [
    "# k, v 출력\n",
    "for k, v in color.items():\n",
    "    print(k, v)"
   ]
  },
  {
   "cell_type": "code",
   "execution_count": 45,
   "id": "10e6f455",
   "metadata": {},
   "outputs": [
    {
     "name": "stdout",
     "output_type": "stream",
     "text": [
      "apple\n",
      "banana\n",
      "cherry\n"
     ]
    }
   ],
   "source": [
    "# k만 출력\n",
    "for k in color.keys():\n",
    "    print(k)"
   ]
  },
  {
   "cell_type": "code",
   "execution_count": 46,
   "id": "2063e6e4",
   "metadata": {},
   "outputs": [
    {
     "name": "stdout",
     "output_type": "stream",
     "text": [
      "green\n",
      "yellow\n",
      "red\n"
     ]
    }
   ],
   "source": [
    "# v만 출력\n",
    "for v in color.values():\n",
    "    print(v)"
   ]
  },
  {
   "cell_type": "code",
   "execution_count": null,
   "id": "b33faa1e",
   "metadata": {},
   "outputs": [],
   "source": []
  }
 ],
 "metadata": {
  "kernelspec": {
   "display_name": "Python 3",
   "language": "python",
   "name": "python3"
  },
  "language_info": {
   "codemirror_mode": {
    "name": "ipython",
    "version": 3
   },
   "file_extension": ".py",
   "mimetype": "text/x-python",
   "name": "python",
   "nbconvert_exporter": "python",
   "pygments_lexer": "ipython3",
   "version": "3.8.8"
  }
 },
 "nbformat": 4,
 "nbformat_minor": 5
}
