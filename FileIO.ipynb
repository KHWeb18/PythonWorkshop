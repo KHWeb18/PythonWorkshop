{
 "cells": [
  {
   "cell_type": "code",
   "execution_count": 2,
   "id": "55874c86",
   "metadata": {},
   "outputs": [
    {
     "name": "stdout",
     "output_type": "stream",
     "text": [
      " C 드라이브의 볼륨: 오후반_OS\n",
      " 볼륨 일련 번호: E808-E5FC\n",
      "\n",
      " C:\\Users\\user2\\python_works\\PythonWorkshop-1 디렉터리\n",
      "\n",
      "2021-09-24  오후 05:57    <DIR>          .\n",
      "2021-09-24  오후 05:57    <DIR>          ..\n",
      "2021-09-17  오후 05:46             1,928 .gitignore\n",
      "2021-09-24  오후 05:55    <DIR>          .ipynb_checkpoints\n",
      "2021-09-23  오후 05:43            14,823 Array.ipynb\n",
      "2021-09-23  오후 08:06             8,476 ControlStatement.ipynb\n",
      "2021-09-23  오후 04:18             4,087 DataType.ipynb\n",
      "2021-09-24  오후 05:57             1,165 FileIO.ipynb\n",
      "2021-09-24  오후 05:53            15,511 Function(Method).ipynb\n",
      "2021-09-17  오후 07:52            19,755 python_taste.ipynb\n",
      "2021-09-17  오후 05:46                51 README.md\n",
      "2021-09-17  오후 07:05            27,952 request_success.jpg\n",
      "2021-09-17  오후 06:06                 5 test.txt\n",
      "              10개 파일              93,753 바이트\n",
      "               3개 디렉터리  149,894,291,456 바이트 남음\n"
     ]
    }
   ],
   "source": [
    "# Windows\n",
    "!dir\n",
    "# Unix or Linux(맥은 Unix 계열임)\n",
    "# !ls"
   ]
  },
  {
   "cell_type": "code",
   "execution_count": 3,
   "id": "a9b98e05",
   "metadata": {},
   "outputs": [
    {
     "name": "stdout",
     "output_type": "stream",
     "text": [
      "50\n"
     ]
    }
   ],
   "source": [
    "f = open('test.txt', 'w')\n",
    "print(f.write('Python Basic Programming For Interconnect with Web'))\n",
    "f.close()"
   ]
  },
  {
   "cell_type": "code",
   "execution_count": 4,
   "id": "627aa9a4",
   "metadata": {},
   "outputs": [
    {
     "name": "stdout",
     "output_type": "stream",
     "text": [
      " C 드라이브의 볼륨: 오후반_OS\n",
      " 볼륨 일련 번호: E808-E5FC\n",
      "\n",
      " C:\\Users\\user2\\python_works\\PythonWorkshop-1 디렉터리\n",
      "\n",
      "2021-09-24  오후 05:57    <DIR>          .\n",
      "2021-09-24  오후 05:57    <DIR>          ..\n",
      "2021-09-17  오후 05:46             1,928 .gitignore\n",
      "2021-09-24  오후 05:55    <DIR>          .ipynb_checkpoints\n",
      "2021-09-23  오후 05:43            14,823 Array.ipynb\n",
      "2021-09-23  오후 08:06             8,476 ControlStatement.ipynb\n",
      "2021-09-23  오후 04:18             4,087 DataType.ipynb\n",
      "2021-09-24  오후 05:57             1,165 FileIO.ipynb\n",
      "2021-09-24  오후 05:53            15,511 Function(Method).ipynb\n",
      "2021-09-17  오후 07:52            19,755 python_taste.ipynb\n",
      "2021-09-17  오후 05:46                51 README.md\n",
      "2021-09-17  오후 07:05            27,952 request_success.jpg\n",
      "2021-09-24  오후 05:57                50 test.txt\n",
      "              10개 파일              93,798 바이트\n",
      "               3개 디렉터리  149,894,053,888 바이트 남음\n"
     ]
    }
   ],
   "source": [
    "!dir"
   ]
  },
  {
   "cell_type": "code",
   "execution_count": 6,
   "id": "3d77c199",
   "metadata": {},
   "outputs": [
    {
     "name": "stdout",
     "output_type": "stream",
     "text": [
      "Python Basic Programming For Interconnect with Web\n"
     ]
    }
   ],
   "source": [
    "!type test.txt"
   ]
  },
  {
   "cell_type": "code",
   "execution_count": 7,
   "id": "38315a75",
   "metadata": {},
   "outputs": [
    {
     "name": "stderr",
     "output_type": "stream",
     "text": [
      "'man'은(는) 내부 또는 외부 명령, 실행할 수 있는 프로그램, 또는\n",
      "배치 파일이 아닙니다.\n"
     ]
    }
   ],
   "source": [
    "# Unix & Linux\n",
    "# 시스템 프로그래밍 api를 볼 수 있음\n",
    "!man open\n",
    "\n",
    "# int open(char *pathname, ~~~)"
   ]
  },
  {
   "cell_type": "code",
   "execution_count": 8,
   "id": "9cbdb06e",
   "metadata": {},
   "outputs": [
    {
     "name": "stderr",
     "output_type": "stream",
     "text": [
      "'man'은(는) 내부 또는 외부 명령, 실행할 수 있는 프로그램, 또는\n",
      "배치 파일이 아닙니다.\n"
     ]
    }
   ],
   "source": [
    "# Unix & Linux\n",
    "!man write"
   ]
  },
  {
   "cell_type": "code",
   "execution_count": 10,
   "id": "715e6d7d",
   "metadata": {},
   "outputs": [
    {
     "name": "stdout",
     "output_type": "stream",
     "text": [
      "Python Basic Programming For Interconnect with Web\n",
      "True\n"
     ]
    }
   ],
   "source": [
    "# Unix의 핵심 철학\n",
    "# 모든것은 파일이다.\n",
    "# 그러다 보니 읽기던 쓰기던 뭘 하던 open()을 먼저하게 되어 있음\n",
    "f = open('test.txt')\n",
    "print(f.read())\n",
    "f.close()\n",
    "print(f.closed)"
   ]
  },
  {
   "cell_type": "code",
   "execution_count": 13,
   "id": "daf437f0",
   "metadata": {},
   "outputs": [
    {
     "name": "stdout",
     "output_type": "stream",
     "text": [
      "['Python Basic Programming For Interconnect with Web\\n', 'Test\\n', 'Real ?\\n', 'Success!!!\\n', '\\n', 'Ok!']\n",
      "False\n",
      "True\n"
     ]
    }
   ],
   "source": [
    "with open('test.txt') as f:\n",
    "    print(f.readlines())\n",
    "    print(f.closed)\n",
    "    \n",
    "print(f.closed)"
   ]
  },
  {
   "cell_type": "code",
   "execution_count": 14,
   "id": "09006dc8",
   "metadata": {},
   "outputs": [
    {
     "name": "stdout",
     "output_type": "stream",
     "text": [
      "['red', 'green', 'blue']\n"
     ]
    }
   ],
   "source": [
    "colors = ['red', 'green', 'blue']\n",
    "print(colors)"
   ]
  },
  {
   "cell_type": "code",
   "execution_count": 15,
   "id": "af79949e",
   "metadata": {},
   "outputs": [
    {
     "name": "stdout",
     "output_type": "stream",
     "text": [
      "True\n"
     ]
    }
   ],
   "source": [
    "# globals()를 활용하는 방법\n",
    "# 실제 객체가 만들어졌는지 안만들어졌는지 등을 아래와 같은 형식으로 체크할 수 있음\n",
    "def chk_colors():\n",
    "    if 'colors' in globals():\n",
    "        print(\"True\")\n",
    "    else:\n",
    "        print(\"False\")\n",
    "        \n",
    "chk_colors()"
   ]
  },
  {
   "cell_type": "code",
   "execution_count": 16,
   "id": "34aee070",
   "metadata": {},
   "outputs": [
    {
     "data": {
      "text/plain": [
       "{'__name__': '__main__',\n",
       " '__doc__': 'Automatically created module for IPython interactive environment',\n",
       " '__package__': None,\n",
       " '__loader__': None,\n",
       " '__spec__': None,\n",
       " '__builtin__': <module 'builtins' (built-in)>,\n",
       " '__builtins__': <module 'builtins' (built-in)>,\n",
       " '_ih': ['',\n",
       "  \"get_ipython().system('ls')\",\n",
       "  \"# Windows\\nget_ipython().system('dir')\\n# Unix or Linux(맥은 Unix 계열임)\\n# !ls\",\n",
       "  \"f = open('test.txt', 'w')\\nprint(f.write('Python Basic Programming For Interconnect with Web'))\\nf.close()\",\n",
       "  \"get_ipython().system('dir')\",\n",
       "  \"get_ipython().system('typo test.txt')\",\n",
       "  \"get_ipython().system('type test.txt')\",\n",
       "  \"# Unix & Linux\\n# 시스템 프로그래밍 api를 볼 수 있음\\nget_ipython().system('man open')\",\n",
       "  \"# Unix & Linux\\nget_ipython().system('man write')\",\n",
       "  \"f = open('text.txt')\\nprint(f.read())\\nf.close()\\nprint(f.closed)\",\n",
       "  \"f = open('test.txt')\\nprint(f.read())\\nf.close()\\nprint(f.closed)\",\n",
       "  \"with open('test.txt') as f:\\n    print(f.readlines())\\n    print(f.closed)\\n    \\nprint(f.closed)\",\n",
       "  \"with open('test.txt') as f:\\n    print(f.readlines())\\n    print(f.closed)\\n    \\nprint(f.closed)\",\n",
       "  \"with open('test.txt') as f:\\n    print(f.readlines())\\n    print(f.closed)\\n    \\nprint(f.closed)\",\n",
       "  \"colors = ['red', 'green', 'blue']\\nprint(colors)\",\n",
       "  'def chk_colors():\\n    if \\'colors\\' in globals():\\n        print(\"True\")\\n    else:\\n        print(\"False\")\\n        \\nchk_colors()',\n",
       "  'globals()'],\n",
       " '_oh': {},\n",
       " '_dh': ['C:\\\\Users\\\\user2\\\\python_works\\\\PythonWorkshop-1'],\n",
       " 'In': ['',\n",
       "  \"get_ipython().system('ls')\",\n",
       "  \"# Windows\\nget_ipython().system('dir')\\n# Unix or Linux(맥은 Unix 계열임)\\n# !ls\",\n",
       "  \"f = open('test.txt', 'w')\\nprint(f.write('Python Basic Programming For Interconnect with Web'))\\nf.close()\",\n",
       "  \"get_ipython().system('dir')\",\n",
       "  \"get_ipython().system('typo test.txt')\",\n",
       "  \"get_ipython().system('type test.txt')\",\n",
       "  \"# Unix & Linux\\n# 시스템 프로그래밍 api를 볼 수 있음\\nget_ipython().system('man open')\",\n",
       "  \"# Unix & Linux\\nget_ipython().system('man write')\",\n",
       "  \"f = open('text.txt')\\nprint(f.read())\\nf.close()\\nprint(f.closed)\",\n",
       "  \"f = open('test.txt')\\nprint(f.read())\\nf.close()\\nprint(f.closed)\",\n",
       "  \"with open('test.txt') as f:\\n    print(f.readlines())\\n    print(f.closed)\\n    \\nprint(f.closed)\",\n",
       "  \"with open('test.txt') as f:\\n    print(f.readlines())\\n    print(f.closed)\\n    \\nprint(f.closed)\",\n",
       "  \"with open('test.txt') as f:\\n    print(f.readlines())\\n    print(f.closed)\\n    \\nprint(f.closed)\",\n",
       "  \"colors = ['red', 'green', 'blue']\\nprint(colors)\",\n",
       "  'def chk_colors():\\n    if \\'colors\\' in globals():\\n        print(\"True\")\\n    else:\\n        print(\"False\")\\n        \\nchk_colors()',\n",
       "  'globals()'],\n",
       " 'Out': {},\n",
       " 'get_ipython': <bound method InteractiveShell.get_ipython of <ipykernel.zmqshell.ZMQInteractiveShell object at 0x00000266CD4B2850>>,\n",
       " 'exit': <IPython.core.autocall.ZMQExitAutocall at 0x266cd522580>,\n",
       " 'quit': <IPython.core.autocall.ZMQExitAutocall at 0x266cd522580>,\n",
       " '_': '',\n",
       " '__': '',\n",
       " '___': '',\n",
       " '_i': 'def chk_colors():\\n    if \\'colors\\' in globals():\\n        print(\"True\")\\n    else:\\n        print(\"False\")\\n        \\nchk_colors()',\n",
       " '_ii': \"colors = ['red', 'green', 'blue']\\nprint(colors)\",\n",
       " '_iii': \"with open('test.txt') as f:\\n    print(f.readlines())\\n    print(f.closed)\\n    \\nprint(f.closed)\",\n",
       " '_i1': '!ls',\n",
       " '_exit_code': 1,\n",
       " '_i2': '# Windows\\n!dir\\n# Unix or Linux(맥은 Unix 계열임)\\n# !ls',\n",
       " '_i3': \"f = open('test.txt', 'w')\\nprint(f.write('Python Basic Programming For Interconnect with Web'))\\nf.close()\",\n",
       " 'f': <_io.TextIOWrapper name='test.txt' mode='r' encoding='cp949'>,\n",
       " '_i4': '!dir',\n",
       " '_i5': '!typo test.txt',\n",
       " '_i6': '!type test.txt',\n",
       " '_i7': '# Unix & Linux\\n# 시스템 프로그래밍 api를 볼 수 있음\\n!man open',\n",
       " '_i8': '# Unix & Linux\\n!man write',\n",
       " '_i9': \"f = open('text.txt')\\nprint(f.read())\\nf.close()\\nprint(f.closed)\",\n",
       " '_i10': \"f = open('test.txt')\\nprint(f.read())\\nf.close()\\nprint(f.closed)\",\n",
       " '_i11': \"with open('test.txt') as f:\\n    print(f.readlines())\\n    print(f.closed)\\n    \\nprint(f.closed)\",\n",
       " '_i12': \"with open('test.txt') as f:\\n    print(f.readlines())\\n    print(f.closed)\\n    \\nprint(f.closed)\",\n",
       " '_i13': \"with open('test.txt') as f:\\n    print(f.readlines())\\n    print(f.closed)\\n    \\nprint(f.closed)\",\n",
       " '_i14': \"colors = ['red', 'green', 'blue']\\nprint(colors)\",\n",
       " 'colors': ['red', 'green', 'blue'],\n",
       " '_i15': 'def chk_colors():\\n    if \\'colors\\' in globals():\\n        print(\"True\")\\n    else:\\n        print(\"False\")\\n        \\nchk_colors()',\n",
       " 'chk_colors': <function __main__.chk_colors()>,\n",
       " '_i16': 'globals()'}"
      ]
     },
     "execution_count": 16,
     "metadata": {},
     "output_type": "execute_result"
    }
   ],
   "source": [
    "globals()"
   ]
  },
  {
   "cell_type": "code",
   "execution_count": 17,
   "id": "26dcc069",
   "metadata": {},
   "outputs": [
    {
     "name": "stdout",
     "output_type": "stream",
     "text": [
      "False\n"
     ]
    }
   ],
   "source": [
    "import pickle\n",
    "\n",
    "f = open('colors', 'wb')\n",
    "pickle.dump(colors, f)\n",
    "f.close()\n",
    "\n",
    "del colors\n",
    "\n",
    "chk_colors()"
   ]
  },
  {
   "cell_type": "code",
   "execution_count": 18,
   "id": "90665804",
   "metadata": {},
   "outputs": [
    {
     "data": {
      "text/plain": [
       "{'__name__': '__main__',\n",
       " '__doc__': 'Automatically created module for IPython interactive environment',\n",
       " '__package__': None,\n",
       " '__loader__': None,\n",
       " '__spec__': None,\n",
       " '__builtin__': <module 'builtins' (built-in)>,\n",
       " '__builtins__': <module 'builtins' (built-in)>,\n",
       " '_ih': ['',\n",
       "  \"get_ipython().system('ls')\",\n",
       "  \"# Windows\\nget_ipython().system('dir')\\n# Unix or Linux(맥은 Unix 계열임)\\n# !ls\",\n",
       "  \"f = open('test.txt', 'w')\\nprint(f.write('Python Basic Programming For Interconnect with Web'))\\nf.close()\",\n",
       "  \"get_ipython().system('dir')\",\n",
       "  \"get_ipython().system('typo test.txt')\",\n",
       "  \"get_ipython().system('type test.txt')\",\n",
       "  \"# Unix & Linux\\n# 시스템 프로그래밍 api를 볼 수 있음\\nget_ipython().system('man open')\",\n",
       "  \"# Unix & Linux\\nget_ipython().system('man write')\",\n",
       "  \"f = open('text.txt')\\nprint(f.read())\\nf.close()\\nprint(f.closed)\",\n",
       "  \"f = open('test.txt')\\nprint(f.read())\\nf.close()\\nprint(f.closed)\",\n",
       "  \"with open('test.txt') as f:\\n    print(f.readlines())\\n    print(f.closed)\\n    \\nprint(f.closed)\",\n",
       "  \"with open('test.txt') as f:\\n    print(f.readlines())\\n    print(f.closed)\\n    \\nprint(f.closed)\",\n",
       "  \"with open('test.txt') as f:\\n    print(f.readlines())\\n    print(f.closed)\\n    \\nprint(f.closed)\",\n",
       "  \"colors = ['red', 'green', 'blue']\\nprint(colors)\",\n",
       "  'def chk_colors():\\n    if \\'colors\\' in globals():\\n        print(\"True\")\\n    else:\\n        print(\"False\")\\n        \\nchk_colors()',\n",
       "  'globals()',\n",
       "  \"import pickle\\n\\nf = open('colors', 'wb')\\npickle.dump(colors, f)\\nf.close()\\n\\ndel colors\\n\\nchk_colors()\",\n",
       "  'globals()'],\n",
       " '_oh': {16: {...}},\n",
       " '_dh': ['C:\\\\Users\\\\user2\\\\python_works\\\\PythonWorkshop-1'],\n",
       " 'In': ['',\n",
       "  \"get_ipython().system('ls')\",\n",
       "  \"# Windows\\nget_ipython().system('dir')\\n# Unix or Linux(맥은 Unix 계열임)\\n# !ls\",\n",
       "  \"f = open('test.txt', 'w')\\nprint(f.write('Python Basic Programming For Interconnect with Web'))\\nf.close()\",\n",
       "  \"get_ipython().system('dir')\",\n",
       "  \"get_ipython().system('typo test.txt')\",\n",
       "  \"get_ipython().system('type test.txt')\",\n",
       "  \"# Unix & Linux\\n# 시스템 프로그래밍 api를 볼 수 있음\\nget_ipython().system('man open')\",\n",
       "  \"# Unix & Linux\\nget_ipython().system('man write')\",\n",
       "  \"f = open('text.txt')\\nprint(f.read())\\nf.close()\\nprint(f.closed)\",\n",
       "  \"f = open('test.txt')\\nprint(f.read())\\nf.close()\\nprint(f.closed)\",\n",
       "  \"with open('test.txt') as f:\\n    print(f.readlines())\\n    print(f.closed)\\n    \\nprint(f.closed)\",\n",
       "  \"with open('test.txt') as f:\\n    print(f.readlines())\\n    print(f.closed)\\n    \\nprint(f.closed)\",\n",
       "  \"with open('test.txt') as f:\\n    print(f.readlines())\\n    print(f.closed)\\n    \\nprint(f.closed)\",\n",
       "  \"colors = ['red', 'green', 'blue']\\nprint(colors)\",\n",
       "  'def chk_colors():\\n    if \\'colors\\' in globals():\\n        print(\"True\")\\n    else:\\n        print(\"False\")\\n        \\nchk_colors()',\n",
       "  'globals()',\n",
       "  \"import pickle\\n\\nf = open('colors', 'wb')\\npickle.dump(colors, f)\\nf.close()\\n\\ndel colors\\n\\nchk_colors()\",\n",
       "  'globals()'],\n",
       " 'Out': {16: {...}},\n",
       " 'get_ipython': <bound method InteractiveShell.get_ipython of <ipykernel.zmqshell.ZMQInteractiveShell object at 0x00000266CD4B2850>>,\n",
       " 'exit': <IPython.core.autocall.ZMQExitAutocall at 0x266cd522580>,\n",
       " 'quit': <IPython.core.autocall.ZMQExitAutocall at 0x266cd522580>,\n",
       " '_': {...},\n",
       " '__': '',\n",
       " '___': '',\n",
       " '_i': \"import pickle\\n\\nf = open('colors', 'wb')\\npickle.dump(colors, f)\\nf.close()\\n\\ndel colors\\n\\nchk_colors()\",\n",
       " '_ii': 'globals()',\n",
       " '_iii': 'def chk_colors():\\n    if \\'colors\\' in globals():\\n        print(\"True\")\\n    else:\\n        print(\"False\")\\n        \\nchk_colors()',\n",
       " '_i1': '!ls',\n",
       " '_exit_code': 1,\n",
       " '_i2': '# Windows\\n!dir\\n# Unix or Linux(맥은 Unix 계열임)\\n# !ls',\n",
       " '_i3': \"f = open('test.txt', 'w')\\nprint(f.write('Python Basic Programming For Interconnect with Web'))\\nf.close()\",\n",
       " 'f': <_io.BufferedWriter name='colors'>,\n",
       " '_i4': '!dir',\n",
       " '_i5': '!typo test.txt',\n",
       " '_i6': '!type test.txt',\n",
       " '_i7': '# Unix & Linux\\n# 시스템 프로그래밍 api를 볼 수 있음\\n!man open',\n",
       " '_i8': '# Unix & Linux\\n!man write',\n",
       " '_i9': \"f = open('text.txt')\\nprint(f.read())\\nf.close()\\nprint(f.closed)\",\n",
       " '_i10': \"f = open('test.txt')\\nprint(f.read())\\nf.close()\\nprint(f.closed)\",\n",
       " '_i11': \"with open('test.txt') as f:\\n    print(f.readlines())\\n    print(f.closed)\\n    \\nprint(f.closed)\",\n",
       " '_i12': \"with open('test.txt') as f:\\n    print(f.readlines())\\n    print(f.closed)\\n    \\nprint(f.closed)\",\n",
       " '_i13': \"with open('test.txt') as f:\\n    print(f.readlines())\\n    print(f.closed)\\n    \\nprint(f.closed)\",\n",
       " '_i14': \"colors = ['red', 'green', 'blue']\\nprint(colors)\",\n",
       " '_i15': 'def chk_colors():\\n    if \\'colors\\' in globals():\\n        print(\"True\")\\n    else:\\n        print(\"False\")\\n        \\nchk_colors()',\n",
       " 'chk_colors': <function __main__.chk_colors()>,\n",
       " '_i16': 'globals()',\n",
       " '_16': {...},\n",
       " '_i17': \"import pickle\\n\\nf = open('colors', 'wb')\\npickle.dump(colors, f)\\nf.close()\\n\\ndel colors\\n\\nchk_colors()\",\n",
       " 'pickle': <module 'pickle' from 'C:\\\\Users\\\\user2\\\\anaconda3\\\\lib\\\\pickle.py'>,\n",
       " '_i18': 'globals()'}"
      ]
     },
     "execution_count": 18,
     "metadata": {},
     "output_type": "execute_result"
    }
   ],
   "source": [
    "globals()"
   ]
  },
  {
   "cell_type": "code",
   "execution_count": 19,
   "id": "c19579bb",
   "metadata": {},
   "outputs": [
    {
     "name": "stdout",
     "output_type": "stream",
     "text": [
      "['red', 'green', 'blue']\n"
     ]
    }
   ],
   "source": [
    "f = open('colors', 'rb')\n",
    "colors = pickle.load(f)\n",
    "f.close()\n",
    "\n",
    "print(colors)"
   ]
  },
  {
   "cell_type": "code",
   "execution_count": 20,
   "id": "9fcde947",
   "metadata": {},
   "outputs": [
    {
     "name": "stdout",
     "output_type": "stream",
     "text": [
      "True\n"
     ]
    }
   ],
   "source": [
    "chk_colors()"
   ]
  },
  {
   "cell_type": "code",
   "execution_count": 21,
   "id": "bc9d7401",
   "metadata": {},
   "outputs": [
    {
     "data": {
      "text/plain": [
       "{'__name__': '__main__',\n",
       " '__doc__': 'Automatically created module for IPython interactive environment',\n",
       " '__package__': None,\n",
       " '__loader__': None,\n",
       " '__spec__': None,\n",
       " '__builtin__': <module 'builtins' (built-in)>,\n",
       " '__builtins__': <module 'builtins' (built-in)>,\n",
       " '_ih': ['',\n",
       "  \"get_ipython().system('ls')\",\n",
       "  \"# Windows\\nget_ipython().system('dir')\\n# Unix or Linux(맥은 Unix 계열임)\\n# !ls\",\n",
       "  \"f = open('test.txt', 'w')\\nprint(f.write('Python Basic Programming For Interconnect with Web'))\\nf.close()\",\n",
       "  \"get_ipython().system('dir')\",\n",
       "  \"get_ipython().system('typo test.txt')\",\n",
       "  \"get_ipython().system('type test.txt')\",\n",
       "  \"# Unix & Linux\\n# 시스템 프로그래밍 api를 볼 수 있음\\nget_ipython().system('man open')\",\n",
       "  \"# Unix & Linux\\nget_ipython().system('man write')\",\n",
       "  \"f = open('text.txt')\\nprint(f.read())\\nf.close()\\nprint(f.closed)\",\n",
       "  \"f = open('test.txt')\\nprint(f.read())\\nf.close()\\nprint(f.closed)\",\n",
       "  \"with open('test.txt') as f:\\n    print(f.readlines())\\n    print(f.closed)\\n    \\nprint(f.closed)\",\n",
       "  \"with open('test.txt') as f:\\n    print(f.readlines())\\n    print(f.closed)\\n    \\nprint(f.closed)\",\n",
       "  \"with open('test.txt') as f:\\n    print(f.readlines())\\n    print(f.closed)\\n    \\nprint(f.closed)\",\n",
       "  \"colors = ['red', 'green', 'blue']\\nprint(colors)\",\n",
       "  'def chk_colors():\\n    if \\'colors\\' in globals():\\n        print(\"True\")\\n    else:\\n        print(\"False\")\\n        \\nchk_colors()',\n",
       "  'globals()',\n",
       "  \"import pickle\\n\\nf = open('colors', 'wb')\\npickle.dump(colors, f)\\nf.close()\\n\\ndel colors\\n\\nchk_colors()\",\n",
       "  'globals()',\n",
       "  \"f = open('colors', 'rb')\\ncolors = pickle.load(f)\\nf.close()\\n\\nprint(colors)\",\n",
       "  'chk_colors()',\n",
       "  'globals()'],\n",
       " '_oh': {16: {...}, 18: {...}},\n",
       " '_dh': ['C:\\\\Users\\\\user2\\\\python_works\\\\PythonWorkshop-1'],\n",
       " 'In': ['',\n",
       "  \"get_ipython().system('ls')\",\n",
       "  \"# Windows\\nget_ipython().system('dir')\\n# Unix or Linux(맥은 Unix 계열임)\\n# !ls\",\n",
       "  \"f = open('test.txt', 'w')\\nprint(f.write('Python Basic Programming For Interconnect with Web'))\\nf.close()\",\n",
       "  \"get_ipython().system('dir')\",\n",
       "  \"get_ipython().system('typo test.txt')\",\n",
       "  \"get_ipython().system('type test.txt')\",\n",
       "  \"# Unix & Linux\\n# 시스템 프로그래밍 api를 볼 수 있음\\nget_ipython().system('man open')\",\n",
       "  \"# Unix & Linux\\nget_ipython().system('man write')\",\n",
       "  \"f = open('text.txt')\\nprint(f.read())\\nf.close()\\nprint(f.closed)\",\n",
       "  \"f = open('test.txt')\\nprint(f.read())\\nf.close()\\nprint(f.closed)\",\n",
       "  \"with open('test.txt') as f:\\n    print(f.readlines())\\n    print(f.closed)\\n    \\nprint(f.closed)\",\n",
       "  \"with open('test.txt') as f:\\n    print(f.readlines())\\n    print(f.closed)\\n    \\nprint(f.closed)\",\n",
       "  \"with open('test.txt') as f:\\n    print(f.readlines())\\n    print(f.closed)\\n    \\nprint(f.closed)\",\n",
       "  \"colors = ['red', 'green', 'blue']\\nprint(colors)\",\n",
       "  'def chk_colors():\\n    if \\'colors\\' in globals():\\n        print(\"True\")\\n    else:\\n        print(\"False\")\\n        \\nchk_colors()',\n",
       "  'globals()',\n",
       "  \"import pickle\\n\\nf = open('colors', 'wb')\\npickle.dump(colors, f)\\nf.close()\\n\\ndel colors\\n\\nchk_colors()\",\n",
       "  'globals()',\n",
       "  \"f = open('colors', 'rb')\\ncolors = pickle.load(f)\\nf.close()\\n\\nprint(colors)\",\n",
       "  'chk_colors()',\n",
       "  'globals()'],\n",
       " 'Out': {16: {...}, 18: {...}},\n",
       " 'get_ipython': <bound method InteractiveShell.get_ipython of <ipykernel.zmqshell.ZMQInteractiveShell object at 0x00000266CD4B2850>>,\n",
       " 'exit': <IPython.core.autocall.ZMQExitAutocall at 0x266cd522580>,\n",
       " 'quit': <IPython.core.autocall.ZMQExitAutocall at 0x266cd522580>,\n",
       " '_': {...},\n",
       " '__': {...},\n",
       " '___': '',\n",
       " '_i': 'chk_colors()',\n",
       " '_ii': \"f = open('colors', 'rb')\\ncolors = pickle.load(f)\\nf.close()\\n\\nprint(colors)\",\n",
       " '_iii': 'globals()',\n",
       " '_i1': '!ls',\n",
       " '_exit_code': 1,\n",
       " '_i2': '# Windows\\n!dir\\n# Unix or Linux(맥은 Unix 계열임)\\n# !ls',\n",
       " '_i3': \"f = open('test.txt', 'w')\\nprint(f.write('Python Basic Programming For Interconnect with Web'))\\nf.close()\",\n",
       " 'f': <_io.BufferedReader name='colors'>,\n",
       " '_i4': '!dir',\n",
       " '_i5': '!typo test.txt',\n",
       " '_i6': '!type test.txt',\n",
       " '_i7': '# Unix & Linux\\n# 시스템 프로그래밍 api를 볼 수 있음\\n!man open',\n",
       " '_i8': '# Unix & Linux\\n!man write',\n",
       " '_i9': \"f = open('text.txt')\\nprint(f.read())\\nf.close()\\nprint(f.closed)\",\n",
       " '_i10': \"f = open('test.txt')\\nprint(f.read())\\nf.close()\\nprint(f.closed)\",\n",
       " '_i11': \"with open('test.txt') as f:\\n    print(f.readlines())\\n    print(f.closed)\\n    \\nprint(f.closed)\",\n",
       " '_i12': \"with open('test.txt') as f:\\n    print(f.readlines())\\n    print(f.closed)\\n    \\nprint(f.closed)\",\n",
       " '_i13': \"with open('test.txt') as f:\\n    print(f.readlines())\\n    print(f.closed)\\n    \\nprint(f.closed)\",\n",
       " '_i14': \"colors = ['red', 'green', 'blue']\\nprint(colors)\",\n",
       " '_i15': 'def chk_colors():\\n    if \\'colors\\' in globals():\\n        print(\"True\")\\n    else:\\n        print(\"False\")\\n        \\nchk_colors()',\n",
       " 'chk_colors': <function __main__.chk_colors()>,\n",
       " '_i16': 'globals()',\n",
       " '_16': {...},\n",
       " '_i17': \"import pickle\\n\\nf = open('colors', 'wb')\\npickle.dump(colors, f)\\nf.close()\\n\\ndel colors\\n\\nchk_colors()\",\n",
       " 'pickle': <module 'pickle' from 'C:\\\\Users\\\\user2\\\\anaconda3\\\\lib\\\\pickle.py'>,\n",
       " '_i18': 'globals()',\n",
       " '_18': {...},\n",
       " '_i19': \"f = open('colors', 'rb')\\ncolors = pickle.load(f)\\nf.close()\\n\\nprint(colors)\",\n",
       " 'colors': ['red', 'green', 'blue'],\n",
       " '_i20': 'chk_colors()',\n",
       " '_i21': 'globals()'}"
      ]
     },
     "execution_count": 21,
     "metadata": {},
     "output_type": "execute_result"
    }
   ],
   "source": [
    "globals()"
   ]
  },
  {
   "cell_type": "code",
   "execution_count": 23,
   "id": "dc649a8e",
   "metadata": {},
   "outputs": [
    {
     "name": "stdout",
     "output_type": "stream",
     "text": [
      "<__main__.Test object at 0x00000266CD734C70>\n",
      "Test\n"
     ]
    }
   ],
   "source": [
    "class Test:\n",
    "    var = None\n",
    "    \n",
    "a = Test()\n",
    "a.var = \"Test\"\n",
    "\n",
    "f = open('test', 'wb')\n",
    "pickle.dump(a, f)\n",
    "f.close()\n",
    "\n",
    "print(a)\n",
    "print(a.var)\n",
    "\n",
    "del a"
   ]
  },
  {
   "cell_type": "code",
   "execution_count": 24,
   "id": "856becf6",
   "metadata": {},
   "outputs": [
    {
     "ename": "NameError",
     "evalue": "name 'a' is not defined",
     "output_type": "error",
     "traceback": [
      "\u001b[1;31m---------------------------------------------------------------------------\u001b[0m",
      "\u001b[1;31mNameError\u001b[0m                                 Traceback (most recent call last)",
      "\u001b[1;32m<ipython-input-24-bca0e2660b9f>\u001b[0m in \u001b[0;36m<module>\u001b[1;34m\u001b[0m\n\u001b[1;32m----> 1\u001b[1;33m \u001b[0mprint\u001b[0m\u001b[1;33m(\u001b[0m\u001b[0ma\u001b[0m\u001b[1;33m)\u001b[0m\u001b[1;33m\u001b[0m\u001b[1;33m\u001b[0m\u001b[0m\n\u001b[0m",
      "\u001b[1;31mNameError\u001b[0m: name 'a' is not defined"
     ]
    }
   ],
   "source": [
    "print(a)"
   ]
  },
  {
   "cell_type": "code",
   "execution_count": 25,
   "id": "2a8ff322",
   "metadata": {},
   "outputs": [
    {
     "name": "stdout",
     "output_type": "stream",
     "text": [
      "<__main__.Test object at 0x00000266CD641580>\n",
      "Test\n"
     ]
    }
   ],
   "source": [
    "f = open('test', 'rb')\n",
    "b = pickle.load(f)\n",
    "f.close()\n",
    "\n",
    "print(b)\n",
    "print(b.var)"
   ]
  },
  {
   "cell_type": "code",
   "execution_count": null,
   "id": "899dc96a",
   "metadata": {},
   "outputs": [],
   "source": []
  }
 ],
 "metadata": {
  "kernelspec": {
   "display_name": "Python 3",
   "language": "python",
   "name": "python3"
  },
  "language_info": {
   "codemirror_mode": {
    "name": "ipython",
    "version": 3
   },
   "file_extension": ".py",
   "mimetype": "text/x-python",
   "name": "python",
   "nbconvert_exporter": "python",
   "pygments_lexer": "ipython3",
   "version": "3.8.8"
  }
 },
 "nbformat": 4,
 "nbformat_minor": 5
}
