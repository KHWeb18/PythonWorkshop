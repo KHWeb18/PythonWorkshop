{
 "cells": [
  {
   "cell_type": "code",
   "execution_count": 1,
   "id": "a930e7cd",
   "metadata": {},
   "outputs": [
    {
     "name": "stdout",
     "output_type": "stream",
     "text": [
      "['In', 'Out', 'PyTestClass', '_', '__', '___', '__builtin__', '__builtins__', '__doc__', '__loader__', '__name__', '__package__', '__spec__', '_dh', '_i', '_i1', '_ih', '_ii', '_iii', '_oh', 'exit', 'get_ipython', 'quit']\n",
      "<class 'type'>\n"
     ]
    }
   ],
   "source": [
    "class PyTestClass:\n",
    "    \"\"\"It's for Test Class\"\"\"\n",
    "    pass\n",
    "\n",
    "print(dir())\n",
    "print(type(PyTestClass))"
   ]
  },
  {
   "cell_type": "code",
   "execution_count": 2,
   "id": "66f7ac7f",
   "metadata": {},
   "outputs": [
    {
     "name": "stdout",
     "output_type": "stream",
     "text": [
      "My name is Default\n",
      "My name is 파이썬3 테스트 클래스\n",
      "My name is 파이썬3 테스트 클래스\n"
     ]
    }
   ],
   "source": [
    "class Person:\n",
    "    Name = \"Default\"\n",
    "    \n",
    "    def Print(self):\n",
    "        print(\"My name is {0}\".format(self.Name))\n",
    "        \n",
    "p = Person()\n",
    "p.Print()\n",
    "\n",
    "p.Name = \"파이썬3 테스트 클래스\"\n",
    "p.Print()\n",
    "Person.Print(p)"
   ]
  },
  {
   "cell_type": "code",
   "execution_count": 3,
   "id": "6fedb934",
   "metadata": {},
   "outputs": [
    {
     "name": "stdout",
     "output_type": "stream",
     "text": [
      "p Name:  파이썬3 테스트 클래스\n",
      "p2 Name:  Default\n",
      "p title:  Python3 테스트\n",
      "p2 title:  Python3 테스트\n",
      "Person title:  Python3 테스트\n",
      "p age:  20\n"
     ]
    }
   ],
   "source": [
    "p2 = Person()\n",
    "\n",
    "print(\"p Name: \", p.Name)\n",
    "print(\"p2 Name: \", p2.Name)\n",
    "\n",
    "Person.title = \"Python3 테스트\"\n",
    "print(\"p title: \", p.title)\n",
    "print(\"p2 title: \", p2.title)\n",
    "print(\"Person title: \", Person.title)\n",
    "\n",
    "p.age = 20\n",
    "print(\"p age: \", p.age)"
   ]
  },
  {
   "cell_type": "code",
   "execution_count": 4,
   "id": "ebf4a5fe",
   "metadata": {},
   "outputs": [
    {
     "ename": "AttributeError",
     "evalue": "type object 'Person' has no attribute 'age'",
     "output_type": "error",
     "traceback": [
      "\u001b[1;31m---------------------------------------------------------------------------\u001b[0m",
      "\u001b[1;31mAttributeError\u001b[0m                            Traceback (most recent call last)",
      "\u001b[1;32m<ipython-input-4-fab5aa44c49c>\u001b[0m in \u001b[0;36m<module>\u001b[1;34m\u001b[0m\n\u001b[1;32m----> 1\u001b[1;33m \u001b[0mprint\u001b[0m\u001b[1;33m(\u001b[0m\u001b[1;34m\"Person age: \"\u001b[0m\u001b[1;33m,\u001b[0m \u001b[0mPerson\u001b[0m\u001b[1;33m.\u001b[0m\u001b[0mage\u001b[0m\u001b[1;33m)\u001b[0m\u001b[1;33m\u001b[0m\u001b[1;33m\u001b[0m\u001b[0m\n\u001b[0m",
      "\u001b[1;31mAttributeError\u001b[0m: type object 'Person' has no attribute 'age'"
     ]
    }
   ],
   "source": [
    "print(\"Person age: \", Person.age)"
   ]
  },
  {
   "cell_type": "code",
   "execution_count": 7,
   "id": "7c2ff6a4",
   "metadata": {},
   "outputs": [
    {
     "name": "stdout",
     "output_type": "stream",
     "text": [
      "클래스 멤버 아님\n",
      "테스트 메세지\n"
     ]
    }
   ],
   "source": [
    "str1 = \"클래스 멤버 아님\"\n",
    "\n",
    "class NonSelfTest:\n",
    "    str1 = \"\"\n",
    "    \n",
    "    def Set(self, msg):\n",
    "        self.str1 = msg\n",
    "        \n",
    "    def Print(self):\n",
    "        print(str1)\n",
    "        \n",
    "    def WhyUseSelfPrint(self):\n",
    "        print(self.str1)\n",
    "        \n",
    "test = NonSelfTest()\n",
    "\n",
    "test.Set(\"테스트 메세지\")\n",
    "test.Print()\n",
    "test.WhyUseSelfPrint()"
   ]
  },
  {
   "cell_type": "code",
   "execution_count": 10,
   "id": "fe336267",
   "metadata": {},
   "outputs": [
    {
     "name": "stdout",
     "output_type": "stream",
     "text": [
      "생성자! Value =  333\n",
      "소멸자!\n",
      "누가 먼저냐 ?\n"
     ]
    }
   ],
   "source": [
    "class Vehicles:\n",
    "    def __init__(self, value):\n",
    "        self.Value = value\n",
    "        print(\"생성자! Value = \", value)\n",
    "        \n",
    "    def __del__(self):\n",
    "        print(\"소멸자!\")\n",
    "        \n",
    "def test():\n",
    "    v = Vehicles(333);\n",
    "    \n",
    "test()\n",
    "print(\"누가 먼저냐 ?\")"
   ]
  },
  {
   "cell_type": "code",
   "execution_count": 12,
   "id": "90470186",
   "metadata": {},
   "outputs": [
    {
     "name": "stdout",
     "output_type": "stream",
     "text": [
      "Info(name: Maron, phone num: 045-607-1852)\n",
      "{'name': 'Maron', 'phoneNum': '045-607-1852'}\n",
      "{'name': 'Lunar', 'phoneNum': '406-708-3821', 'subject': 'Electronic Engineering', 'studentId': '7283492'}\n"
     ]
    }
   ],
   "source": [
    "class Person:\n",
    "    def __init__(self, name, phoneNum):\n",
    "        self.name = name\n",
    "        self.phoneNum = phoneNum\n",
    "        \n",
    "    def printInfo(self):\n",
    "        print(\"Info(name: {0}, phone num: {1})\".format(self.name, self.phoneNum))\n",
    "\n",
    "# Java extends 상속\n",
    "# Python은 클래스(상속할 클래스명)\n",
    "class Student(Person):\n",
    "    def __init__(self, name, phoneNum, subject, studentId):\n",
    "        self.name = name\n",
    "        self.phoneNum = phoneNum\n",
    "        self.subject = subject\n",
    "        self.studentId = studentId\n",
    "        \n",
    "p = Person(\"Maron\", \"045-607-1852\")\n",
    "s = Student(\"Lunar\", \"406-708-3821\", \"Electronic Engineering\", \"7283492\")\n",
    "\n",
    "p.printInfo()\n",
    "\n",
    "print(p.__dict__)\n",
    "print(s.__dict__)"
   ]
  },
  {
   "cell_type": "code",
   "execution_count": 17,
   "id": "ddce5340",
   "metadata": {},
   "outputs": [
    {
     "name": "stdout",
     "output_type": "stream",
     "text": [
      "I'm Sub Class: [3]\n",
      "I'm Super Class\n",
      "{'Number': 3}\n"
     ]
    }
   ],
   "source": [
    "# super() 활용법\n",
    "class Parent(object):\n",
    "    def __init__(self, number):\n",
    "        self.Number = number\n",
    "        \n",
    "    def printMsg(self):\n",
    "        print(\"I'm Super Class\")\n",
    "        \n",
    "class Test(Parent):\n",
    "    def __init__(self, number):\n",
    "        super(Test, self).__init__(number)\n",
    "        \n",
    "    def printMsg(self):\n",
    "        print(\"I'm Sub Class: [%s]\" % str(self.Number))\n",
    "        super(Test, self).printMsg()\n",
    "        \n",
    "c = Child(3)\n",
    "c.printMsg()\n",
    "\n",
    "print(c.__dict__)"
   ]
  },
  {
   "cell_type": "code",
   "execution_count": 22,
   "id": "9805d0d6",
   "metadata": {},
   "outputs": [
    {
     "name": "stdout",
     "output_type": "stream",
     "text": [
      "80 0.6561661846674225\n",
      "23 0.3621524141833371\n",
      "94 0.29102903406843894\n",
      "17 0.49002262788163053\n",
      "98 0.8714964406347329\n",
      "68 0.8045740964141845\n",
      "50 0.08471447334997362\n",
      "33 0.6541631488669801\n",
      "67 0.7293064041953055\n",
      "55 0.5671680945028046\n",
      "32 0.0496199324267832\n",
      "68 0.6700622293627677\n",
      "55 0.31090386479494836\n",
      "68 0.23073014101700462\n",
      "76 0.3592076992735156\n",
      "2 0.332272168912069\n",
      "3 0.3347023081254312\n",
      "92 0.17265620554674777\n",
      "13 0.8593165836841601\n",
      "36 0.4060674404902156\n"
     ]
    }
   ],
   "source": [
    "# 파이썬 난수\n",
    "from random import *\n",
    "\n",
    "for i in range(20):\n",
    "    rand_int = randint(1, 100) # 시작, 끝\n",
    "    rand_float = random() # 0 ~ 1사이\n",
    "    print(rand_int, rand_float)"
   ]
  },
  {
   "cell_type": "code",
   "execution_count": null,
   "id": "d95ed2cb",
   "metadata": {},
   "outputs": [],
   "source": [
    "# 숙제 1.\n",
    "# 1 ~ 100까지의 숫자중 3의 배수만 추려서 출력하도록\n",
    "# 클래스 및 매서드를 프로그래밍 하시오."
   ]
  },
  {
   "cell_type": "code",
   "execution_count": 2,
   "id": "ca58611b",
   "metadata": {},
   "outputs": [
    {
     "name": "stdout",
     "output_type": "stream",
     "text": [
      "i =  3\n",
      "i =  6\n",
      "i =  9\n",
      "i =  12\n",
      "i =  15\n",
      "i =  18\n",
      "i =  21\n",
      "i =  24\n",
      "i =  27\n",
      "i =  30\n",
      "i =  33\n",
      "i =  36\n",
      "i =  39\n",
      "i =  42\n",
      "i =  45\n",
      "i =  48\n",
      "i =  51\n",
      "i =  54\n",
      "i =  57\n",
      "i =  60\n",
      "i =  63\n",
      "i =  66\n",
      "i =  69\n",
      "i =  72\n",
      "i =  75\n",
      "i =  78\n",
      "i =  81\n",
      "i =  84\n",
      "i =  87\n",
      "i =  90\n",
      "i =  93\n",
      "i =  96\n",
      "i =  99\n"
     ]
    }
   ],
   "source": [
    "for i in range(1, 101):\n",
    "    # i % 3 == 0 보다 비트 연산 not 이 더 빠름\n",
    "    if (not(i % 3)):\n",
    "        print('i = ', i)"
   ]
  },
  {
   "cell_type": "code",
   "execution_count": null,
   "id": "514781d2",
   "metadata": {},
   "outputs": [],
   "source": [
    "# 숙제 2.\n",
    "# 주사위 게임을 플레이할 수 있도록 클래스 및 매서드를 작성하시오.\n",
    "# 주사위는 1개만 굴리도록 하며 승패 판정은 누가 더 높은 주사위 눈금을 가지느냐에 따라 갈린다."
   ]
  },
  {
   "cell_type": "code",
   "execution_count": 3,
   "id": "2a06e6d0",
   "metadata": {},
   "outputs": [
    {
     "name": "stdout",
     "output_type": "stream",
     "text": [
      "플레이어1 - 주사위 눈금은 2\n",
      "플레이어2 - 주사위 눈금은 3\n",
      "플레이어2 승리\n",
      "플레이어2 승리\n"
     ]
    }
   ],
   "source": [
    "from random import *\n",
    "\n",
    "class Dice:\n",
    "    def __init__(self, player):\n",
    "        self.player = player\n",
    "        \n",
    "    def run_dice(self):\n",
    "        self.dice = randint(1, 6)\n",
    "        print('{0} - 주사위 눈금은 {1}'.format(self.player, self.dice))\n",
    "        \n",
    "    def who_win(self, versus):\n",
    "        if (self.dice > versus.dice):\n",
    "            print(\"{0} 승리\".format(self.player))\n",
    "        elif (self.dice < versus.dice):\n",
    "            print(\"{0} 승리\".format(versus.player))\n",
    "        else:\n",
    "            print(\"비김 {0} vs {1}\".format(self.dice, versus.dice))\n",
    "            \n",
    "    def get_dice(self):\n",
    "        return self.dice\n",
    "\n",
    "player1 = Dice('플레이어1')\n",
    "player1.run_dice()\n",
    "\n",
    "player2 = Dice('플레이어2')\n",
    "player2.run_dice()\n",
    "\n",
    "player1.who_win(player2)\n",
    "player2.who_win(player1)"
   ]
  },
  {
   "cell_type": "code",
   "execution_count": 73,
   "id": "352de17c",
   "metadata": {},
   "outputs": [],
   "source": [
    "# 숙제 3.\n",
    "# 가상의 보드 게임을 만든다.\n",
    "# 한 바퀴를 도는데 총 주사위 눈금이 40칸 필요하다.\n",
    "# 1) 한 바퀴를 돌면 자금으로 100만원이 주어진다.\n",
    "# 2) 주사위의 특수 능력을 활용할 수 있다.\n",
    "#    2-1) 숫자 2: 모두의 자금에서 50만원을 깐다.\n",
    "#    2-2) 숫자 4: 자신의 자금의 5%가 증발한다.\n",
    "#    2-3) 숫자 6: 모두의 자금에 30만원을 추가한다.\n",
    "#    2-4) 모든 플레이어들이 주사위를 돌린 눈금이 짝수일 경우 비밀 상점이 열린다.\n",
    "#         비밀 상점 물품: 레드 티켓(지정한 상대의 주사위가 5턴 동안 정지함) - 100만원\n",
    "#                        옐로 티켓(지정한 상대ㅢ 주사위가 2턴간 정지함) - 50만원\n",
    "#                        카오스 티켓(아무나 한 명 2턴간 정지함) - 10만원\n",
    "#                        뽑기 티켓(1만원, 2만원, 5만원, 10만원, 20만원, 50만원, 100만원) - 10만원\n",
    "#                        연속 굴리기(1회, 2회, 3회, 4회) - 20만원\n",
    "#    2-5) 플레이어가 필드를 3바퀴 돌면 게임이 종료된다. (주사위 눈금 총 120칸 필요)\n",
    "#    2-6) 게임이 종료된 이후 가장 많은 자금을 가지고 있는 사람이 경기에 승리하게 된다.\n",
    "# 게임 팁: 1) 일단 돈을 많이 모은다\n",
    "#          2) 비밀 상점을 활용하여 대박(뽑기)을 노리거나 상대방을 행동 불능에 빠지게 한다.\n",
    "#          3) 유리한 상황에서 연속 굴리기를 통해 게임을 빠르게 끝내도록 유도한다.\n",
    "#          4) 다수가 함께 플레이 할 경우 연속 굴리기를 통해 정치도 가능하다 ?\n",
    "#          5) 적자대전의 경우 숫자 4를 확보하는 것이 유리할 수 있다."
   ]
  },
  {
   "cell_type": "code",
   "execution_count": 7,
   "id": "4d09b4db",
   "metadata": {},
   "outputs": [],
   "source": [
    "def value_support(x):\n",
    "    return x[1]"
   ]
  },
  {
   "cell_type": "code",
   "execution_count": null,
   "id": "54156016",
   "metadata": {},
   "outputs": [],
   "source": [
    "# 1) Game 클래스\n",
    "#    1-1) 게임을 종료할 상황인지 판정\n",
    "#    1-2) 비밀 상점 온/오프 판정\n",
    "#    1-3) 승리자 판정\n",
    "#    1-4) 비밀 상점 물품 사용 판정\n",
    "#    1-5) 광역 스킬 시전 판정\n",
    "# 2) Player 클래스\n",
    "# 3) Dice 클래스 (2번 문제 코드 재활용)\n",
    "\n",
    "class Game:\n",
    "    def __init__(self):\n",
    "        self.secret_store = False\n",
    "        self.game_end = False\n",
    "        self.use_chaos_ticket = False\n",
    "        self.player_arr = []\n",
    "        self.dice_sum = 0\n",
    "        \n",
    "    def open_secret_store(self):\n",
    "        print(\"비밀 상점이 열렸으니 플레이어들은 물품을 구매해주세요!!!\")\n",
    "        # TODO: 숙제\n",
    "        # 비밀 상점 기능은 실제 루프 돌면서 주사위를 돌리는 플레이어들의 행동을 제한해야함\n",
    "        # 혹은 연속 돌리기 기능의 경우 다른 플레이어들은 정지 상태로 자신만 돌아야함\n",
    "        \n",
    "        # 전략\n",
    "        # 1) 연속 돌리기 - 현재 사용자 외에 모두 정지!\n",
    "        # 2) 특정 대상의 정지 - 지정한 사용자만 정지!\n",
    "        \n",
    "        while True:\n",
    "            print(\"1. 레드 티켓(5회 정지), 2. 옐로 티켓(2회 정지), \" +\n",
    "                  \"3. 카오스 티켓(랜덤 2회 정지), 4. 뽑기(돈), 5. 연속 굴리기(1 ~ 4회)\")\n",
    "            select = int(input(\"아이템을 고르세요: \"))\n",
    "\n",
    "            if (select == 1):\n",
    "                print(\"레드 티켓 - 정지시킬 대상을 고르세요!!!\")\n",
    "                print(\"현재 사용자 리스트: \")\n",
    "                idx = int(input(\"사용자 인덱스를 선택하세요: \"))\n",
    "                break\n",
    "            elif (select == 2):\n",
    "                print(\"옐로 티켓 - 정지시킬 대상을 고르세요!!!\")\n",
    "                print(\"현재 사용자 리스트: \")\n",
    "                idx = int(input(\"사용자 인덱스를 선택하세요: \"))\n",
    "                break\n",
    "            elif (select == 3):\n",
    "                print(\"카오스 티켓 - 랜덤 대상을 정지시킵니다(본인 포함)!!!\")\n",
    "                break\n",
    "            elif (select == 4):\n",
    "                print(\"뽑기를 시작합니다!\")\n",
    "                break\n",
    "            elif (select == 5):\n",
    "                print(\"연속 굴리기(1 ~ 4회)!!!\")\n",
    "                break\n",
    "            else:\n",
    "                print(\"잘못된 숫자 입력! 다시 선택하세요!\")\n",
    "        \n",
    "    def dice_skill(self, player_arr, player_info, cur_dice):\n",
    "        print(\"{0} - 주사위 스킬이 발동됩니다!\".format(player_info.player))\n",
    "\n",
    "        # 파이썬에는 switch가 없으므로 if로 구현해야함!\n",
    "        if cur_dice == 2:\n",
    "            print(\"모두의 자금에서 50만원을 깐다.\")\n",
    "            \n",
    "            for i in range(len(player_arr)):\n",
    "                player_arr[i].withdraw(500000)\n",
    "        elif cur_dice == 4:\n",
    "            print(\"자신의 자금의 5%가 증발한다.\")\n",
    "            # TODO: 숙제\n",
    "            player_info.withdraw_percent(5)\n",
    "        elif cur_dice == 6:\n",
    "            print(\"모두의 자금에 30만원을 추가한다.\")\n",
    "            \n",
    "            for i in range(len(player_arr)):\n",
    "                player_arr[i].deposit(300000)\n",
    "        \n",
    "        \n",
    "    def start_game(self):\n",
    "        self.player = int(input(\"몇 명이 플레이 하는 게임입니꽈 ? \"))\n",
    "        \n",
    "        for i in range(self.player):\n",
    "            name = input(\"플레이어 이름을 적어주세요\")\n",
    "            self.player_arr.append(Player(name))\n",
    "            \n",
    "        while (not(self.game_end)):\n",
    "            for i in range(self.player):\n",
    "                # 정지 티켓 계열 및 연속 뽑기 유무 판단이 필요함\n",
    "                # 누굴 정지 시켜야 하는지\n",
    "                # 몇 회 정지 해야 하는지\n",
    "                # ex) A, B - 정지 5회, C\n",
    "                #     A 굴리고 다음턴 B 정지, C 굴림\n",
    "                #     A 굴리고 B가 5회 정지하고 C를 굴리면 역시 정지 티켓의 의미가 없음\n",
    "                # 루프를 돌면서 실제 몇 번 정지했는지 검사하는 루틴이 필요함을 의미함\n",
    "                self.player_arr[i].run_dice()\n",
    "                cur_dice = self.player_arr[i].get_dice()\n",
    "                self.dice_sum += cur_dice\n",
    "                \n",
    "                if (not(cur_dice % 2)):\n",
    "                    self.dice_skill(self.player_arr, self.player_arr[i], cur_dice)\n",
    "                    \n",
    "                self.player_arr[i].update_location(cur_dice)\n",
    "                    \n",
    "                if (self.player_arr[i].get_lap() == 3):\n",
    "                    self.game_end = True\n",
    "                    break\n",
    "                    \n",
    "            if (self.game_end):\n",
    "                break\n",
    "                \n",
    "            # 실제 비밀 상점이 열려서 동작하는 구간은 이 아래\n",
    "            if (not(self.dice_sum % 2)):\n",
    "                self.open_secret_store()\n",
    "                \n",
    "            self.dice_sum = 0\n",
    "            \n",
    "        # 정산을 통해 승자 판정(게임을 먼저 끝내도 4번만 나왔으면 질 수도 있음)\n",
    "        # TODO: 숙제\n",
    "        # map\n",
    "        # \"이름\": 값, \"이름\": 값\n",
    "        # 키: 밸류, 키: 밸류\n",
    "        income = {}\n",
    "        \n",
    "        for i in range(len(self.player_arr)):\n",
    "            print(self.player_arr[i].__dict__)\n",
    "            \n",
    "            # 가만보니 이 코드엔 숨겨진 문제가 있음\n",
    "            # 뭘까요 ?\n",
    "            # 1) 이 코드의 목적은 무엇인가 ? 결국 정산을 통해 승자를 판정하는 것임\n",
    "            # 2) 이 코드는 income(수입)이 가장 높은 경우만 찾음(승자를 찾지 못함)\n",
    "            #income.append(self.palyer_arr[i].get_money())\n",
    "            \n",
    "            income[self.player_arr[i].get_player()] = self.player_arr[i].get_money()\n",
    "            \n",
    "        print(\"income: \", income)\n",
    "        \n",
    "        # 위의 문제되는 케이스는 Map을 통해 제거했고\n",
    "        # 추가적으로 value 기반 정렬을 통해 값이 큰 녀석으로 정렬이 가능\n",
    "        sorted_income = sorted(income.items(), key=value_support, reverse=True)\n",
    "        \n",
    "        print(\"income: \", sorted_income)\n",
    "        \n",
    "        print(\"최종 승자: {0}\".format(sorted_income[0]))\n",
    "        \n",
    "class Player(Dice):\n",
    "    def __init__(self, player):\n",
    "        super(Player, self).__init__(player)\n",
    "        # 몇 바퀴 돌았는지\n",
    "        self.lap = 0\n",
    "        # 현재 위치\n",
    "        self.location = 0\n",
    "        # 소지금\n",
    "        self.money = 0\n",
    "        \n",
    "        print(\"Player 생성자 호출!\")\n",
    "        \n",
    "    def update_location(self, dice):\n",
    "        self.location += dice\n",
    "        \n",
    "        if (self.location >= 40):\n",
    "            self.location -= 40\n",
    "            self.lap += 1\n",
    "            \n",
    "            self.money += 1000000\n",
    "            \n",
    "        print(\"위치값 갱신 lap - {0}, location - {1}\".format(self.lap, self.location))\n",
    "            \n",
    "    def get_lap(self):\n",
    "        return self.lap\n",
    "        \n",
    "    def withdraw(self, money):\n",
    "        self.money -= money\n",
    "        print(\"출금: 내돈 = {0}\".format(self.money))\n",
    "        \n",
    "    def deposit(self, money):\n",
    "        self.money += money\n",
    "        print(\"입금: 내돈 = {0}\".format(self.money))\n",
    "        \n",
    "    def withdraw_percent(self, percent):\n",
    "        #self.money = self.money - self.money * 5 / 100\n",
    "        #self.money = self.money * (1 - 5 / 100)\n",
    "        #self.money -= self.money * (5 / 100)\n",
    "        # a x b = ab\n",
    "        self.money -= self.money * percent / 100\n",
    "        print(\"퍼센트 출금: 내돈 = {0}\".format(self.money))\n",
    "        \n",
    "    def get_money(self):\n",
    "        return self.money\n",
    "    \n",
    "    def get_player(self):\n",
    "        return self.player\n",
    "        \n",
    "board_game = Game()\n",
    "board_game.start_game()\n",
    "\n",
    "print(board_game.__dict__)"
   ]
  },
  {
   "cell_type": "code",
   "execution_count": null,
   "id": "d36a5670",
   "metadata": {},
   "outputs": [],
   "source": []
  },
  {
   "cell_type": "code",
   "execution_count": null,
   "id": "8acc8fb0",
   "metadata": {},
   "outputs": [],
   "source": []
  }
 ],
 "metadata": {
  "kernelspec": {
   "display_name": "Python 3",
   "language": "python",
   "name": "python3"
  },
  "language_info": {
   "codemirror_mode": {
    "name": "ipython",
    "version": 3
   },
   "file_extension": ".py",
   "mimetype": "text/x-python",
   "name": "python",
   "nbconvert_exporter": "python",
   "pygments_lexer": "ipython3",
   "version": "3.8.8"
  }
 },
 "nbformat": 4,
 "nbformat_minor": 5
}
