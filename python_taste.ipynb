{
 "cells": [
  {
   "cell_type": "code",
   "execution_count": 1,
   "id": "15e4f7d9",
   "metadata": {},
   "outputs": [],
   "source": [
    "# 파이썬에서 주석은 '#' 으로 작성합니다."
   ]
  },
  {
   "cell_type": "code",
   "execution_count": 2,
   "id": "cdd54769",
   "metadata": {},
   "outputs": [],
   "source": [
    "### File Write\n",
    "data = \"hello\"\n",
    "with open(\"test.txt\", \"w\") as fp:\n",
    "    fp.write(data)"
   ]
  },
  {
   "cell_type": "code",
   "execution_count": 3,
   "id": "beabfad6",
   "metadata": {},
   "outputs": [
    {
     "name": "stdout",
     "output_type": "stream",
     "text": [
      "파이썬 x쉽네 ?\n",
      "hello\n"
     ]
    }
   ],
   "source": [
    "### File Read\n",
    "with open(\"test.txt\", \"r\") as fp:\n",
    "    print(\"파이썬 x쉽네 ?\")\n",
    "    print(fp.read())"
   ]
  },
  {
   "cell_type": "code",
   "execution_count": 4,
   "id": "e680b041",
   "metadata": {},
   "outputs": [
    {
     "name": "stdout",
     "output_type": "stream",
     "text": [
      " C 드라이브의 볼륨에는 이름이 없습니다.\n",
      " 볼륨 일련 번호: 0426-7755\n",
      "\n",
      " C:\\Users\\ekank\\python_works\\PythonWorkshop 디렉터리\n",
      "\n",
      "2021-09-17  오후 06:16    <DIR>          .\n",
      "2021-09-17  오후 06:16    <DIR>          ..\n",
      "2021-09-17  오후 05:46             1,928 .gitignore\n",
      "2021-09-17  오후 06:16    <DIR>          .ipynb_checkpoints\n",
      "2021-09-17  오후 05:46                51 README.md\n",
      "2021-09-17  오후 06:16                 5 test.txt\n",
      "2021-09-17  오후 06:16                72 Untitled.ipynb\n",
      "               4개 파일               2,056 바이트\n",
      "               3개 디렉터리  364,761,505,792 바이트 남음\n"
     ]
    }
   ],
   "source": [
    "# Windows\n",
    "!dir"
   ]
  },
  {
   "cell_type": "code",
   "execution_count": null,
   "id": "14c88a84",
   "metadata": {},
   "outputs": [],
   "source": []
  }
 ],
 "metadata": {
  "kernelspec": {
   "display_name": "Python 3",
   "language": "python",
   "name": "python3"
  },
  "language_info": {
   "codemirror_mode": {
    "name": "ipython",
    "version": 3
   },
   "file_extension": ".py",
   "mimetype": "text/x-python",
   "name": "python",
   "nbconvert_exporter": "python",
   "pygments_lexer": "ipython3",
   "version": "3.8.8"
  }
 },
 "nbformat": 4,
 "nbformat_minor": 5
}
