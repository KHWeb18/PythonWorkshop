{
 "cells": [
  {
   "cell_type": "code",
   "execution_count": 1,
   "id": "29ba4114",
   "metadata": {},
   "outputs": [
    {
     "name": "stdout",
     "output_type": "stream",
     "text": [
      "50\n"
     ]
    }
   ],
   "source": [
    "f = open('test.txt', 'w')\n",
    "print(f.write('Python Basic Programming For Interconnect with Web'))\n",
    "f.close()"
   ]
  },
  {
   "cell_type": "code",
   "execution_count": 2,
   "id": "ad96798a",
   "metadata": {},
   "outputs": [
    {
     "name": "stdout",
     "output_type": "stream",
     "text": [
      "Python Basic Programming For Interconnect with Web\n"
     ]
    }
   ],
   "source": [
    "!type test.txt\n"
   ]
  },
  {
   "cell_type": "code",
   "execution_count": 3,
   "id": "9aa9ee2e",
   "metadata": {},
   "outputs": [
    {
     "name": "stderr",
     "output_type": "stream",
     "text": [
      "'man'은(는) 내부 또는 외부 명령, 실행할 수 있는 프로그램, 또는\n",
      "배치 파일이 아닙니다.\n"
     ]
    }
   ],
   "source": [
    "!man open"
   ]
  },
  {
   "cell_type": "code",
   "execution_count": 4,
   "id": "952ceb00",
   "metadata": {},
   "outputs": [
    {
     "name": "stdout",
     "output_type": "stream",
     "text": [
      " C 드라이브의 볼륨에는 이름이 없습니다.\n",
      " 볼륨 일련 번호: C6EE-8033\n",
      "\n",
      " C:\\Users\\USER\\python_works\\PythonWorkshop 디렉터리\n",
      "\n",
      "2021-09-24  오후 06:01    <DIR>          .\n",
      "2021-09-24  오후 06:01    <DIR>          ..\n",
      "2021-09-17  오후 05:48             1,928 .gitignore\n",
      "2021-09-24  오후 05:55    <DIR>          .ipynb_checkpoints\n",
      "2021-09-23  오후 05:42            12,982 Array.ipynb\n",
      "2021-09-23  오후 08:04             7,900 ControlStatement.ipynb\n",
      "2021-09-23  오후 04:31             3,429 DataType.ipynb\n",
      "2021-09-24  오후 06:01             1,636 FileIO.ipynb\n",
      "2021-09-24  오후 05:55            14,338 Function(Method).ipynb\n",
      "2021-09-17  오후 07:35            19,883 python_taste.ipynb\n",
      "2021-09-17  오후 05:48                51 README.md\n",
      "2021-09-17  오후 07:07            27,952 request_success.jpg\n",
      "2021-09-24  오후 05:58                50 test.txt\n",
      "2021-09-17  오후 07:33            34,634 test_1,jpg\n",
      "2021-09-17  오후 07:33            16,220 test_10,jpg\n",
      "2021-09-17  오후 07:33            14,254 test_11,jpg\n",
      "2021-09-17  오후 07:33            46,651 test_12,jpg\n",
      "2021-09-17  오후 07:33            51,867 test_13,jpg\n",
      "2021-09-17  오후 07:33            93,879 test_14,jpg\n",
      "2021-09-17  오후 07:33            48,878 test_15,jpg\n",
      "2021-09-17  오후 07:33            17,191 test_16,jpg\n",
      "2021-09-17  오후 07:33            11,908 test_17,jpg\n",
      "2021-09-17  오후 07:33            17,569 test_18,jpg\n",
      "2021-09-17  오후 07:33             5,320 test_19,jpg\n",
      "2021-09-17  오후 07:33            57,033 test_2,jpg\n",
      "2021-09-17  오후 07:33            42,289 test_20,jpg\n",
      "2021-09-17  오후 07:33            23,386 test_21,jpg\n",
      "2021-09-17  오후 07:33            29,162 test_22,jpg\n",
      "2021-09-17  오후 07:33             4,968 test_23,jpg\n",
      "2021-09-17  오후 07:33            98,572 test_24,jpg\n",
      "2021-09-17  오후 07:33            56,046 test_25,jpg\n",
      "2021-09-17  오후 07:33            20,978 test_26,jpg\n",
      "2021-09-17  오후 07:33            85,069 test_27,jpg\n",
      "2021-09-17  오후 07:33            22,089 test_28,jpg\n",
      "2021-09-17  오후 07:33            19,727 test_29,jpg\n",
      "2021-09-17  오후 07:33            42,950 test_3,jpg\n",
      "2021-09-17  오후 07:33            68,425 test_30,jpg\n",
      "2021-09-17  오후 07:33            30,853 test_31,jpg\n",
      "2021-09-17  오후 07:33             7,760 test_32,jpg\n",
      "2021-09-17  오후 07:33             8,012 test_33,jpg\n",
      "2021-09-17  오후 07:33            63,118 test_34,jpg\n",
      "2021-09-17  오후 07:33            64,182 test_35,jpg\n",
      "2021-09-17  오후 07:33            13,638 test_36,jpg\n",
      "2021-09-17  오후 07:33            27,139 test_37,jpg\n",
      "2021-09-17  오후 07:33            52,638 test_38,jpg\n",
      "2021-09-17  오후 07:33           178,996 test_39,jpg\n",
      "2021-09-17  오후 07:33            40,994 test_4,jpg\n",
      "2021-09-17  오후 07:33            18,784 test_40,jpg\n",
      "2021-09-17  오후 07:33            51,377 test_41,jpg\n",
      "2021-09-17  오후 07:33           239,683 test_42,jpg\n",
      "2021-09-17  오후 07:33            45,041 test_43,jpg\n",
      "2021-09-17  오후 07:33            37,967 test_44,jpg\n",
      "2021-09-17  오후 07:33            41,603 test_45,jpg\n",
      "2021-09-17  오후 07:33            41,864 test_46,jpg\n",
      "2021-09-17  오후 07:33            25,813 test_47,jpg\n",
      "2021-09-17  오후 07:33            57,596 test_48,jpg\n",
      "2021-09-17  오후 07:33           243,924 test_49,jpg\n",
      "2021-09-17  오후 07:33             5,796 test_5,jpg\n",
      "2021-09-17  오후 07:33            11,374 test_50,jpg\n",
      "2021-09-17  오후 07:33            31,225 test_51,jpg\n",
      "2021-09-17  오후 07:33            24,256 test_52,jpg\n",
      "2021-09-17  오후 07:33            24,474 test_53,jpg\n",
      "2021-09-17  오후 07:33           133,434 test_54,jpg\n",
      "2021-09-17  오후 07:33           124,637 test_55,jpg\n",
      "2021-09-17  오후 07:33            39,760 test_56,jpg\n",
      "2021-09-17  오후 07:33            21,750 test_57,jpg\n",
      "2021-09-17  오후 07:33            63,489 test_58,jpg\n",
      "2021-09-17  오후 07:33            40,028 test_59,jpg\n",
      "2021-09-17  오후 07:33            34,126 test_6,jpg\n",
      "2021-09-17  오후 07:33           240,135 test_60,jpg\n",
      "2021-09-17  오후 07:33            44,847 test_61,jpg\n",
      "2021-09-17  오후 07:33           106,472 test_62,jpg\n",
      "2021-09-17  오후 07:33            16,862 test_63,jpg\n",
      "2021-09-17  오후 07:33            45,798 test_64,jpg\n",
      "2021-09-17  오후 07:33            42,848 test_65,jpg\n",
      "2021-09-17  오후 07:33             7,513 test_66,jpg\n",
      "2021-09-17  오후 07:33             9,758 test_67,jpg\n",
      "2021-09-17  오후 07:33           168,659 test_68,jpg\n",
      "2021-09-17  오후 07:33           406,987 test_69,jpg\n",
      "2021-09-17  오후 07:33            40,963 test_7,jpg\n",
      "2021-09-17  오후 07:33           195,366 test_70,jpg\n",
      "2021-09-17  오후 07:33            50,643 test_71,jpg\n",
      "2021-09-17  오후 07:33           241,285 test_72,jpg\n",
      "2021-09-17  오후 07:33           128,228 test_73,jpg\n",
      "2021-09-17  오후 07:33           293,279 test_74,jpg\n",
      "2021-09-17  오후 07:33           110,825 test_75,jpg\n",
      "2021-09-17  오후 07:33            15,612 test_76,jpg\n",
      "2021-09-17  오후 07:33             7,490 test_77,jpg\n",
      "2021-09-17  오후 07:33           114,259 test_78,jpg\n",
      "2021-09-17  오후 07:33            64,488 test_79,jpg\n",
      "2021-09-17  오후 07:33           186,867 test_8,jpg\n",
      "2021-09-17  오후 07:33           182,364 test_80,jpg\n",
      "2021-09-17  오후 07:33            18,010 test_9,jpg\n",
      "              90개 파일           5,604,103 바이트\n",
      "               3개 디렉터리  18,650,025,984 바이트 남음\n"
     ]
    }
   ],
   "source": [
    "!dir\n"
   ]
  },
  {
   "cell_type": "code",
   "execution_count": 6,
   "id": "7ebe0bbb",
   "metadata": {},
   "outputs": [
    {
     "name": "stdout",
     "output_type": "stream",
     "text": [
      "Python Basic Programming For Interconnect with Web\n",
      "True\n"
     ]
    }
   ],
   "source": [
    "#Unix의 핵심 철학\n",
    "#모든것은 파일이다\n",
    "#그러다 보니 읽기던 쓰기던 뭘 하던 oepn()을 먼저 하게 되어있음.\n",
    "\n",
    "f = open('test.txt')\n",
    "print(f.read())\n",
    "f.close()\n",
    "print(f.closed)"
   ]
  },
  {
   "cell_type": "code",
   "execution_count": 8,
   "id": "a1b7fc58",
   "metadata": {},
   "outputs": [
    {
     "name": "stdout",
     "output_type": "stream",
     "text": [
      "['Python Basic Programming For Interconnect with Web\\n', 'Test\\n', 'Real ?']\n",
      "False\n",
      "True\n"
     ]
    }
   ],
   "source": [
    "with open('test.txt') as f:\n",
    "    print(f.readlines())\n",
    "    print(f.closed)\n",
    "print(f.closed)"
   ]
  },
  {
   "cell_type": "code",
   "execution_count": 21,
   "id": "12f6789d",
   "metadata": {},
   "outputs": [
    {
     "name": "stdout",
     "output_type": "stream",
     "text": [
      "['red', 'green', 'blue']\n"
     ]
    }
   ],
   "source": [
    "colors = ['red', 'green', 'blue']\n",
    "print(colors)"
   ]
  },
  {
   "cell_type": "code",
   "execution_count": 22,
   "id": "2f9e2689",
   "metadata": {},
   "outputs": [
    {
     "name": "stdout",
     "output_type": "stream",
     "text": [
      "True\n"
     ]
    }
   ],
   "source": [
    "#globals를 활용하는 방법\n",
    "# 실제 객체가 만들어 졌는지 안만들어졌는지 등을 아래와 같은 형식으로 체크할 수 있음\n",
    "def chk_colors():\n",
    "    if 'colors' in globals():\n",
    "        print(\"True\")\n",
    "    else:\n",
    "        print(\"False\")\n",
    "        \n",
    "chk_colors()"
   ]
  },
  {
   "cell_type": "code",
   "execution_count": 13,
   "id": "d94b93e0",
   "metadata": {},
   "outputs": [
    {
     "data": {
      "text/plain": [
       "{'__name__': '__main__',\n",
       " '__doc__': 'Automatically created module for IPython interactive environment',\n",
       " '__package__': None,\n",
       " '__loader__': None,\n",
       " '__spec__': None,\n",
       " '__builtin__': <module 'builtins' (built-in)>,\n",
       " '__builtins__': <module 'builtins' (built-in)>,\n",
       " '_ih': ['',\n",
       "  \"f = open('test.txt', 'w')\\nprint(f.write('Python Basic Programming For Interconnect with Web'))\\nf.close()\",\n",
       "  \"get_ipython().system('type test.txt')\",\n",
       "  \"get_ipython().system('man open')\",\n",
       "  \"get_ipython().system('dir')\",\n",
       "  \"f = open('test.txt')\\nprint(f.read())\\nf.close()\\nprint(f,closed)\",\n",
       "  \"f = open('test.txt')\\nprint(f.read())\\nf.close()\\nprint(f.closed)\",\n",
       "  \"with open('test.txt') as f:\\n    print(f.readlines())\\n    print(f.closed)\\nprint(f.closed)\",\n",
       "  \"with open('test.txt') as f:\\n    print(f.readlines())\\n    print(f.closed)\\nprint(f.closed)\",\n",
       "  \"colors = ['red', 'green', 'blue']\\nprint(colors)\",\n",
       "  'def chk_colors()\\n    if \\'colors\\' in globals():\\n        print(\"True\")\\n    else:\\n        print(\"False\")',\n",
       "  'def chk_colors():\\n    if \\'colors\\' in globals():\\n        print(\"True\")\\n    else:\\n        print(\"False\")',\n",
       "  'def chk_colors():\\n    if \\'colors\\' in globals():\\n        print(\"True\")\\n    else:\\n        print(\"False\")\\n        \\nchk_colors()',\n",
       "  'globals()'],\n",
       " '_oh': {},\n",
       " '_dh': ['C:\\\\Users\\\\USER\\\\python_works\\\\PythonWorkshop'],\n",
       " 'In': ['',\n",
       "  \"f = open('test.txt', 'w')\\nprint(f.write('Python Basic Programming For Interconnect with Web'))\\nf.close()\",\n",
       "  \"get_ipython().system('type test.txt')\",\n",
       "  \"get_ipython().system('man open')\",\n",
       "  \"get_ipython().system('dir')\",\n",
       "  \"f = open('test.txt')\\nprint(f.read())\\nf.close()\\nprint(f,closed)\",\n",
       "  \"f = open('test.txt')\\nprint(f.read())\\nf.close()\\nprint(f.closed)\",\n",
       "  \"with open('test.txt') as f:\\n    print(f.readlines())\\n    print(f.closed)\\nprint(f.closed)\",\n",
       "  \"with open('test.txt') as f:\\n    print(f.readlines())\\n    print(f.closed)\\nprint(f.closed)\",\n",
       "  \"colors = ['red', 'green', 'blue']\\nprint(colors)\",\n",
       "  'def chk_colors()\\n    if \\'colors\\' in globals():\\n        print(\"True\")\\n    else:\\n        print(\"False\")',\n",
       "  'def chk_colors():\\n    if \\'colors\\' in globals():\\n        print(\"True\")\\n    else:\\n        print(\"False\")',\n",
       "  'def chk_colors():\\n    if \\'colors\\' in globals():\\n        print(\"True\")\\n    else:\\n        print(\"False\")\\n        \\nchk_colors()',\n",
       "  'globals()'],\n",
       " 'Out': {},\n",
       " 'get_ipython': <bound method InteractiveShell.get_ipython of <ipykernel.zmqshell.ZMQInteractiveShell object at 0x000001D0E0A63850>>,\n",
       " 'exit': <IPython.core.autocall.ZMQExitAutocall at 0x1d0e0ad5640>,\n",
       " 'quit': <IPython.core.autocall.ZMQExitAutocall at 0x1d0e0ad5640>,\n",
       " '_': '',\n",
       " '__': '',\n",
       " '___': '',\n",
       " '_i': 'def chk_colors():\\n    if \\'colors\\' in globals():\\n        print(\"True\")\\n    else:\\n        print(\"False\")\\n        \\nchk_colors()',\n",
       " '_ii': 'def chk_colors():\\n    if \\'colors\\' in globals():\\n        print(\"True\")\\n    else:\\n        print(\"False\")',\n",
       " '_iii': 'def chk_colors()\\n    if \\'colors\\' in globals():\\n        print(\"True\")\\n    else:\\n        print(\"False\")',\n",
       " '_i1': \"f = open('test.txt', 'w')\\nprint(f.write('Python Basic Programming For Interconnect with Web'))\\nf.close()\",\n",
       " 'f': <_io.TextIOWrapper name='test.txt' mode='r' encoding='cp949'>,\n",
       " '_i2': '!type test.txt',\n",
       " '_exit_code': 0,\n",
       " '_i3': '!man open',\n",
       " '_i4': '!dir',\n",
       " '_i5': \"f = open('test.txt')\\nprint(f.read())\\nf.close()\\nprint(f,closed)\",\n",
       " '_i6': \"f = open('test.txt')\\nprint(f.read())\\nf.close()\\nprint(f.closed)\",\n",
       " '_i7': \"with open('test.txt') as f:\\n    print(f.readlines())\\n    print(f.closed)\\nprint(f.closed)\",\n",
       " '_i8': \"with open('test.txt') as f:\\n    print(f.readlines())\\n    print(f.closed)\\nprint(f.closed)\",\n",
       " '_i9': \"colors = ['red', 'green', 'blue']\\nprint(colors)\",\n",
       " 'colors': ['red', 'green', 'blue'],\n",
       " '_i10': 'def chk_colors()\\n    if \\'colors\\' in globals():\\n        print(\"True\")\\n    else:\\n        print(\"False\")',\n",
       " '_i11': 'def chk_colors():\\n    if \\'colors\\' in globals():\\n        print(\"True\")\\n    else:\\n        print(\"False\")',\n",
       " 'chk_colors': <function __main__.chk_colors()>,\n",
       " '_i12': 'def chk_colors():\\n    if \\'colors\\' in globals():\\n        print(\"True\")\\n    else:\\n        print(\"False\")\\n        \\nchk_colors()',\n",
       " '_i13': 'globals()'}"
      ]
     },
     "execution_count": 13,
     "metadata": {},
     "output_type": "execute_result"
    }
   ],
   "source": [
    "globals()"
   ]
  },
  {
   "cell_type": "code",
   "execution_count": 23,
   "id": "bafefacc",
   "metadata": {},
   "outputs": [
    {
     "name": "stdout",
     "output_type": "stream",
     "text": [
      "False\n"
     ]
    }
   ],
   "source": [
    "import pickle\n",
    "\n",
    "f = open('colors', 'wb')\n",
    "pickle.dump(colors, f)\n",
    "f.close()\n",
    "\n",
    "del colors\n",
    "\n",
    "chk_colors()"
   ]
  },
  {
   "cell_type": "code",
   "execution_count": 18,
   "id": "72073ae6",
   "metadata": {},
   "outputs": [
    {
     "data": {
      "text/plain": [
       "{'__name__': '__main__',\n",
       " '__doc__': 'Automatically created module for IPython interactive environment',\n",
       " '__package__': None,\n",
       " '__loader__': None,\n",
       " '__spec__': None,\n",
       " '__builtin__': <module 'builtins' (built-in)>,\n",
       " '__builtins__': <module 'builtins' (built-in)>,\n",
       " '_ih': ['',\n",
       "  \"f = open('test.txt', 'w')\\nprint(f.write('Python Basic Programming For Interconnect with Web'))\\nf.close()\",\n",
       "  \"get_ipython().system('type test.txt')\",\n",
       "  \"get_ipython().system('man open')\",\n",
       "  \"get_ipython().system('dir')\",\n",
       "  \"f = open('test.txt')\\nprint(f.read())\\nf.close()\\nprint(f,closed)\",\n",
       "  \"f = open('test.txt')\\nprint(f.read())\\nf.close()\\nprint(f.closed)\",\n",
       "  \"with open('test.txt') as f:\\n    print(f.readlines())\\n    print(f.closed)\\nprint(f.closed)\",\n",
       "  \"with open('test.txt') as f:\\n    print(f.readlines())\\n    print(f.closed)\\nprint(f.closed)\",\n",
       "  \"colors = ['red', 'green', 'blue']\\nprint(colors)\",\n",
       "  'def chk_colors()\\n    if \\'colors\\' in globals():\\n        print(\"True\")\\n    else:\\n        print(\"False\")',\n",
       "  'def chk_colors():\\n    if \\'colors\\' in globals():\\n        print(\"True\")\\n    else:\\n        print(\"False\")',\n",
       "  'def chk_colors():\\n    if \\'colors\\' in globals():\\n        print(\"True\")\\n    else:\\n        print(\"False\")\\n        \\nchk_colors()',\n",
       "  'globals()',\n",
       "  \"import pickle\\n\\nf = open('colors', 'wb')\\npickle.dump(colors, f)\\nf.close()\\n\\ndel colors\\n\\nchk_colors(0)\",\n",
       "  \"import pickle\\n\\nf = open('colors', 'wb')\\npickle.dump(colors, f)\\nf.close()\\n\\ndel colors\\n\\nchk_colors()\",\n",
       "  \"import pickle\\n\\nf = open('colors', 'wb')\\npickle.dump(colors. f)\\nf.close()\\n\\ndel colors\\n\\nchk_colors()\",\n",
       "  \"import pickle\\n\\nf = open('colors', 'wb')\\npickle.dump(colors, f)\\nf.close()\\n\\ndel colors\\n\\nchk_colors()\",\n",
       "  'globals()'],\n",
       " '_oh': {13: {...}},\n",
       " '_dh': ['C:\\\\Users\\\\USER\\\\python_works\\\\PythonWorkshop'],\n",
       " 'In': ['',\n",
       "  \"f = open('test.txt', 'w')\\nprint(f.write('Python Basic Programming For Interconnect with Web'))\\nf.close()\",\n",
       "  \"get_ipython().system('type test.txt')\",\n",
       "  \"get_ipython().system('man open')\",\n",
       "  \"get_ipython().system('dir')\",\n",
       "  \"f = open('test.txt')\\nprint(f.read())\\nf.close()\\nprint(f,closed)\",\n",
       "  \"f = open('test.txt')\\nprint(f.read())\\nf.close()\\nprint(f.closed)\",\n",
       "  \"with open('test.txt') as f:\\n    print(f.readlines())\\n    print(f.closed)\\nprint(f.closed)\",\n",
       "  \"with open('test.txt') as f:\\n    print(f.readlines())\\n    print(f.closed)\\nprint(f.closed)\",\n",
       "  \"colors = ['red', 'green', 'blue']\\nprint(colors)\",\n",
       "  'def chk_colors()\\n    if \\'colors\\' in globals():\\n        print(\"True\")\\n    else:\\n        print(\"False\")',\n",
       "  'def chk_colors():\\n    if \\'colors\\' in globals():\\n        print(\"True\")\\n    else:\\n        print(\"False\")',\n",
       "  'def chk_colors():\\n    if \\'colors\\' in globals():\\n        print(\"True\")\\n    else:\\n        print(\"False\")\\n        \\nchk_colors()',\n",
       "  'globals()',\n",
       "  \"import pickle\\n\\nf = open('colors', 'wb')\\npickle.dump(colors, f)\\nf.close()\\n\\ndel colors\\n\\nchk_colors(0)\",\n",
       "  \"import pickle\\n\\nf = open('colors', 'wb')\\npickle.dump(colors, f)\\nf.close()\\n\\ndel colors\\n\\nchk_colors()\",\n",
       "  \"import pickle\\n\\nf = open('colors', 'wb')\\npickle.dump(colors. f)\\nf.close()\\n\\ndel colors\\n\\nchk_colors()\",\n",
       "  \"import pickle\\n\\nf = open('colors', 'wb')\\npickle.dump(colors, f)\\nf.close()\\n\\ndel colors\\n\\nchk_colors()\",\n",
       "  'globals()'],\n",
       " 'Out': {13: {...}},\n",
       " 'get_ipython': <bound method InteractiveShell.get_ipython of <ipykernel.zmqshell.ZMQInteractiveShell object at 0x000001D0E0A63850>>,\n",
       " 'exit': <IPython.core.autocall.ZMQExitAutocall at 0x1d0e0ad5640>,\n",
       " 'quit': <IPython.core.autocall.ZMQExitAutocall at 0x1d0e0ad5640>,\n",
       " '_': {...},\n",
       " '__': '',\n",
       " '___': '',\n",
       " '_i': \"import pickle\\n\\nf = open('colors', 'wb')\\npickle.dump(colors, f)\\nf.close()\\n\\ndel colors\\n\\nchk_colors()\",\n",
       " '_ii': \"import pickle\\n\\nf = open('colors', 'wb')\\npickle.dump(colors. f)\\nf.close()\\n\\ndel colors\\n\\nchk_colors()\",\n",
       " '_iii': \"import pickle\\n\\nf = open('colors', 'wb')\\npickle.dump(colors, f)\\nf.close()\\n\\ndel colors\\n\\nchk_colors()\",\n",
       " '_i1': \"f = open('test.txt', 'w')\\nprint(f.write('Python Basic Programming For Interconnect with Web'))\\nf.close()\",\n",
       " 'f': <_io.BufferedWriter name='colors'>,\n",
       " '_i2': '!type test.txt',\n",
       " '_exit_code': 0,\n",
       " '_i3': '!man open',\n",
       " '_i4': '!dir',\n",
       " '_i5': \"f = open('test.txt')\\nprint(f.read())\\nf.close()\\nprint(f,closed)\",\n",
       " '_i6': \"f = open('test.txt')\\nprint(f.read())\\nf.close()\\nprint(f.closed)\",\n",
       " '_i7': \"with open('test.txt') as f:\\n    print(f.readlines())\\n    print(f.closed)\\nprint(f.closed)\",\n",
       " '_i8': \"with open('test.txt') as f:\\n    print(f.readlines())\\n    print(f.closed)\\nprint(f.closed)\",\n",
       " '_i9': \"colors = ['red', 'green', 'blue']\\nprint(colors)\",\n",
       " '_i10': 'def chk_colors()\\n    if \\'colors\\' in globals():\\n        print(\"True\")\\n    else:\\n        print(\"False\")',\n",
       " '_i11': 'def chk_colors():\\n    if \\'colors\\' in globals():\\n        print(\"True\")\\n    else:\\n        print(\"False\")',\n",
       " 'chk_colors': <function __main__.chk_colors()>,\n",
       " '_i12': 'def chk_colors():\\n    if \\'colors\\' in globals():\\n        print(\"True\")\\n    else:\\n        print(\"False\")\\n        \\nchk_colors()',\n",
       " '_i13': 'globals()',\n",
       " '_13': {...},\n",
       " '_i14': \"import pickle\\n\\nf = open('colors', 'wb')\\npickle.dump(colors, f)\\nf.close()\\n\\ndel colors\\n\\nchk_colors(0)\",\n",
       " 'pickle': <module 'pickle' from 'C:\\\\ProgramData\\\\anaconda3\\\\lib\\\\pickle.py'>,\n",
       " '_i15': \"import pickle\\n\\nf = open('colors', 'wb')\\npickle.dump(colors, f)\\nf.close()\\n\\ndel colors\\n\\nchk_colors()\",\n",
       " '_i16': \"import pickle\\n\\nf = open('colors', 'wb')\\npickle.dump(colors. f)\\nf.close()\\n\\ndel colors\\n\\nchk_colors()\",\n",
       " '_i17': \"import pickle\\n\\nf = open('colors', 'wb')\\npickle.dump(colors, f)\\nf.close()\\n\\ndel colors\\n\\nchk_colors()\",\n",
       " '_i18': 'globals()'}"
      ]
     },
     "execution_count": 18,
     "metadata": {},
     "output_type": "execute_result"
    }
   ],
   "source": [
    "globals()"
   ]
  },
  {
   "cell_type": "code",
   "execution_count": 24,
   "id": "5ea989bc",
   "metadata": {},
   "outputs": [
    {
     "name": "stdout",
     "output_type": "stream",
     "text": [
      "['red', 'green', 'blue']\n"
     ]
    }
   ],
   "source": [
    "f = open('colors', 'rb')\n",
    "colors = pickle.load(f)\n",
    "f.close()\n",
    "\n",
    "print(colors)"
   ]
  },
  {
   "cell_type": "code",
   "execution_count": 25,
   "id": "db4ac048",
   "metadata": {},
   "outputs": [
    {
     "name": "stdout",
     "output_type": "stream",
     "text": [
      "True\n"
     ]
    }
   ],
   "source": [
    "chk_colors()"
   ]
  },
  {
   "cell_type": "code",
   "execution_count": 27,
   "id": "4768158c",
   "metadata": {},
   "outputs": [
    {
     "name": "stdout",
     "output_type": "stream",
     "text": [
      "<__main__.Test object at 0x000001D0E0BFA550>\n",
      "Test\n"
     ]
    }
   ],
   "source": [
    "class Test:\n",
    "    var = None\n",
    "    \n",
    "a = Test()\n",
    "a.var = \"Test\"\n",
    "\n",
    "f= open('test', 'wb')\n",
    "pickle.dump(a, f)\n",
    "f.close()\n",
    "\n",
    "print(a)\n",
    "print(a.var)\n",
    "\n",
    "del a"
   ]
  },
  {
   "cell_type": "code",
   "execution_count": 28,
   "id": "fc18140d",
   "metadata": {},
   "outputs": [
    {
     "name": "stdout",
     "output_type": "stream",
     "text": [
      "<__main__.Test object at 0x000001D0E0AFD5B0>\n",
      "Test\n"
     ]
    }
   ],
   "source": [
    "f = open('test', 'rb')\n",
    "b = pickle.load(f)\n",
    "f.close()\n",
    "\n",
    "print(b)\n",
    "print(b.var)"
   ]
  },
  {
   "cell_type": "code",
   "execution_count": null,
   "id": "81305946",
   "metadata": {},
   "outputs": [],
   "source": []
  }
 ],
 "metadata": {
  "kernelspec": {
   "display_name": "Python 3",
   "language": "python",
   "name": "python3"
  },
  "language_info": {
   "codemirror_mode": {
    "name": "ipython",
    "version": 3
   },
   "file_extension": ".py",
   "mimetype": "text/x-python",
   "name": "python",
   "nbconvert_exporter": "python",
   "pygments_lexer": "ipython3",
   "version": "3.8.8"
  }
 },
 "nbformat": 4,
 "nbformat_minor": 5
}
