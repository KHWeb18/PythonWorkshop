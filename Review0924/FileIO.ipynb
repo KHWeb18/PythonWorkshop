{
 "cells": [
  {
   "cell_type": "code",
   "execution_count": 1,
   "id": "dc850c26",
   "metadata": {},
   "outputs": [
    {
     "name": "stdout",
     "output_type": "stream",
     "text": [
      " C 드라이브의 볼륨에는 이름이 없습니다.\n",
      " 볼륨 일련 번호: BC22-E86F\n",
      "\n",
      " C:\\Users\\jaqkq\\python_works\\PythonWorkshop\\Review0924 디렉터리\n",
      "\n",
      "2021-09-24  오후 05:57    <DIR>          .\n",
      "2021-09-24  오후 05:57    <DIR>          ..\n",
      "2021-09-24  오후 05:56    <DIR>          .ipynb_checkpoints\n",
      "2021-09-24  오후 05:57               828 FileIO.ipynb\n",
      "2021-09-24  오후 05:55             9,989 Function(Method).ipynb\n",
      "               2개 파일              10,817 바이트\n",
      "               3개 디렉터리  357,308,203,008 바이트 남음\n"
     ]
    }
   ],
   "source": [
    "!dir"
   ]
  },
  {
   "cell_type": "code",
   "execution_count": 2,
   "id": "b85262a2",
   "metadata": {},
   "outputs": [
    {
     "name": "stdout",
     "output_type": "stream",
     "text": [
      "24\n"
     ]
    }
   ],
   "source": [
    "f = open('test.txt', 'w')\n",
    "print(f.write('Python Basic Programming'))\n",
    "f.close()"
   ]
  },
  {
   "cell_type": "code",
   "execution_count": 3,
   "id": "f2a5617f",
   "metadata": {},
   "outputs": [
    {
     "name": "stdout",
     "output_type": "stream",
     "text": [
      " C 드라이브의 볼륨에는 이름이 없습니다.\n",
      " 볼륨 일련 번호: BC22-E86F\n",
      "\n",
      " C:\\Users\\jaqkq\\python_works\\PythonWorkshop\\Review0924 디렉터리\n",
      "\n",
      "2021-09-24  오후 05:59    <DIR>          .\n",
      "2021-09-24  오후 05:59    <DIR>          ..\n",
      "2021-09-24  오후 05:56    <DIR>          .ipynb_checkpoints\n",
      "2021-09-24  오후 05:57               828 FileIO.ipynb\n",
      "2021-09-24  오후 05:55             9,989 Function(Method).ipynb\n",
      "2021-09-24  오후 05:59                24 test.txt\n",
      "               3개 파일              10,841 바이트\n",
      "               3개 디렉터리  357,308,203,008 바이트 남음\n"
     ]
    }
   ],
   "source": [
    "!dir"
   ]
  },
  {
   "cell_type": "code",
   "execution_count": 4,
   "id": "9d8cf5c8",
   "metadata": {},
   "outputs": [
    {
     "name": "stdout",
     "output_type": "stream",
     "text": [
      "Python Basic Programming\n"
     ]
    }
   ],
   "source": [
    "!type test.txt"
   ]
  },
  {
   "cell_type": "code",
   "execution_count": 8,
   "id": "24a443f2",
   "metadata": {},
   "outputs": [
    {
     "name": "stdout",
     "output_type": "stream",
     "text": [
      "Python Basic Programming\n",
      "Hello\n",
      "Hi\n",
      "True\n"
     ]
    }
   ],
   "source": [
    "# 파일을 읽거나 쓰기 전에 항상 open을 해야 함\n",
    "# open을 하면 항상 close를 해야 함\n",
    "f = open('test.txt')\n",
    "print(f.read())\n",
    "f.close()\n",
    "print(f.closed)"
   ]
  },
  {
   "cell_type": "code",
   "execution_count": 9,
   "id": "f0e44880",
   "metadata": {},
   "outputs": [
    {
     "name": "stdout",
     "output_type": "stream",
     "text": [
      "['Python Basic Programming\\n', 'Hello\\n', 'Hi']\n",
      "False\n",
      "True\n"
     ]
    }
   ],
   "source": [
    "# with: close를 따로 적지 않아도 자동으로 close를 해줌\n",
    "with open('test.txt') as f:\n",
    "    print(f.readlines())\n",
    "    print(f.closed)\n",
    "    \n",
    "print(f.closed)"
   ]
  },
  {
   "cell_type": "code",
   "execution_count": 10,
   "id": "38589beb",
   "metadata": {},
   "outputs": [
    {
     "name": "stdout",
     "output_type": "stream",
     "text": [
      "['red', 'green', 'blue']\n"
     ]
    }
   ],
   "source": [
    "colors = ['red', 'green', 'blue']\n",
    "print(colors)"
   ]
  },
  {
   "cell_type": "code",
   "execution_count": 11,
   "id": "4d4f0fa3",
   "metadata": {},
   "outputs": [
    {
     "name": "stdout",
     "output_type": "stream",
     "text": [
      "true\n"
     ]
    }
   ],
   "source": [
    "# globals 활용: 실제 객체가 만들어졋는지 안 만들어졌는지 아래와 같이 확인 가능\n",
    "def chk_colors():\n",
    "    if 'colors' in globals():\n",
    "        print('true')\n",
    "    else:\n",
    "        print('false')\n",
    "        \n",
    "chk_colors()"
   ]
  },
  {
   "cell_type": "code",
   "execution_count": 12,
   "id": "0e67339b",
   "metadata": {},
   "outputs": [
    {
     "name": "stdout",
     "output_type": "stream",
     "text": [
      "false\n"
     ]
    }
   ],
   "source": [
    "import pickle\n",
    "\n",
    "# wb: binary형식으로 저장(객체이기 때문에), 읽을때도 binary형식으로 읽어야 함\n",
    "f = open('colors', 'wb')\n",
    "#pickle.dump: 파일로 저장\n",
    "pickle.dump(colors, f)\n",
    "f.close()\n",
    "\n",
    "# del: delete\n",
    "del colors\n",
    "\n",
    "chk_colors()"
   ]
  },
  {
   "cell_type": "code",
   "execution_count": 13,
   "id": "21b46781",
   "metadata": {},
   "outputs": [
    {
     "data": {
      "text/plain": [
       "{'__name__': '__main__',\n",
       " '__doc__': 'Automatically created module for IPython interactive environment',\n",
       " '__package__': None,\n",
       " '__loader__': None,\n",
       " '__spec__': None,\n",
       " '__builtin__': <module 'builtins' (built-in)>,\n",
       " '__builtins__': <module 'builtins' (built-in)>,\n",
       " '_ih': ['',\n",
       "  \"get_ipython().system('dir')\",\n",
       "  \"f = open('test.txt', 'w')\\nprint(f.write('Python Basic Programming'))\\nf.close()\",\n",
       "  \"get_ipython().system('dir')\",\n",
       "  \"get_ipython().system('type test.txt')\",\n",
       "  \"f = open('test.txt')\\nprint(f.read())\\nf.close()\\nprint(f.closed)\",\n",
       "  \"# with: close를 따로 적지 않아도 자동으로 close를 해줌\\nwith open('test.txt') as f:\\n    print(f.readlines())\\n    print(f.closed)\\n    \\nprint(f.closed)\",\n",
       "  \"# with: close를 따로 적지 않아도 자동으로 close를 해줌\\nwith open('test.txt') as f:\\n    print(f.readlines())\\n    print(f.closed)\\n    \\nprint(f.closed)\",\n",
       "  \"# 파일을 읽거나 쓰기 전에 항상 open을 해야 함\\n# open을 하면 항상 close를 해야 함\\nf = open('test.txt')\\nprint(f.read())\\nf.close()\\nprint(f.closed)\",\n",
       "  \"# with: close를 따로 적지 않아도 자동으로 close를 해줌\\nwith open('test.txt') as f:\\n    print(f.readlines())\\n    print(f.closed)\\n    \\nprint(f.closed)\",\n",
       "  \"colors = ['red', 'green', 'blue']\\nprint(colors)\",\n",
       "  \"def chk_colors():\\n    if 'colors' in globals():\\n        print('true')\\n    else:\\n        print('false')\\n        \\nchk_colors()\",\n",
       "  \"import pickle\\n\\nf = open('colors', 'wb')\\npickle.dump(colors, f)\\nf.close()\\n\\ndel colors\\n\\nchk_colors()\",\n",
       "  'globals()'],\n",
       " '_oh': {},\n",
       " '_dh': ['C:\\\\Users\\\\jaqkq\\\\python_works\\\\PythonWorkshop\\\\Review0924'],\n",
       " 'In': ['',\n",
       "  \"get_ipython().system('dir')\",\n",
       "  \"f = open('test.txt', 'w')\\nprint(f.write('Python Basic Programming'))\\nf.close()\",\n",
       "  \"get_ipython().system('dir')\",\n",
       "  \"get_ipython().system('type test.txt')\",\n",
       "  \"f = open('test.txt')\\nprint(f.read())\\nf.close()\\nprint(f.closed)\",\n",
       "  \"# with: close를 따로 적지 않아도 자동으로 close를 해줌\\nwith open('test.txt') as f:\\n    print(f.readlines())\\n    print(f.closed)\\n    \\nprint(f.closed)\",\n",
       "  \"# with: close를 따로 적지 않아도 자동으로 close를 해줌\\nwith open('test.txt') as f:\\n    print(f.readlines())\\n    print(f.closed)\\n    \\nprint(f.closed)\",\n",
       "  \"# 파일을 읽거나 쓰기 전에 항상 open을 해야 함\\n# open을 하면 항상 close를 해야 함\\nf = open('test.txt')\\nprint(f.read())\\nf.close()\\nprint(f.closed)\",\n",
       "  \"# with: close를 따로 적지 않아도 자동으로 close를 해줌\\nwith open('test.txt') as f:\\n    print(f.readlines())\\n    print(f.closed)\\n    \\nprint(f.closed)\",\n",
       "  \"colors = ['red', 'green', 'blue']\\nprint(colors)\",\n",
       "  \"def chk_colors():\\n    if 'colors' in globals():\\n        print('true')\\n    else:\\n        print('false')\\n        \\nchk_colors()\",\n",
       "  \"import pickle\\n\\nf = open('colors', 'wb')\\npickle.dump(colors, f)\\nf.close()\\n\\ndel colors\\n\\nchk_colors()\",\n",
       "  'globals()'],\n",
       " 'Out': {},\n",
       " 'get_ipython': <bound method InteractiveShell.get_ipython of <ipykernel.zmqshell.ZMQInteractiveShell object at 0x000002C919640850>>,\n",
       " 'exit': <IPython.core.autocall.ZMQExitAutocall at 0x2c9196b2640>,\n",
       " 'quit': <IPython.core.autocall.ZMQExitAutocall at 0x2c9196b2640>,\n",
       " '_': '',\n",
       " '__': '',\n",
       " '___': '',\n",
       " '_i': \"import pickle\\n\\nf = open('colors', 'wb')\\npickle.dump(colors, f)\\nf.close()\\n\\ndel colors\\n\\nchk_colors()\",\n",
       " '_ii': \"def chk_colors():\\n    if 'colors' in globals():\\n        print('true')\\n    else:\\n        print('false')\\n        \\nchk_colors()\",\n",
       " '_iii': \"colors = ['red', 'green', 'blue']\\nprint(colors)\",\n",
       " '_i1': '!dir',\n",
       " '_exit_code': 0,\n",
       " '_i2': \"f = open('test.txt', 'w')\\nprint(f.write('Python Basic Programming'))\\nf.close()\",\n",
       " 'f': <_io.BufferedWriter name='colors'>,\n",
       " '_i3': '!dir',\n",
       " '_i4': '!type test.txt',\n",
       " '_i5': \"f = open('test.txt')\\nprint(f.read())\\nf.close()\\nprint(f.closed)\",\n",
       " '_i6': \"# with: close를 따로 적지 않아도 자동으로 close를 해줌\\nwith open('test.txt') as f:\\n    print(f.readlines())\\n    print(f.closed)\\n    \\nprint(f.closed)\",\n",
       " '_i7': \"# with: close를 따로 적지 않아도 자동으로 close를 해줌\\nwith open('test.txt') as f:\\n    print(f.readlines())\\n    print(f.closed)\\n    \\nprint(f.closed)\",\n",
       " '_i8': \"# 파일을 읽거나 쓰기 전에 항상 open을 해야 함\\n# open을 하면 항상 close를 해야 함\\nf = open('test.txt')\\nprint(f.read())\\nf.close()\\nprint(f.closed)\",\n",
       " '_i9': \"# with: close를 따로 적지 않아도 자동으로 close를 해줌\\nwith open('test.txt') as f:\\n    print(f.readlines())\\n    print(f.closed)\\n    \\nprint(f.closed)\",\n",
       " '_i10': \"colors = ['red', 'green', 'blue']\\nprint(colors)\",\n",
       " '_i11': \"def chk_colors():\\n    if 'colors' in globals():\\n        print('true')\\n    else:\\n        print('false')\\n        \\nchk_colors()\",\n",
       " 'chk_colors': <function __main__.chk_colors()>,\n",
       " '_i12': \"import pickle\\n\\nf = open('colors', 'wb')\\npickle.dump(colors, f)\\nf.close()\\n\\ndel colors\\n\\nchk_colors()\",\n",
       " 'pickle': <module 'pickle' from 'C:\\\\ProgramData\\\\anaconda3\\\\lib\\\\pickle.py'>,\n",
       " '_i13': 'globals()'}"
      ]
     },
     "execution_count": 13,
     "metadata": {},
     "output_type": "execute_result"
    }
   ],
   "source": [
    "globals()"
   ]
  },
  {
   "cell_type": "code",
   "execution_count": 15,
   "id": "992fac86",
   "metadata": {},
   "outputs": [
    {
     "name": "stdout",
     "output_type": "stream",
     "text": [
      "['red', 'green', 'blue']\n",
      "true\n"
     ]
    }
   ],
   "source": [
    "f = open('colors', 'rb')\n",
    "# pickle.load: 불러오기\n",
    "colors = pickle.load(f)\n",
    "f.close()\n",
    "\n",
    "print(colors)\n",
    "\n",
    "chk_colors()"
   ]
  },
  {
   "cell_type": "code",
   "execution_count": 16,
   "id": "89699a6b",
   "metadata": {},
   "outputs": [
    {
     "data": {
      "text/plain": [
       "{'__name__': '__main__',\n",
       " '__doc__': 'Automatically created module for IPython interactive environment',\n",
       " '__package__': None,\n",
       " '__loader__': None,\n",
       " '__spec__': None,\n",
       " '__builtin__': <module 'builtins' (built-in)>,\n",
       " '__builtins__': <module 'builtins' (built-in)>,\n",
       " '_ih': ['',\n",
       "  \"get_ipython().system('dir')\",\n",
       "  \"f = open('test.txt', 'w')\\nprint(f.write('Python Basic Programming'))\\nf.close()\",\n",
       "  \"get_ipython().system('dir')\",\n",
       "  \"get_ipython().system('type test.txt')\",\n",
       "  \"f = open('test.txt')\\nprint(f.read())\\nf.close()\\nprint(f.closed)\",\n",
       "  \"# with: close를 따로 적지 않아도 자동으로 close를 해줌\\nwith open('test.txt') as f:\\n    print(f.readlines())\\n    print(f.closed)\\n    \\nprint(f.closed)\",\n",
       "  \"# with: close를 따로 적지 않아도 자동으로 close를 해줌\\nwith open('test.txt') as f:\\n    print(f.readlines())\\n    print(f.closed)\\n    \\nprint(f.closed)\",\n",
       "  \"# 파일을 읽거나 쓰기 전에 항상 open을 해야 함\\n# open을 하면 항상 close를 해야 함\\nf = open('test.txt')\\nprint(f.read())\\nf.close()\\nprint(f.closed)\",\n",
       "  \"# with: close를 따로 적지 않아도 자동으로 close를 해줌\\nwith open('test.txt') as f:\\n    print(f.readlines())\\n    print(f.closed)\\n    \\nprint(f.closed)\",\n",
       "  \"colors = ['red', 'green', 'blue']\\nprint(colors)\",\n",
       "  \"def chk_colors():\\n    if 'colors' in globals():\\n        print('true')\\n    else:\\n        print('false')\\n        \\nchk_colors()\",\n",
       "  \"import pickle\\n\\nf = open('colors', 'wb')\\npickle.dump(colors, f)\\nf.close()\\n\\ndel colors\\n\\nchk_colors()\",\n",
       "  'globals()',\n",
       "  \"f = open('colors', 'rb')\\ncolors = pickle.load(f)\\nf.close()\\n\\nprint(colors)\",\n",
       "  \"f = open('colors', 'rb')\\ncolors = pickle.load(f)\\nf.close()\\n\\nprint(colors)\\nchk_colors()\",\n",
       "  'globals()'],\n",
       " '_oh': {13: {...}},\n",
       " '_dh': ['C:\\\\Users\\\\jaqkq\\\\python_works\\\\PythonWorkshop\\\\Review0924'],\n",
       " 'In': ['',\n",
       "  \"get_ipython().system('dir')\",\n",
       "  \"f = open('test.txt', 'w')\\nprint(f.write('Python Basic Programming'))\\nf.close()\",\n",
       "  \"get_ipython().system('dir')\",\n",
       "  \"get_ipython().system('type test.txt')\",\n",
       "  \"f = open('test.txt')\\nprint(f.read())\\nf.close()\\nprint(f.closed)\",\n",
       "  \"# with: close를 따로 적지 않아도 자동으로 close를 해줌\\nwith open('test.txt') as f:\\n    print(f.readlines())\\n    print(f.closed)\\n    \\nprint(f.closed)\",\n",
       "  \"# with: close를 따로 적지 않아도 자동으로 close를 해줌\\nwith open('test.txt') as f:\\n    print(f.readlines())\\n    print(f.closed)\\n    \\nprint(f.closed)\",\n",
       "  \"# 파일을 읽거나 쓰기 전에 항상 open을 해야 함\\n# open을 하면 항상 close를 해야 함\\nf = open('test.txt')\\nprint(f.read())\\nf.close()\\nprint(f.closed)\",\n",
       "  \"# with: close를 따로 적지 않아도 자동으로 close를 해줌\\nwith open('test.txt') as f:\\n    print(f.readlines())\\n    print(f.closed)\\n    \\nprint(f.closed)\",\n",
       "  \"colors = ['red', 'green', 'blue']\\nprint(colors)\",\n",
       "  \"def chk_colors():\\n    if 'colors' in globals():\\n        print('true')\\n    else:\\n        print('false')\\n        \\nchk_colors()\",\n",
       "  \"import pickle\\n\\nf = open('colors', 'wb')\\npickle.dump(colors, f)\\nf.close()\\n\\ndel colors\\n\\nchk_colors()\",\n",
       "  'globals()',\n",
       "  \"f = open('colors', 'rb')\\ncolors = pickle.load(f)\\nf.close()\\n\\nprint(colors)\",\n",
       "  \"f = open('colors', 'rb')\\ncolors = pickle.load(f)\\nf.close()\\n\\nprint(colors)\\nchk_colors()\",\n",
       "  'globals()'],\n",
       " 'Out': {13: {...}},\n",
       " 'get_ipython': <bound method InteractiveShell.get_ipython of <ipykernel.zmqshell.ZMQInteractiveShell object at 0x000002C919640850>>,\n",
       " 'exit': <IPython.core.autocall.ZMQExitAutocall at 0x2c9196b2640>,\n",
       " 'quit': <IPython.core.autocall.ZMQExitAutocall at 0x2c9196b2640>,\n",
       " '_': {...},\n",
       " '__': '',\n",
       " '___': '',\n",
       " '_i': \"f = open('colors', 'rb')\\ncolors = pickle.load(f)\\nf.close()\\n\\nprint(colors)\\nchk_colors()\",\n",
       " '_ii': \"f = open('colors', 'rb')\\ncolors = pickle.load(f)\\nf.close()\\n\\nprint(colors)\",\n",
       " '_iii': 'globals()',\n",
       " '_i1': '!dir',\n",
       " '_exit_code': 0,\n",
       " '_i2': \"f = open('test.txt', 'w')\\nprint(f.write('Python Basic Programming'))\\nf.close()\",\n",
       " 'f': <_io.BufferedReader name='colors'>,\n",
       " '_i3': '!dir',\n",
       " '_i4': '!type test.txt',\n",
       " '_i5': \"f = open('test.txt')\\nprint(f.read())\\nf.close()\\nprint(f.closed)\",\n",
       " '_i6': \"# with: close를 따로 적지 않아도 자동으로 close를 해줌\\nwith open('test.txt') as f:\\n    print(f.readlines())\\n    print(f.closed)\\n    \\nprint(f.closed)\",\n",
       " '_i7': \"# with: close를 따로 적지 않아도 자동으로 close를 해줌\\nwith open('test.txt') as f:\\n    print(f.readlines())\\n    print(f.closed)\\n    \\nprint(f.closed)\",\n",
       " '_i8': \"# 파일을 읽거나 쓰기 전에 항상 open을 해야 함\\n# open을 하면 항상 close를 해야 함\\nf = open('test.txt')\\nprint(f.read())\\nf.close()\\nprint(f.closed)\",\n",
       " '_i9': \"# with: close를 따로 적지 않아도 자동으로 close를 해줌\\nwith open('test.txt') as f:\\n    print(f.readlines())\\n    print(f.closed)\\n    \\nprint(f.closed)\",\n",
       " '_i10': \"colors = ['red', 'green', 'blue']\\nprint(colors)\",\n",
       " '_i11': \"def chk_colors():\\n    if 'colors' in globals():\\n        print('true')\\n    else:\\n        print('false')\\n        \\nchk_colors()\",\n",
       " 'chk_colors': <function __main__.chk_colors()>,\n",
       " '_i12': \"import pickle\\n\\nf = open('colors', 'wb')\\npickle.dump(colors, f)\\nf.close()\\n\\ndel colors\\n\\nchk_colors()\",\n",
       " 'pickle': <module 'pickle' from 'C:\\\\ProgramData\\\\anaconda3\\\\lib\\\\pickle.py'>,\n",
       " '_i13': 'globals()',\n",
       " '_13': {...},\n",
       " '_i14': \"f = open('colors', 'rb')\\ncolors = pickle.load(f)\\nf.close()\\n\\nprint(colors)\",\n",
       " 'colors': ['red', 'green', 'blue'],\n",
       " '_i15': \"f = open('colors', 'rb')\\ncolors = pickle.load(f)\\nf.close()\\n\\nprint(colors)\\nchk_colors()\",\n",
       " '_i16': 'globals()'}"
      ]
     },
     "execution_count": 16,
     "metadata": {},
     "output_type": "execute_result"
    }
   ],
   "source": [
    "globals()"
   ]
  },
  {
   "cell_type": "code",
   "execution_count": 17,
   "id": "80754c44",
   "metadata": {},
   "outputs": [
    {
     "name": "stdout",
     "output_type": "stream",
     "text": [
      "<__main__.Test object at 0x000002C91973F3D0>\n",
      "Test\n"
     ]
    }
   ],
   "source": [
    "class Test:\n",
    "    var = None\n",
    "    \n",
    "a = Test()\n",
    "a.var = \"Test\"\n",
    "\n",
    "f = open('test', 'wb')\n",
    "pickle.dump(a, f)\n",
    "f.close()\n",
    "\n",
    "print(a)\n",
    "print(a.var)\n",
    "\n",
    "del a"
   ]
  },
  {
   "cell_type": "code",
   "execution_count": 18,
   "id": "aeafb7c6",
   "metadata": {},
   "outputs": [
    {
     "ename": "NameError",
     "evalue": "name 'a' is not defined",
     "output_type": "error",
     "traceback": [
      "\u001b[1;31m---------------------------------------------------------------------------\u001b[0m",
      "\u001b[1;31mNameError\u001b[0m                                 Traceback (most recent call last)",
      "\u001b[1;32m<ipython-input-18-bca0e2660b9f>\u001b[0m in \u001b[0;36m<module>\u001b[1;34m\u001b[0m\n\u001b[1;32m----> 1\u001b[1;33m \u001b[0mprint\u001b[0m\u001b[1;33m(\u001b[0m\u001b[0ma\u001b[0m\u001b[1;33m)\u001b[0m\u001b[1;33m\u001b[0m\u001b[1;33m\u001b[0m\u001b[0m\n\u001b[0m",
      "\u001b[1;31mNameError\u001b[0m: name 'a' is not defined"
     ]
    }
   ],
   "source": [
    "# 위에서 del했기 때문에 에러가 남\n",
    "print(a)"
   ]
  },
  {
   "cell_type": "code",
   "execution_count": 19,
   "id": "17409a62",
   "metadata": {},
   "outputs": [
    {
     "name": "stdout",
     "output_type": "stream",
     "text": [
      "<__main__.Test object at 0x000002C9196E41F0>\n",
      "Test\n"
     ]
    }
   ],
   "source": [
    "f = open('test', 'rb')\n",
    "b = pickle.load(f)\n",
    "f.close()\n",
    "\n",
    "print(b)\n",
    "print(b.var)"
   ]
  },
  {
   "cell_type": "code",
   "execution_count": null,
   "id": "6528b91a",
   "metadata": {},
   "outputs": [],
   "source": []
  }
 ],
 "metadata": {
  "kernelspec": {
   "display_name": "Python 3",
   "language": "python",
   "name": "python3"
  },
  "language_info": {
   "codemirror_mode": {
    "name": "ipython",
    "version": 3
   },
   "file_extension": ".py",
   "mimetype": "text/x-python",
   "name": "python",
   "nbconvert_exporter": "python",
   "pygments_lexer": "ipython3",
   "version": "3.8.8"
  }
 },
 "nbformat": 4,
 "nbformat_minor": 5
}
