{
 "cells": [
  {
   "cell_type": "code",
   "execution_count": 1,
   "id": "248b3d2e",
   "metadata": {},
   "outputs": [],
   "source": [
    "from flask import Flask, url_for, request, jsonify\n",
    "from flask_cors import CORS, cross_origin\n",
    "\n",
    "import json, requests, pickle"
   ]
  },
  {
   "cell_type": "code",
   "execution_count": 13,
   "id": "15b38d79",
   "metadata": {},
   "outputs": [],
   "source": [
    "# Kakao Appkey 저장 파일\n",
    "APP_KEY_SAVED_FILE = 'res/kakao_msg/app_key'\n",
    "\n",
    "# 앱키 저장        \n",
    "app_key = ''\n",
    "\n",
    "f = open(APP_KEY_SAVED_FILE, 'wb')\n",
    "pickle.dump(app_key, f)\n",
    "f.close()\n",
    "\n",
    "# 앱키 읽기\n",
    "f = open(APP_KEY_SAVED_FILE, 'rb')\n",
    "app_key = pickle.load(f)\n",
    "f.close()"
   ]
  },
  {
   "cell_type": "code",
   "execution_count": 9,
   "id": "487934d9",
   "metadata": {},
   "outputs": [],
   "source": [
    "# Kakao Token 저장 파일\n",
    "KAKAO_TOKEN_SAVED_FILE = 'res/kakao_msg/kakao_token.json'\n",
    "\n",
    "# 토큰 읽기\n",
    "def load_tokens(filename):\n",
    "    with open(filename) as fp:\n",
    "        tokens = json.load(fp)\n",
    "        \n",
    "    return tokens\n",
    "\n",
    "tokens = load_tokens(KAKAO_TOKEN_SAVED_FILE)"
   ]
  },
  {
   "cell_type": "code",
   "execution_count": 7,
   "id": "9a5d658e",
   "metadata": {},
   "outputs": [],
   "source": [
    "# 토큰 저장\n",
    "def save_tokens(filename, tokens):\n",
    "    with open(filename, 'w') as fp:\n",
    "        json.dump(tokens, fp)\n",
    "\n",
    "\n",
    "# 토큰 갱신\n",
    "def update_tokens(app_key, filename):\n",
    "    tokens = load_tokens(filename)\n",
    "    \n",
    "    url = \"https://kauth.kakao.com/oauth/token\"\n",
    "    \n",
    "    data = {\n",
    "        \"grant_type\" : \"refresh_token\",\n",
    "        \"client_id\" : app_key,\n",
    "        \"refresh_token\" : tokens['refresh_token']\n",
    "    }\n",
    "    \n",
    "    response = requests.post(url, data=data)\n",
    "\n",
    "    if response.status_code != 200:\n",
    "        print(\"Error!\")\n",
    "        tokens = None\n",
    "    else:\n",
    "        print(response.json())\n",
    "        \n",
    "        # 기존 내용 백업\n",
    "        now = datetime.datetime.now().strftime('%Y%m%d_%H%M%S')\n",
    "        backup_filename = filename + '.' + now\n",
    "        os.rename(filename, backup_filename)\n",
    "        \n",
    "        # 업데이트\n",
    "        tokens['access_token'] = response.json()['access_token']\n",
    "        save_tokens(filename, tokens)\n",
    "        \n",
    "    return tokens\n",
    "\n",
    "save_tokens(KAKAO_TOKEN_SAVED_FILE, tokens)"
   ]
  },
  {
   "cell_type": "code",
   "execution_count": null,
   "id": "91961fb0",
   "metadata": {},
   "outputs": [
    {
     "name": "stdout",
     "output_type": "stream",
     "text": [
      " * Serving Flask app \"__main__\" (lazy loading)\n",
      " * Environment: production\n",
      "   WARNING: This is a development server. Do not use it in a production deployment.\n",
      "   Use a production WSGI server instead.\n",
      " * Debug mode: off\n"
     ]
    },
    {
     "name": "stderr",
     "output_type": "stream",
     "text": [
      " * Running on http://127.0.0.1:5000/ (Press CTRL+C to quit)\n",
      "<ipython-input-14-40bf78481dfe>:6: DeprecationWarning: 'encoding' is ignored and deprecated. It will be removed in Python 3.9\n",
      "  params = json.loads(request.get_data(), encoding='utf-8')\n",
      "127.0.0.1 - - [05/Oct/2021 19:29:58] \"\u001b[37mPOST /orderTest HTTP/1.1\u001b[0m\" 200 -\n"
     ]
    },
    {
     "name": "stdout",
     "output_type": "stream",
     "text": [
      "이름:  안녕 , 가격:  200000\n",
      "200\n"
     ]
    }
   ],
   "source": [
    "app = Flask(__name__)\n",
    "CORS(app)\n",
    "\n",
    "@app.route('/orderTest', methods = ['GET', 'POST'])\n",
    "def orderTest():\n",
    "    params = json.loads(request.get_data(), encoding='utf-8')\n",
    "    \n",
    "    if len(params) == 0:\n",
    "        return jsonify('No Parameter')\n",
    "    \n",
    "    params_string = ''\n",
    "    \n",
    "    values = []\n",
    "    \n",
    "    for key in params.keys():\n",
    "        values.append(params[key])\n",
    "        \n",
    "    name = values[0]\n",
    "    cost = values[1]\n",
    "    \n",
    "    print('이름: ', name, ', 가격: ', cost)\n",
    "    \n",
    "    tokens = load_tokens(KAKAO_TOKEN_SAVED_FILE)\n",
    "\n",
    "    # 카톡 메세지 보내기\n",
    "    url = \"https://kapi.kakao.com/v2/api/talk/memo/default/send\"\n",
    "\n",
    "    # request parameter\n",
    "    headers = {\n",
    "        \"Authorization\" : \"Bearer \" + tokens['access_token']\n",
    "    }\n",
    "    \n",
    "    message = '이름: {0}, 가격: {1}'.format(name, cost)\n",
    "\n",
    "    data = {\n",
    "        \"template_object\" : json.dumps({\n",
    "            \"object_type\" : \"text\",\n",
    "            \"text\" : message,\n",
    "            \"link\" : {\n",
    "                \"web_url\" : \"http://localhost:8080\"\n",
    "            }\n",
    "        })\n",
    "    }\n",
    "\n",
    "    # 메세지 전송\n",
    "    response = requests.post(url, headers=headers, data=data)\n",
    "    print(response.status_code)\n",
    "\n",
    "    if response.status_code == 401:\n",
    "        tokens = update_tokens(app_key, KAKAO_TOKEN_SAVED_FILE)\n",
    "\n",
    "    return jsonify(params_string)\n",
    "\n",
    "if __name__ == '__main__':\n",
    "    app.run()"
   ]
  },
  {
   "cell_type": "code",
   "execution_count": null,
   "id": "ebe366ef",
   "metadata": {},
   "outputs": [],
   "source": []
  }
 ],
 "metadata": {
  "kernelspec": {
   "display_name": "Python 3",
   "language": "python",
   "name": "python3"
  },
  "language_info": {
   "codemirror_mode": {
    "name": "ipython",
    "version": 3
   },
   "file_extension": ".py",
   "mimetype": "text/x-python",
   "name": "python",
   "nbconvert_exporter": "python",
   "pygments_lexer": "ipython3",
   "version": "3.8.8"
  }
 },
 "nbformat": 4,
 "nbformat_minor": 5
}
