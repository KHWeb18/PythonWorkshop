{
 "cells": [
  {
   "cell_type": "code",
   "execution_count": 2,
   "id": "200a5065",
   "metadata": {},
   "outputs": [],
   "source": [
    "import pandas as pd"
   ]
  },
  {
   "cell_type": "code",
   "execution_count": 8,
   "id": "89913722",
   "metadata": {},
   "outputs": [
    {
     "name": "stdout",
     "output_type": "stream",
     "text": [
      "  Signal Name Direction      Target  Signal Value\n",
      "0   VehSpeed1        Tx  Component1          10.4\n",
      "1   VehSpeed2        Tx  Component1          10.3\n",
      "2   VehSpeed3        Rx  Component1          12.0\n",
      "3   VehSpeed4        Tx  Component1          13.1\n",
      "4   VehSpeed5        Tx  Component2           9.4\n",
      "5   VehSpeed6        Tx  Component2           8.4\n",
      "6   VehSpeed7        Rx  Component2           3.9\n",
      "7   VehSpeed8        Tx  Component2           7.1\n",
      "8   VehSpeed9        Tx  Component2           7.5\n",
      "9  VehSpeed10        Tx  Component2           4.3\n"
     ]
    }
   ],
   "source": [
    "data = pd.read_csv(\"Data_example.csv\")\n",
    "\n",
    "print(data)"
   ]
  },
  {
   "cell_type": "code",
   "execution_count": 9,
   "id": "c3a0db62",
   "metadata": {},
   "outputs": [
    {
     "name": "stdout",
     "output_type": "stream",
     "text": [
      "  Signal Name  Signal Value      Target\n",
      "0   VehSpeed1          10.4  Component1\n",
      "1   VehSpeed2          10.3  Component1\n",
      "2   VehSpeed3          12.0  Component1\n",
      "3   VehSpeed4          13.1  Component1\n",
      "4   VehSpeed5           9.4  Component2\n",
      "5   VehSpeed6           8.4  Component2\n",
      "6   VehSpeed7           3.9  Component2\n",
      "7   VehSpeed8           7.1  Component2\n",
      "8   VehSpeed9           7.5  Component2\n",
      "9  VehSpeed10           4.3  Component2\n"
     ]
    }
   ],
   "source": [
    "selected_data = pd.DataFrame(data, columns = ['Signal Name', 'Signal Value', 'Target'])\n",
    "\n",
    "print(selected_data)"
   ]
  },
  {
   "cell_type": "code",
   "execution_count": 10,
   "id": "969f4778",
   "metadata": {},
   "outputs": [],
   "source": [
    "selected_data.to_csv(\"./modify.csv\")"
   ]
  },
  {
   "cell_type": "code",
   "execution_count": 49,
   "id": "51e49eeb",
   "metadata": {},
   "outputs": [
    {
     "name": "stdout",
     "output_type": "stream",
     "text": [
      "!dir로 modify.csv 생겼는지 확인\n"
     ]
    }
   ],
   "source": [
    "print('!dir로 modify.csv 생겼는지 확인')"
   ]
  },
  {
   "cell_type": "code",
   "execution_count": 12,
   "id": "26ae4520",
   "metadata": {},
   "outputs": [],
   "source": [
    "import pymysql\n",
    "import datetime"
   ]
  },
  {
   "cell_type": "code",
   "execution_count": 13,
   "id": "088116e4",
   "metadata": {},
   "outputs": [
    {
     "name": "stdout",
     "output_type": "stream",
     "text": [
      "start:  2021-10-19 16:19:31\n"
     ]
    }
   ],
   "source": [
    "print('start: ', str(datetime.datetime.now())[:19])"
   ]
  },
  {
   "cell_type": "code",
   "execution_count": 28,
   "id": "35bb86a0",
   "metadata": {},
   "outputs": [],
   "source": [
    "import pickle\n",
    "\n",
    "MYSQL_USER_DATA_SAVED_FILE = 'res/mysql/userinfo'\n",
    "\n",
    "f = open(MYSQL_USER_DATA_SAVED_FILE, 'rb')\n",
    "mysql_user_info = pickle.load(f)\n",
    "f.close()"
   ]
  },
  {
   "cell_type": "code",
   "execution_count": 29,
   "id": "d8cc2790",
   "metadata": {},
   "outputs": [
    {
     "name": "stdout",
     "output_type": "stream",
     "text": [
      "<pymysql.connections.Connection object at 0x000001D9EC0CD040>\n"
     ]
    }
   ],
   "source": [
    "db = pymysql.connect(\n",
    "    # localhost와 같은 아이피 주소임\n",
    "    host = '127.0.0.1',\n",
    "    # MySQL의 포트번호\n",
    "    port = 3306,\n",
    "    # 아이디\n",
    "    user = mysql_user_info['user_id'],\n",
    "    # 비밀번호\n",
    "    passwd = mysql_user_info['password'],\n",
    "    # 사용하려는 스키마\n",
    "    db = 'jpa_db'    \n",
    ")\n",
    "\n",
    "\n",
    "print(db)"
   ]
  },
  {
   "cell_type": "code",
   "execution_count": 30,
   "id": "2a7f3fed",
   "metadata": {},
   "outputs": [
    {
     "name": "stdout",
     "output_type": "stream",
     "text": [
      "((1, 35000, 'test'), (2, 35000, 'taeyeon'), (3, 35000, 'kakao'), (4, 35000, 'kakaomsg'), (5, 35000, 'kakao결제테스트'), (6, 35000, 'kakao결제테스트'), (7, 35000, 'email'), (8, 35000, 'email'), (9, 35000, 'email'), (10, 35000, 'email'), (11, 35000, 'email+kakao'), (12, 35000, 'email+kakao'), (13, 35000, 'email+kakao'), (14, 35000, '이제는'), (15, 35000, '이제는'))\n"
     ]
    }
   ],
   "source": [
    "cursor = db.cursor()\n",
    "\n",
    "sql = \"\"\"\n",
    "    select * from hybrid_order;\n",
    "\"\"\"\n",
    "\n",
    "cursor.execute(sql)\n",
    "rows = cursor.fetchall()\n",
    "\n",
    "print(rows)"
   ]
  },
  {
   "cell_type": "code",
   "execution_count": 31,
   "id": "bb44b30d",
   "metadata": {},
   "outputs": [],
   "source": [
    "# db정보를 csv로 넣어줌\n",
    "def db2csv():\n",
    "    with open('mysql2csv.csv', 'a') as f:\n",
    "        f.writelines(text[:-1] + '\\n')"
   ]
  },
  {
   "cell_type": "code",
   "execution_count": 32,
   "id": "03c04fa4",
   "metadata": {},
   "outputs": [],
   "source": [
    "for x in rows:\n",
    "    text = ''\n",
    "    for y in x:\n",
    "        y = str(y)\n",
    "        text = text + y + ', '\n",
    "        # for 문이 끝나면 한 행이 만들어짐\n",
    "        \n",
    "    db2csv()\n",
    "        \n",
    "cursor.close()\n",
    "db.close()"
   ]
  },
  {
   "cell_type": "code",
   "execution_count": 34,
   "id": "95d325f0",
   "metadata": {},
   "outputs": [
    {
     "name": "stdout",
     "output_type": "stream",
     "text": [
      "!dir로 mysql2csv.csv 생겼는지 확인\n"
     ]
    }
   ],
   "source": [
    "print('!dir로 mysql2csv.csv 생겼는지 확인')"
   ]
  },
  {
   "cell_type": "code",
   "execution_count": null,
   "id": "ab44606e",
   "metadata": {},
   "outputs": [],
   "source": [
    "# 대규모 데이터일때는 pymysql보다 pandas를 사용하는 것이 빠름"
   ]
  },
  {
   "cell_type": "code",
   "execution_count": 44,
   "id": "6c23ba03",
   "metadata": {},
   "outputs": [],
   "source": [
    "db = pymysql.connect(\n",
    "    # localhost와 같은 아이피 주소임\n",
    "    host = '127.0.0.1',\n",
    "    # MySQL의 포트번호\n",
    "    port = 3306,\n",
    "    # 아이디\n",
    "    user = mysql_user_info['user_id'],\n",
    "    # 비밀번호\n",
    "    passwd = mysql_user_info['password'],\n",
    "    # 사용하려는 스키마\n",
    "    db = 'jpa_db',\n",
    "    # 캐릭터 셋 설정\n",
    "    charset = 'utf8'\n",
    ")"
   ]
  },
  {
   "cell_type": "code",
   "execution_count": 45,
   "id": "61f8ea03",
   "metadata": {},
   "outputs": [],
   "source": [
    "sql = \"\"\"\n",
    "    select * from hybrid_order;\n",
    "\"\"\"\n",
    "\n",
    "df = pd.read_sql_query(sql, db)\n",
    "# encoding='utf-8-sig' : 데이터 한글 깨짐 현상 해결\n",
    "df.to_csv(r\"pandas2csv.csv\", index = False, encoding='utf-8-sig')"
   ]
  },
  {
   "cell_type": "code",
   "execution_count": 40,
   "id": "117c549c",
   "metadata": {},
   "outputs": [],
   "source": [
    "db.close()"
   ]
  },
  {
   "cell_type": "code",
   "execution_count": 48,
   "id": "e36af8f7",
   "metadata": {},
   "outputs": [
    {
     "name": "stdout",
     "output_type": "stream",
     "text": [
      "!dir로 pandas2csv.csv 생겼는지 확인\n"
     ]
    }
   ],
   "source": [
    "print('!dir로 pandas2csv.csv 생겼는지 확인')"
   ]
  },
  {
   "cell_type": "code",
   "execution_count": 46,
   "id": "87936d1a",
   "metadata": {},
   "outputs": [],
   "source": [
    "import csv"
   ]
  },
  {
   "cell_type": "code",
   "execution_count": 50,
   "id": "35decef1",
   "metadata": {},
   "outputs": [
    {
     "name": "stdout",
     "output_type": "stream",
     "text": [
      "<_csv.reader object at 0x000001D9EC5C1A00>\n"
     ]
    }
   ],
   "source": [
    "# 엑셀 데이터를 뽑아서 db에 넣고싶다\n",
    "# 현재 사용할 api정보가 xml\n",
    "\n",
    "db = pymysql.connect(\n",
    "    # localhost와 같은 아이피 주소임\n",
    "    host = '127.0.0.1',\n",
    "    # MySQL의 포트번호\n",
    "    port = 3306,\n",
    "    # 아이디\n",
    "    user = mysql_user_info['user_id'],\n",
    "    # 비밀번호\n",
    "    passwd = mysql_user_info['password'],\n",
    "    # 사용하려는 스키마\n",
    "    db = 'non_jpa_db',\n",
    "    # 캐릭터 셋 설정\n",
    "    charset = 'utf8'\n",
    ")\n",
    "\n",
    "cursor = db.cursor()\n",
    "\n",
    "f = open('member.csv', 'r')\n",
    "csv_reader = csv.reader(f)\n",
    "\n",
    "print(csv_reader)"
   ]
  },
  {
   "cell_type": "code",
   "execution_count": 52,
   "id": "c4495f05",
   "metadata": {
    "scrolled": false
   },
   "outputs": [
    {
     "name": "stdout",
     "output_type": "stream",
     "text": [
      "test\n",
      "1234\n",
      "abc\n",
      "1255\n",
      "aaa\n",
      "12344\n",
      "ddd\n",
      "12556\n",
      "sss\n",
      "1289\n",
      "ddd\n",
      "436\n",
      "nana\n",
      "6634\n",
      "gaga\n",
      "7645\n",
      "dadad\n",
      "235\n",
      "mont\n",
      "8567\n",
      "real\n",
      "2357\n"
     ]
    }
   ],
   "source": [
    "for row in csv_reader:\n",
    "    id = (row[0])\n",
    "    pw = (row[1])\n",
    "    \n",
    "    print(id)\n",
    "    print(pw)\n",
    "    \n",
    "    sql = \"\"\"\n",
    "        insert into vuemember (id, pw) values(%s, %s)\n",
    "    \"\"\"\n",
    "    \n",
    "    cursor.execute(sql, (id, pw))\n",
    "    \n",
    "db.commit()\n",
    "\n",
    "f.close()\n",
    "db.close()"
   ]
  },
  {
   "cell_type": "code",
   "execution_count": null,
   "id": "64188a4e",
   "metadata": {},
   "outputs": [],
   "source": []
  }
 ],
 "metadata": {
  "kernelspec": {
   "display_name": "Python 3",
   "language": "python",
   "name": "python3"
  },
  "language_info": {
   "codemirror_mode": {
    "name": "ipython",
    "version": 3
   },
   "file_extension": ".py",
   "mimetype": "text/x-python",
   "name": "python",
   "nbconvert_exporter": "python",
   "pygments_lexer": "ipython3",
   "version": "3.8.8"
  }
 },
 "nbformat": 4,
 "nbformat_minor": 5
}
