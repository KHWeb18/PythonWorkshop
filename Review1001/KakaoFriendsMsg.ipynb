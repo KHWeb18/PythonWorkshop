{
 "cells": [
  {
   "cell_type": "code",
   "execution_count": 22,
   "id": "c744748f",
   "metadata": {},
   "outputs": [
    {
     "name": "stdout",
     "output_type": "stream",
     "text": [
      "Error!\n"
     ]
    }
   ],
   "source": [
    "# 카카오 로그인 토큰 받기\n",
    "import requests\n",
    "\n",
    "url = \"https://kauth.kakao.com/oauth/token\"\n",
    "\n",
    "data = {\n",
    "    \"grant_type\" : \"authorization_code\",\n",
    "    \"client_id\" : \"\",\n",
    "    \"redirect_uri\" : \"https://localhost.com\",\n",
    "    \"code\" : \"\"\n",
    "}\n",
    "\n",
    "response = requests.post(url, data=data)\n",
    "\n",
    "if response.status_code != 200:\n",
    "    print(\"Error!\")\n",
    "else:\n",
    "    tokens = response.json()\n",
    "    print(tokens)"
   ]
  },
  {
   "cell_type": "code",
   "execution_count": 23,
   "id": "60377b72",
   "metadata": {},
   "outputs": [],
   "source": [
    "# 토큰 저장하기\n",
    "import json\n",
    "\n",
    "KAKAO_TOKEN_SAVED_FILE = 'res/kakao_friend_msg/kakao_token.json'\n",
    "\n",
    "def save_tokens(filename, tokens):\n",
    "    with open(filename, 'w') as fp:\n",
    "        json.dump(tokens, fp)\n",
    "        \n",
    "def load_tokens(filename):\n",
    "    with open(filename) as fp:\n",
    "        tokens = json.load(fp)\n",
    "        \n",
    "    return tokens\n",
    "\n",
    "save_tokens(KAKAO_TOKEN_SAVED_FILE, tokens)"
   ]
  },
  {
   "cell_type": "code",
   "execution_count": 24,
   "id": "f50a588a",
   "metadata": {},
   "outputs": [
    {
     "name": "stdout",
     "output_type": "stream",
     "text": [
      "<class 'dict'>\n",
      "[{'profile_nickname': 'KH 이상훈 강사님', 'profile_thumbnail_image': 'https://p.kakaocdn.net/th/talkp/wmxXrHTct1/xcri7QCe9K9eoLp7W41tyK/o0yp94_110x110_c.jpg', 'id': 1929743596, 'uuid': 'voq4j72Iuom_k6SWopKnlKyesoSwgLiAs-w', 'favorite': False}]\n"
     ]
    }
   ],
   "source": [
    "# 친구 목록 가져오기\n",
    "import json\n",
    "import requests\n",
    "\n",
    "tokens = load_tokens(KAKAO_TOKEN_SAVED_FILE)\n",
    "\n",
    "# 요청 url\n",
    "friends_url = 'https://kapi.kakao.com/v1/api/talk/friends'\n",
    "\n",
    "# request parameter\n",
    "headers = {\n",
    "    \"Authorization\" : \"Bearer \" + tokens['access_token']\n",
    "}\n",
    "\n",
    "res = json.loads(requests.get(friends_url, headers=headers).text)\n",
    "\n",
    "print(type(res))\n",
    "print(res.get('elements'))\n",
    "\n",
    "friends_list = res.get(\"elements\")\n",
    "fid = friends_list[0].get(\"uuid\")"
   ]
  },
  {
   "cell_type": "code",
   "execution_count": 21,
   "id": "26a72c56",
   "metadata": {},
   "outputs": [
    {
     "name": "stdout",
     "output_type": "stream",
     "text": [
      "200\n",
      "카톡 메세지 보내기 성공!!\n"
     ]
    }
   ],
   "source": [
    "# 친구에게 메시지 보내기\n",
    "fsend_url = \"https://kapi.kakao.com/v1/api/talk/friends/message/default/send\"\n",
    "\n",
    "data = {\n",
    "    'receiver_uuids' : '[\"{}\"]'.format(fid),\n",
    "    \"template_object\" : json.dumps({\n",
    "        \"object_type\" : \"text\",\n",
    "        \"text\" : \"우와 성공~~~\",\n",
    "        \"link\" : {\n",
    "            \"web_url\" : \"www.naver.com\"\n",
    "        }\n",
    "    })\n",
    "}\n",
    "\n",
    "# 메시지 전송\n",
    "response = requests.post(fsend_url, headers=headers, data=data)\n",
    "print(response.status_code)\n",
    "\n",
    "if response.status_code != 200:\n",
    "    print(\"Error!\")\n",
    "else:\n",
    "    print(\"카톡 메세지 보내기 성공!!\")"
   ]
  },
  {
   "cell_type": "code",
   "execution_count": null,
   "id": "727307c1",
   "metadata": {},
   "outputs": [],
   "source": []
  }
 ],
 "metadata": {
  "kernelspec": {
   "display_name": "Python 3",
   "language": "python",
   "name": "python3"
  },
  "language_info": {
   "codemirror_mode": {
    "name": "ipython",
    "version": 3
   },
   "file_extension": ".py",
   "mimetype": "text/x-python",
   "name": "python",
   "nbconvert_exporter": "python",
   "pygments_lexer": "ipython3",
   "version": "3.8.8"
  }
 },
 "nbformat": 4,
 "nbformat_minor": 5
}
