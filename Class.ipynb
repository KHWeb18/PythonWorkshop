{
 "cells": [
  {
   "cell_type": "code",
   "execution_count": 1,
   "id": "c93b8847",
   "metadata": {},
   "outputs": [
    {
     "name": "stdout",
     "output_type": "stream",
     "text": [
      "['In', 'Out', 'PyTestClass', '_', '__', '___', '__builtin__', '__builtins__', '__doc__', '__loader__', '__name__', '__package__', '__spec__', '_dh', '_i', '_i1', '_ih', '_ii', '_iii', '_oh', 'exit', 'get_ipython', 'quit']\n",
      "<class 'type'>\n"
     ]
    }
   ],
   "source": [
    "class PyTestClass:\n",
    "    \"\"\"it's for Test Class\"\"\"\n",
    "    pass\n",
    "print(dir())\n",
    "print(type(PyTestClass))"
   ]
  },
  {
   "cell_type": "code",
   "execution_count": 2,
   "id": "66367f41",
   "metadata": {},
   "outputs": [
    {
     "name": "stdout",
     "output_type": "stream",
     "text": [
      "My Name is Default\n",
      "My Name is 파이썬3 테스트 클래스\n",
      "My Name is 파이썬3 테스트 클래스\n"
     ]
    }
   ],
   "source": [
    "class Person:\n",
    "    Name = \"Default\"\n",
    "    \n",
    "    def Print(self):\n",
    "        print(\"My Name is {0}\".format(self.Name))\n",
    "        \n",
    "p = Person()\n",
    "p.Print()\n",
    "\n",
    "p.Name = \"파이썬3 테스트 클래스\"\n",
    "p.Print()\n",
    "Person.Print(p)"
   ]
  },
  {
   "cell_type": "code",
   "execution_count": 3,
   "id": "7198a747",
   "metadata": {},
   "outputs": [
    {
     "name": "stdout",
     "output_type": "stream",
     "text": [
      "p Name:  파이썬3 테스트 클래스\n",
      "p2 Name:  Default\n",
      "p.title:  Python3 테스트\n",
      "p2.title:  Python3 테스트\n",
      "Person.title:  Python3 테스트\n",
      "p age:  20\n"
     ]
    }
   ],
   "source": [
    "p2 = Person()\n",
    "\n",
    "print(\"p Name: \", p.Name)\n",
    "print(\"p2 Name: \", p2.Name)\n",
    "\n",
    "Person.title = \"Python3 테스트\"\n",
    "print(\"p.title: \", p.title)\n",
    "print(\"p2.title: \", p2.title)\n",
    "print(\"Person.title: \", Person.title)\n",
    "\n",
    "p.age = 20\n",
    "print(\"p age: \", p.age)"
   ]
  },
  {
   "cell_type": "code",
   "execution_count": 6,
   "id": "df46bb96",
   "metadata": {},
   "outputs": [
    {
     "name": "stdout",
     "output_type": "stream",
     "text": [
      "클래스 멤버 아님\n",
      "테스트 메세지\n"
     ]
    }
   ],
   "source": [
    "str1 = \"클래스 멤버 아님\"\n",
    "\n",
    "class NonSelfTest:\n",
    "    str1 = \"\"\n",
    "    \n",
    "    def Set(self, msg):\n",
    "        self.str1 = msg\n",
    "        \n",
    "    def Print(self):\n",
    "        print(str1)\n",
    "        \n",
    "    def WhyUseSelfPrint(self):\n",
    "        print(self.str1)\n",
    "        \n",
    "test = NonSelfTest()\n",
    "\n",
    "test.Set(\"테스트 메세지\")\n",
    "test.Print()\n",
    "test.WhyUseSelfPrint()"
   ]
  },
  {
   "cell_type": "code",
   "execution_count": 9,
   "id": "0679ab2f",
   "metadata": {},
   "outputs": [
    {
     "name": "stdout",
     "output_type": "stream",
     "text": [
      "생성자! Value =  333\n",
      "소멸자!\n"
     ]
    }
   ],
   "source": [
    "class Vehicles:\n",
    "    def __init__(self, value):\n",
    "        self.Value = value\n",
    "        print(\"생성자! Value = \", value)\n",
    "        \n",
    "    def __del__(self):\n",
    "        print(\"소멸자!\")\n",
    "        \n",
    "def test():\n",
    "    v = Vehicles(333);\n",
    "        \n",
    "test()"
   ]
  },
  {
   "cell_type": "code",
   "execution_count": 11,
   "id": "24287c53",
   "metadata": {},
   "outputs": [
    {
     "name": "stdout",
     "output_type": "stream",
     "text": [
      "info(name: Maron, phone num: 045-607-1852)\n",
      "{'name': 'Maron', 'phoneNum': '045-607-1852'}\n",
      "{'name': 'Lunar', 'phoneNum': '406-708-3821', 'subject': 'Electronic Engineering', 'studentId': '7283492'}\n"
     ]
    }
   ],
   "source": [
    "class Person:\n",
    "    def __init__(self, name, phoneNum):\n",
    "        self.name = name\n",
    "        self.phoneNum = phoneNum\n",
    "        \n",
    "    def printinfo(self):\n",
    "        print(\"info(name: {0}, phone num: {1})\".format(self.name, self.phoneNum))\n",
    "# java extends 상속\n",
    "# Python 은 클래스(상속할 클래스명)\n",
    "class Student(Person):\n",
    "    def __init__(self, name, phoneNum, subject, studentId):\n",
    "        self.name = name\n",
    "        self.phoneNum = phoneNum\n",
    "        self.subject = subject\n",
    "        self.studentId = studentId\n",
    "        \n",
    "p = Person(\"Maron\", \"045-607-1852\")\n",
    "s = Student(\"Lunar\", \"406-708-3821\", 'Electronic Engineering', '7283492')\n",
    "\n",
    "p.printinfo()\n",
    "\n",
    "print(p.__dict__)\n",
    "print(s.__dict__)"
   ]
  },
  {
   "cell_type": "code",
   "execution_count": 15,
   "id": "cbd273be",
   "metadata": {},
   "outputs": [
    {
     "name": "stdout",
     "output_type": "stream",
     "text": [
      "i'm Sub Class: [3]\n",
      "i'm Super Class\n",
      "{'Number': 3}\n"
     ]
    }
   ],
   "source": [
    "#super() 활용법\n",
    "\n",
    "class Parent(object):\n",
    "    def __init__(self, number):\n",
    "        self.Number = number\n",
    "        \n",
    "    def printMsg(self):\n",
    "        print(\"i'm Super Class\")\n",
    "        \n",
    "class Child(Parent):\n",
    "    def __init__(self, number):\n",
    "        super(Child, self).__init__(number)\n",
    "        \n",
    "    def printMsg(self):\n",
    "        print(\"i'm Sub Class: [%s]\" % str(self.Number))\n",
    "        super(Child, self).printMsg()\n",
    "        \n",
    "c = Child(3)\n",
    "c.printMsg()\n",
    "\n",
    "print(c.__dict__)"
   ]
  },
  {
   "cell_type": "code",
   "execution_count": 17,
   "id": "f5dd198d",
   "metadata": {},
   "outputs": [
    {
     "name": "stdout",
     "output_type": "stream",
     "text": [
      "84 0.35939853751745476\n",
      "8 0.7489887063385602\n",
      "99 0.908264769020845\n",
      "100 0.051849465926184224\n",
      "83 0.10137087717215676\n",
      "91 0.47255860070343947\n",
      "38 0.9292645099442194\n",
      "18 0.2513703653585817\n",
      "52 0.38394726883838626\n",
      "79 0.013599878797953768\n",
      "81 0.9243178405366528\n",
      "11 0.42970729471841973\n",
      "21 0.4798496268932463\n",
      "22 0.1749595795791633\n",
      "51 0.5849996218163666\n",
      "82 0.23415580553863558\n",
      "35 0.39285840188813326\n",
      "46 0.7895789152392788\n",
      "32 0.9275104143963483\n",
      "17 0.28099110497470814\n"
     ]
    }
   ],
   "source": [
    "# 파이썬 난수\n",
    "\n",
    "from random import *\n",
    " \n",
    "for i in range(20):\n",
    "    rand_int = randint(1,100)\n",
    "    rand_float = random() # 0 ~ 1 사이\n",
    "    print(rand_int, rand_float)"
   ]
  },
  {
   "cell_type": "code",
   "execution_count": null,
   "id": "d6c10000",
   "metadata": {},
   "outputs": [],
   "source": [
    "# 숙제 1.\n",
    "# 1~100까지의 숫자중 3의 배수만 추려서 출력하도록\n",
    "# 클래스 및 메서드를 프로그래밍 하시오.\n",
    "# 숙제 2.\n",
    "# 주사위 게임을 플레이 할 수있도록 클래스 및 메서드를 작성하시오\n",
    "# 주사위는 1개만 굴리도록 하며 승패판정은 누가 더 높냐에 따라 갈림\n",
    "#숙제3\n",
    "#가상의 보드게임을 만든다\n",
    "#한 바퀴를 도는데 총 주사위 눈금이 40칸 필요하다.\n",
    "#1)한 바퀴를 돌면 자금으로 100만원이 주어진다\n",
    "#2)주사위의 특수 능력을 활용 할 수 있다\n",
    "#  2-1) 숫자 2: 모두의 자금에서 50만원을 깐다.\n",
    "#  2-2) 숫자 4: 자신의 자금 5%가 증발한다.\n",
    "#  2-3) 숫자 6: 모두의 자금에 30만원을 추가한다\n",
    "#  2-4) 모든 플레이어들이 주사위를 돌린 눈금이 짝수일 경우 비밀 상점이 열린다.\n",
    "#            비밀 상점 물품:\n",
    "\n"
   ]
  }
 ],
 "metadata": {
  "kernelspec": {
   "display_name": "Python 3",
   "language": "python",
   "name": "python3"
  },
  "language_info": {
   "codemirror_mode": {
    "name": "ipython",
    "version": 3
   },
   "file_extension": ".py",
   "mimetype": "text/x-python",
   "name": "python",
   "nbconvert_exporter": "python",
   "pygments_lexer": "ipython3",
   "version": "3.8.8"
  }
 },
 "nbformat": 4,
 "nbformat_minor": 5
}
