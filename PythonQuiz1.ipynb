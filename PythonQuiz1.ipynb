{
 "cells": [
  {
   "cell_type": "code",
   "execution_count": 18,
   "id": "3624dfce",
   "metadata": {},
   "outputs": [
    {
     "name": "stdout",
     "output_type": "stream",
     "text": [
      "3\n",
      "6\n",
      "9\n",
      "12\n",
      "15\n",
      "18\n",
      "21\n",
      "24\n",
      "27\n",
      "30\n",
      "33\n",
      "36\n",
      "39\n",
      "42\n",
      "45\n",
      "48\n",
      "51\n",
      "54\n",
      "57\n",
      "60\n",
      "63\n",
      "66\n",
      "69\n",
      "72\n",
      "75\n",
      "78\n",
      "81\n",
      "84\n",
      "87\n",
      "90\n",
      "93\n",
      "96\n",
      "99\n"
     ]
    }
   ],
   "source": [
    "class Three():\n",
    "    def Print():\n",
    "        for i in range(1,100):\n",
    "            if i % 3 == 0:\n",
    "                print(i)\n",
    "                \n",
    "                \n",
    "Three.Print()\n",
    "\n"
   ]
  },
  {
   "cell_type": "code",
   "execution_count": 26,
   "id": "dad97c13",
   "metadata": {},
   "outputs": [
    {
     "name": "stdout",
     "output_type": "stream",
     "text": [
      "3\n",
      "3\n",
      "다시 굴려주세요\n"
     ]
    }
   ],
   "source": [
    "from random import *\n",
    "class Dice():\n",
    "    for i in range(1):\n",
    "        dice1 = randint(1, 6)\n",
    "        dice2 = randint(1, 6)\n",
    "        if dice1 > dice2:\n",
    "            print(dice1)\n",
    "            print(dice2)\n",
    "            print(\"1번이 승리\")\n",
    "        elif dice1 < dice2:\n",
    "            print(dice1)\n",
    "            print(dice2)\n",
    "            print(\"2번이 승리\")\n",
    "        elif dice1 == dice2:\n",
    "            print(dice1)\n",
    "            print(dice2)\n",
    "            print(\"다시 굴려주세요\")\n",
    "            \n",
    "\n",
    "            \n",
    "        "
   ]
  },
  {
   "cell_type": "code",
   "execution_count": null,
   "id": "efb3774e",
   "metadata": {},
   "outputs": [],
   "source": []
  }
 ],
 "metadata": {
  "kernelspec": {
   "display_name": "Python 3",
   "language": "python",
   "name": "python3"
  },
  "language_info": {
   "codemirror_mode": {
    "name": "ipython",
    "version": 3
   },
   "file_extension": ".py",
   "mimetype": "text/x-python",
   "name": "python",
   "nbconvert_exporter": "python",
   "pygments_lexer": "ipython3",
   "version": "3.8.8"
  }
 },
 "nbformat": 4,
 "nbformat_minor": 5
}
