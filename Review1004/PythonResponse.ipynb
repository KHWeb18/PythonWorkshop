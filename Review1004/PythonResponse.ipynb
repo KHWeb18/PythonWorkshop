{
 "cells": [
  {
   "cell_type": "code",
   "execution_count": null,
   "id": "0c1b787e",
   "metadata": {},
   "outputs": [],
   "source": [
    "# Client & Server\n",
    "# Client: 서비스를 사용하는 사용자\n",
    "# Server: 서비스를 제공하는 제공자\n",
    "# Vue & Spring 둘은 Server가 되기도, Client가 되기도 한다\n",
    "\n",
    "# Vue - Spring -DB(JPA)\n",
    "#         |\n",
    "#       Python\n",
    "\n",
    "# 위와 같이 여러 개의 많은 서비스들이 복합적으로 구성되어 \n",
    "# 하나의 또 다른 서비스를 구성하는 것을 마이크로서비스라고 한다."
   ]
  },
  {
   "cell_type": "code",
   "execution_count": 7,
   "id": "1f8b6e56",
   "metadata": {},
   "outputs": [],
   "source": [
    "from flask import Flask, url_for, request, jsonify\n",
    "from flask_cors import CORS, cross_origin\n",
    "\n",
    "import json"
   ]
  },
  {
   "cell_type": "code",
   "execution_count": null,
   "id": "58a7467d",
   "metadata": {},
   "outputs": [
    {
     "name": "stdout",
     "output_type": "stream",
     "text": [
      " * Serving Flask app \"__main__\" (lazy loading)\n",
      " * Environment: production\n",
      "   WARNING: This is a development server. Do not use it in a production deployment.\n",
      "   Use a production WSGI server instead.\n",
      " * Debug mode: off\n"
     ]
    },
    {
     "name": "stderr",
     "output_type": "stream",
     "text": [
      " * Running on http://127.0.0.1:5000/ (Press CTRL+C to quit)\n",
      "<ipython-input-12-c451cedd5a15>:22: DeprecationWarning: 'encoding' is ignored and deprecated. It will be removed in Python 3.9\n",
      "  params = json.loads(request.get_data(), encoding='utf-8')\n",
      "127.0.0.1 - - [04/Oct/2021 19:33:07] \"\u001b[37mPOST /springToPythonRequestWithData HTTP/1.1\u001b[0m\" 200 -\n"
     ]
    }
   ],
   "source": [
    "app = Flask(__name__)\n",
    "CORS(app)\n",
    "\n",
    "@app.route('/springToPythonRequest', methods = ['GET', 'POST'])\n",
    "def springToPythonRequest():\n",
    "    data = {'success': True}\n",
    "    \n",
    "    return jsonify(data)\n",
    "\n",
    "@app.route('/springToPythonRequestMulti', methods = ['GET', 'POST'])\n",
    "def springToPythonRequestMulti():\n",
    "    data = {'success': True}\n",
    "    \n",
    "    data['userId'] = 'test'\n",
    "    data['email'] = 'test@naver.com'\n",
    "    \n",
    "    return jsonify(data)\n",
    "\n",
    "# spring에서 데이터 받아오기\n",
    "@app.route('/springToPythonRequestWithData', methods = ['GET', 'POST'])\n",
    "def springToPythonRequestWithData():\n",
    "    params = json.loads(request.get_data(), encoding='utf-8')\n",
    "    #params = ''\n",
    "    \n",
    "    if len(params) == 0:\n",
    "        return jsonify('No Parameter')\n",
    "    \n",
    "    params_string = ''\n",
    "    for key in params.keys():\n",
    "        params_string += 'key: {0}, value: {1}</br>'.format(key, params[key])\n",
    "        \n",
    "    return jsonify(params_string)\n",
    "\n",
    "if __name__ == '__main__':\n",
    "    app.run()"
   ]
  },
  {
   "cell_type": "code",
   "execution_count": null,
   "id": "adf0302d",
   "metadata": {},
   "outputs": [],
   "source": []
  }
 ],
 "metadata": {
  "kernelspec": {
   "display_name": "Python 3",
   "language": "python",
   "name": "python3"
  },
  "language_info": {
   "codemirror_mode": {
    "name": "ipython",
    "version": 3
   },
   "file_extension": ".py",
   "mimetype": "text/x-python",
   "name": "python",
   "nbconvert_exporter": "python",
   "pygments_lexer": "ipython3",
   "version": "3.8.8"
  }
 },
 "nbformat": 4,
 "nbformat_minor": 5
}
