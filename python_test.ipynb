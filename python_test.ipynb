{
 "cells": [
  {
   "cell_type": "code",
   "execution_count": null,
   "id": "6920d708",
   "metadata": {},
   "outputs": [],
   "source": [
    "# 파이썬에서 주석은 '#' 으로 작성합니다."
   ]
  },
  {
   "cell_type": "code",
   "execution_count": 1,
   "id": "f226aa78",
   "metadata": {},
   "outputs": [],
   "source": [
    "### File Write\n",
    "data = \"hello\"\n",
    "with open(\"test.txt\", \"w\") as fp:\n",
    "    fp.write(data)"
   ]
  },
  {
   "cell_type": "code",
   "execution_count": 2,
   "id": "a695863f",
   "metadata": {},
   "outputs": [
    {
     "name": "stdout",
     "output_type": "stream",
     "text": [
      "파이썬 테스트!\n",
      "hello\n"
     ]
    }
   ],
   "source": [
    "### File Read\n",
    "with open(\"test.txt\", \"r\") as fp:\n",
    "    print(\"파이썬 테스트!\")\n",
    "    print(fp.read())"
   ]
  },
  {
   "cell_type": "code",
   "execution_count": 3,
   "id": "ebadde2b",
   "metadata": {},
   "outputs": [
    {
     "name": "stdout",
     "output_type": "stream",
     "text": [
      " C 드라이브의 볼륨에는 이름이 없습니다.\n",
      " 볼륨 일련 번호: E68B-BC99\n",
      "\n",
      " C:\\Users\\user\\python_works\\PythonWorkshop 디렉터리\n",
      "\n",
      "2021-09-17  오후 06:07    <DIR>          .\n",
      "2021-09-17  오후 06:07    <DIR>          ..\n",
      "2021-09-17  오후 05:54             1,928 .gitignore\n",
      "2021-09-17  오후 06:06    <DIR>          .ipynb_checkpoints\n",
      "2021-09-17  오후 06:07               950 python_test.ipynb\n",
      "2021-09-17  오후 05:54                51 README.md\n",
      "2021-09-17  오후 06:06                 5 test.txt\n",
      "2021-09-17  오후 06:06               576 Untitled.ipynb\n",
      "2021-09-17  오후 06:03                72 Untitled1.ipynb\n",
      "2021-09-17  오후 06:03                72 Untitled2.ipynb\n",
      "2021-09-17  오후 06:03                72 Untitled3.ipynb\n",
      "               8개 파일               3,726 바이트\n",
      "               3개 디렉터리  102,490,656,768 바이트 남음\n"
     ]
    }
   ],
   "source": [
    "# Windows\n",
    "!dir"
   ]
  },
  {
   "cell_type": "code",
   "execution_count": 4,
   "id": "b96e5959",
   "metadata": {},
   "outputs": [
    {
     "name": "stdout",
     "output_type": "stream",
     "text": [
      "hello\n"
     ]
    }
   ],
   "source": [
    "# Windows\n",
    "!type test.txt"
   ]
  },
  {
   "cell_type": "code",
   "execution_count": null,
   "id": "9ae657ff",
   "metadata": {},
   "outputs": [],
   "source": []
  }
 ],
 "metadata": {
  "kernelspec": {
   "display_name": "Python 3",
   "language": "python",
   "name": "python3"
  },
  "language_info": {
   "codemirror_mode": {
    "name": "ipython",
    "version": 3
   },
   "file_extension": ".py",
   "mimetype": "text/x-python",
   "name": "python",
   "nbconvert_exporter": "python",
   "pygments_lexer": "ipython3",
   "version": "3.8.8"
  }
 },
 "nbformat": 4,
 "nbformat_minor": 5
}
