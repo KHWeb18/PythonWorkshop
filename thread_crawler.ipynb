{
 "cells": [
  {
   "cell_type": "code",
   "execution_count": 2,
   "id": "7b531413",
   "metadata": {},
   "outputs": [],
   "source": [
    "import os\n",
    "import re\n",
    "import time\n",
    "import socket"
   ]
  },
  {
   "cell_type": "code",
   "execution_count": 3,
   "id": "09f971db",
   "metadata": {},
   "outputs": [],
   "source": [
    "# 크롤링 결과를 저장하는 파일\n",
    "CRAWLED_RESULT_SAVED_FILE = \"res/crawl_data/result.txt\""
   ]
  },
  {
   "cell_type": "code",
   "execution_count": 4,
   "id": "8d2a36e3",
   "metadata": {},
   "outputs": [],
   "source": [
    "def record_url_info_thread():\n",
    "    while (True):\n",
    "        f = open(CRAWLED_RESULT_SAVED_FILE, 'w')\n",
    "        print(f.write('test'))\n",
    "        f.close()"
   ]
  },
  {
   "cell_type": "code",
   "execution_count": 5,
   "id": "6a34c804",
   "metadata": {},
   "outputs": [
    {
     "name": "stdout",
     "output_type": "stream",
     "text": [
      "4\n"
     ]
    }
   ],
   "source": [
    "#record_info()"
   ]
  },
  {
   "cell_type": "code",
   "execution_count": 8,
   "id": "07b9898e",
   "metadata": {},
   "outputs": [
    {
     "name": "stdout",
     "output_type": "stream",
     "text": [
      " C 드라이브의 볼륨: 오후반_OS\n",
      " 볼륨 일련 번호: E808-E5FC\n",
      "\n",
      " C:\\Users\\user2\\python_works\\PythonWorkshop-1\\res\\crawl_data 디렉터리\n",
      "\n",
      "2021-10-21  오후 03:45    <DIR>          .\n",
      "2021-10-21  오후 03:45    <DIR>          ..\n",
      "2021-10-21  오후 03:45                 4 result.txt\n",
      "               1개 파일                   4 바이트\n",
      "               2개 디렉터리  147,387,457,536 바이트 남음\n"
     ]
    }
   ],
   "source": [
    "!dir res\\crawl_data"
   ]
  },
  {
   "cell_type": "code",
   "execution_count": 9,
   "id": "d223d78c",
   "metadata": {},
   "outputs": [
    {
     "name": "stdout",
     "output_type": "stream",
     "text": [
      "test\n"
     ]
    }
   ],
   "source": [
    "!type res\\crawl_data\\result.txt"
   ]
  },
  {
   "cell_type": "code",
   "execution_count": 10,
   "id": "374560f4",
   "metadata": {},
   "outputs": [],
   "source": [
    "from flask import Flask, url_for, request, jsonify, redirect, Response\n",
    "from flask_cors import CORS, cross_origin\n",
    "\n",
    "import json\n",
    "import requests"
   ]
  },
  {
   "cell_type": "code",
   "execution_count": 11,
   "id": "dbfc4c24",
   "metadata": {},
   "outputs": [],
   "source": [
    "import selenium\n",
    "from selenium import webdriver"
   ]
  },
  {
   "cell_type": "code",
   "execution_count": 51,
   "id": "8fd64644",
   "metadata": {},
   "outputs": [],
   "source": [
    "# 키보드 입력 처리\n",
    "from selenium.webdriver.common.keys import Keys"
   ]
  },
  {
   "cell_type": "code",
   "execution_count": 52,
   "id": "46b2ca83",
   "metadata": {},
   "outputs": [],
   "source": [
    "def cont_youtube_crawl_thread(text):\n",
    "    #url = \"https://www.youtube.com/\"\n",
    "    url = \"https://www.youtube.com/results?search_query=\"\n",
    "\n",
    "    driver = webdriver.Chrome(r\"C:\\chromedriver.exe\")\n",
    "    \n",
    "    search_url = url + text\n",
    "    driver.get(url = search_url)\n",
    "    \n",
    "    # body 정보 확보\n",
    "    body = driver.find_element_by_tag_name('body')\n",
    "    \n",
    "    # URL 확보\n",
    "    allContents = driver.find_elements_by_css_selector(\n",
    "        \"#contents > ytd-item-section-renderer > div > ytd-video-renderer > div > ytd-thumbnail > a\"\n",
    "    )\n",
    "\n",
    "    hrefURL = []\n",
    "\n",
    "    for item in allContents:\n",
    "        if (item != ''):\n",
    "            hrefURL.append(item.get_attribute('href'))\n",
    "            \n",
    "    shelfContents = driver.find_elements_by_css_selector(\n",
    "        \"#contents > ytd-shelf-renderer > div > div > ytd-vertical-list-renderer > div > ytd-video-renderer > div > ytd-thumbnail > a\"\n",
    "    )\n",
    "    \n",
    "    for item in shelfContents:\n",
    "        if (item != ''):\n",
    "            hrefURL.append(item.get_attribute('href'))\n",
    "\n",
    "    print(hrefURL)\n",
    "    print(\"크롤링 개수: \", len(hrefURL))\n",
    "    \n",
    "    while (True):\n",
    "        body.send_keys(Keys.PAGE_DOWN)\n",
    "    \n",
    "    # y축으로 3000 픽셀 이동함\n",
    "    #driver.execute_script(\"window.scrollTo(0, 3000)\")"
   ]
  },
  {
   "cell_type": "code",
   "execution_count": 53,
   "id": "05a92a99",
   "metadata": {},
   "outputs": [],
   "source": [
    "# 현재 상황에서 기록하는 스레드와 크롤링 하는 두 개의 스레드가 있음\n",
    "# 여기에서 어떤 문제점이 발생할 수 있을까 ?\n",
    "\n",
    "# 크롤링하는 스레드 - 검색 키워드를 기반으로 크롤링\n",
    "# 기록하는 스레드 - 크롤링한 URL 저장"
   ]
  },
  {
   "cell_type": "code",
   "execution_count": 54,
   "id": "88b5d1dc",
   "metadata": {},
   "outputs": [
    {
     "name": "stdout",
     "output_type": "stream",
     "text": [
      "['https://www.youtube.com/watch?v=PJ5QuJluIWU', 'https://www.youtube.com/watch?v=-e4fC_oXvMg', 'https://www.youtube.com/watch?v=UUtnh3J8xfQ', 'https://www.youtube.com/watch?v=SIRv-UeJZXM', 'https://www.youtube.com/watch?v=9KnTJVQRYag', 'https://www.youtube.com/watch?v=OMBjyeSJLqY', 'https://www.youtube.com/watch?v=z48eJfp_HP4', 'https://www.youtube.com/watch?v=gmd4OnrxR0Q', 'https://www.youtube.com/watch?v=J1pa4irZwEM', 'https://www.youtube.com/watch?v=ePSG2dJvx48', 'https://www.youtube.com/watch?v=nfbGqacJtmw', 'https://www.youtube.com/watch?v=o0HDOupqRi4', 'https://www.youtube.com/watch?v=22_1CRL35Qk', 'https://www.youtube.com/watch?v=-XYSZpWvSGs', 'https://www.youtube.com/watch?v=5aNHqVXQ4W8', 'https://www.youtube.com/watch?v=JLkAv6kwGJw', 'https://www.youtube.com/watch?v=ktK-8XU8UzI', 'https://www.youtube.com/watch?v=7IkGv9asbkQ', 'https://www.youtube.com/watch?v=BgHNCRSYH5o', 'https://www.youtube.com/watch?v=H_R_SvQTw2s', 'https://www.youtube.com/watch?v=-lgYmZsFK-U', 'https://www.youtube.com/watch?v=YVI-EFbFLtY', 'https://www.youtube.com/watch?v=0Qjb9cFdF-8', 'https://www.youtube.com/watch?v=29Yh4XwAt3Y']\n",
      "크롤링 개수:  24\n"
     ]
    },
    {
     "ename": "ElementNotInteractableException",
     "evalue": "Message: element not interactable\n  (Session info: chrome=94.0.4606.81)\n",
     "output_type": "error",
     "traceback": [
      "\u001b[1;31m---------------------------------------------------------------------------\u001b[0m",
      "\u001b[1;31mElementNotInteractableException\u001b[0m           Traceback (most recent call last)",
      "\u001b[1;32m<ipython-input-54-78e57f108980>\u001b[0m in \u001b[0;36m<module>\u001b[1;34m\u001b[0m\n\u001b[1;32m----> 1\u001b[1;33m \u001b[0mcont_youtube_crawl_thread\u001b[0m\u001b[1;33m(\u001b[0m\u001b[1;34m\"시고르자브종\"\u001b[0m\u001b[1;33m)\u001b[0m\u001b[1;33m\u001b[0m\u001b[1;33m\u001b[0m\u001b[0m\n\u001b[0m",
      "\u001b[1;32m<ipython-input-52-3e792a741159>\u001b[0m in \u001b[0;36mcont_youtube_crawl_thread\u001b[1;34m(text)\u001b[0m\n\u001b[0;32m     34\u001b[0m \u001b[1;33m\u001b[0m\u001b[0m\n\u001b[0;32m     35\u001b[0m     \u001b[1;32mwhile\u001b[0m \u001b[1;33m(\u001b[0m\u001b[1;32mTrue\u001b[0m\u001b[1;33m)\u001b[0m\u001b[1;33m:\u001b[0m\u001b[1;33m\u001b[0m\u001b[1;33m\u001b[0m\u001b[0m\n\u001b[1;32m---> 36\u001b[1;33m         \u001b[0mbody\u001b[0m\u001b[1;33m.\u001b[0m\u001b[0msend_keys\u001b[0m\u001b[1;33m(\u001b[0m\u001b[0mKeys\u001b[0m\u001b[1;33m.\u001b[0m\u001b[0mPAGE_DOWN\u001b[0m\u001b[1;33m)\u001b[0m\u001b[1;33m\u001b[0m\u001b[1;33m\u001b[0m\u001b[0m\n\u001b[0m\u001b[0;32m     37\u001b[0m \u001b[1;33m\u001b[0m\u001b[0m\n\u001b[0;32m     38\u001b[0m     \u001b[1;31m# y축으로 3000 픽셀 이동함\u001b[0m\u001b[1;33m\u001b[0m\u001b[1;33m\u001b[0m\u001b[1;33m\u001b[0m\u001b[0m\n",
      "\u001b[1;32m~\\anaconda3\\lib\\site-packages\\selenium\\webdriver\\remote\\webelement.py\u001b[0m in \u001b[0;36msend_keys\u001b[1;34m(self, *value)\u001b[0m\n\u001b[0;32m    475\u001b[0m                 \u001b[0mvalue\u001b[0m \u001b[1;33m=\u001b[0m \u001b[0mself\u001b[0m\u001b[1;33m.\u001b[0m\u001b[0m_upload\u001b[0m\u001b[1;33m(\u001b[0m\u001b[0mlocal_file\u001b[0m\u001b[1;33m)\u001b[0m\u001b[1;33m\u001b[0m\u001b[1;33m\u001b[0m\u001b[0m\n\u001b[0;32m    476\u001b[0m \u001b[1;33m\u001b[0m\u001b[0m\n\u001b[1;32m--> 477\u001b[1;33m         self._execute(Command.SEND_KEYS_TO_ELEMENT,\n\u001b[0m\u001b[0;32m    478\u001b[0m                       {'text': \"\".join(keys_to_typing(value)),\n\u001b[0;32m    479\u001b[0m                        'value': keys_to_typing(value)})\n",
      "\u001b[1;32m~\\anaconda3\\lib\\site-packages\\selenium\\webdriver\\remote\\webelement.py\u001b[0m in \u001b[0;36m_execute\u001b[1;34m(self, command, params)\u001b[0m\n\u001b[0;32m    631\u001b[0m             \u001b[0mparams\u001b[0m \u001b[1;33m=\u001b[0m \u001b[1;33m{\u001b[0m\u001b[1;33m}\u001b[0m\u001b[1;33m\u001b[0m\u001b[1;33m\u001b[0m\u001b[0m\n\u001b[0;32m    632\u001b[0m         \u001b[0mparams\u001b[0m\u001b[1;33m[\u001b[0m\u001b[1;34m'id'\u001b[0m\u001b[1;33m]\u001b[0m \u001b[1;33m=\u001b[0m \u001b[0mself\u001b[0m\u001b[1;33m.\u001b[0m\u001b[0m_id\u001b[0m\u001b[1;33m\u001b[0m\u001b[1;33m\u001b[0m\u001b[0m\n\u001b[1;32m--> 633\u001b[1;33m         \u001b[1;32mreturn\u001b[0m \u001b[0mself\u001b[0m\u001b[1;33m.\u001b[0m\u001b[0m_parent\u001b[0m\u001b[1;33m.\u001b[0m\u001b[0mexecute\u001b[0m\u001b[1;33m(\u001b[0m\u001b[0mcommand\u001b[0m\u001b[1;33m,\u001b[0m \u001b[0mparams\u001b[0m\u001b[1;33m)\u001b[0m\u001b[1;33m\u001b[0m\u001b[1;33m\u001b[0m\u001b[0m\n\u001b[0m\u001b[0;32m    634\u001b[0m \u001b[1;33m\u001b[0m\u001b[0m\n\u001b[0;32m    635\u001b[0m     \u001b[1;32mdef\u001b[0m \u001b[0mfind_element\u001b[0m\u001b[1;33m(\u001b[0m\u001b[0mself\u001b[0m\u001b[1;33m,\u001b[0m \u001b[0mby\u001b[0m\u001b[1;33m=\u001b[0m\u001b[0mBy\u001b[0m\u001b[1;33m.\u001b[0m\u001b[0mID\u001b[0m\u001b[1;33m,\u001b[0m \u001b[0mvalue\u001b[0m\u001b[1;33m=\u001b[0m\u001b[1;32mNone\u001b[0m\u001b[1;33m)\u001b[0m\u001b[1;33m:\u001b[0m\u001b[1;33m\u001b[0m\u001b[1;33m\u001b[0m\u001b[0m\n",
      "\u001b[1;32m~\\anaconda3\\lib\\site-packages\\selenium\\webdriver\\remote\\webdriver.py\u001b[0m in \u001b[0;36mexecute\u001b[1;34m(self, driver_command, params)\u001b[0m\n\u001b[0;32m    319\u001b[0m         \u001b[0mresponse\u001b[0m \u001b[1;33m=\u001b[0m \u001b[0mself\u001b[0m\u001b[1;33m.\u001b[0m\u001b[0mcommand_executor\u001b[0m\u001b[1;33m.\u001b[0m\u001b[0mexecute\u001b[0m\u001b[1;33m(\u001b[0m\u001b[0mdriver_command\u001b[0m\u001b[1;33m,\u001b[0m \u001b[0mparams\u001b[0m\u001b[1;33m)\u001b[0m\u001b[1;33m\u001b[0m\u001b[1;33m\u001b[0m\u001b[0m\n\u001b[0;32m    320\u001b[0m         \u001b[1;32mif\u001b[0m \u001b[0mresponse\u001b[0m\u001b[1;33m:\u001b[0m\u001b[1;33m\u001b[0m\u001b[1;33m\u001b[0m\u001b[0m\n\u001b[1;32m--> 321\u001b[1;33m             \u001b[0mself\u001b[0m\u001b[1;33m.\u001b[0m\u001b[0merror_handler\u001b[0m\u001b[1;33m.\u001b[0m\u001b[0mcheck_response\u001b[0m\u001b[1;33m(\u001b[0m\u001b[0mresponse\u001b[0m\u001b[1;33m)\u001b[0m\u001b[1;33m\u001b[0m\u001b[1;33m\u001b[0m\u001b[0m\n\u001b[0m\u001b[0;32m    322\u001b[0m             response['value'] = self._unwrap_value(\n\u001b[0;32m    323\u001b[0m                 response.get('value', None))\n",
      "\u001b[1;32m~\\anaconda3\\lib\\site-packages\\selenium\\webdriver\\remote\\errorhandler.py\u001b[0m in \u001b[0;36mcheck_response\u001b[1;34m(self, response)\u001b[0m\n\u001b[0;32m    240\u001b[0m                 \u001b[0malert_text\u001b[0m \u001b[1;33m=\u001b[0m \u001b[0mvalue\u001b[0m\u001b[1;33m[\u001b[0m\u001b[1;34m'alert'\u001b[0m\u001b[1;33m]\u001b[0m\u001b[1;33m.\u001b[0m\u001b[0mget\u001b[0m\u001b[1;33m(\u001b[0m\u001b[1;34m'text'\u001b[0m\u001b[1;33m)\u001b[0m\u001b[1;33m\u001b[0m\u001b[1;33m\u001b[0m\u001b[0m\n\u001b[0;32m    241\u001b[0m             \u001b[1;32mraise\u001b[0m \u001b[0mexception_class\u001b[0m\u001b[1;33m(\u001b[0m\u001b[0mmessage\u001b[0m\u001b[1;33m,\u001b[0m \u001b[0mscreen\u001b[0m\u001b[1;33m,\u001b[0m \u001b[0mstacktrace\u001b[0m\u001b[1;33m,\u001b[0m \u001b[0malert_text\u001b[0m\u001b[1;33m)\u001b[0m\u001b[1;33m\u001b[0m\u001b[1;33m\u001b[0m\u001b[0m\n\u001b[1;32m--> 242\u001b[1;33m         \u001b[1;32mraise\u001b[0m \u001b[0mexception_class\u001b[0m\u001b[1;33m(\u001b[0m\u001b[0mmessage\u001b[0m\u001b[1;33m,\u001b[0m \u001b[0mscreen\u001b[0m\u001b[1;33m,\u001b[0m \u001b[0mstacktrace\u001b[0m\u001b[1;33m)\u001b[0m\u001b[1;33m\u001b[0m\u001b[1;33m\u001b[0m\u001b[0m\n\u001b[0m\u001b[0;32m    243\u001b[0m \u001b[1;33m\u001b[0m\u001b[0m\n\u001b[0;32m    244\u001b[0m     \u001b[1;32mdef\u001b[0m \u001b[0m_value_or_default\u001b[0m\u001b[1;33m(\u001b[0m\u001b[0mself\u001b[0m\u001b[1;33m,\u001b[0m \u001b[0mobj\u001b[0m\u001b[1;33m,\u001b[0m \u001b[0mkey\u001b[0m\u001b[1;33m,\u001b[0m \u001b[0mdefault\u001b[0m\u001b[1;33m)\u001b[0m\u001b[1;33m:\u001b[0m\u001b[1;33m\u001b[0m\u001b[1;33m\u001b[0m\u001b[0m\n",
      "\u001b[1;31mElementNotInteractableException\u001b[0m: Message: element not interactable\n  (Session info: chrome=94.0.4606.81)\n"
     ]
    }
   ],
   "source": [
    "cont_youtube_crawl_thread(\"시고르자브종\")"
   ]
  },
  {
   "cell_type": "code",
   "execution_count": null,
   "id": "53b504fa",
   "metadata": {},
   "outputs": [],
   "source": []
  }
 ],
 "metadata": {
  "kernelspec": {
   "display_name": "Python 3",
   "language": "python",
   "name": "python3"
  },
  "language_info": {
   "codemirror_mode": {
    "name": "ipython",
    "version": 3
   },
   "file_extension": ".py",
   "mimetype": "text/x-python",
   "name": "python",
   "nbconvert_exporter": "python",
   "pygments_lexer": "ipython3",
   "version": "3.8.8"
  }
 },
 "nbformat": 4,
 "nbformat_minor": 5
}
