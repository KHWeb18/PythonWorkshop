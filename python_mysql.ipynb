{
 "cells": [
  {
   "cell_type": "code",
   "execution_count": 1,
   "id": "021a6896",
   "metadata": {},
   "outputs": [
    {
     "name": "stdout",
     "output_type": "stream",
     "text": [
      "Collecting pymysql\n",
      "  Downloading PyMySQL-1.0.2-py3-none-any.whl (43 kB)\n",
      "Installing collected packages: pymysql\n",
      "Successfully installed pymysql-1.0.2\n"
     ]
    }
   ],
   "source": [
    "!pip install pymysql"
   ]
  },
  {
   "cell_type": "code",
   "execution_count": 1,
   "id": "b9d382e8",
   "metadata": {},
   "outputs": [],
   "source": [
    "import pymysql"
   ]
  },
  {
   "cell_type": "code",
   "execution_count": 2,
   "id": "8c8dc18e",
   "metadata": {},
   "outputs": [],
   "source": [
    "MYSQL_USER_DATA_SAVED_FILE = \"res/mysql/userinfo\""
   ]
  },
  {
   "cell_type": "code",
   "execution_count": 3,
   "id": "1dc88c0f",
   "metadata": {},
   "outputs": [],
   "source": [
    "# 최초 한 번만 구동시키면 된다.\n",
    "# 본인 계정을 숨길 생각이라면 한 번 사용 이후에 id, password를 지우도록 한다.\n",
    "import pickle\n",
    "\n",
    "mysql_user_info = dict({\n",
    "    'user_id': 'khweb',\n",
    "    'password': 'khWeb@123'\n",
    "})\n",
    "\n",
    "f = open(MYSQL_USER_DATA_SAVED_FILE, 'wb')\n",
    "pickle.dump(mysql_user_info, f)\n",
    "f.close()\n",
    "\n",
    "del mysql_user_info"
   ]
  },
  {
   "cell_type": "code",
   "execution_count": 4,
   "id": "ef7eaf54",
   "metadata": {},
   "outputs": [],
   "source": [
    "import pickle\n",
    "\n",
    "f = open(MYSQL_USER_DATA_SAVED_FILE, 'rb')\n",
    "mysql_user_info = pickle.load(f)\n",
    "f.close()\n",
    "\n",
    "#print(mysql_user_info)"
   ]
  },
  {
   "cell_type": "code",
   "execution_count": 5,
   "id": "2e57cb03",
   "metadata": {},
   "outputs": [
    {
     "name": "stdout",
     "output_type": "stream",
     "text": [
      "<pymysql.connections.Connection object at 0x000001C5BAA9A070>\n"
     ]
    }
   ],
   "source": [
    "# DB 연결\n",
    "db = pymysql.connect(\n",
    "    # localhost와 같은 아이피 주소임\n",
    "    host = '127.0.0.1',\n",
    "    # MySQL의 포트 번호\n",
    "    port = 3306,\n",
    "    # 아뒤\n",
    "    user = mysql_user_info['user_id'],\n",
    "    # 비번\n",
    "    passwd = mysql_user_info['password'],\n",
    "    # 사용하려는 스키마\n",
    "    db = 'pydb'\n",
    ")\n",
    "\n",
    "print(db)"
   ]
  },
  {
   "cell_type": "code",
   "execution_count": 6,
   "id": "f65fab58",
   "metadata": {},
   "outputs": [
    {
     "name": "stdout",
     "output_type": "stream",
     "text": [
      "<pymysql.cursors.Cursor object at 0x000001C5BA9122E0>\n"
     ]
    }
   ],
   "source": [
    "# 이제 DB에서 select 등을 수행했을때\n",
    "# 나오는 결과를 순회할 수 있도록 지원하는 객체를 가져온다.\n",
    "cursor = db.cursor()\n",
    "\n",
    "print(cursor)"
   ]
  },
  {
   "cell_type": "code",
   "execution_count": 7,
   "id": "1e01b75e",
   "metadata": {},
   "outputs": [
    {
     "name": "stdout",
     "output_type": "stream",
     "text": [
      "테이블 생성 성공!\n"
     ]
    }
   ],
   "source": [
    "# MySQL 수동 쿼리를 적용하여 table을 생성해보도록 한다.\n",
    "sql = \"\"\"\n",
    "    create table pydbtest(\n",
    "        id int unsigned not null auto_increment,\n",
    "        name varchar(20) not null,\n",
    "        price int not null,\n",
    "        primary key(id)\n",
    "    )\n",
    "\"\"\"\n",
    "\n",
    "# 실제 SQL Query를 실행하는 코드\n",
    "cursor.execute(sql)\n",
    "\n",
    "# 작업한 내용을 실제 DB에 적용함\n",
    "db.commit()\n",
    "\n",
    "# 작업 완료 이후 DB 연결을 끊는다.\n",
    "db.close()\n",
    "\n",
    "print(\"테이블 생성 성공!\")"
   ]
  },
  {
   "cell_type": "code",
   "execution_count": 8,
   "id": "6cdeeb03",
   "metadata": {},
   "outputs": [
    {
     "name": "stdout",
     "output_type": "stream",
     "text": [
      "테이블에 값 넣기 성공!\n"
     ]
    }
   ],
   "source": [
    "# insert 처리\n",
    "db = pymysql.connect(\n",
    "    host = '127.0.0.1',\n",
    "    port = 3306,\n",
    "    user = mysql_user_info['user_id'],\n",
    "    passwd = mysql_user_info['password'],\n",
    "    db = 'pydb'\n",
    ")\n",
    "\n",
    "cursor = db.cursor()\n",
    "\n",
    "sql = \"\"\"\n",
    "    insert into pydbtest(name, price) values (%s, %s)\n",
    "\"\"\"\n",
    "\n",
    "# %s에 해당하는 데이터들을 배치한다.\n",
    "cursor.execute(sql, ('Xeon Server', 10000000))\n",
    "cursor.execute(sql, ('FPGA Server', 34000000))\n",
    "cursor.execute(sql, ('GPU Server', 20000000))\n",
    "cursor.execute(sql, ('RTX 3090', 4000000))\n",
    "\n",
    "db.commit()\n",
    "\n",
    "db.close()\n",
    "\n",
    "print(\"테이블에 값 넣기 성공!\")"
   ]
  },
  {
   "cell_type": "code",
   "execution_count": 9,
   "id": "cd597c80",
   "metadata": {},
   "outputs": [
    {
     "name": "stdout",
     "output_type": "stream",
     "text": [
      "((1, 'Xeon Server', 10000000), (2, 'FPGA Server', 34000000), (3, 'GPU Server', 20000000), (4, 'RTX 3090', 4000000))\n",
      "데이터 불러오기 성공!\n"
     ]
    }
   ],
   "source": [
    "# select(값 가져오기)\n",
    "db = pymysql.connect(\n",
    "    host = '127.0.0.1',\n",
    "    port = 3306,\n",
    "    user = mysql_user_info['user_id'],\n",
    "    passwd = mysql_user_info['password'],\n",
    "    db = 'pydb'\n",
    ")\n",
    "\n",
    "cursor = db.cursor()\n",
    "\n",
    "sql = \"\"\"\n",
    "    select * from pydbtest;\n",
    "\"\"\"\n",
    "\n",
    "cursor.execute(sql)\n",
    "\n",
    "# cursor를 통해 가져온 모든 데이터를 rows에 배치한다.\n",
    "rows = cursor.fetchall()\n",
    "print(rows)\n",
    "\n",
    "db.close()\n",
    "\n",
    "print(\"데이터 불러오기 성공!\")"
   ]
  },
  {
   "cell_type": "code",
   "execution_count": 10,
   "id": "01047959",
   "metadata": {},
   "outputs": [
    {
     "name": "stdout",
     "output_type": "stream",
     "text": [
      "(1, 'Xeon Server', 10000000)\n",
      "(2, 'FPGA Server', 34000000)\n",
      "(3, 'GPU Server', 20000000)\n",
      "(4, 'RTX 3090', 4000000)\n",
      "데이터 낱개로 불러오기 성공!\n"
     ]
    }
   ],
   "source": [
    "# select(값 가져오기) 낱개로 가져오기\n",
    "db = pymysql.connect(\n",
    "    host = '127.0.0.1',\n",
    "    port = 3306,\n",
    "    user = mysql_user_info['user_id'],\n",
    "    passwd = mysql_user_info['password'],\n",
    "    db = 'pydb'\n",
    ")\n",
    "\n",
    "cursor = db.cursor()\n",
    "\n",
    "sql = \"\"\"\n",
    "    select * from pydbtest;\n",
    "\"\"\"\n",
    "\n",
    "cursor.execute(sql)\n",
    "\n",
    "# cursor를 통해 가져온 모든 데이터를 rows에 배치한다.\n",
    "rows = cursor.fetchall()\n",
    "\n",
    "for row in rows:\n",
    "    print(row)\n",
    "\n",
    "db.close()\n",
    "\n",
    "print(\"데이터 낱개로 불러오기 성공!\")"
   ]
  },
  {
   "cell_type": "code",
   "execution_count": 19,
   "id": "9b7fb501",
   "metadata": {},
   "outputs": [
    {
     "name": "stdout",
     "output_type": "stream",
     "text": [
      "id:  1 , name:  Xeon Server , price:  10000000\n",
      "id:  2 , name:  FPGA Server , price:  34000000\n",
      "id:  3 , name:  GPU Server , price:  20000000\n",
      "id:  4 , name:  RTX 3090 , price:  4000000\n",
      "데이터 낱개로 불러와 특정값 추출하기 성공!\n"
     ]
    }
   ],
   "source": [
    "# 낱개 내에서 각각의 데이터를 얻기(딕셔너리 형식이라 키값으로 뽑으면 됨)\n",
    "# select(값 가져오기) 낱개로 가져오기\n",
    "db = pymysql.connect(\n",
    "    host = '127.0.0.1',\n",
    "    port = 3306,\n",
    "    user = mysql_user_info['user_id'],\n",
    "    passwd = mysql_user_info['password'],\n",
    "    db = 'pydb'\n",
    ")\n",
    "\n",
    "cursor = db.cursor(pymysql.cursors.DictCursor)\n",
    "\n",
    "sql = \"\"\"\n",
    "    select * from pydbtest;\n",
    "\"\"\"\n",
    "\n",
    "cursor.execute(sql)\n",
    "\n",
    "# cursor를 통해 가져온 모든 데이터를 rows에 배치한다.\n",
    "rows = cursor.fetchall()\n",
    "\n",
    "for row in rows:\n",
    "    print('id: ', row['id'], ', name: ', row['name'], ', price: ', row['price'])\n",
    "\n",
    "db.close()\n",
    "\n",
    "print(\"데이터 낱개로 불러와 특정값 추출하기 성공!\")"
   ]
  },
  {
   "cell_type": "code",
   "execution_count": 20,
   "id": "19127316",
   "metadata": {},
   "outputs": [
    {
     "name": "stdout",
     "output_type": "stream",
     "text": [
      "테이블 삭제 성공!\n"
     ]
    }
   ],
   "source": [
    "# 입력한 데이터값 정리하기(테이블 삭제)\n",
    "db = pymysql.connect(\n",
    "    host = '127.0.0.1',\n",
    "    port = 3306,\n",
    "    user = mysql_user_info['user_id'],\n",
    "    passwd = mysql_user_info['password'],\n",
    "    db = 'pydb'\n",
    ")\n",
    "\n",
    "cursor = db.cursor()\n",
    "\n",
    "sql = \"\"\"\n",
    "    drop table pydbtest;\n",
    "\"\"\"\n",
    "\n",
    "cursor.execute(sql)\n",
    "\n",
    "db.commit()\n",
    "db.close()\n",
    "\n",
    "print(\"테이블 삭제 성공!\")"
   ]
  },
  {
   "cell_type": "code",
   "execution_count": null,
   "id": "c57e79a2",
   "metadata": {},
   "outputs": [],
   "source": []
  }
 ],
 "metadata": {
  "kernelspec": {
   "display_name": "Python 3",
   "language": "python",
   "name": "python3"
  },
  "language_info": {
   "codemirror_mode": {
    "name": "ipython",
    "version": 3
   },
   "file_extension": ".py",
   "mimetype": "text/x-python",
   "name": "python",
   "nbconvert_exporter": "python",
   "pygments_lexer": "ipython3",
   "version": "3.8.8"
  }
 },
 "nbformat": 4,
 "nbformat_minor": 5
}
