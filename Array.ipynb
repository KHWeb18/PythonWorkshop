{
 "cells": [
  {
   "cell_type": "code",
   "execution_count": 9,
   "id": "fc65dd7d",
   "metadata": {},
   "outputs": [
    {
     "name": "stdout",
     "output_type": "stream",
     "text": [
      "test python\n"
     ]
    }
   ],
   "source": [
    "testStr = 'test' + \" python\"\n",
    "print(testStr)"
   ]
  },
  {
   "cell_type": "code",
   "execution_count": 10,
   "id": "2610364c",
   "metadata": {},
   "outputs": [
    {
     "name": "stdout",
     "output_type": "stream",
     "text": [
      "pointer\n",
      "p\n",
      "n\n"
     ]
    }
   ],
   "source": [
    "str1 = \"pointer\"\n",
    "print(str1)\n",
    "print(str1[0])\n",
    "print(str1[3])"
   ]
  },
  {
   "cell_type": "code",
   "execution_count": 11,
   "id": "0d6f5680",
   "metadata": {},
   "outputs": [
    {
     "name": "stdout",
     "output_type": "stream",
     "text": [
      "p\n"
     ]
    }
   ],
   "source": [
    "print(str1[0:1])"
   ]
  },
  {
   "cell_type": "code",
   "execution_count": 12,
   "id": "3d7325c5",
   "metadata": {},
   "outputs": [
    {
     "name": "stdout",
     "output_type": "stream",
     "text": [
      "oin\n"
     ]
    }
   ],
   "source": [
    "print(str1[1:4])"
   ]
  },
  {
   "cell_type": "code",
   "execution_count": 13,
   "id": "afaeba7e",
   "metadata": {},
   "outputs": [
    {
     "name": "stdout",
     "output_type": "stream",
     "text": [
      "po\n"
     ]
    }
   ],
   "source": [
    "print(str1[:2])"
   ]
  },
  {
   "cell_type": "code",
   "execution_count": 20,
   "id": "b8fb997c",
   "metadata": {},
   "outputs": [
    {
     "name": "stdout",
     "output_type": "stream",
     "text": [
      "er\n"
     ]
    }
   ],
   "source": [
    "print(str1[-2:])"
   ]
  },
  {
   "cell_type": "code",
   "execution_count": 21,
   "id": "e5c09685",
   "metadata": {},
   "outputs": [
    {
     "name": "stdout",
     "output_type": "stream",
     "text": [
      "pointer\n"
     ]
    }
   ],
   "source": [
    "print(str1[:])"
   ]
  },
  {
   "cell_type": "code",
   "execution_count": 22,
   "id": "97dad793",
   "metadata": {},
   "outputs": [
    {
     "name": "stdout",
     "output_type": "stream",
     "text": [
      "one\n"
     ]
    }
   ],
   "source": [
    "print(str1[1::2])"
   ]
  },
  {
   "cell_type": "code",
   "execution_count": 23,
   "id": "8cc19c52",
   "metadata": {},
   "outputs": [
    {
     "name": "stdout",
     "output_type": "stream",
     "text": [
      "pitr\n"
     ]
    }
   ],
   "source": [
    "print(str1[::2])"
   ]
  },
  {
   "cell_type": "code",
   "execution_count": 28,
   "id": "c69acba9",
   "metadata": {},
   "outputs": [
    {
     "name": "stdout",
     "output_type": "stream",
     "text": [
      "3.14\n",
      "<class 'str'>\n",
      "44\n",
      "<class 'int'>\n",
      "33.0\n",
      "<class 'float'>\n"
     ]
    }
   ],
   "source": [
    "piStr = str(3.14)\n",
    "\n",
    "print(piStr)\n",
    "print(type(piStr))\n",
    "\n",
    "intStr = int(\"44\")\n",
    "\n",
    "print(intStr)\n",
    "print(type(intStr))\n",
    "\n",
    "floatStr = float(\"33\")\n",
    "\n",
    "print(floatStr)\n",
    "print(type(floatStr))"
   ]
  },
  {
   "cell_type": "code",
   "execution_count": 94,
   "id": "72fb1f7c",
   "metadata": {},
   "outputs": [
    {
     "name": "stdout",
     "output_type": "stream",
     "text": [
      "['red', 'green', 'purple']\n",
      "<class 'list'>\n"
     ]
    }
   ],
   "source": [
    "colors = ['red', 'green', 'purple']\n",
    "\n",
    "print(colors)\n",
    "print(type(colors)) #타입이 array가 아닌 list이다."
   ]
  },
  {
   "cell_type": "code",
   "execution_count": 95,
   "id": "eb8dead1",
   "metadata": {},
   "outputs": [
    {
     "name": "stdout",
     "output_type": "stream",
     "text": [
      "['red', 'green', 'purple', 'blue']\n"
     ]
    }
   ],
   "source": [
    "colors.append('blue')\n",
    "print(colors)"
   ]
  },
  {
   "cell_type": "code",
   "execution_count": 96,
   "id": "33000d74",
   "metadata": {},
   "outputs": [
    {
     "name": "stdout",
     "output_type": "stream",
     "text": [
      "['red', 'green', 'white', 'purple', 'blue']\n"
     ]
    }
   ],
   "source": [
    "colors.insert(2, 'white')\n",
    "print(colors)"
   ]
  },
  {
   "cell_type": "code",
   "execution_count": 97,
   "id": "506b1793",
   "metadata": {},
   "outputs": [
    {
     "name": "stdout",
     "output_type": "stream",
     "text": [
      "['red', 'green', 'white', 'purple', 'blue', 'pink', 'turqoise']\n"
     ]
    }
   ],
   "source": [
    "extension_colors = ['pink', 'turqoise']\n",
    "colors.extend(extension_colors)\n",
    "\n",
    "print(colors)"
   ]
  },
  {
   "cell_type": "code",
   "execution_count": 98,
   "id": "0de3a1d9",
   "metadata": {},
   "outputs": [
    {
     "name": "stdout",
     "output_type": "stream",
     "text": [
      "['red', 'green', 'white', 'purple', 'blue', 'pink', 'turqoise', 'teal', 'green', 'green']\n"
     ]
    }
   ],
   "source": [
    "colors += ['teal']\n",
    "colors += ['green']\n",
    "colors += ['green']\n",
    "\n",
    "print(colors)"
   ]
  },
  {
   "cell_type": "code",
   "execution_count": 99,
   "id": "69c27164",
   "metadata": {},
   "outputs": [
    {
     "name": "stdout",
     "output_type": "stream",
     "text": [
      "1\n"
     ]
    }
   ],
   "source": [
    "print(colors.index('green'))"
   ]
  },
  {
   "cell_type": "code",
   "execution_count": 100,
   "id": "4c31818a",
   "metadata": {},
   "outputs": [
    {
     "name": "stdout",
     "output_type": "stream",
     "text": [
      "8\n"
     ]
    }
   ],
   "source": [
    "print(colors.index('green', 2)) #뒤에 숫자는 찾는걸 시작하는 index 시작점"
   ]
  },
  {
   "cell_type": "code",
   "execution_count": 101,
   "id": "982bba43",
   "metadata": {},
   "outputs": [
    {
     "name": "stdout",
     "output_type": "stream",
     "text": [
      "3\n"
     ]
    }
   ],
   "source": [
    "print(colors.index('purple', 1, 4)) #뭐였더라 이거.."
   ]
  },
  {
   "cell_type": "code",
   "execution_count": 102,
   "id": "e6f7c635",
   "metadata": {},
   "outputs": [
    {
     "name": "stdout",
     "output_type": "stream",
     "text": [
      "3\n"
     ]
    }
   ],
   "source": [
    "print(colors.count('green'))"
   ]
  },
  {
   "cell_type": "code",
   "execution_count": 103,
   "id": "9fb244cd",
   "metadata": {},
   "outputs": [
    {
     "name": "stdout",
     "output_type": "stream",
     "text": [
      "green\n",
      "green\n",
      "teal\n",
      "turqoise\n",
      "['red', 'green', 'white', 'purple', 'blue', 'pink']\n"
     ]
    }
   ],
   "source": [
    "print(colors.pop()) #맨 마지막의 요소를 꺼내보여주고, 배열에서 제거\n",
    "print(colors.pop())\n",
    "print(colors.pop())\n",
    "print(colors.pop())\n",
    "\n",
    "print(colors[:])"
   ]
  },
  {
   "cell_type": "code",
   "execution_count": 104,
   "id": "7cc410c1",
   "metadata": {},
   "outputs": [
    {
     "name": "stdout",
     "output_type": "stream",
     "text": [
      "['red', 'green', 'white', 'purple', 'blue', 'pink', 'green', 'green']\n",
      "['red', 'white', 'purple', 'blue', 'pink', 'green', 'green']\n"
     ]
    }
   ],
   "source": [
    "two_greens = ['green', 'green']\n",
    "colors.extend(two_greens)\n",
    "\n",
    "print(colors)\n",
    "\n",
    "colors.remove('green') #제일 앞에있는 green 하나만 제거됨\n",
    "print(colors)"
   ]
  },
  {
   "cell_type": "code",
   "execution_count": 105,
   "id": "2762702a",
   "metadata": {},
   "outputs": [
    {
     "name": "stdout",
     "output_type": "stream",
     "text": [
      "['blue', 'green', 'green', 'pink', 'purple', 'red', 'white']\n"
     ]
    }
   ],
   "source": [
    "colors.sort() #알파벳 순으로 정렬\n",
    "print(colors)"
   ]
  },
  {
   "cell_type": "code",
   "execution_count": 106,
   "id": "ef30ce6d",
   "metadata": {},
   "outputs": [
    {
     "name": "stdout",
     "output_type": "stream",
     "text": [
      "['white', 'red', 'purple', 'pink', 'green', 'green', 'blue']\n"
     ]
    }
   ],
   "source": [
    "colors.reverse() #리스트 요소 순서 반전\n",
    "print(colors)"
   ]
  },
  {
   "cell_type": "code",
   "execution_count": 110,
   "id": "12608ffc",
   "metadata": {},
   "outputs": [
    {
     "name": "stdout",
     "output_type": "stream",
     "text": [
      "{1, 2, 3} {3, 4, 5}\n",
      "<class 'set'>\n"
     ]
    }
   ],
   "source": [
    "Set_A = {1, 2, 3}\n",
    "Set_B = {3, 4, 5}\n",
    "\n",
    "print(Set_A, Set_B)\n",
    "print(type(Set_A)) # { }안에 들어가면 타입이 set"
   ]
  },
  {
   "cell_type": "code",
   "execution_count": 113,
   "id": "59502e31",
   "metadata": {},
   "outputs": [
    {
     "name": "stdout",
     "output_type": "stream",
     "text": [
      "{3}\n"
     ]
    }
   ],
   "source": [
    "print(Set_A.intersection(Set_B)) #교집합"
   ]
  },
  {
   "cell_type": "code",
   "execution_count": 117,
   "id": "9eccfe42",
   "metadata": {},
   "outputs": [
    {
     "name": "stdout",
     "output_type": "stream",
     "text": [
      "{1, 2}\n",
      "{1, 2, 3, 4, 5}\n",
      "{3}\n",
      "{1, 2, 4, 5}\n"
     ]
    }
   ],
   "source": [
    "print(Set_A - Set_B) #차집합\n",
    "print(Set_A | Set_B) #합집합\n",
    "print(Set_A & Set_B) #교집합\n",
    "print(Set_A ^ Set_B) #공통 요소를 뺀 합집합"
   ]
  },
  {
   "cell_type": "code",
   "execution_count": 119,
   "id": "5d971959",
   "metadata": {},
   "outputs": [
    {
     "name": "stdout",
     "output_type": "stream",
     "text": [
      "{'a': 1, 'b': 2, 'c': 3}\n",
      "<class 'dict'>\n"
     ]
    }
   ],
   "source": [
    "Map_D = dict(a = 1, b = 2, c = 3) #파이선의 dict 자료형은 자바의 map\n",
    "print(Map_D)\n",
    "print(type(Map_D))"
   ]
  },
  {
   "cell_type": "code",
   "execution_count": 120,
   "id": "65fc3c3e",
   "metadata": {},
   "outputs": [
    {
     "name": "stdout",
     "output_type": "stream",
     "text": [
      "{'apple': 'red', 'banana': 'yellow'}\n",
      "red\n"
     ]
    }
   ],
   "source": [
    "color = {\"apple\": \"red\", \"banana\": \"yellow\"}\n",
    "print(color)\n",
    "print(color[\"apple\"])"
   ]
  },
  {
   "cell_type": "code",
   "execution_count": 122,
   "id": "6ec440a1",
   "metadata": {},
   "outputs": [
    {
     "name": "stdout",
     "output_type": "stream",
     "text": [
      "{'apple': 'red', 'banana': 'yellow', 'cherry': 'red'}\n"
     ]
    }
   ],
   "source": [
    "color[\"cherry\"] = \"red\" #기존 color 맵에 추가됨\n",
    "print(color)"
   ]
  },
  {
   "cell_type": "code",
   "execution_count": 123,
   "id": "d0155060",
   "metadata": {},
   "outputs": [
    {
     "name": "stdout",
     "output_type": "stream",
     "text": [
      "{'apple': 'red', 'banana': 'black', 'cherry': 'red'}\n"
     ]
    }
   ],
   "source": [
    "color[\"banana\"] = \"black\" #기존 요소의 value값 업데이트\n",
    "print(color)"
   ]
  },
  {
   "cell_type": "code",
   "execution_count": 124,
   "id": "01875716",
   "metadata": {},
   "outputs": [
    {
     "name": "stdout",
     "output_type": "stream",
     "text": [
      "('apple', 'red')\n",
      "('banana', 'black')\n",
      "('cherry', 'red')\n"
     ]
    }
   ],
   "source": [
    "for c in color.items():\n",
    "    print(c)"
   ]
  },
  {
   "cell_type": "code",
   "execution_count": 125,
   "id": "01e12a70",
   "metadata": {},
   "outputs": [
    {
     "name": "stdout",
     "output_type": "stream",
     "text": [
      "apple red\n",
      "banana black\n",
      "cherry red\n"
     ]
    }
   ],
   "source": [
    "for key, value in color.items():\n",
    "    print(key, value)"
   ]
  },
  {
   "cell_type": "code",
   "execution_count": 126,
   "id": "a4c99e0c",
   "metadata": {},
   "outputs": [
    {
     "name": "stdout",
     "output_type": "stream",
     "text": [
      "apple\n",
      "banana\n",
      "cherry\n"
     ]
    }
   ],
   "source": [
    "for k in color.keys(): #key값들만 출력\n",
    "    print(k)"
   ]
  },
  {
   "cell_type": "code",
   "execution_count": 127,
   "id": "3de9a778",
   "metadata": {},
   "outputs": [
    {
     "name": "stdout",
     "output_type": "stream",
     "text": [
      "red\n",
      "black\n",
      "red\n"
     ]
    }
   ],
   "source": [
    "for v in color.values(): #value값들만 출력\n",
    "    print(v)"
   ]
  }
 ],
 "metadata": {
  "kernelspec": {
   "display_name": "Python 3",
   "language": "python",
   "name": "python3"
  },
  "language_info": {
   "codemirror_mode": {
    "name": "ipython",
    "version": 3
   },
   "file_extension": ".py",
   "mimetype": "text/x-python",
   "name": "python",
   "nbconvert_exporter": "python",
   "pygments_lexer": "ipython3",
   "version": "3.8.8"
  }
 },
 "nbformat": 4,
 "nbformat_minor": 5
}
