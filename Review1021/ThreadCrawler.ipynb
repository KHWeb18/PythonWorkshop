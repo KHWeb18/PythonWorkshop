{
 "cells": [
  {
   "cell_type": "code",
   "execution_count": 1,
   "id": "3f961e5b",
   "metadata": {},
   "outputs": [],
   "source": [
    "import os\n",
    "import re\n",
    "import time\n",
    "import socket"
   ]
  },
  {
   "cell_type": "code",
   "execution_count": 2,
   "id": "68d7f289",
   "metadata": {},
   "outputs": [],
   "source": [
    "from flask import Flask, url_for, request, jsonify\n",
    "from flask_cors import CORS, cross_origin\n",
    "\n",
    "import json, requests\n",
    "\n",
    "import selenium\n",
    "from selenium import webdriver"
   ]
  },
  {
   "cell_type": "code",
   "execution_count": 19,
   "id": "5597eb2b",
   "metadata": {},
   "outputs": [],
   "source": [
    "from selenium.webdriver.common.keys import Keys"
   ]
  },
  {
   "cell_type": "code",
   "execution_count": 3,
   "id": "7ef51874",
   "metadata": {},
   "outputs": [],
   "source": [
    "CRAWLED_RESULT_SAVED_FILE = 'res/crawl_data/result.txt'"
   ]
  },
  {
   "cell_type": "code",
   "execution_count": 4,
   "id": "8921892a",
   "metadata": {},
   "outputs": [],
   "source": [
    "def record_url_info_thread():\n",
    "    while(True):\n",
    "        f = open(CRAWLED_RESULT_SAVED_FILE, 'w')\n",
    "        print(f.write('test'))\n",
    "        f.close()"
   ]
  },
  {
   "cell_type": "code",
   "execution_count": 28,
   "id": "25750d4a",
   "metadata": {},
   "outputs": [],
   "source": [
    "def cont_youtube_crawl_thread(text):\n",
    "    url= 'https://www.youtube.com/results?search_query='\n",
    "    \n",
    "    driver = webdriver.Edge(r'C:\\msedgedriver.exe')\n",
    "    \n",
    "    search_url = url + text\n",
    "    \n",
    "    driver.get(url = search_url)\n",
    "    \n",
    "    # body 정보 확보\n",
    "    body = driver.find_element_by_tag_name('body')\n",
    "    \n",
    "    hrefURL = []\n",
    "    \n",
    "    # 관련영상추천 경로\n",
    "    shelfContents = driver.find_elements_by_css_selector(\n",
    "        '#contents > ytd-shelf-renderer > div > div > ytd-vertical-list-renderer > div > ytd-video-renderer > div > ytd-thumbnail > a'\n",
    "    )\n",
    "    \n",
    "    for item in shelfContents:\n",
    "        if(item != ''):\n",
    "            hrefURL.append(item.get_attribute('href'))\n",
    "      \n",
    "    cnt = 0\n",
    "            \n",
    "    while cnt < 10:\n",
    "        allContents = driver.find_elements_by_css_selector(\n",
    "            '#contents > ytd-item-section-renderer > div > ytd-video-renderer > div > ytd-thumbnail > a'\n",
    "        )\n",
    "\n",
    "        for item in allContents:\n",
    "            if(item != ''):\n",
    "                hrefURL.append(item.get_attribute('href'))\n",
    "            \n",
    "        body.send_keys(Keys.PAGE_DOWN)\n",
    "        \n",
    "        cnt += 1\n",
    "            \n",
    "    print(hrefURL)\n",
    "    print('크롤링 개수:', len(hrefURL))"
   ]
  },
  {
   "cell_type": "code",
   "execution_count": 29,
   "id": "58b9f6b5",
   "metadata": {},
   "outputs": [
    {
     "name": "stdout",
     "output_type": "stream",
     "text": [
      "['https://www.youtube.com/watch?v=YVI-EFbFLtY', 'https://www.youtube.com/watch?v=-lgYmZsFK-U', 'https://www.youtube.com/watch?v=0Qjb9cFdF-8', 'https://www.youtube.com/watch?v=d4Oerip31u8', 'https://www.youtube.com/watch?v=PJ5QuJluIWU', 'https://www.youtube.com/watch?v=-e4fC_oXvMg', 'https://www.youtube.com/watch?v=UUtnh3J8xfQ', 'https://www.youtube.com/watch?v=SIRv-UeJZXM', 'https://www.youtube.com/watch?v=9KnTJVQRYag', 'https://www.youtube.com/watch?v=OMBjyeSJLqY', 'https://www.youtube.com/watch?v=z48eJfp_HP4', 'https://www.youtube.com/watch?v=gmd4OnrxR0Q', 'https://www.youtube.com/watch?v=J1pa4irZwEM', 'https://www.youtube.com/watch?v=nfbGqacJtmw', 'https://www.youtube.com/watch?v=o0HDOupqRi4', 'https://www.youtube.com/watch?v=ePSG2dJvx48', 'https://www.youtube.com/watch?v=22_1CRL35Qk', 'https://www.youtube.com/watch?v=-XYSZpWvSGs', 'https://www.youtube.com/watch?v=5aNHqVXQ4W8', 'https://www.youtube.com/watch?v=JLkAv6kwGJw', 'https://www.youtube.com/watch?v=7IkGv9asbkQ', 'https://www.youtube.com/watch?v=BgHNCRSYH5o', 'https://www.youtube.com/watch?v=ktK-8XU8UzI', 'https://www.youtube.com/watch?v=YE5aUwt9mKs', 'https://www.youtube.com/watch?v=PJ5QuJluIWU', 'https://www.youtube.com/watch?v=-e4fC_oXvMg', 'https://www.youtube.com/watch?v=UUtnh3J8xfQ', 'https://www.youtube.com/watch?v=SIRv-UeJZXM', 'https://www.youtube.com/watch?v=9KnTJVQRYag', 'https://www.youtube.com/watch?v=OMBjyeSJLqY', 'https://www.youtube.com/watch?v=z48eJfp_HP4', 'https://www.youtube.com/watch?v=gmd4OnrxR0Q', 'https://www.youtube.com/watch?v=J1pa4irZwEM', 'https://www.youtube.com/watch?v=nfbGqacJtmw', 'https://www.youtube.com/watch?v=o0HDOupqRi4', 'https://www.youtube.com/watch?v=ePSG2dJvx48', 'https://www.youtube.com/watch?v=22_1CRL35Qk', 'https://www.youtube.com/watch?v=-XYSZpWvSGs', 'https://www.youtube.com/watch?v=5aNHqVXQ4W8', 'https://www.youtube.com/watch?v=JLkAv6kwGJw', 'https://www.youtube.com/watch?v=7IkGv9asbkQ', 'https://www.youtube.com/watch?v=BgHNCRSYH5o', 'https://www.youtube.com/watch?v=ktK-8XU8UzI', 'https://www.youtube.com/watch?v=YE5aUwt9mKs', 'https://www.youtube.com/watch?v=PJ5QuJluIWU', 'https://www.youtube.com/watch?v=-e4fC_oXvMg', 'https://www.youtube.com/watch?v=UUtnh3J8xfQ', 'https://www.youtube.com/watch?v=SIRv-UeJZXM', 'https://www.youtube.com/watch?v=9KnTJVQRYag', 'https://www.youtube.com/watch?v=OMBjyeSJLqY', 'https://www.youtube.com/watch?v=z48eJfp_HP4', 'https://www.youtube.com/watch?v=gmd4OnrxR0Q', 'https://www.youtube.com/watch?v=J1pa4irZwEM', 'https://www.youtube.com/watch?v=nfbGqacJtmw', 'https://www.youtube.com/watch?v=o0HDOupqRi4', 'https://www.youtube.com/watch?v=ePSG2dJvx48', 'https://www.youtube.com/watch?v=22_1CRL35Qk', 'https://www.youtube.com/watch?v=-XYSZpWvSGs', 'https://www.youtube.com/watch?v=5aNHqVXQ4W8', 'https://www.youtube.com/watch?v=JLkAv6kwGJw', 'https://www.youtube.com/watch?v=7IkGv9asbkQ', 'https://www.youtube.com/watch?v=BgHNCRSYH5o', 'https://www.youtube.com/watch?v=ktK-8XU8UzI', 'https://www.youtube.com/watch?v=YE5aUwt9mKs', 'https://www.youtube.com/watch?v=PJ5QuJluIWU', 'https://www.youtube.com/watch?v=-e4fC_oXvMg', 'https://www.youtube.com/watch?v=UUtnh3J8xfQ', 'https://www.youtube.com/watch?v=SIRv-UeJZXM', 'https://www.youtube.com/watch?v=9KnTJVQRYag', 'https://www.youtube.com/watch?v=OMBjyeSJLqY', 'https://www.youtube.com/watch?v=z48eJfp_HP4', 'https://www.youtube.com/watch?v=gmd4OnrxR0Q', 'https://www.youtube.com/watch?v=J1pa4irZwEM', 'https://www.youtube.com/watch?v=nfbGqacJtmw', 'https://www.youtube.com/watch?v=o0HDOupqRi4', 'https://www.youtube.com/watch?v=ePSG2dJvx48', 'https://www.youtube.com/watch?v=22_1CRL35Qk', 'https://www.youtube.com/watch?v=-XYSZpWvSGs', 'https://www.youtube.com/watch?v=5aNHqVXQ4W8', 'https://www.youtube.com/watch?v=JLkAv6kwGJw', 'https://www.youtube.com/watch?v=7IkGv9asbkQ', 'https://www.youtube.com/watch?v=BgHNCRSYH5o', 'https://www.youtube.com/watch?v=ktK-8XU8UzI', 'https://www.youtube.com/watch?v=YE5aUwt9mKs', 'https://www.youtube.com/watch?v=PJ5QuJluIWU', 'https://www.youtube.com/watch?v=-e4fC_oXvMg', 'https://www.youtube.com/watch?v=UUtnh3J8xfQ', 'https://www.youtube.com/watch?v=SIRv-UeJZXM', 'https://www.youtube.com/watch?v=9KnTJVQRYag', 'https://www.youtube.com/watch?v=OMBjyeSJLqY', 'https://www.youtube.com/watch?v=z48eJfp_HP4', 'https://www.youtube.com/watch?v=gmd4OnrxR0Q', 'https://www.youtube.com/watch?v=J1pa4irZwEM', 'https://www.youtube.com/watch?v=nfbGqacJtmw', 'https://www.youtube.com/watch?v=o0HDOupqRi4', 'https://www.youtube.com/watch?v=ePSG2dJvx48', 'https://www.youtube.com/watch?v=22_1CRL35Qk', 'https://www.youtube.com/watch?v=-XYSZpWvSGs', 'https://www.youtube.com/watch?v=5aNHqVXQ4W8', 'https://www.youtube.com/watch?v=JLkAv6kwGJw', 'https://www.youtube.com/watch?v=7IkGv9asbkQ', 'https://www.youtube.com/watch?v=BgHNCRSYH5o', 'https://www.youtube.com/watch?v=ktK-8XU8UzI', 'https://www.youtube.com/watch?v=YE5aUwt9mKs', 'https://www.youtube.com/watch?v=PJ5QuJluIWU', 'https://www.youtube.com/watch?v=-e4fC_oXvMg', 'https://www.youtube.com/watch?v=UUtnh3J8xfQ', 'https://www.youtube.com/watch?v=SIRv-UeJZXM', 'https://www.youtube.com/watch?v=9KnTJVQRYag', 'https://www.youtube.com/watch?v=OMBjyeSJLqY', 'https://www.youtube.com/watch?v=z48eJfp_HP4', 'https://www.youtube.com/watch?v=gmd4OnrxR0Q', 'https://www.youtube.com/watch?v=J1pa4irZwEM', 'https://www.youtube.com/watch?v=nfbGqacJtmw', 'https://www.youtube.com/watch?v=o0HDOupqRi4', 'https://www.youtube.com/watch?v=ePSG2dJvx48', 'https://www.youtube.com/watch?v=22_1CRL35Qk', 'https://www.youtube.com/watch?v=-XYSZpWvSGs', 'https://www.youtube.com/watch?v=5aNHqVXQ4W8', 'https://www.youtube.com/watch?v=JLkAv6kwGJw', 'https://www.youtube.com/watch?v=7IkGv9asbkQ', 'https://www.youtube.com/watch?v=BgHNCRSYH5o', 'https://www.youtube.com/watch?v=ktK-8XU8UzI', 'https://www.youtube.com/watch?v=YE5aUwt9mKs', 'https://www.youtube.com/watch?v=PJ5QuJluIWU', 'https://www.youtube.com/watch?v=-e4fC_oXvMg', 'https://www.youtube.com/watch?v=UUtnh3J8xfQ', 'https://www.youtube.com/watch?v=SIRv-UeJZXM', 'https://www.youtube.com/watch?v=9KnTJVQRYag', 'https://www.youtube.com/watch?v=OMBjyeSJLqY', 'https://www.youtube.com/watch?v=z48eJfp_HP4', 'https://www.youtube.com/watch?v=gmd4OnrxR0Q', 'https://www.youtube.com/watch?v=J1pa4irZwEM', 'https://www.youtube.com/watch?v=nfbGqacJtmw', 'https://www.youtube.com/watch?v=o0HDOupqRi4', 'https://www.youtube.com/watch?v=ePSG2dJvx48', 'https://www.youtube.com/watch?v=22_1CRL35Qk', 'https://www.youtube.com/watch?v=-XYSZpWvSGs', 'https://www.youtube.com/watch?v=5aNHqVXQ4W8', 'https://www.youtube.com/watch?v=JLkAv6kwGJw', 'https://www.youtube.com/watch?v=7IkGv9asbkQ', 'https://www.youtube.com/watch?v=BgHNCRSYH5o', 'https://www.youtube.com/watch?v=ktK-8XU8UzI', 'https://www.youtube.com/watch?v=YE5aUwt9mKs', 'https://www.youtube.com/watch?v=PJ5QuJluIWU', 'https://www.youtube.com/watch?v=-e4fC_oXvMg', 'https://www.youtube.com/watch?v=UUtnh3J8xfQ', 'https://www.youtube.com/watch?v=SIRv-UeJZXM', 'https://www.youtube.com/watch?v=9KnTJVQRYag', 'https://www.youtube.com/watch?v=OMBjyeSJLqY', 'https://www.youtube.com/watch?v=z48eJfp_HP4', 'https://www.youtube.com/watch?v=gmd4OnrxR0Q', 'https://www.youtube.com/watch?v=J1pa4irZwEM', 'https://www.youtube.com/watch?v=nfbGqacJtmw', 'https://www.youtube.com/watch?v=o0HDOupqRi4', 'https://www.youtube.com/watch?v=ePSG2dJvx48', 'https://www.youtube.com/watch?v=22_1CRL35Qk', 'https://www.youtube.com/watch?v=-XYSZpWvSGs', 'https://www.youtube.com/watch?v=5aNHqVXQ4W8', 'https://www.youtube.com/watch?v=JLkAv6kwGJw', 'https://www.youtube.com/watch?v=7IkGv9asbkQ', 'https://www.youtube.com/watch?v=BgHNCRSYH5o', 'https://www.youtube.com/watch?v=ktK-8XU8UzI', 'https://www.youtube.com/watch?v=YE5aUwt9mKs', 'https://www.youtube.com/watch?v=PJ5QuJluIWU', 'https://www.youtube.com/watch?v=-e4fC_oXvMg', 'https://www.youtube.com/watch?v=UUtnh3J8xfQ', 'https://www.youtube.com/watch?v=SIRv-UeJZXM', 'https://www.youtube.com/watch?v=9KnTJVQRYag', 'https://www.youtube.com/watch?v=OMBjyeSJLqY', 'https://www.youtube.com/watch?v=z48eJfp_HP4', 'https://www.youtube.com/watch?v=gmd4OnrxR0Q', 'https://www.youtube.com/watch?v=J1pa4irZwEM', 'https://www.youtube.com/watch?v=nfbGqacJtmw', 'https://www.youtube.com/watch?v=o0HDOupqRi4', 'https://www.youtube.com/watch?v=ePSG2dJvx48', 'https://www.youtube.com/watch?v=22_1CRL35Qk', 'https://www.youtube.com/watch?v=-XYSZpWvSGs', 'https://www.youtube.com/watch?v=5aNHqVXQ4W8', 'https://www.youtube.com/watch?v=JLkAv6kwGJw', 'https://www.youtube.com/watch?v=7IkGv9asbkQ', 'https://www.youtube.com/watch?v=BgHNCRSYH5o', 'https://www.youtube.com/watch?v=ktK-8XU8UzI', 'https://www.youtube.com/watch?v=YE5aUwt9mKs', 'https://www.youtube.com/watch?v=PJ5QuJluIWU', 'https://www.youtube.com/watch?v=-e4fC_oXvMg', 'https://www.youtube.com/watch?v=UUtnh3J8xfQ', 'https://www.youtube.com/watch?v=SIRv-UeJZXM', 'https://www.youtube.com/watch?v=9KnTJVQRYag', 'https://www.youtube.com/watch?v=OMBjyeSJLqY', 'https://www.youtube.com/watch?v=z48eJfp_HP4', 'https://www.youtube.com/watch?v=gmd4OnrxR0Q', 'https://www.youtube.com/watch?v=J1pa4irZwEM', 'https://www.youtube.com/watch?v=nfbGqacJtmw', 'https://www.youtube.com/watch?v=o0HDOupqRi4', 'https://www.youtube.com/watch?v=ePSG2dJvx48', 'https://www.youtube.com/watch?v=22_1CRL35Qk', 'https://www.youtube.com/watch?v=-XYSZpWvSGs', 'https://www.youtube.com/watch?v=5aNHqVXQ4W8', 'https://www.youtube.com/watch?v=JLkAv6kwGJw', 'https://www.youtube.com/watch?v=7IkGv9asbkQ', 'https://www.youtube.com/watch?v=BgHNCRSYH5o', 'https://www.youtube.com/watch?v=ktK-8XU8UzI', 'https://www.youtube.com/watch?v=YE5aUwt9mKs']\n",
      "크롤링 개수: 204\n"
     ]
    }
   ],
   "source": [
    "cont_youtube_crawl_thread('시고르자브종')"
   ]
  },
  {
   "cell_type": "code",
   "execution_count": null,
   "id": "e2bbcec4",
   "metadata": {},
   "outputs": [],
   "source": []
  }
 ],
 "metadata": {
  "kernelspec": {
   "display_name": "Python 3",
   "language": "python",
   "name": "python3"
  },
  "language_info": {
   "codemirror_mode": {
    "name": "ipython",
    "version": 3
   },
   "file_extension": ".py",
   "mimetype": "text/x-python",
   "name": "python",
   "nbconvert_exporter": "python",
   "pygments_lexer": "ipython3",
   "version": "3.8.8"
  }
 },
 "nbformat": 4,
 "nbformat_minor": 5
}
