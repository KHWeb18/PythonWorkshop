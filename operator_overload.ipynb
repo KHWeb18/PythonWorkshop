{
 "cells": [
  {
   "cell_type": "code",
   "execution_count": 29,
   "id": "7dff118e",
   "metadata": {
    "scrolled": true
   },
   "outputs": [
    {
     "name": "stdout",
     "output_type": "stream",
     "text": [
      "__add__ 2d 벡터 덧셈\n",
      "8\n",
      "__add__ 2d 벡터 덧셈\n",
      "8\n",
      "__add__ 2d 벡터 뺄셈\n",
      "-2\n",
      "[1, 2] [2, 3]\n",
      "오른쪽 객체의 x가 왼쪽 객체의 y보다 큽니다.\n"
     ]
    },
    {
     "ename": "TypeError",
     "evalue": "'>' not supported between instances of 'Vector2d' and 'Vector2d'",
     "output_type": "error",
     "traceback": [
      "\u001b[1;31m---------------------------------------------------------------------------\u001b[0m",
      "\u001b[1;31mTypeError\u001b[0m                                 Traceback (most recent call last)",
      "\u001b[1;32m<ipython-input-29-5291505fec43>\u001b[0m in \u001b[0;36m<module>\u001b[1;34m\u001b[0m\n\u001b[0;32m     41\u001b[0m \u001b[1;33m\u001b[0m\u001b[0m\n\u001b[0;32m     42\u001b[0m \u001b[0mprint\u001b[0m\u001b[1;33m(\u001b[0m\u001b[0mA\u001b[0m\u001b[1;33m.\u001b[0m\u001b[0m__cmp__\u001b[0m\u001b[1;33m(\u001b[0m\u001b[0mB\u001b[0m\u001b[1;33m)\u001b[0m\u001b[1;33m)\u001b[0m\u001b[1;33m\u001b[0m\u001b[1;33m\u001b[0m\u001b[0m\n\u001b[1;32m---> 43\u001b[1;33m \u001b[0mprint\u001b[0m\u001b[1;33m(\u001b[0m\u001b[0mA\u001b[0m \u001b[1;33m>\u001b[0m \u001b[0mB\u001b[0m\u001b[1;33m)\u001b[0m\u001b[1;33m\u001b[0m\u001b[1;33m\u001b[0m\u001b[0m\n\u001b[0m\u001b[0;32m     44\u001b[0m \u001b[1;33m\u001b[0m\u001b[0m\n\u001b[0;32m     45\u001b[0m \u001b[1;31m#print(A.__repr__())\u001b[0m\u001b[1;33m\u001b[0m\u001b[1;33m\u001b[0m\u001b[1;33m\u001b[0m\u001b[0m\n",
      "\u001b[1;31mTypeError\u001b[0m: '>' not supported between instances of 'Vector2d' and 'Vector2d'"
     ]
    }
   ],
   "source": [
    "#참고한 블로그 --> https://wikidocs.net/89\n",
    "\n",
    "#연산자 오버로딩\n",
    "\n",
    "class Vector2d(object):\n",
    "    def __init__(self, x, y):\n",
    "        self.x = x\n",
    "        self.y = y\n",
    "        \n",
    "    def __repr__(self):\n",
    "        return str(self.x + self.y)\n",
    "    \n",
    "    def __add__(self, other):\n",
    "        print('__add__ 2d 벡터 덧셈')\n",
    "        return Vector2d(self.x + other.x, self.y + other.y)\n",
    "    \n",
    "    def __sub__(self, other):\n",
    "        print('__add__ 2d 벡터 뺄셈')\n",
    "        return Vector2d(self.x - other.x, self.y - other.y)\n",
    "    \n",
    "    def __cmp__(self, other):\n",
    "        if self.x < other.x:\n",
    "            return '오른쪽 객체의 x가 왼쪽 객체의 y보다 큽니다.'\n",
    "        elif self.x == other.x:\n",
    "            return '각 객체의 x값은 같습니다.'\n",
    "        else:\n",
    "            return '오른쪽 객체의 x가 왼쪽 객체의 y보다 작습니다.'\n",
    "    \n",
    "    def getVector(self):\n",
    "        return [self.x, self.y]\n",
    "    \n",
    "A = Vector2d(1, 2)\n",
    "B = Vector2d(2, 3)\n",
    "\n",
    "print(A.__add__(B)) #이렇게도 가능\n",
    "\n",
    "print(A + B)\n",
    "print(A - B)\n",
    "\n",
    "print(A.getVector(), B.getVector())\n",
    "\n",
    "print(A.__cmp__(B))\n",
    "\n",
    "#print(A.__repr__())\n",
    "    "
   ]
  },
  {
   "cell_type": "code",
   "execution_count": null,
   "id": "0476032d",
   "metadata": {},
   "outputs": [],
   "source": []
  },
  {
   "cell_type": "code",
   "execution_count": null,
   "id": "f6dd30a4",
   "metadata": {},
   "outputs": [],
   "source": []
  }
 ],
 "metadata": {
  "kernelspec": {
   "display_name": "Python 3",
   "language": "python",
   "name": "python3"
  },
  "language_info": {
   "codemirror_mode": {
    "name": "ipython",
    "version": 3
   },
   "file_extension": ".py",
   "mimetype": "text/x-python",
   "name": "python",
   "nbconvert_exporter": "python",
   "pygments_lexer": "ipython3",
   "version": "3.8.8"
  }
 },
 "nbformat": 4,
 "nbformat_minor": 5
}
