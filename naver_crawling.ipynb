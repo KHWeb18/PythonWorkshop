{
 "cells": [
  {
   "cell_type": "code",
   "execution_count": 1,
   "id": "8f6e7dfe",
   "metadata": {},
   "outputs": [],
   "source": [
    "from flask import Flask, url_for, request, jsonify, redirect, Response\n",
    "from flask_cors import CORS, cross_origin\n",
    "\n",
    "import json\n",
    "import requests\n",
    "\n",
    "import selenium\n",
    "from selenium import webdriver\n",
    "\n",
    "# 키보드 입력 처리\n",
    "from selenium.webdriver.common.keys import Keys"
   ]
  },
  {
   "cell_type": "code",
   "execution_count": 2,
   "id": "e3eda60a",
   "metadata": {},
   "outputs": [
    {
     "name": "stdout",
     "output_type": "stream",
     "text": [
      "['http://www.newsis.com/view/?id=NISX20211124_0001663405&cID=13001&pID=13000', 'https://www.news1.kr/articles/?4502793', 'http://www.osen.co.kr/article/G1111700183', 'http://www.fnnews.com/news/202111231257186136', 'https://www.hankyung.com/economy/article/202111240543g', 'https://www.mk.co.kr/economy/view/2021/1092884', 'https://www.chosun.com/international/europe/2021/11/24/37JFLLJEX5HYTHASVO5TKT7GAM/?utm_source=naver&utm_medium=referral&utm_campaign=naver-news', 'https://www.news1.kr/articles/?4501770', 'https://view.asiae.co.kr/article/2021112416313273624', 'http://www.newsis.com/view/?id=NISX20211123_0001662122&cID=13001&pID=13000']\n",
      "\n",
      "['쿠팡, 전기차 배송차량 늘리나…충전기 개발 협약', '충주 아파트 지하주차장서 전기차 충전 중 화재', '5세대 레인지로버, 전기차 대응도 끝난 플랫폼...PHEV 전기로만 100km', '포스코인터내셔널, 美 전기차 리비안에 부품 공급', '현대차, 전기차·자율주행 교육프로그램에 이공계 대학생 700명 선발', '무섭게 성장한 中 배터리...중국 전기차 가격마저 낮춘다', '오스트리아 공영방송 “백신 접종 신청하면 주택·전기차 경품”', '\"포르쉐, 벤츠 게 섰거라\" 럭셔리 전기차 시장 포문 여는 BMW \\'ix\\'', \"쿠팡, 대영채비와 '전기차 충전솔루션 개발' 상호협력\", '아우디, 서울 모빌리티쇼서 전기차 등 4종 최초 공개']\n"
     ]
    }
   ],
   "source": [
    "url = \"https://search.naver.com/search.naver?where=news&sm=tab_jum&query=\"\n",
    "\n",
    "text = '전기차'\n",
    "\n",
    "driver = webdriver.Chrome(r\"C:\\chromedriver.exe\")\n",
    "\n",
    "search_url = url + text\n",
    "driver.get(url = search_url)\n",
    "\n",
    "# URL 확보\n",
    "allContents = driver.find_elements_by_css_selector(\n",
    "    #\"#sc_new sp_nnews _prs_nws > div.api_subject_bx > div.group_news > li > a\"\n",
    "    #\"#sp_nws6 > div.news_wrap.api_ani_send > div > a\"\n",
    "    #\"#list_news > li > div.news_wrap.api_ani_send > div > a\"\n",
    "    #\"#main_pack > section.sc_new.sp_nnews._prs_nws > div > div.group_news > ul\"\n",
    "    \"#main_pack > section.sc_new.sp_nnews._prs_nws > div > div.group_news > ul > li > div.news_wrap.api_ani_send > div > a\"\n",
    ")\n",
    "\n",
    "#sp_nws6 > div.news_wrap.api_ani_send > div > a\n",
    "#sp_nws1 > div.news_wrap.api_ani_send > div > a\n",
    "\n",
    "\n",
    "#print(allContents)\n",
    "\n",
    "hrefURL = []\n",
    "titleName = []\n",
    "\n",
    "for item in allContents:\n",
    "    if (item != ''):\n",
    "        hrefURL.append(item.get_attribute('href'))\n",
    "        titleName.append(item.get_attribute('title'))\n",
    "        \n",
    "print(hrefURL)\n",
    "print()\n",
    "print(titleName)"
   ]
  },
  {
   "cell_type": "code",
   "execution_count": null,
   "id": "7d6c9def",
   "metadata": {},
   "outputs": [],
   "source": []
  }
 ],
 "metadata": {
  "kernelspec": {
   "display_name": "Python 3",
   "language": "python",
   "name": "python3"
  },
  "language_info": {
   "codemirror_mode": {
    "name": "ipython",
    "version": 3
   },
   "file_extension": ".py",
   "mimetype": "text/x-python",
   "name": "python",
   "nbconvert_exporter": "python",
   "pygments_lexer": "ipython3",
   "version": "3.8.8"
  }
 },
 "nbformat": 4,
 "nbformat_minor": 5
}
