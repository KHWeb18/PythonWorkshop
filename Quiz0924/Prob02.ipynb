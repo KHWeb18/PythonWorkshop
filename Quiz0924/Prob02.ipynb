{
 "cells": [
  {
   "cell_type": "code",
   "execution_count": 1,
   "id": "af784fca",
   "metadata": {},
   "outputs": [],
   "source": [
    "# 02. 주사위 게임 (주사위는 1개만 굴리도록 하고 높은 숫자가 나온 사람이 승리)"
   ]
  },
  {
   "cell_type": "code",
   "execution_count": 2,
   "id": "9fee4d11",
   "metadata": {},
   "outputs": [
    {
     "name": "stdout",
     "output_type": "stream",
     "text": [
      "나의 승리 (6 vs 2)\n"
     ]
    }
   ],
   "source": [
    "from random import *\n",
    "\n",
    "myRandNum = randint(1, 6)\n",
    "yourRandNum = randint(1,6)\n",
    "\n",
    "if (myRandNum > yourRandNum):\n",
    "    print('나의 승리 ({0} vs {1})'.format(myRandNum, yourRandNum))\n",
    "else:\n",
    "    if (myRandNum < yourRandNum):\n",
    "        print('당신의 승리 ({0} vs {1})'.format(myRandNum, yourRandNum))\n",
    "    else:\n",
    "        print('무승부 ({0} vs {1})'.format(myRandNum, yourRandNum))"
   ]
  },
  {
   "cell_type": "code",
   "execution_count": 2,
   "id": "34ef0ac4",
   "metadata": {},
   "outputs": [
    {
     "name": "stdout",
     "output_type": "stream",
     "text": [
      "플레이어2 승리\n"
     ]
    }
   ],
   "source": [
    "from random import *\n",
    "\n",
    "class Dice:\n",
    "    def __init__(self, player):\n",
    "        self.player = player\n",
    "        \n",
    "    def run_dice(self):\n",
    "        self.dice = randint(1, 6)\n",
    "    \n",
    "    def who_win(self, versus):\n",
    "        if (self.dice > versus.dice):\n",
    "            print('{0} 승리'.format(self.player))\n",
    "        elif (self.dice < versus.dice):\n",
    "            print('{0} 승리'.format(versus.player))\n",
    "        else:\n",
    "            print('무승부 {0} vs {0}'.format(self.dice, versus.dice))\n",
    "            \n",
    "player1 = Dice('플레이어1')\n",
    "player1.run_dice()\n",
    "\n",
    "player2 = Dice('플레이어2')\n",
    "player2.run_dice()\n",
    "\n",
    "player1.who_win(player2)"
   ]
  },
  {
   "cell_type": "code",
   "execution_count": null,
   "id": "4933f28f",
   "metadata": {},
   "outputs": [],
   "source": []
  }
 ],
 "metadata": {
  "kernelspec": {
   "display_name": "Python 3",
   "language": "python",
   "name": "python3"
  },
  "language_info": {
   "codemirror_mode": {
    "name": "ipython",
    "version": 3
   },
   "file_extension": ".py",
   "mimetype": "text/x-python",
   "name": "python",
   "nbconvert_exporter": "python",
   "pygments_lexer": "ipython3",
   "version": "3.8.8"
  }
 },
 "nbformat": 4,
 "nbformat_minor": 5
}
