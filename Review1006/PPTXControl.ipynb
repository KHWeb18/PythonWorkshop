{
 "cells": [
  {
   "cell_type": "code",
   "execution_count": 1,
   "id": "a6e4e5e1",
   "metadata": {},
   "outputs": [
    {
     "name": "stdout",
     "output_type": "stream",
     "text": [
      "Collecting python-pptx\n",
      "  Downloading python-pptx-0.6.21.tar.gz (10.1 MB)\n",
      "Requirement already satisfied: lxml>=3.1.0 in c:\\programdata\\anaconda3\\lib\\site-packages (from python-pptx) (4.6.3)\n",
      "Requirement already satisfied: Pillow>=3.3.2 in c:\\programdata\\anaconda3\\lib\\site-packages (from python-pptx) (8.2.0)\n",
      "Requirement already satisfied: XlsxWriter>=0.5.7 in c:\\programdata\\anaconda3\\lib\\site-packages (from python-pptx) (1.3.8)\n",
      "Building wheels for collected packages: python-pptx\n",
      "  Building wheel for python-pptx (setup.py): started\n",
      "  Building wheel for python-pptx (setup.py): finished with status 'done'\n",
      "  Created wheel for python-pptx: filename=python_pptx-0.6.21-py3-none-any.whl size=471172 sha256=ef1c3e6d49aac2b0353fc85d6ad8786266d7198fd4d40b99b99b03115c2f2041\n",
      "  Stored in directory: c:\\users\\jaqkq\\appdata\\local\\pip\\cache\\wheels\\b0\\38\\58\\8530ed1681bfee42349acf166867cc9fb369517b2fce83e599\n",
      "Successfully built python-pptx\n",
      "Installing collected packages: python-pptx\n",
      "Successfully installed python-pptx-0.6.21\n"
     ]
    }
   ],
   "source": [
    "!pip install python-pptx"
   ]
  },
  {
   "cell_type": "code",
   "execution_count": 3,
   "id": "20656a76",
   "metadata": {},
   "outputs": [],
   "source": [
    "from pptx import Presentation\n",
    "from pptx.util import Inches"
   ]
  },
  {
   "cell_type": "code",
   "execution_count": 6,
   "id": "c549dd5c",
   "metadata": {},
   "outputs": [],
   "source": [
    "# PPT 객체 생성\n",
    "prs = Presentation()"
   ]
  },
  {
   "cell_type": "code",
   "execution_count": 8,
   "id": "88765acc",
   "metadata": {},
   "outputs": [],
   "source": [
    "# Python에서 지원하는 레이아웃이 11개 있음\n",
    "for i in range(0, 11):\n",
    "    title_slide_layout = prs.slide_layouts[i]\n",
    "    slide = prs.slides.add_slide(title_slide_layout)\n",
    "    \n",
    "prs.save('모든 슬라이드 레이아웃 추가.pptx')"
   ]
  },
  {
   "cell_type": "code",
   "execution_count": 9,
   "id": "443e688a",
   "metadata": {},
   "outputs": [],
   "source": [
    "del prs"
   ]
  },
  {
   "cell_type": "code",
   "execution_count": 10,
   "id": "010f8482",
   "metadata": {},
   "outputs": [],
   "source": [
    "prs = Presentation()\n",
    "\n",
    "title_slide_layout = prs.slide_layouts[0]\n",
    "slide = prs.slides.add_slide(title_slide_layout)\n",
    "\n",
    "# 제목 (placeholders[0])\n",
    "title = slide.placeholders[0]\n",
    "title.text = 'Hello Python Based PPTX'\n",
    "\n",
    "# 부제목 (placeholders[1])\n",
    "subtitle = slide.placeholders[1]\n",
    "subtitle.text = 'python-pptx를 사용하여 PPT 만들기'\n",
    "\n",
    "prs.save('test.pptx')"
   ]
  },
  {
   "cell_type": "code",
   "execution_count": 11,
   "id": "3d4d0361",
   "metadata": {},
   "outputs": [],
   "source": [
    "del prs"
   ]
  },
  {
   "cell_type": "code",
   "execution_count": 12,
   "id": "ad239b4e",
   "metadata": {},
   "outputs": [],
   "source": [
    "prs = Presentation()\n",
    "\n",
    "# 첫 번째 슬라이드\n",
    "title_slide_layout = prs.slide_layouts[0]\n",
    "slide = prs.slides.add_slide(title_slide_layout)\n",
    "\n",
    "# 제목\n",
    "title = slide.placeholders[0]\n",
    "title.text = 'python-pptx를 사용하여 PPT 만들기'\n",
    "\n",
    "# 부제목\n",
    "subtitle = slide.placeholders[1]\n",
    "subtitle.text = '단락(paragraph) 만들기'\n",
    "\n",
    "# 두 번째 슬라이드\n",
    "bullet_slide_layout = prs.slide_layouts[1]\n",
    "slide = prs.slides.add_slide(title_slide_layout)\n",
    "\n",
    "# 제목\n",
    "title_shape = slide.placeholders[0]\n",
    "title_shape.text = '문단 추가하기'\n",
    "\n",
    "# 내용\n",
    "body_shape = slide.placeholders[1]\n",
    "tf = body_shape.text_frame\n",
    "tf.text = '여기에 글쓰기'\n",
    "\n",
    "# 문단추가 (level: 들여쓰기)\n",
    "p = tf.add_paragraph()\n",
    "p.text = '문단 추가하기'\n",
    "p.level = 1\n",
    "\n",
    "p = tf.add_paragraph()\n",
    "p.text = '문단 또 추가하기'\n",
    "p.level = 2\n",
    "\n",
    "prs.save('글쓰기.pptx')"
   ]
  },
  {
   "cell_type": "code",
   "execution_count": 13,
   "id": "c6575199",
   "metadata": {},
   "outputs": [],
   "source": [
    "del prs"
   ]
  },
  {
   "cell_type": "code",
   "execution_count": 14,
   "id": "3998991b",
   "metadata": {},
   "outputs": [],
   "source": [
    "prs = Presentation()\n",
    "\n",
    "# 첫 번째 슬라이드\n",
    "title_slide_layout = prs.slide_layouts[0]\n",
    "slide = prs.slides.add_slide(title_slide_layout)\n",
    "\n",
    "# 제목\n",
    "title = slide.placeholders[0]\n",
    "title.text = '사진 넣기'\n",
    "\n",
    "# 부제목\n",
    "subtitle = slide.placeholders[1]\n",
    "subtitle.text = '보노보노'\n",
    "\n",
    "img_path = '보노보노.jfif'\n",
    "\n",
    "# 두 번째 슬라이드\n",
    "img_slide_layout = prs.slide_layouts[6]\n",
    "slide = prs.slides.add_slide(img_slide_layout)\n",
    "\n",
    "left = top = Inches(1)\n",
    "width = height = Inches(1)\n",
    "\n",
    "pic = slide.shapes.add_picture(img_path, left, top, width=width, height=height)\n",
    "\n",
    "left = Inches(3)\n",
    "width = Inches(5.5)\n",
    "height = Inches(4)\n",
    "pic = slide.shapes.add_picture(img_path, left, top, width=width, height=height)\n",
    "\n",
    "prs.save('이미지.pptx')"
   ]
  },
  {
   "cell_type": "code",
   "execution_count": 15,
   "id": "cad03fc0",
   "metadata": {},
   "outputs": [],
   "source": [
    "del prs"
   ]
  },
  {
   "cell_type": "code",
   "execution_count": 17,
   "id": "90999af1",
   "metadata": {},
   "outputs": [],
   "source": [
    "prs = Presentation()\n",
    "\n",
    "# 첫 번째 슬라이드\n",
    "title_slide_layout = prs.slide_layouts[0]\n",
    "slide = prs.slides.add_slide(title_slide_layout)\n",
    "\n",
    "# 제목\n",
    "title = slide.placeholders[0]\n",
    "title.text = '표 만들기'\n",
    "\n",
    "# 부제목\n",
    "subtitle = slide.placeholders[1]\n",
    "subtitle.text = '표!'\n",
    "\n",
    "# 두 번째 슬라이드\n",
    "table_slide_layout = prs.slide_layouts[5]\n",
    "slide = prs.slides.add_slide(table_slide_layout)\n",
    "shapes = slide.shapes\n",
    "\n",
    "title_shape = slide.placeholders[0]\n",
    "title_shape.text = '표 추가하기'\n",
    "\n",
    "rows = cols = 2\n",
    "left = top = Inches(2)\n",
    "width = Inches(6)\n",
    "height = Inches(0.8)\n",
    "\n",
    "table = shapes.add_table(rows, cols, left, top, width, height).table\n",
    "\n",
    "# 열의 폭\n",
    "table.columns[0].width = Inches(2)\n",
    "table.columns[1].width = Inches(4)\n",
    "\n",
    "# 열의 제목\n",
    "table.cell(0, 0).text = '1'\n",
    "table.cell(0, 1).text = '2'\n",
    "\n",
    "# 셀 내용\n",
    "table.cell(1, 0).text = '일'\n",
    "table.cell(1, 1).text = '이'\n",
    "\n",
    "prs.save('표.pptx')"
   ]
  },
  {
   "cell_type": "code",
   "execution_count": 18,
   "id": "ca895a10",
   "metadata": {},
   "outputs": [],
   "source": [
    "del prs"
   ]
  },
  {
   "cell_type": "code",
   "execution_count": null,
   "id": "4c157231",
   "metadata": {},
   "outputs": [],
   "source": []
  }
 ],
 "metadata": {
  "kernelspec": {
   "display_name": "Python 3",
   "language": "python",
   "name": "python3"
  },
  "language_info": {
   "codemirror_mode": {
    "name": "ipython",
    "version": 3
   },
   "file_extension": ".py",
   "mimetype": "text/x-python",
   "name": "python",
   "nbconvert_exporter": "python",
   "pygments_lexer": "ipython3",
   "version": "3.8.8"
  }
 },
 "nbformat": 4,
 "nbformat_minor": 5
}
