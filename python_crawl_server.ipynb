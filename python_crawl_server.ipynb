{
 "cells": [
  {
   "cell_type": "code",
   "execution_count": 1,
   "id": "7bc04054",
   "metadata": {},
   "outputs": [],
   "source": [
    "from flask import Flask, url_for, request, jsonify\n",
    "from flask_cors import CORS, cross_origin\n",
    "\n",
    "import json\n",
    "import requests"
   ]
  },
  {
   "cell_type": "code",
   "execution_count": 7,
   "id": "c12e9bbd",
   "metadata": {},
   "outputs": [],
   "source": [
    "import selenium\n",
    "from selenium import webdriver"
   ]
  },
  {
   "cell_type": "code",
   "execution_count": 12,
   "id": "8a1f39a4",
   "metadata": {},
   "outputs": [
    {
     "name": "stdout",
     "output_type": "stream",
     "text": [
      " * Serving Flask app \"__main__\" (lazy loading)\n",
      " * Environment: production\n",
      "   WARNING: This is a development server. Do not use it in a production deployment.\n",
      "   Use a production WSGI server instead.\n",
      " * Debug mode: off\n"
     ]
    },
    {
     "name": "stderr",
     "output_type": "stream",
     "text": [
      " * Running on http://127.0.0.1:5000/ (Press CTRL+C to quit)\n",
      "127.0.0.1 - - [08/Oct/2021 19:05:01] \"\u001b[37mOPTIONS /vue2pythonCrawlRequest HTTP/1.1\u001b[0m\" 200 -\n",
      "<ipython-input-12-54b54522f01e>:7: DeprecationWarning: 'encoding' is ignored and deprecated. It will be removed in Python 3.9\n",
      "  params = json.loads(request.get_data(), encoding='utf-8')\n"
     ]
    },
    {
     "name": "stdout",
     "output_type": "stream",
     "text": [
      "params:  {'search_keyword': '플레이리스트'}\n"
     ]
    },
    {
     "name": "stderr",
     "output_type": "stream",
     "text": [
      "127.0.0.1 - - [08/Oct/2021 19:05:08] \"\u001b[37mPOST /vue2pythonCrawlRequest HTTP/1.1\u001b[0m\" 200 -\n"
     ]
    },
    {
     "name": "stdout",
     "output_type": "stream",
     "text": [
      "['[Playlist] 난 연애는 안하지만, 선곡은 잘하지 l 일하면서 듣기좋은 노래모음 플레이리스트', '[playlist] 여유로운 오후, 성수동 카페에서', '[playlist] 𝘋𝘪𝘴𝘯𝘦𝘺 𝘖𝘚𝘛 1 𝘏𝘰𝘶𝘳 🏰 | 디즈니 OST 모음 | 이 중에 최애곡 하나쯤은 있을걸❔', '[Playlist] 아니, 이런 노래는 어떻게 아는거야?? 너무 좋자나... | 노래 좀 듣는 애 플레이리스트😎ㅣShe has good taste in music😎', '[Playlist] 첫 곡 듣고 구독하게 될걸 ? 별로면 환불 해드림 ㅋ', 'Alina Baraz와 꿈 속 물결 (playlist)', '[Playlist] 이번 가을은 이 플리가 책임질게 l 가을 노래모음 플레이리스트 2시간 광고없음', '🔥요즘 가장 핫한 인기 팝송 모음 100곡 모두 해석해버리기 PLAYLIST', '속이 뻥 뚫리는 자유로움 가득한 노래 모음🐳 | PLAYLIST', '[playlist] 다음 생에는 너로 태어나 나를 사랑해야지 | 새벽 인디 음악 모음 (ft. 검정치마, 잔나비, 카더가든, 혁오, zunhozoon...)', '🍉 여름 냄새 뿜뿜나는 여름 드라이브 찰떡 노래 모음 | PLAYLIST', '[Playlist] 마음이 복잡하고 힘들 때 듣는 감성팝송 플레이리스트', 'Playlist | 나른한 인스타 감성에 취하고 싶을 때 | 시험기간 플리', '[Playlist] 좋은 하루! 달짝지근 기분 좋아지는 Daily Pop 8ㅣsongs to make you feel happy 🌼', '[Playlist] 가을에 들을 수 있는 몽글몽글 Playlist #3  l  Playlist for Autumn', '[Playlist] 당신을 인싸로 만들어 줄 감각적인 가을 팝송', '𝐏𝐥𝐚𝐲𝐥𝐢𝐬𝐭 스우파에 미친 사람이 만든 플레이리스트', '카페에서 흘러나올 것 같은 부드럽고 말랑말랑한 감성 힙합 & 알앤비 모음ㅣPLAYLIST', '시티팝은 가을에 들어도 진리잖아,,💜 (feat. 2021 인천 시티팝 페스티벌) [ 𝗽𝗹𝗮𝘆𝗹𝗶𝘀𝘁 ]', '관련 재생목록 - 플레이리스트', 'Can I Love ? (Feat. 유라) (youra) (, Meego)', 'Celebrity (Celebrity)', '똑똑 가을 팝송 배달왔어요 🍂 팝송 모음 30곡 PLAYLIST', '[Playlist] 광야로 떠나는 여행☄🌌', '[Playlist] 요즘 듣는 여자아이돌 노래 🎧💝 (3)', '도입부만 들어도 심장 떨리는 케이팝 전성기 노래 모음 🎊 2015 - 2017 아이돌 플레이리스트 | PLAYLIST']\n"
     ]
    },
    {
     "name": "stderr",
     "output_type": "stream",
     "text": [
      "127.0.0.1 - - [08/Oct/2021 19:09:10] \"\u001b[37mOPTIONS /vue2pythonCrawlRequest HTTP/1.1\u001b[0m\" 200 -\n"
     ]
    },
    {
     "name": "stdout",
     "output_type": "stream",
     "text": [
      "params:  {'search_keyword': '노래모음'}\n"
     ]
    },
    {
     "name": "stderr",
     "output_type": "stream",
     "text": [
      "127.0.0.1 - - [08/Oct/2021 19:09:15] \"\u001b[37mPOST /vue2pythonCrawlRequest HTTP/1.1\u001b[0m\" 200 -\n"
     ]
    },
    {
     "name": "stdout",
     "output_type": "stream",
     "text": [
      "['[No.1 실시간 인기차트] 멜론차트X노래모음 2021년 10월 8일 2주차 최신가요, TOP100', '[광고없는 실시간 인기차트] 멜론차트X노래모음 2021년 10월 8일 2주차 최신가요, TOP50', '[Playlist] 난 연애는 안하지만, 선곡은 잘하지 l 일하면서 듣기좋은 노래모음 플레이리스트', '하루 종일 듣고 싶은 좋은노래 좋은음악 50곡 - 다시 듣고 싶은노래 진짜 좋은노래 발라드 베스트 BEST 50곡', '봄 여름 가을 겨울, 사계절이 가득 담긴 2015-2017 아이돌 인기곡 모음 🌸🌊🍁⛄ | PLAYLIST', '일할때 듣기좋은 광고없는 노래모음 💖 하루 종일 들어도 좋은노래 BEST 100곡 💖 가을에 듣기 좋은 노래 BEST 모음', '[Playlist] 이번 가을은 이 플리가 책임질게 l 가을 노래모음 플레이리스트 2시간 광고없음', '[Playlist] 발라드 잘 안 듣는 주인장도 가끔 찾아 듣는 노래 모음 #2 | 감성 발라드 모음', '도입부만 들어도 심장 떨리는 케이팝 전성기 노래 모음 🎊 2015 - 2017 아이돌 플레이리스트 | PLAYLIST', '[Playlist] 나 가을 타나봐... | 훌쩍 다가온 가을의 향기를 느끼게 해줄 가을 노래 모음', '[Playlist] 솔직히 이건 못 참지 | 흥참기 어려운 노래 모음 | 신나는 노래 모음 POP #2', '[광고없는 실시간 인기차트] 멜론차트X노래모음 2021년 10월 6일 1주차 최신가요, TOP100', '[Playlist] 잔잔하지만 적당히 흥얼거리기 좋은 노래 모음 | 밝지만 시끄럽지 않은 미디엄 템포 노래 모음', '일할때 듣기좋은 광고없는 노래모음, 하루 종일 들어도 좋은노래 BEST 100곡, 오늘하루도 기분좋아지게 만드는 노래', '[광고없음] 일할때 듣기좋은 발라드 추천 광고없는 노래모음 - 하루 종일 들어도 좋은노래 BEST 100곡 - 가을에 듣기 좋은 노래 BEST 모음.', '[𝐏𝐥𝐚𝐲𝐥𝐢𝐬𝐭] 어디선가 한번씩은 들어본, 들으면 흥얼대던 노래들', '[playlist] 𝘋𝘪𝘴𝘯𝘦𝘺 𝘖𝘚𝘛 1 𝘏𝘰𝘶𝘳 🏰 | 디즈니 OST 모음 | 이 중에 최애곡 하나쯤은 있을걸❔', '하루 종일 듣고 싶은 좋은노래 좋은음악 TOP 50곡 - 하루 종일 듣기 좋은 노래 진짜 좋은 노래 모음  BEST 50곡 [ 가사 첨부 ]', '[광고없는 실시간 인기차트] 멜론차트X노래모음 2021년 10월 7일 2주차 최신가요, TOP100', '관련 재생목록 - 노래모음', '[MV] GFRIEND(여자친구) _ Time for the moon night(밤)', '[MV] Apink(에이핑크) _ FIVE', '속이 뻥 뚫리는 자유로움 가득한 노래 모음🐳 | PLAYLIST', '[광고없음] 일할때 듣기좋은 발라드 추천 광고없는 노래모음 - 가을에 듣기 좋은 노래 BEST 모음 - 하루 종일 들어도 좋은노래 BEST 100곡', '광고 없는 7080 좋은노래 100곡 모음, 7080노래모음 주옥같은노래, 7080노래모음 주옥같은노래 8090 추억의 노래모음 3', '[Playlist] 가을이면 뭐하니, 내일 출근해야지 l 광고없는 노래모음 플레이리스트']\n"
     ]
    },
    {
     "name": "stderr",
     "output_type": "stream",
     "text": [
      "127.0.0.1 - - [08/Oct/2021 19:11:39] \"\u001b[37mOPTIONS /vue2pythonCrawlRequest HTTP/1.1\u001b[0m\" 200 -\n"
     ]
    },
    {
     "name": "stdout",
     "output_type": "stream",
     "text": [
      "params:  {'search_keyword': '디즈니'}\n",
      "params:  {'search_keyword': '디즈니'}\n"
     ]
    },
    {
     "name": "stderr",
     "output_type": "stream",
     "text": [
      "127.0.0.1 - - [08/Oct/2021 19:11:44] \"\u001b[37mPOST /vue2pythonCrawlRequest HTTP/1.1\u001b[0m\" 200 -\n"
     ]
    },
    {
     "name": "stdout",
     "output_type": "stream",
     "text": [
      "['[playlist] 𝘋𝘪𝘴𝘯𝘦𝘺 𝘖𝘚𝘛 1 𝘏𝘰𝘶𝘳 🏰 | 디즈니 OST 모음 | 이 중에 최애곡 하나쯤은 있을걸❔', '[playlist] 들으면 기분 좋아지는 디즈니/픽사 ost 모음 🏰✨', '디즈니 OST 인생 띵곡 노래 모음 15곡 [가사/해석]', 'Disney OST Best Piano 일할때 공부할때 좋은 음악 디즈니 Collection Relaxing Music', '가보지도 않은 디즈니랜드가 떠오르는 밤 (playlist)', '💕  디즈니 OST 피아노 연주 모음 l Disney OST Piano Collection l 카페뮤직 | Relaxing Jazz Piano Music l for study', 'Disney Piano 디즈니 피아노 모음 [공부할 때 듣는 음악]', 'Disney RELAXING PIANO Collection -Sleep Music, Study Music, Calm Music (Piano Covered by kno)', '[월트디즈니1950] 신데렐라1 (더빙/Full)', '[월트 디즈니] 이상한 나라의 앨리스 HD 풀버젼 (Alice in Wonderland) KOR/ENG 자막', '[디즈니]공부할때, 일할때 듣기좋은 음악 모음 5시간(검은화면)(5hours)(피아노)(Relaxing Piano DisneyCollection)', 'salem ilese – mad at disney (official music video)', 'Disney Piano Collection - Relaxing Piano Music - Music For Relax, Study, Work', '디즈니 피아노 OST 모음, 공부할때 or 잠 잘때 듣는 음악, 11시간 연속 재생 (1시간 후 검은색 화면 지속) Disney OST Best Piano', '𝐏𝐥𝐚𝐲𝐥𝐢𝐬𝐭 벌써 가을이야? 이번 가을을 책임질 감성적인 인디 플레이리스트', '[Playlist] 슬슬 연말 분위기를 내볼까요? | 퍼펙트 크리스마스 캐롤 플레이리스트🎄🎅🎁 | Best Christmas Pop Songs Of All Time', '𝚂𝚊𝚕𝚎𝚖 𝚒𝚕𝚎𝚜𝚎 - 𝙼𝚊𝚍 𝚊𝚝 𝙳𝚒𝚜𝚗𝚎𝚢⚡🧚🏻\\u200d♀ / 나 디즈니한테 화났어☄ / mad at Disney 해석 / Mad at Disney lyrics', '[PLAYLIST] 누구나 다 아는 디즈니 OST 20곡 모음', '관련 재생목록 - [playlist] 들으면 기분 좋아지는 디즈니/픽사 ost 모음 🏰✨', '[playlist] 들으면 기분 좋아지는 디즈니/픽사 ost 모음 🏰✨', '[playlist] 𝘋𝘪𝘴𝘯𝘦𝘺 𝘖𝘚𝘛 1 𝘏𝘰𝘶𝘳 🏰 | 디즈니 OST 모음 | 이 중에 최애곡 하나쯤은 있을걸❔', '[PLAYLIST] 디즈니 유니버셜 애니메이션 인생 OST 모음 연속재생 | 연속재생', '𝐩𝐥𝐚𝐲𝐥𝐢𝐬𝐭 언제나 묘한 힘을 주는 디즈니 OST 🏰 오케스트라 버전 (디즈니랜드, 무도회, 크리스마스)', 'Disney Medley - VBEXIT(feat. Heeju Lee)', '월트 디즈니 - 신데렐라(Cinderella) 1부', '[playlist] 𝘋𝘪𝘴𝘯𝘦𝘺 𝘖𝘚𝘛 🏰 | 디즈니 OST 모음 | 이 중에 최애곡 하나쯤은 있을걸❔']\n"
     ]
    },
    {
     "name": "stderr",
     "output_type": "stream",
     "text": [
      "127.0.0.1 - - [08/Oct/2021 19:11:49] \"\u001b[37mPOST /vue2pythonCrawlRequest HTTP/1.1\u001b[0m\" 200 -\n"
     ]
    },
    {
     "name": "stdout",
     "output_type": "stream",
     "text": [
      "['[playlist] 𝘋𝘪𝘴𝘯𝘦𝘺 𝘖𝘚𝘛 1 𝘏𝘰𝘶𝘳 🏰 | 디즈니 OST 모음 | 이 중에 최애곡 하나쯤은 있을걸❔', '[playlist] 들으면 기분 좋아지는 디즈니/픽사 ost 모음 🏰✨', '디즈니 OST 인생 띵곡 노래 모음 15곡 [가사/해석]', 'Disney OST Best Piano 일할때 공부할때 좋은 음악 디즈니 Collection Relaxing Music', '가보지도 않은 디즈니랜드가 떠오르는 밤 (playlist)', '💕  디즈니 OST 피아노 연주 모음 l Disney OST Piano Collection l 카페뮤직 | Relaxing Jazz Piano Music l for study', 'Disney RELAXING PIANO Collection -Sleep Music, Study Music, Calm Music (Piano Covered by kno)', 'Disney Piano 디즈니 피아노 모음 [공부할 때 듣는 음악]', '[월트디즈니1950] 신데렐라1 (더빙/Full)', '[월트 디즈니] 이상한 나라의 앨리스 HD 풀버젼 (Alice in Wonderland) KOR/ENG 자막', 'salem ilese – mad at disney (official music video)', '𝚂𝚊𝚕𝚎𝚖 𝚒𝚕𝚎𝚜𝚎 - 𝙼𝚊𝚍 𝚊𝚝 𝙳𝚒𝚜𝚗𝚎𝚢⚡🧚🏻\\u200d♀ / 나 디즈니한테 화났어☄ / mad at Disney 해석 / Mad at Disney lyrics', 'Disney Piano Collection - Relaxing Piano Music - Music For Relax, Study, Work', 'Disney Relaxing Piano 100 SONGS Collection', '디즈니 피아노 OST 모음, 공부할때 or 잠 잘때 듣는 음악, 11시간 연속 재생 (1시간 후 검은색 화면 지속) Disney OST Best Piano', '𝐏𝐥𝐚𝐲𝐥𝐢𝐬𝐭 벌써 가을이야? 이번 가을을 책임질 감성적인 인디 플레이리스트', '[디즈니]공부할때, 일할때 듣기좋은 음악 모음 5시간(검은화면)(5hours)(피아노)(Relaxing Piano DisneyCollection)', '[PLAYLIST] 누구나 다 아는 디즈니 OST 20곡 모음', '관련 재생목록 - [playlist] 들으면 기분 좋아지는 디즈니/픽사 ost 모음 🏰✨', '[playlist] 들으면 기분 좋아지는 디즈니/픽사 ost 모음 🏰✨', '[playlist] 𝘋𝘪𝘴𝘯𝘦𝘺 𝘖𝘚𝘛 1 𝘏𝘰𝘶𝘳 🏰 | 디즈니 OST 모음 | 이 중에 최애곡 하나쯤은 있을걸❔', '주토피아 OST - Try Everything (가사 해석)', '[PLAYLIST] 디즈니 유니버셜 애니메이션 인생 OST 모음 연속재생 | 연속재생', '𝐩𝐥𝐚𝐲𝐥𝐢𝐬𝐭 언제나 묘한 힘을 주는 디즈니 OST 🏰 오케스트라 버전 (디즈니랜드, 무도회, 크리스마스)', 'Disney Medley - VBEXIT(feat. Heeju Lee)', '[playlist] 𝘋𝘪𝘴𝘯𝘦𝘺 𝘖𝘚𝘛 🏰 | 디즈니 OST 모음 | 이 중에 최애곡 하나쯤은 있을걸❔']\n"
     ]
    }
   ],
   "source": [
    "app = Flask(__name__)\n",
    "CORS(app)\n",
    "\n",
    "@app.route('/vue2pythonCrawlRequest', methods = ['GET', 'POST'])\n",
    "def vue2pythonCrawlRequest():\n",
    "    \n",
    "    params = json.loads(request.get_data(), encoding='utf-8')\n",
    "    print(\"params: \", params)\n",
    "    \n",
    "    url = \"https://www.youtube.com/results?search_query=\"\n",
    "    \n",
    "    # hidden 옵션(눈에 보이지 않고 은신 상태로 동작함)\n",
    "    options = webdriver.ChromeOptions()\n",
    "    options.add_argument('--headless')\n",
    "    options.add_argument('--window-size=1024,768')\n",
    "    options.add_argument('--disable-gpu')\n",
    "\n",
    "    driver = webdriver.Chrome(r\"C:\\chromedriver.exe\", options = options)\n",
    "    \n",
    "    search_url = url + params['search_keyword']\n",
    "    driver.get(url = search_url)\n",
    "\n",
    "    allTitles = driver.find_elements_by_id(\"video-title\")\n",
    "    titles = []\n",
    "\n",
    "    for item in allTitles:\n",
    "        if (item != ''):\n",
    "            titles.append(item.get_attribute('title'))\n",
    "\n",
    "    print(titles)\n",
    "    # hidden일지라도 리소스가 사용되므로 모든 작업이 완료되었으면 종료함\n",
    "    driver.close()\n",
    "    \n",
    "    return jsonify(titles)\n",
    "    \n",
    "if __name__ == \"__main__\":\n",
    "    app.run()"
   ]
  },
  {
   "cell_type": "code",
   "execution_count": null,
   "id": "bcb87cd5",
   "metadata": {},
   "outputs": [],
   "source": []
  }
 ],
 "metadata": {
  "kernelspec": {
   "display_name": "Python 3",
   "language": "python",
   "name": "python3"
  },
  "language_info": {
   "codemirror_mode": {
    "name": "ipython",
    "version": 3
   },
   "file_extension": ".py",
   "mimetype": "text/x-python",
   "name": "python",
   "nbconvert_exporter": "python",
   "pygments_lexer": "ipython3",
   "version": "3.8.8"
  }
 },
 "nbformat": 4,
 "nbformat_minor": 5
}
