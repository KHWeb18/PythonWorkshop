{
 "cells": [
  {
   "cell_type": "markdown",
   "id": "0d0dfdc7",
   "metadata": {},
   "source": []
  },
  {
   "cell_type": "code",
   "execution_count": 3,
   "id": "b128e901",
   "metadata": {},
   "outputs": [],
   "source": [
    "### File wirte\n",
    "data = \"hello\"\n",
    "with open(\"test.txt\",\"w\") as fp:\n",
    "    fp.write(data)"
   ]
  },
  {
   "cell_type": "code",
   "execution_count": 4,
   "id": "f7ffdd04",
   "metadata": {},
   "outputs": [
    {
     "name": "stdout",
     "output_type": "stream",
     "text": [
      "파이썬 x쉽네\n",
      "hello\n"
     ]
    }
   ],
   "source": [
    "### File Read\n",
    "with open(\"test.txt\",\"r\") as fp:\n",
    "    print(\"파이썬 x쉽네\")\n",
    "    print(fp.read())"
   ]
  },
  {
   "cell_type": "code",
   "execution_count": 5,
   "id": "465e9a59",
   "metadata": {},
   "outputs": [
    {
     "name": "stdout",
     "output_type": "stream",
     "text": [
      " C 드라이브의 볼륨에는 이름이 없습니다.\n",
      " 볼륨 일련 번호: F2DD-95A5\n",
      "\n",
      " C:\\Users\\tkddn\\python_works\\PythonWorkshop 디렉터리\n",
      "\n",
      "2021-09-17  오후 06:13    <DIR>          .\n",
      "2021-09-17  오후 06:13    <DIR>          ..\n",
      "2021-09-17  오후 05:48             1,928 .gitignore\n",
      "2021-09-17  오후 06:05    <DIR>          .ipynb_checkpoints\n",
      "2021-09-17  오후 06:13             1,038 pyton_taste.ipynb\n",
      "2021-09-17  오후 05:48                51 README.md\n",
      "2021-09-17  오후 06:12                 5 test.txt\n",
      "               4개 파일               3,022 바이트\n",
      "               3개 디렉터리  44,342,714,368 바이트 남음\n"
     ]
    }
   ],
   "source": [
    "# Windows\n",
    "!dir"
   ]
  },
  {
   "cell_type": "code",
   "execution_count": null,
   "id": "ae7ec055",
   "metadata": {},
   "outputs": [],
   "source": []
  }
 ],
 "metadata": {
  "kernelspec": {
   "display_name": "Python 3",
   "language": "python",
   "name": "python3"
  },
  "language_info": {
   "codemirror_mode": {
    "name": "ipython",
    "version": 3
   },
   "file_extension": ".py",
   "mimetype": "text/x-python",
   "name": "python",
   "nbconvert_exporter": "python",
   "pygments_lexer": "ipython3",
   "version": "3.8.8"
  }
 },
 "nbformat": 4,
 "nbformat_minor": 5
}
