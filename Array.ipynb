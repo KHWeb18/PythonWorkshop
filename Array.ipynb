{
 "cells": [
  {
   "cell_type": "code",
   "execution_count": 1,
   "id": "2845468d",
   "metadata": {},
   "outputs": [
    {
     "name": "stdout",
     "output_type": "stream",
     "text": [
      "testpython\n"
     ]
    }
   ],
   "source": [
    "testStr = 'test' + \" python\"\n",
    "print(testStr)"
   ]
  },
  {
   "cell_type": "code",
   "execution_count": 2,
   "id": "bd0e5088",
   "metadata": {},
   "outputs": [
    {
     "name": "stdout",
     "output_type": "stream",
     "text": [
      "pointer\n",
      "p\n",
      "n\n"
     ]
    }
   ],
   "source": [
    "# [0] [1] [2] [3] [4] [5] [6]\n",
    "# p    o  i   n   t   e    r\n",
    "str1 = \"pointer\"\n",
    "print(str1)\n",
    "print(str1[0])\n",
    "print(str1[3])"
   ]
  },
  {
   "cell_type": "code",
   "execution_count": 3,
   "id": "9538e4e2",
   "metadata": {},
   "outputs": [
    {
     "name": "stdout",
     "output_type": "stream",
     "text": [
      "p\n"
     ]
    }
   ],
   "source": [
    "# 0 ~ 1 미만\n",
    "print(str1[0:1])"
   ]
  },
  {
   "cell_type": "code",
   "execution_count": 4,
   "id": "ac0eaeb7",
   "metadata": {},
   "outputs": [
    {
     "name": "stdout",
     "output_type": "stream",
     "text": [
      "oin\n"
     ]
    }
   ],
   "source": [
    "# 1 ~ 4 미만\n",
    "print(str1[1:4])"
   ]
  },
  {
   "cell_type": "code",
   "execution_count": 5,
   "id": "0473298b",
   "metadata": {},
   "outputs": [
    {
     "name": "stdout",
     "output_type": "stream",
     "text": [
      "po\n"
     ]
    }
   ],
   "source": [
    "# 앞이 공백일 시 0\n",
    "print(str1[:2])"
   ]
  },
  {
   "cell_type": "code",
   "execution_count": 6,
   "id": "cc93f24b",
   "metadata": {},
   "outputs": [
    {
     "name": "stdout",
     "output_type": "stream",
     "text": [
      "er\n"
     ]
    }
   ],
   "source": [
    "# 앞이 - 일 시 뒤에서부터 \n",
    "print(str1[-2:])"
   ]
  },
  {
   "cell_type": "code",
   "execution_count": 8,
   "id": "d3812209",
   "metadata": {},
   "outputs": [
    {
     "name": "stdout",
     "output_type": "stream",
     "text": [
      "pointer\n"
     ]
    }
   ],
   "source": [
    "# 전부 비워져있을때, 처음부터 ~ 끝까지\n",
    "print(str1[:])"
   ]
  },
  {
   "cell_type": "code",
   "execution_count": 9,
   "id": "d1109cd8",
   "metadata": {},
   "outputs": [
    {
     "name": "stdout",
     "output_type": "stream",
     "text": [
      "pitr\n"
     ]
    }
   ],
   "source": [
    "# 0부터 시작, 짝수만\n",
    "print(str1[::2])"
   ]
  },
  {
   "cell_type": "code",
   "execution_count": 10,
   "id": "aef3f405",
   "metadata": {},
   "outputs": [
    {
     "name": "stdout",
     "output_type": "stream",
     "text": [
      "one\n"
     ]
    }
   ],
   "source": [
    "# 1부터 시작, 홀수만\n",
    "print(str1[1::2])"
   ]
  },
  {
   "cell_type": "code",
   "execution_count": 11,
   "id": "abc7f59b",
   "metadata": {},
   "outputs": [
    {
     "name": "stdout",
     "output_type": "stream",
     "text": [
      "3.14\n",
      "77\n",
      "33.0\n",
      "<class 'str'>\n",
      "<class 'int'>\n",
      "<class 'float'>\n"
     ]
    }
   ],
   "source": [
    "makeStr = str(3.14)\n",
    "intStr = int(\"77\")\n",
    "floatStr = float(\"33\")\n",
    "\n",
    "print(makeStr)\n",
    "print(intStr)\n",
    "print(floatStr)\n",
    "\n",
    "print(type(makeStr))\n",
    "print(type(intStr))\n",
    "print(type(floatStr))"
   ]
  },
  {
   "cell_type": "code",
   "execution_count": 12,
   "id": "7d080c8f",
   "metadata": {},
   "outputs": [
    {
     "name": "stdout",
     "output_type": "stream",
     "text": [
      "['red', 'green', 'blue']\n",
      "<class 'list'>\n"
     ]
    }
   ],
   "source": [
    "# Array 계열의 리스트\n",
    "colors = ['red', 'green', 'blue']\n",
    "\n",
    "print(colors)\n",
    "print(type(colors))"
   ]
  },
  {
   "cell_type": "code",
   "execution_count": 13,
   "id": "31cbc06b",
   "metadata": {},
   "outputs": [
    {
     "name": "stdout",
     "output_type": "stream",
     "text": [
      "['red', 'green', 'blue', 'gold']\n"
     ]
    }
   ],
   "source": [
    "# list에 내용 추가(append)\n",
    "colors.append('gold')\n",
    "print(colors)"
   ]
  },
  {
   "cell_type": "code",
   "execution_count": 14,
   "id": "2aa4cd9e",
   "metadata": {},
   "outputs": [
    {
     "name": "stdout",
     "output_type": "stream",
     "text": [
      "['red', 'black', 'green', 'blue', 'gold']\n"
     ]
    }
   ],
   "source": [
    "# 특정 위치에 내용 추가\n",
    "colors.insert(1, 'black')\n",
    "print(colors)"
   ]
  },
  {
   "cell_type": "code",
   "execution_count": 16,
   "id": "4e4ca7c4",
   "metadata": {},
   "outputs": [
    {
     "name": "stdout",
     "output_type": "stream",
     "text": [
      "['red', 'black', 'green', 'blue', 'gold', 'white', 'gray']\n"
     ]
    }
   ],
   "source": [
    "extension_color = ['white', 'gray']\n",
    "# 리스트와 리스트를 병합할 경우에 주로 사용함\n",
    "colors.extend(extension_color)\n",
    "print(colors)"
   ]
  },
  {
   "cell_type": "code",
   "execution_count": 17,
   "id": "0d9a497c",
   "metadata": {},
   "outputs": [
    {
     "name": "stdout",
     "output_type": "stream",
     "text": [
      "['red', 'black', 'green', 'blue', 'gold', 'white', 'gray', 'purple', 'red']\n"
     ]
    }
   ],
   "source": [
    "colors += ['purple']\n",
    "colors += ['red']\n",
    "\n",
    "print(colors)"
   ]
  },
  {
   "cell_type": "code",
   "execution_count": 18,
   "id": "eda7d8af",
   "metadata": {},
   "outputs": [
    {
     "name": "stdout",
     "output_type": "stream",
     "text": [
      "7\n"
     ]
    }
   ],
   "source": [
    "# 리스트에서 위치찾기\n",
    "print(colors.index('purple'))"
   ]
  },
  {
   "cell_type": "code",
   "execution_count": 19,
   "id": "d75fe143",
   "metadata": {},
   "outputs": [
    {
     "name": "stdout",
     "output_type": "stream",
     "text": [
      "0\n"
     ]
    }
   ],
   "source": [
    "print(colors.index('red'))"
   ]
  },
  {
   "cell_type": "code",
   "execution_count": 20,
   "id": "00f2f16d",
   "metadata": {},
   "outputs": [
    {
     "name": "stdout",
     "output_type": "stream",
     "text": [
      "8\n"
     ]
    }
   ],
   "source": [
    "# 인덱스 1번부터 찾기\n",
    "print(colors.index('red', 1))"
   ]
  },
  {
   "cell_type": "code",
   "execution_count": 21,
   "id": "276d7ec3",
   "metadata": {},
   "outputs": [
    {
     "ename": "ValueError",
     "evalue": "'gray' is not in list",
     "output_type": "error",
     "traceback": [
      "\u001b[1;31m---------------------------------------------------------------------------\u001b[0m",
      "\u001b[1;31mValueError\u001b[0m                                Traceback (most recent call last)",
      "\u001b[1;32m<ipython-input-21-1ea8bd8fa539>\u001b[0m in \u001b[0;36m<module>\u001b[1;34m\u001b[0m\n\u001b[1;32m----> 1\u001b[1;33m \u001b[0mprint\u001b[0m\u001b[1;33m(\u001b[0m\u001b[0mcolors\u001b[0m\u001b[1;33m.\u001b[0m\u001b[0mindex\u001b[0m\u001b[1;33m(\u001b[0m\u001b[1;34m'gray'\u001b[0m\u001b[1;33m,\u001b[0m \u001b[1;36m7\u001b[0m\u001b[1;33m)\u001b[0m\u001b[1;33m)\u001b[0m\u001b[1;33m\u001b[0m\u001b[1;33m\u001b[0m\u001b[0m\n\u001b[0m",
      "\u001b[1;31mValueError\u001b[0m: 'gray' is not in list"
     ]
    }
   ],
   "source": [
    "print(colors.index('gray', 7))"
   ]
  },
  {
   "cell_type": "code",
   "execution_count": 22,
   "id": "f5c3cc1a",
   "metadata": {},
   "outputs": [
    {
     "name": "stdout",
     "output_type": "stream",
     "text": [
      "3\n"
     ]
    }
   ],
   "source": [
    "# 2 ~ 5 사이의 blue값의 위치\n",
    "print(colors.index('blue', 2, 5))"
   ]
  },
  {
   "cell_type": "code",
   "execution_count": 24,
   "id": "8995fbe2",
   "metadata": {},
   "outputs": [
    {
     "name": "stdout",
     "output_type": "stream",
     "text": [
      "2\n"
     ]
    }
   ],
   "source": [
    "# 갯수\n",
    "print(colors.count('red'))"
   ]
  },
  {
   "cell_type": "code",
   "execution_count": 25,
   "id": "add3619b",
   "metadata": {},
   "outputs": [
    {
     "name": "stdout",
     "output_type": "stream",
     "text": [
      "red\n"
     ]
    }
   ],
   "source": [
    "# 뒤에서부터 값을 제거함\n",
    "print(colors.pop())"
   ]
  },
  {
   "cell_type": "code",
   "execution_count": 26,
   "id": "e44d0fd2",
   "metadata": {},
   "outputs": [
    {
     "name": "stdout",
     "output_type": "stream",
     "text": [
      "purple\n"
     ]
    }
   ],
   "source": [
    "print(colors.pop())"
   ]
  },
  {
   "cell_type": "code",
   "execution_count": 27,
   "id": "088274a8",
   "metadata": {},
   "outputs": [
    {
     "name": "stdout",
     "output_type": "stream",
     "text": [
      "gray\n"
     ]
    }
   ],
   "source": [
    "print(colors.pop())"
   ]
  },
  {
   "cell_type": "code",
   "execution_count": 28,
   "id": "a9a93968",
   "metadata": {},
   "outputs": [
    {
     "name": "stdout",
     "output_type": "stream",
     "text": [
      "white\n"
     ]
    }
   ],
   "source": [
    "print(colors.pop())"
   ]
  },
  {
   "cell_type": "code",
   "execution_count": 29,
   "id": "429e9540",
   "metadata": {},
   "outputs": [
    {
     "name": "stdout",
     "output_type": "stream",
     "text": [
      "['red', 'black', 'green', 'blue', 'gold']\n"
     ]
    }
   ],
   "source": [
    "print(colors)"
   ]
  },
  {
   "cell_type": "code",
   "execution_count": 30,
   "id": "04d81d51",
   "metadata": {},
   "outputs": [
    {
     "name": "stdout",
     "output_type": "stream",
     "text": [
      "['red', 'black', 'blue', 'gold']\n"
     ]
    }
   ],
   "source": [
    "colors.remove('green')\n",
    "print(colors)"
   ]
  },
  {
   "cell_type": "code",
   "execution_count": 31,
   "id": "fac7b36e",
   "metadata": {},
   "outputs": [
    {
     "name": "stdout",
     "output_type": "stream",
     "text": [
      "sort:  ['black', 'blue', 'gold', 'red']\n"
     ]
    }
   ],
   "source": [
    "# sort 알파벳 순 정렬\n",
    "colors.sort()\n",
    "print(\"sort: \", colors)"
   ]
  },
  {
   "cell_type": "code",
   "execution_count": 32,
   "id": "2507b98e",
   "metadata": {},
   "outputs": [
    {
     "name": "stdout",
     "output_type": "stream",
     "text": [
      "['red', 'gold', 'blue', 'black']\n"
     ]
    }
   ],
   "source": [
    "# reverse()는 거꾸로 정렬이 아니며 단순히 값을 뒤집는 역할만 수행함\n",
    "colors.reverse()\n",
    "print(colors)"
   ]
  },
  {
   "cell_type": "code",
   "execution_count": 33,
   "id": "40b1f88a",
   "metadata": {},
   "outputs": [
    {
     "name": "stdout",
     "output_type": "stream",
     "text": [
      "{1, 2, 3}\n",
      "{3, 4, 5}\n",
      "<class 'set'> <class 'set'>\n",
      "{1, 2, 3, 4, 5}\n"
     ]
    }
   ],
   "source": [
    "# Array에 또 다른 형태인 Set\n",
    "# list 는 대괄호\n",
    "# 집합은 중괄호\n",
    "a = {1, 2, 3}\n",
    "b = {3, 4, 5}\n",
    "\n",
    "print(a)\n",
    "print(b)\n",
    "print(type(a), type(b))\n",
    "\n",
    "# 중복 허용을 안함 \n",
    "# union 합집합\n",
    "print(a.union(b))"
   ]
  },
  {
   "cell_type": "code",
   "execution_count": 34,
   "id": "4a8c99cc",
   "metadata": {},
   "outputs": [
    {
     "name": "stdout",
     "output_type": "stream",
     "text": [
      "{3}\n"
     ]
    }
   ],
   "source": [
    "# intersection 교집합\n",
    "print(a.intersection(b))"
   ]
  },
  {
   "cell_type": "code",
   "execution_count": 35,
   "id": "c50b8665",
   "metadata": {},
   "outputs": [
    {
     "name": "stdout",
     "output_type": "stream",
     "text": [
      "{1, 2}\n",
      "{1, 2, 3, 4, 5}\n",
      "{3}\n",
      "{1, 2, 4, 5}\n"
     ]
    }
   ],
   "source": [
    "print(a - b)\n",
    "print(a | b)\n",
    "print(a & b)\n",
    "# ^ 교집합(중복)을 제외하고 전부\n",
    "print(a ^ b)"
   ]
  },
  {
   "cell_type": "code",
   "execution_count": 36,
   "id": "cd80188e",
   "metadata": {},
   "outputs": [
    {
     "name": "stdout",
     "output_type": "stream",
     "text": [
      "{'a': 1, 'b': 3, 'c': 5}\n",
      "<class 'dict'>\n"
     ]
    }
   ],
   "source": [
    "# json 형태 / 해쉬맵 형태랑 비슷하다\n",
    "d = dict(a = 1, b= 3, c = 5)\n",
    "print(d)\n",
    "print(type(d))"
   ]
  },
  {
   "cell_type": "code",
   "execution_count": 37,
   "id": "20ecd6b3",
   "metadata": {},
   "outputs": [
    {
     "name": "stdout",
     "output_type": "stream",
     "text": [
      "{'apple': 'red', 'banana': 'yellow'}\n",
      "red\n"
     ]
    }
   ],
   "source": [
    "color = {\"apple\" : \"red\", \"banana\" : \"yellow\"}\n",
    "print(color)\n",
    "print(color[\"apple\"])"
   ]
  },
  {
   "cell_type": "code",
   "execution_count": 38,
   "id": "1955ac04",
   "metadata": {},
   "outputs": [
    {
     "name": "stdout",
     "output_type": "stream",
     "text": [
      "{'apple': 'red', 'banana': 'yellow', 'cherry': 'red'}\n"
     ]
    }
   ],
   "source": [
    "color[\"cherry\"] = \"red\"\n",
    "print(color)"
   ]
  },
  {
   "cell_type": "code",
   "execution_count": 39,
   "id": "ed0cc574",
   "metadata": {},
   "outputs": [
    {
     "name": "stdout",
     "output_type": "stream",
     "text": [
      "{'apple': 'green', 'banana': 'yellow', 'cherry': 'red'}\n"
     ]
    }
   ],
   "source": [
    "# dict 내에서 키값은 중복될 수 없다\n",
    "color[\"apple\"] = \"green\"\n",
    "print(color)"
   ]
  },
  {
   "cell_type": "code",
   "execution_count": 41,
   "id": "8cc2f1fb",
   "metadata": {},
   "outputs": [
    {
     "name": "stdout",
     "output_type": "stream",
     "text": [
      "('apple', 'green')\n",
      "('banana', 'yellow')\n",
      "('cherry', 'red')\n"
     ]
    }
   ],
   "source": [
    "# color 내에 있는 요소들을 뽑아서 c로 가져옴(foreach)\n",
    "for c in color.items():\n",
    "    print(c)"
   ]
  },
  {
   "cell_type": "code",
   "execution_count": 42,
   "id": "0bbf0477",
   "metadata": {},
   "outputs": [
    {
     "name": "stdout",
     "output_type": "stream",
     "text": [
      "apple green\n",
      "banana yellow\n",
      "cherry red\n"
     ]
    }
   ],
   "source": [
    "for k, v in color.items():\n",
    "    print(k, v)"
   ]
  },
  {
   "cell_type": "code",
   "execution_count": 43,
   "id": "1ceb77d3",
   "metadata": {},
   "outputs": [
    {
     "name": "stdout",
     "output_type": "stream",
     "text": [
      "apple\n",
      "banana\n",
      "cherry\n"
     ]
    }
   ],
   "source": [
    "for k in color.keys():\n",
    "    print(k)"
   ]
  },
  {
   "cell_type": "code",
   "execution_count": 45,
   "id": "f6855802",
   "metadata": {},
   "outputs": [
    {
     "name": "stdout",
     "output_type": "stream",
     "text": [
      "green\n",
      "yellow\n",
      "red\n"
     ]
    }
   ],
   "source": [
    "for v in color.values():\n",
    "    print(v)"
   ]
  },
  {
   "cell_type": "code",
   "execution_count": null,
   "id": "9971b3ef",
   "metadata": {},
   "outputs": [],
   "source": []
  }
 ],
 "metadata": {
  "kernelspec": {
   "display_name": "Python 3",
   "language": "python",
   "name": "python3"
  },
  "language_info": {
   "codemirror_mode": {
    "name": "ipython",
    "version": 3
   },
   "file_extension": ".py",
   "mimetype": "text/x-python",
   "name": "python",
   "nbconvert_exporter": "python",
   "pygments_lexer": "ipython3",
   "version": "3.8.8"
  }
 },
 "nbformat": 4,
 "nbformat_minor": 5
}
