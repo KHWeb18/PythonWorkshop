{
 "cells": [
  {
   "cell_type": "code",
   "execution_count": null,
   "id": "54fcb816",
   "metadata": {},
   "outputs": [],
   "source": [
    "# https://kauth.kakao.com/oauth/authorize?client_id={REST_API_KEY}&redirect_uri={REDIRECT_URI}&response_type=code&scope=friends,talk_message"
   ]
  },
  {
   "cell_type": "code",
   "execution_count": null,
   "id": "9ffe93bd",
   "metadata": {},
   "outputs": [],
   "source": [
    "TKFjSHEE5MAPAEIWNVplvv0Th8k_cMuuo50YdEj6XAn3t4bqd5L-iT0pZqKkDQBueEPyzAo9c5oAAAF8Ow-OjQ"
   ]
  },
  {
   "cell_type": "code",
   "execution_count": 10,
   "id": "43d87cba",
   "metadata": {},
   "outputs": [
    {
     "name": "stdout",
     "output_type": "stream",
     "text": [
      "access_token\n"
     ]
    }
   ],
   "source": [
    "import requests\n",
    "\n",
    "url = \"https://kauth.kakao.com/oauth/token\"\n",
    "\n",
    "data = {\n",
    "    \"grant_type\" : \"authorization_code\",\n",
    "    \"client_id\" : \"\",\n",
    "    \"redirect_uri\" : \"https://localhost.com\",\n",
    "    \"code\" : \"\"\n",
    "}\n",
    "\n",
    "response = requests.post(url, data=data)\n",
    "\n",
    "if response.status_code != 200:\n",
    "    print(\"Error!\")\n",
    "else:\n",
    "    tokens = response.json()\n",
    "    print(tokens)"
   ]
  },
  {
   "cell_type": "code",
   "execution_count": 6,
   "id": "f1e895e3",
   "metadata": {},
   "outputs": [],
   "source": [
    "import json\n",
    "\n",
    "# Kakao Token 저장 파일\n",
    "KAKAO_FRIEND_TOKEN_SAVED_FILE = \"res/kakao_friend_msg/kakao_token.json\"\n",
    "\n",
    "# 저장\n",
    "def save_tokens(filename, tokens):\n",
    "    with open(filename, \"w\") as fp:\n",
    "        json.dump(tokens, fp)\n",
    "        \n",
    "# 읽기\n",
    "def load_tokens(filename):\n",
    "    with open(filename) as fp:\n",
    "        tokens = json.load(fp)\n",
    "        \n",
    "    return tokens\n",
    "\n",
    "# token 저장\n",
    "save_tokens(KAKAO_FRIEND_TOKEN_SAVED_FILE, tokens)"
   ]
  },
  {
   "cell_type": "code",
   "execution_count": 8,
   "id": "532b4725",
   "metadata": {},
   "outputs": [
    {
     "name": "stdout",
     "output_type": "stream",
     "text": [
      "<class 'dict'>\n",
      "{'elements': [{'profile_nickname': '김민규', 'profile_thumbnail_image': 'https://p.kakaocdn.net/th/talkp/wkXtvsu5W8/yfDV9LzxEFdbglMO4KzqC1/q2ruf1_110x110_c.jpg', 'id': 1932533220, 'uuid': 'vo2_jreAtIy-kqSTpZSkkqaesoSwgLiAs-4', 'favorite': False}], 'total_count': 1, 'after_url': None, 'result_id': 'zbnYtN-At4WxgbSHv43S5NDg2ODTjP6b_JXmkveF4ITbvdyqxbfeqs-Qof6f85_Aq8Sb7d4w', 'favorite_count': 0}\n",
      "=================================================\n",
      "[{'profile_nickname': '김민규', 'profile_thumbnail_image': 'https://p.kakaocdn.net/th/talkp/wkXtvsu5W8/yfDV9LzxEFdbglMO4KzqC1/q2ruf1_110x110_c.jpg', 'id': 1932533220, 'uuid': 'vo2_jreAtIy-kqSTpZSkkqaesoSwgLiAs-4', 'favorite': False}]\n",
      "=================================================\n",
      "vo2_jreAtIy-kqSTpZSkkqaesoSwgLiAs-4\n",
      "vo2_jreAtIy-kqSTpZSkkqaesoSwgLiAs-4\n"
     ]
    }
   ],
   "source": [
    "import json\n",
    "import requests\n",
    "\n",
    "# 토큰 정보 활용\n",
    "tokens = load_tokens(KAKAO_FRIEND_TOKEN_SAVED_FILE)\n",
    "\n",
    "# 친구 목록부터 가져오자!\n",
    "friends_url = \"https://kapi.kakao.com/v1/api/talk/friends\"\n",
    "\n",
    "headers = {\n",
    "    \"Authorization\" : \"Bearer \" + tokens['access_token']\n",
    "}\n",
    "\n",
    "res = json.loads(requests.get(friends_url, headers=headers).text)\n",
    "\n",
    "print(type(res))\n",
    "print(res)\n",
    "print(\"=================================================\")\n",
    "\n",
    "friends_list = res.get(\"elements\")\n",
    "print(friends_list)\n",
    "print(\"=================================================\")\n",
    "\n",
    "print(friends_list[0].get(\"uuid\"))\n",
    "fid = friends_list[0].get(\"uuid\")\n",
    "print(fid)"
   ]
  },
  {
   "cell_type": "code",
   "execution_count": 9,
   "id": "fdbf5eea",
   "metadata": {},
   "outputs": [
    {
     "name": "stdout",
     "output_type": "stream",
     "text": [
      "200\n",
      "카톡 메시지가 간드아!!!\n"
     ]
    }
   ],
   "source": [
    "# 카톡 친구에게 메시지 보내기\n",
    "fsend_url = \"https://kapi.kakao.com/v1/api/talk/friends/message/default/send\"\n",
    "\n",
    "data = {\n",
    "    'receiver_uuids' : '[\"{}\"]'.format(fid),\n",
    "    \"template_object\" : json.dumps({\n",
    "        \"object_type\" : \"text\",\n",
    "        \"text\" : \"우왕굳\",\n",
    "        \"link\" : {\n",
    "            \"web_url\" : \"www.naver.com\"\n",
    "        }\n",
    "    })\n",
    "}\n",
    "\n",
    "# 메시지 전송\n",
    "response = requests.post(fsend_url, headers=headers, data=data)\n",
    "print(response.status_code)\n",
    "\n",
    "if response.status_code != 200:\n",
    "    print(\"Error!\")\n",
    "else:\n",
    "    print(\"카톡 메시지가 간드아!!!\")"
   ]
  },
  {
   "cell_type": "code",
   "execution_count": null,
   "id": "a623659e",
   "metadata": {},
   "outputs": [],
   "source": []
  }
 ],
 "metadata": {
  "kernelspec": {
   "display_name": "Python 3",
   "language": "python",
   "name": "python3"
  },
  "language_info": {
   "codemirror_mode": {
    "name": "ipython",
    "version": 3
   },
   "file_extension": ".py",
   "mimetype": "text/x-python",
   "name": "python",
   "nbconvert_exporter": "python",
   "pygments_lexer": "ipython3",
   "version": "3.8.8"
  }
 },
 "nbformat": 4,
 "nbformat_minor": 5
}
