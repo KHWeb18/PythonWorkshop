{
 "cells": [
  {
   "cell_type": "code",
   "execution_count": 2,
   "id": "3e63b6d0",
   "metadata": {},
   "outputs": [],
   "source": [
    "import os\n",
    "import re\n",
    "import time\n",
    "import socket"
   ]
  },
  {
   "cell_type": "code",
   "execution_count": 3,
   "id": "9c4e2c80",
   "metadata": {},
   "outputs": [],
   "source": [
    "# 크롤링 결과를 저장하는 파일\n",
    "CRAWLED_RESULT_SAVED_FILE = \"res/crawl_data/result.txt\""
   ]
  },
  {
   "cell_type": "code",
   "execution_count": 4,
   "id": "94fd602e",
   "metadata": {},
   "outputs": [],
   "source": [
    "def record_url_info_thread():\n",
    "    while (True):\n",
    "        f = open(CRAWLED_RESULT_SAVED_FILE, 'w')\n",
    "        print(f.write('test'))\n",
    "        f.close()"
   ]
  },
  {
   "cell_type": "code",
   "execution_count": 5,
   "id": "498ec1d1",
   "metadata": {},
   "outputs": [
    {
     "name": "stdout",
     "output_type": "stream",
     "text": [
      "4\n"
     ]
    }
   ],
   "source": [
    "#record_info()"
   ]
  },
  {
   "cell_type": "code",
   "execution_count": 8,
   "id": "255ca388",
   "metadata": {},
   "outputs": [
    {
     "name": "stdout",
     "output_type": "stream",
     "text": [
      " C 드라이브의 볼륨: 오후반_OS\n",
      " 볼륨 일련 번호: E808-E5FC\n",
      "\n",
      " C:\\Users\\user2\\python_works\\PythonWorkshop-1\\res\\crawl_data 디렉터리\n",
      "\n",
      "2021-10-21  오후 03:45    <DIR>          .\n",
      "2021-10-21  오후 03:45    <DIR>          ..\n",
      "2021-10-21  오후 03:45                 4 result.txt\n",
      "               1개 파일                   4 바이트\n",
      "               2개 디렉터리  147,387,457,536 바이트 남음\n"
     ]
    }
   ],
   "source": [
    "!dir res\\crawl_data"
   ]
  },
  {
   "cell_type": "code",
   "execution_count": 9,
   "id": "ad089e68",
   "metadata": {},
   "outputs": [
    {
     "name": "stdout",
     "output_type": "stream",
     "text": [
      "test\n"
     ]
    }
   ],
   "source": [
    "!type res\\crawl_data\\result.txt"
   ]
  },
  {
   "cell_type": "code",
   "execution_count": 10,
   "id": "ad443e00",
   "metadata": {},
   "outputs": [],
   "source": [
    "from flask import Flask, url_for, request, jsonify, redirect, Response\n",
    "from flask_cors import CORS, cross_origin\n",
    "\n",
    "import json\n",
    "import requests"
   ]
  },
  {
   "cell_type": "code",
   "execution_count": 11,
   "id": "db0188e2",
   "metadata": {},
   "outputs": [],
   "source": [
    "import selenium\n",
    "from selenium import webdriver"
   ]
  },
  {
   "cell_type": "code",
   "execution_count": 51,
   "id": "9bfed95e",
   "metadata": {},
   "outputs": [],
   "source": [
    "# 키보드 입력 처리\n",
    "from selenium.webdriver.common.keys import Keys"
   ]
  },
  {
   "cell_type": "code",
   "execution_count": 77,
   "id": "34a1a180",
   "metadata": {},
   "outputs": [],
   "source": [
    "def cont_youtube_crawl_thread(text):\n",
    "    cnt = 0\n",
    "    \n",
    "    #url = \"https://www.youtube.com/\"\n",
    "    url = \"https://www.youtube.com/results?search_query=\"\n",
    "\n",
    "    driver = webdriver.Chrome(r\"C:\\chromedriver.exe\")\n",
    "    \n",
    "    search_url = url + text\n",
    "    driver.get(url = search_url)\n",
    "    \n",
    "    # body 정보 확보\n",
    "    body = driver.find_element_by_tag_name('body')\n",
    "    \n",
    "    #hrefURL = []\n",
    "    hrefURL = set()\n",
    "    \n",
    "    # 관련 영상 정보\n",
    "    shelfContents = driver.find_elements_by_css_selector(\n",
    "        \"#contents > ytd-shelf-renderer > div > div > ytd-vertical-list-renderer > div > ytd-video-renderer > div > ytd-thumbnail > a\"\n",
    "    )\n",
    "    \n",
    "    for item in shelfContents:\n",
    "        if (item != ''):\n",
    "            hrefURL.add(item.get_attribute('href'))\n",
    "    \n",
    "    # 무한 스크롤 하여 나머지 정보들 모두 확보\n",
    "    #while (True):\n",
    "    while cnt < 1000:\n",
    "        #body.send_keys(Keys.PAGE_DOWN)\n",
    "        body.send_keys(Keys.END)\n",
    "        \n",
    "        cnt += 1\n",
    "        print(\"cnt: \", cnt)\n",
    "        \n",
    "    allContents = driver.find_elements_by_css_selector(\n",
    "        \"#contents > ytd-item-section-renderer > div > ytd-video-renderer > div > ytd-thumbnail > a\"\n",
    "    )\n",
    "\n",
    "    for item in allContents:\n",
    "        if (item != ''):\n",
    "            hrefURL.add(item.get_attribute('href'))\n",
    "\n",
    "    print(hrefURL)\n",
    "    print(\"크롤링 개수: \", len(hrefURL))\n",
    "    \n",
    "    # y축으로 3000 픽셀 이동함\n",
    "    #driver.execute_script(\"window.scrollTo(0, 3000)\")"
   ]
  },
  {
   "cell_type": "code",
   "execution_count": 78,
   "id": "c0c23b7a",
   "metadata": {},
   "outputs": [],
   "source": [
    "# 현재 상황에서 기록하는 스레드와 크롤링 하는 두 개의 스레드가 있음\n",
    "# 여기에서 어떤 문제점이 발생할 수 있을까 ?\n",
    "\n",
    "# 크롤링하는 스레드 - 검색 키워드를 기반으로 크롤링\n",
    "# 기록하는 스레드 - 크롤링한 URL 저장\n",
    "\n",
    "# 떡대(속도 느림, 수용량 높음) - 많은 양을 한 번에 모아서 이동\n",
    "# 멸치(속도 빠름, 수용량 낮음) - 적은양이지만 중요한 정보를 빠르게 전송하는데 활용"
   ]
  },
  {
   "cell_type": "code",
   "execution_count": 80,
   "id": "32d2bd56",
   "metadata": {
    "scrolled": false
   },
   "outputs": [
    {
     "name": "stdout",
     "output_type": "stream",
     "text": [
      "clear\n"
     ]
    }
   ],
   "source": [
    "cont_youtube_crawl_thread(\"시고르자브종\")"
   ]
  },
  {
   "cell_type": "code",
   "execution_count": null,
   "id": "27f008dd",
   "metadata": {},
   "outputs": [],
   "source": []
  },
  {
   "cell_type": "code",
   "execution_count": null,
   "id": "7ec5b39e",
   "metadata": {},
   "outputs": [],
   "source": []
  }
 ],
 "metadata": {
  "kernelspec": {
   "display_name": "Python 3",
   "language": "python",
   "name": "python3"
  },
  "language_info": {
   "codemirror_mode": {
    "name": "ipython",
    "version": 3
   },
   "file_extension": ".py",
   "mimetype": "text/x-python",
   "name": "python",
   "nbconvert_exporter": "python",
   "pygments_lexer": "ipython3",
   "version": "3.8.8"
  }
 },
 "nbformat": 4,
 "nbformat_minor": 5
}
