{
 "cells": [
  {
   "cell_type": "code",
   "execution_count": 2,
   "id": "98cb6331",
   "metadata": {},
   "outputs": [
    {
     "name": "stdout",
     "output_type": "stream",
     "text": [
      " C 드라이브의 볼륨에는 이름이 없습니다.\n",
      " 볼륨 일련 번호: F2DD-95A5\n",
      "\n",
      " C:\\Users\\tkddn\\python_works\\PythonWorkshop 디렉터리\n",
      "\n",
      "2021-09-24  오후 05:59    <DIR>          .\n",
      "2021-09-24  오후 05:59    <DIR>          ..\n",
      "2021-09-17  오후 05:48             1,928 .gitignore\n",
      "2021-09-24  오후 05:55    <DIR>          .ipynb_checkpoints\n",
      "2021-09-23  오후 05:42            14,323 Array.ipynb\n",
      "2021-09-24  오후 05:09             8,628 ControlStatement.ipynb\n",
      "2021-09-23  오후 04:19             4,148 Data Type.ipynb\n",
      "2021-09-24  오후 05:59             7,316 FileIO.ipynb\n",
      "2021-09-24  오후 05:53            14,963 Function(Method).ipynb\n",
      "2021-09-17  오후 06:22             2,394 python_taste.ipynb\n",
      "2021-09-17  오후 07:51            23,628 pyton_taste.ipynb\n",
      "2021-09-17  오후 05:48                51 README.md\n",
      "2021-09-17  오후 06:12                 5 test.txt\n",
      "              10개 파일              77,384 바이트\n",
      "               3개 디렉터리  43,442,479,104 바이트 남음\n"
     ]
    }
   ],
   "source": [
    "!dir"
   ]
  },
  {
   "cell_type": "code",
   "execution_count": 3,
   "id": "195fdcb8",
   "metadata": {},
   "outputs": [
    {
     "name": "stdout",
     "output_type": "stream",
     "text": [
      "50\n"
     ]
    }
   ],
   "source": [
    "f = open('test.txt','w') # 파일명과 형태 그리고 w 는 쓰기모드\n",
    "print(f.write('Python Basic Programming For Interconnect with Web')) # 글자 띄어쓰기 포함 50자수여서 50이뜸\n",
    "f.close()\n"
   ]
  },
  {
   "cell_type": "code",
   "execution_count": 4,
   "id": "036c8ec1",
   "metadata": {
    "scrolled": true
   },
   "outputs": [
    {
     "name": "stdout",
     "output_type": "stream",
     "text": [
      " C 드라이브의 볼륨에는 이름이 없습니다.\n",
      " 볼륨 일련 번호: F2DD-95A5\n",
      "\n",
      " C:\\Users\\tkddn\\python_works\\PythonWorkshop 디렉터리\n",
      "\n",
      "2021-09-24  오후 05:59    <DIR>          .\n",
      "2021-09-24  오후 05:59    <DIR>          ..\n",
      "2021-09-17  오후 05:48             1,928 .gitignore\n",
      "2021-09-24  오후 05:55    <DIR>          .ipynb_checkpoints\n",
      "2021-09-23  오후 05:42            14,323 Array.ipynb\n",
      "2021-09-24  오후 05:09             8,628 ControlStatement.ipynb\n",
      "2021-09-23  오후 04:19             4,148 Data Type.ipynb\n",
      "2021-09-24  오후 05:59             7,316 FileIO.ipynb\n",
      "2021-09-24  오후 05:53            14,963 Function(Method).ipynb\n",
      "2021-09-17  오후 06:22             2,394 python_taste.ipynb\n",
      "2021-09-17  오후 07:51            23,628 pyton_taste.ipynb\n",
      "2021-09-17  오후 05:48                51 README.md\n",
      "2021-09-24  오후 05:59                50 test.txt\n",
      "              10개 파일              77,429 바이트\n",
      "               3개 디렉터리  43,441,954,816 바이트 남음\n"
     ]
    }
   ],
   "source": [
    "!dir"
   ]
  },
  {
   "cell_type": "code",
   "execution_count": 5,
   "id": "73667bb7",
   "metadata": {},
   "outputs": [
    {
     "name": "stdout",
     "output_type": "stream",
     "text": [
      "Python Basic Programming For Interconnect with Web\n"
     ]
    }
   ],
   "source": [
    "!type test.txt"
   ]
  },
  {
   "cell_type": "code",
   "execution_count": 7,
   "id": "81e9ddaf",
   "metadata": {
    "scrolled": true
   },
   "outputs": [
    {
     "name": "stdout",
     "output_type": "stream",
     "text": [
      "Python Basic Programming For Interconnect with Web\n",
      "True\n"
     ]
    }
   ],
   "source": [
    "#읽기\n",
    " # 파이썬은 리눅스 진영이라 리눅스의 철학  = 모든것은 파일이다.\n",
    "    #그래서 모든걸 파일로 처리하기때문에  읽기던 쓰기던 뭘하던  open 과 close를 꼭 해줘야한다.\n",
    "f = open ('test.txt')\n",
    "print(f.read())\n",
    "f.close()\n",
    "print(f.closed)"
   ]
  },
  {
   "cell_type": "code",
   "execution_count": 11,
   "id": "7b25a53a",
   "metadata": {
    "scrolled": true
   },
   "outputs": [
    {
     "name": "stdout",
     "output_type": "stream",
     "text": [
      "['Python Basic Programming For Interconnect with Web\\n', 'sd\\n', 'sd\\n', 'sd\\n', 'sd\\n']\n",
      "False\n",
      "True\n"
     ]
    }
   ],
   "source": [
    "with open('test.txt') as f:\n",
    "    print(f.readlines())\n",
    "    print(f.closed)\n",
    "\n",
    "print(f.closed)    "
   ]
  },
  {
   "cell_type": "code",
   "execution_count": 12,
   "id": "be48f98b",
   "metadata": {},
   "outputs": [
    {
     "name": "stdout",
     "output_type": "stream",
     "text": [
      "['red', 'green', 'blue']\n"
     ]
    }
   ],
   "source": [
    "colors = ['red', 'green', 'blue']\n",
    "print(colors)"
   ]
  },
  {
   "cell_type": "code",
   "execution_count": 14,
   "id": "e69eae3d",
   "metadata": {},
   "outputs": [
    {
     "name": "stdout",
     "output_type": "stream",
     "text": [
      "True\n"
     ]
    }
   ],
   "source": [
    "#globals()를 활용하는방법\n",
    "# 실제 객체가 만들어졋는지 안만들어졋는지 아래와 같은 형식으로 체크할수있음.\n",
    "def chk_colors():\n",
    "    if 'colors' in globals():\n",
    "        print('True')\n",
    "    else:\n",
    "        print('False') \n",
    "chk_colors()        "
   ]
  },
  {
   "cell_type": "code",
   "execution_count": 15,
   "id": "721f958f",
   "metadata": {},
   "outputs": [
    {
     "name": "stdout",
     "output_type": "stream",
     "text": [
      "False\n"
     ]
    }
   ],
   "source": [
    "import pickle\n",
    "\n",
    "f = open('colors', 'wb')\n",
    "pickle.dump(colors,f)\n",
    "f.close()\n",
    "\n",
    "del colors\n",
    "\n",
    "chk_colors()"
   ]
  },
  {
   "cell_type": "code",
   "execution_count": 16,
   "id": "5d7433ad",
   "metadata": {},
   "outputs": [
    {
     "data": {
      "text/plain": [
       "{'__name__': '__main__',\n",
       " '__doc__': 'Automatically created module for IPython interactive environment',\n",
       " '__package__': None,\n",
       " '__loader__': None,\n",
       " '__spec__': None,\n",
       " '__builtin__': <module 'builtins' (built-in)>,\n",
       " '__builtins__': <module 'builtins' (built-in)>,\n",
       " '_ih': ['',\n",
       "  \"get_ipython().system('dir')\",\n",
       "  \"get_ipython().system('dir')\",\n",
       "  \"f = open('test.txt','w')\\nprint(f.write('Python Basic Programming For Interconnect with Web'))\\nf.close()\",\n",
       "  \"get_ipython().system('dir')\",\n",
       "  \"get_ipython().system('type test.txt')\",\n",
       "  \"#읽기\\n\\nf = open ('text.txt')\\nprint(f.read())\\nf.close()\\nprint(f.closed)\",\n",
       "  \"#읽기\\n\\nf = open ('test.txt')\\nprint(f.read())\\nf.close()\\nprint(f.closed)\",\n",
       "  \"with open('test.txt') as f:\\n    print(f.readlines())\\n    print(f.closed)\\n\\nprint(f.closed)    \",\n",
       "  \"with open('test.txt') as f:\\n    print(f.readlines())\\n    print(f.closed)\\n\\nprint(f.closed)    \",\n",
       "  \"with open('test.txt') as f:\\n    print(f.readlines())\\n    print(f.closed)\\n\\nprint(f.closed)    \",\n",
       "  \"with open('test.txt') as f:\\n    print(f.readlines())\\n    print(f.closed)\\n\\nprint(f.closed)    \",\n",
       "  \"colors = ['red', 'green', 'blue']\\nprint(colors)\",\n",
       "  \"def chk-colors():\\n    if 'colors' in globals():\\n        print('True')\\n    else:\\n        print('False') \\nchk_colors()        \",\n",
       "  \"def chk_colors():\\n    if 'colors' in globals():\\n        print('True')\\n    else:\\n        print('False') \\nchk_colors()        \",\n",
       "  \"import pickle\\n\\nf = open('colors', 'wb')\\npickle.dump(colors,f)\\nf.close()\\n\\ndel colors\\n\\nchk_colors()\",\n",
       "  'globals()'],\n",
       " '_oh': {},\n",
       " '_dh': ['C:\\\\Users\\\\tkddn\\\\python_works\\\\PythonWorkshop'],\n",
       " 'In': ['',\n",
       "  \"get_ipython().system('dir')\",\n",
       "  \"get_ipython().system('dir')\",\n",
       "  \"f = open('test.txt','w')\\nprint(f.write('Python Basic Programming For Interconnect with Web'))\\nf.close()\",\n",
       "  \"get_ipython().system('dir')\",\n",
       "  \"get_ipython().system('type test.txt')\",\n",
       "  \"#읽기\\n\\nf = open ('text.txt')\\nprint(f.read())\\nf.close()\\nprint(f.closed)\",\n",
       "  \"#읽기\\n\\nf = open ('test.txt')\\nprint(f.read())\\nf.close()\\nprint(f.closed)\",\n",
       "  \"with open('test.txt') as f:\\n    print(f.readlines())\\n    print(f.closed)\\n\\nprint(f.closed)    \",\n",
       "  \"with open('test.txt') as f:\\n    print(f.readlines())\\n    print(f.closed)\\n\\nprint(f.closed)    \",\n",
       "  \"with open('test.txt') as f:\\n    print(f.readlines())\\n    print(f.closed)\\n\\nprint(f.closed)    \",\n",
       "  \"with open('test.txt') as f:\\n    print(f.readlines())\\n    print(f.closed)\\n\\nprint(f.closed)    \",\n",
       "  \"colors = ['red', 'green', 'blue']\\nprint(colors)\",\n",
       "  \"def chk-colors():\\n    if 'colors' in globals():\\n        print('True')\\n    else:\\n        print('False') \\nchk_colors()        \",\n",
       "  \"def chk_colors():\\n    if 'colors' in globals():\\n        print('True')\\n    else:\\n        print('False') \\nchk_colors()        \",\n",
       "  \"import pickle\\n\\nf = open('colors', 'wb')\\npickle.dump(colors,f)\\nf.close()\\n\\ndel colors\\n\\nchk_colors()\",\n",
       "  'globals()'],\n",
       " 'Out': {},\n",
       " 'get_ipython': <bound method InteractiveShell.get_ipython of <ipykernel.zmqshell.ZMQInteractiveShell object at 0x0000024D95EA4850>>,\n",
       " 'exit': <IPython.core.autocall.ZMQExitAutocall at 0x24d95f15580>,\n",
       " 'quit': <IPython.core.autocall.ZMQExitAutocall at 0x24d95f15580>,\n",
       " '_': '',\n",
       " '__': '',\n",
       " '___': '',\n",
       " '_i': \"import pickle\\n\\nf = open('colors', 'wb')\\npickle.dump(colors,f)\\nf.close()\\n\\ndel colors\\n\\nchk_colors()\",\n",
       " '_ii': \"def chk_colors():\\n    if 'colors' in globals():\\n        print('True')\\n    else:\\n        print('False') \\nchk_colors()        \",\n",
       " '_iii': \"def chk-colors():\\n    if 'colors' in globals():\\n        print('True')\\n    else:\\n        print('False') \\nchk_colors()        \",\n",
       " '_i1': '!dir',\n",
       " '_exit_code': 0,\n",
       " '_i2': '!dir',\n",
       " '_i3': \"f = open('test.txt','w')\\nprint(f.write('Python Basic Programming For Interconnect with Web'))\\nf.close()\",\n",
       " 'f': <_io.BufferedWriter name='colors'>,\n",
       " '_i4': '!dir',\n",
       " '_i5': '!type test.txt',\n",
       " '_i6': \"#읽기\\n\\nf = open ('text.txt')\\nprint(f.read())\\nf.close()\\nprint(f.closed)\",\n",
       " '_i7': \"#읽기\\n\\nf = open ('test.txt')\\nprint(f.read())\\nf.close()\\nprint(f.closed)\",\n",
       " '_i8': \"with open('test.txt') as f:\\n    print(f.readlines())\\n    print(f.closed)\\n\\nprint(f.closed)    \",\n",
       " '_i9': \"with open('test.txt') as f:\\n    print(f.readlines())\\n    print(f.closed)\\n\\nprint(f.closed)    \",\n",
       " '_i10': \"with open('test.txt') as f:\\n    print(f.readlines())\\n    print(f.closed)\\n\\nprint(f.closed)    \",\n",
       " '_i11': \"with open('test.txt') as f:\\n    print(f.readlines())\\n    print(f.closed)\\n\\nprint(f.closed)    \",\n",
       " '_i12': \"colors = ['red', 'green', 'blue']\\nprint(colors)\",\n",
       " '_i13': \"def chk-colors():\\n    if 'colors' in globals():\\n        print('True')\\n    else:\\n        print('False') \\nchk_colors()        \",\n",
       " '_i14': \"def chk_colors():\\n    if 'colors' in globals():\\n        print('True')\\n    else:\\n        print('False') \\nchk_colors()        \",\n",
       " 'chk_colors': <function __main__.chk_colors()>,\n",
       " '_i15': \"import pickle\\n\\nf = open('colors', 'wb')\\npickle.dump(colors,f)\\nf.close()\\n\\ndel colors\\n\\nchk_colors()\",\n",
       " 'pickle': <module 'pickle' from 'C:\\\\ProgramData\\\\Anaconda3\\\\lib\\\\pickle.py'>,\n",
       " '_i16': 'globals()'}"
      ]
     },
     "execution_count": 16,
     "metadata": {},
     "output_type": "execute_result"
    }
   ],
   "source": [
    "globals()"
   ]
  },
  {
   "cell_type": "code",
   "execution_count": 17,
   "id": "17abc759",
   "metadata": {},
   "outputs": [
    {
     "name": "stdout",
     "output_type": "stream",
     "text": [
      "['red', 'green', 'blue']\n"
     ]
    }
   ],
   "source": [
    "f = open('colors', 'rb') # b는 객체가 함꼐잇을때 객체를 넣을때도 wb이다 \n",
    "colors = pickle.load(f)\n",
    "f.close()\n",
    "\n",
    "print(colors)"
   ]
  },
  {
   "cell_type": "code",
   "execution_count": 18,
   "id": "2549f3a7",
   "metadata": {},
   "outputs": [
    {
     "data": {
      "text/plain": [
       "{'__name__': '__main__',\n",
       " '__doc__': 'Automatically created module for IPython interactive environment',\n",
       " '__package__': None,\n",
       " '__loader__': None,\n",
       " '__spec__': None,\n",
       " '__builtin__': <module 'builtins' (built-in)>,\n",
       " '__builtins__': <module 'builtins' (built-in)>,\n",
       " '_ih': ['',\n",
       "  \"get_ipython().system('dir')\",\n",
       "  \"get_ipython().system('dir')\",\n",
       "  \"f = open('test.txt','w')\\nprint(f.write('Python Basic Programming For Interconnect with Web'))\\nf.close()\",\n",
       "  \"get_ipython().system('dir')\",\n",
       "  \"get_ipython().system('type test.txt')\",\n",
       "  \"#읽기\\n\\nf = open ('text.txt')\\nprint(f.read())\\nf.close()\\nprint(f.closed)\",\n",
       "  \"#읽기\\n\\nf = open ('test.txt')\\nprint(f.read())\\nf.close()\\nprint(f.closed)\",\n",
       "  \"with open('test.txt') as f:\\n    print(f.readlines())\\n    print(f.closed)\\n\\nprint(f.closed)    \",\n",
       "  \"with open('test.txt') as f:\\n    print(f.readlines())\\n    print(f.closed)\\n\\nprint(f.closed)    \",\n",
       "  \"with open('test.txt') as f:\\n    print(f.readlines())\\n    print(f.closed)\\n\\nprint(f.closed)    \",\n",
       "  \"with open('test.txt') as f:\\n    print(f.readlines())\\n    print(f.closed)\\n\\nprint(f.closed)    \",\n",
       "  \"colors = ['red', 'green', 'blue']\\nprint(colors)\",\n",
       "  \"def chk-colors():\\n    if 'colors' in globals():\\n        print('True')\\n    else:\\n        print('False') \\nchk_colors()        \",\n",
       "  \"def chk_colors():\\n    if 'colors' in globals():\\n        print('True')\\n    else:\\n        print('False') \\nchk_colors()        \",\n",
       "  \"import pickle\\n\\nf = open('colors', 'wb')\\npickle.dump(colors,f)\\nf.close()\\n\\ndel colors\\n\\nchk_colors()\",\n",
       "  'globals()',\n",
       "  \"f = open('colors', 'rb')\\ncolors = pickle.load(f)\\nf.close()\\n\\nprint(colors)\",\n",
       "  'globals()'],\n",
       " '_oh': {16: {...}},\n",
       " '_dh': ['C:\\\\Users\\\\tkddn\\\\python_works\\\\PythonWorkshop'],\n",
       " 'In': ['',\n",
       "  \"get_ipython().system('dir')\",\n",
       "  \"get_ipython().system('dir')\",\n",
       "  \"f = open('test.txt','w')\\nprint(f.write('Python Basic Programming For Interconnect with Web'))\\nf.close()\",\n",
       "  \"get_ipython().system('dir')\",\n",
       "  \"get_ipython().system('type test.txt')\",\n",
       "  \"#읽기\\n\\nf = open ('text.txt')\\nprint(f.read())\\nf.close()\\nprint(f.closed)\",\n",
       "  \"#읽기\\n\\nf = open ('test.txt')\\nprint(f.read())\\nf.close()\\nprint(f.closed)\",\n",
       "  \"with open('test.txt') as f:\\n    print(f.readlines())\\n    print(f.closed)\\n\\nprint(f.closed)    \",\n",
       "  \"with open('test.txt') as f:\\n    print(f.readlines())\\n    print(f.closed)\\n\\nprint(f.closed)    \",\n",
       "  \"with open('test.txt') as f:\\n    print(f.readlines())\\n    print(f.closed)\\n\\nprint(f.closed)    \",\n",
       "  \"with open('test.txt') as f:\\n    print(f.readlines())\\n    print(f.closed)\\n\\nprint(f.closed)    \",\n",
       "  \"colors = ['red', 'green', 'blue']\\nprint(colors)\",\n",
       "  \"def chk-colors():\\n    if 'colors' in globals():\\n        print('True')\\n    else:\\n        print('False') \\nchk_colors()        \",\n",
       "  \"def chk_colors():\\n    if 'colors' in globals():\\n        print('True')\\n    else:\\n        print('False') \\nchk_colors()        \",\n",
       "  \"import pickle\\n\\nf = open('colors', 'wb')\\npickle.dump(colors,f)\\nf.close()\\n\\ndel colors\\n\\nchk_colors()\",\n",
       "  'globals()',\n",
       "  \"f = open('colors', 'rb')\\ncolors = pickle.load(f)\\nf.close()\\n\\nprint(colors)\",\n",
       "  'globals()'],\n",
       " 'Out': {16: {...}},\n",
       " 'get_ipython': <bound method InteractiveShell.get_ipython of <ipykernel.zmqshell.ZMQInteractiveShell object at 0x0000024D95EA4850>>,\n",
       " 'exit': <IPython.core.autocall.ZMQExitAutocall at 0x24d95f15580>,\n",
       " 'quit': <IPython.core.autocall.ZMQExitAutocall at 0x24d95f15580>,\n",
       " '_': {...},\n",
       " '__': '',\n",
       " '___': '',\n",
       " '_i': \"f = open('colors', 'rb')\\ncolors = pickle.load(f)\\nf.close()\\n\\nprint(colors)\",\n",
       " '_ii': 'globals()',\n",
       " '_iii': \"import pickle\\n\\nf = open('colors', 'wb')\\npickle.dump(colors,f)\\nf.close()\\n\\ndel colors\\n\\nchk_colors()\",\n",
       " '_i1': '!dir',\n",
       " '_exit_code': 0,\n",
       " '_i2': '!dir',\n",
       " '_i3': \"f = open('test.txt','w')\\nprint(f.write('Python Basic Programming For Interconnect with Web'))\\nf.close()\",\n",
       " 'f': <_io.BufferedReader name='colors'>,\n",
       " '_i4': '!dir',\n",
       " '_i5': '!type test.txt',\n",
       " '_i6': \"#읽기\\n\\nf = open ('text.txt')\\nprint(f.read())\\nf.close()\\nprint(f.closed)\",\n",
       " '_i7': \"#읽기\\n\\nf = open ('test.txt')\\nprint(f.read())\\nf.close()\\nprint(f.closed)\",\n",
       " '_i8': \"with open('test.txt') as f:\\n    print(f.readlines())\\n    print(f.closed)\\n\\nprint(f.closed)    \",\n",
       " '_i9': \"with open('test.txt') as f:\\n    print(f.readlines())\\n    print(f.closed)\\n\\nprint(f.closed)    \",\n",
       " '_i10': \"with open('test.txt') as f:\\n    print(f.readlines())\\n    print(f.closed)\\n\\nprint(f.closed)    \",\n",
       " '_i11': \"with open('test.txt') as f:\\n    print(f.readlines())\\n    print(f.closed)\\n\\nprint(f.closed)    \",\n",
       " '_i12': \"colors = ['red', 'green', 'blue']\\nprint(colors)\",\n",
       " '_i13': \"def chk-colors():\\n    if 'colors' in globals():\\n        print('True')\\n    else:\\n        print('False') \\nchk_colors()        \",\n",
       " '_i14': \"def chk_colors():\\n    if 'colors' in globals():\\n        print('True')\\n    else:\\n        print('False') \\nchk_colors()        \",\n",
       " 'chk_colors': <function __main__.chk_colors()>,\n",
       " '_i15': \"import pickle\\n\\nf = open('colors', 'wb')\\npickle.dump(colors,f)\\nf.close()\\n\\ndel colors\\n\\nchk_colors()\",\n",
       " 'pickle': <module 'pickle' from 'C:\\\\ProgramData\\\\Anaconda3\\\\lib\\\\pickle.py'>,\n",
       " '_i16': 'globals()',\n",
       " '_16': {...},\n",
       " '_i17': \"f = open('colors', 'rb')\\ncolors = pickle.load(f)\\nf.close()\\n\\nprint(colors)\",\n",
       " 'colors': ['red', 'green', 'blue'],\n",
       " '_i18': 'globals()'}"
      ]
     },
     "execution_count": 18,
     "metadata": {},
     "output_type": "execute_result"
    }
   ],
   "source": [
    "globals()"
   ]
  },
  {
   "cell_type": "code",
   "execution_count": 19,
   "id": "f83e65f3",
   "metadata": {},
   "outputs": [
    {
     "name": "stdout",
     "output_type": "stream",
     "text": [
      "<__main__.Test object at 0x0000024D9601F370>\n",
      "Test\n"
     ]
    }
   ],
   "source": [
    "class Test:\n",
    "    var = None\n",
    "a = Test()\n",
    "a.var = \"Test\"\n",
    "\n",
    "f= open('test','wb')\n",
    "pickle.dump(a,f)\n",
    "f.close()\n",
    "\n",
    "print(a)\n",
    "print(a.var)\n",
    "\n",
    "del a\n",
    "    "
   ]
  },
  {
   "cell_type": "code",
   "execution_count": 20,
   "id": "0806cbd6",
   "metadata": {},
   "outputs": [
    {
     "ename": "NameError",
     "evalue": "name 'a' is not defined",
     "output_type": "error",
     "traceback": [
      "\u001b[1;31m---------------------------------------------------------------------------\u001b[0m",
      "\u001b[1;31mNameError\u001b[0m                                 Traceback (most recent call last)",
      "\u001b[1;32m<ipython-input-20-bca0e2660b9f>\u001b[0m in \u001b[0;36m<module>\u001b[1;34m\u001b[0m\n\u001b[1;32m----> 1\u001b[1;33m \u001b[0mprint\u001b[0m\u001b[1;33m(\u001b[0m\u001b[0ma\u001b[0m\u001b[1;33m)\u001b[0m\u001b[1;33m\u001b[0m\u001b[1;33m\u001b[0m\u001b[0m\n\u001b[0m",
      "\u001b[1;31mNameError\u001b[0m: name 'a' is not defined"
     ]
    }
   ],
   "source": [
    "print(a)"
   ]
  },
  {
   "cell_type": "code",
   "execution_count": 22,
   "id": "da4d109c",
   "metadata": {},
   "outputs": [
    {
     "name": "stdout",
     "output_type": "stream",
     "text": [
      "<__main__.Test object at 0x0000024D9602F820>\n",
      "Test\n"
     ]
    }
   ],
   "source": [
    "f = open ('test', 'rb')\n",
    "b= pickle.load(f)\n",
    "f.close()\n",
    "\n",
    "print(b)\n",
    "print(b.var)"
   ]
  },
  {
   "cell_type": "code",
   "execution_count": null,
   "id": "e88fabd4",
   "metadata": {},
   "outputs": [],
   "source": []
  }
 ],
 "metadata": {
  "kernelspec": {
   "display_name": "Python 3",
   "language": "python",
   "name": "python3"
  },
  "language_info": {
   "codemirror_mode": {
    "name": "ipython",
    "version": 3
   },
   "file_extension": ".py",
   "mimetype": "text/x-python",
   "name": "python",
   "nbconvert_exporter": "python",
   "pygments_lexer": "ipython3",
   "version": "3.8.8"
  }
 },
 "nbformat": 4,
 "nbformat_minor": 5
}
