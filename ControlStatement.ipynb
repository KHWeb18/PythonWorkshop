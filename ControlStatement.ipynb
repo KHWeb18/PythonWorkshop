{
 "cells": [
  {
   "cell_type": "markdown",
   "id": "13026750",
   "metadata": {},
   "source": [
    "# val = 10\n",
    "\n",
    "if val > 5:\n",
    "    print(\"val is bigger than 5\")"
   ]
  },
  {
   "cell_type": "code",
   "execution_count": 2,
   "id": "b2ac281c",
   "metadata": {},
   "outputs": [],
   "source": [
    "val = 1\n",
    "\n",
    "if val > 5:\n",
    "    print(\"val is bigger than 5\")"
   ]
  },
  {
   "cell_type": "code",
   "execution_count": 3,
   "id": "7172a5e1",
   "metadata": {},
   "outputs": [
    {
     "name": "stdout",
     "output_type": "stream",
     "text": [
      "val is bigger than 5\n"
     ]
    }
   ],
   "source": [
    "val = 1\n",
    "\n",
    "if val > 5:\n",
    "    print('test')\n",
    "print(\"val is bigger than 5\")  # 이상한코드 예제 이렇게만 하지말자 "
   ]
  },
  {
   "cell_type": "code",
   "execution_count": 4,
   "id": "6113f099",
   "metadata": {},
   "outputs": [
    {
     "name": "stdout",
     "output_type": "stream",
     "text": [
      "banana\n"
     ]
    }
   ],
   "source": [
    "money = 10\n",
    "\n",
    "if money > 100:\n",
    "    item = \"apple\"\n",
    "else:\n",
    "    item = 'banana'\n",
    "    \n",
    "print(item)    "
   ]
  },
  {
   "cell_type": "code",
   "execution_count": 7,
   "id": "089061b5",
   "metadata": {},
   "outputs": [
    {
     "name": "stdout",
     "output_type": "stream",
     "text": [
      "Input score:75\n",
      "점수 통보! 등급 = C\n"
     ]
    }
   ],
   "source": [
    "score = int(input(('Input score:')))\n",
    "\n",
    "if 90 <= score <= 100:\n",
    "    grade = 'A'\n",
    "elif 80 <= score <= 90:\n",
    "    grade = 'B'\n",
    "elif 70 <= score <= 80:\n",
    "    grade = 'C'\n",
    "elif 60 <= score <= 70:\n",
    "    grade = \"D\"\n",
    "else: \n",
    "    grade = \"F\"\n",
    "print(\"점수 통보! 등급 = \" + grade)        "
   ]
  },
  {
   "cell_type": "code",
   "execution_count": 8,
   "id": "f0db98b9",
   "metadata": {},
   "outputs": [],
   "source": [
    "#수학, 영어, 국사 시험을 봤다 \n",
    "# 각각의 점수를 입력하여 토탈 평균이 60점 미만이며\n",
    "# 또한 각과목의 점수들이 50점 미만인 경우에도 탈락 처리를 하도록 한다."
   ]
  },
  {
   "cell_type": "code",
   "execution_count": 27,
   "id": "34d98921",
   "metadata": {},
   "outputs": [
    {
     "name": "stdout",
     "output_type": "stream",
     "text": [
      "Input Mathscore = 100\n",
      "Input EnglishScore = 100\n",
      "Input historyScore =40\n",
      "당신은 역사점수과락으로 탈락입니다\n"
     ]
    }
   ],
   "source": [
    "MathScore = int(input(('Input Mathscore = ')))\n",
    "EnglishScore = int(input(('Input EnglishScore = ')))\n",
    "historyScore = int(input(('Input historyScore =')))\n",
    "\n",
    "totalScoreAverage  = (MathScore + EnglishScore +historyScore) / 3\n",
    "\n",
    "if totalScoreAverage < 60:\n",
    "    print('당신은탈락입니다.')\n",
    "elif MathScore <50:\n",
    "    print('당신은 수학점수과락으로 탈락입니다.')\n",
    "elif EnglishScore <50:\n",
    "    print('당신은 영어점수과락으로 탈락입니다')\n",
    "elif historyScore <50:\n",
    "    print('당신은 역사점수과락으로 탈락입니다')\n",
    "else:\n",
    "    print('당신은 합격입니다.')\n"
   ]
  },
  {
   "cell_type": "code",
   "execution_count": 28,
   "id": "6907dce8",
   "metadata": {},
   "outputs": [
    {
     "name": "stdout",
     "output_type": "stream",
     "text": [
      "5\n",
      "4\n",
      "3\n",
      "2\n",
      "1\n"
     ]
    }
   ],
   "source": [
    "val = 5 \n",
    "while val > 0:\n",
    "    print(val)\n",
    "    val -= 1"
   ]
  },
  {
   "cell_type": "code",
   "execution_count": 43,
   "id": "f4a4be8c",
   "metadata": {},
   "outputs": [
    {
     "name": "stdout",
     "output_type": "stream",
     "text": [
      "Apple <class 'str'>\n",
      "100 <class 'int'>\n",
      "15.33 <class 'float'>\n"
     ]
    }
   ],
   "source": [
    "lists = ['Apple', 100, 15.33]\n",
    "\n",
    "for i in lists: \n",
    "    print(i,type(i))"
   ]
  },
  {
   "cell_type": "code",
   "execution_count": 33,
   "id": "882cfe71",
   "metadata": {},
   "outputs": [
    {
     "name": "stdout",
     "output_type": "stream",
     "text": [
      "Item:1\n",
      "Item:2\n",
      "Item:3\n",
      "Item:4\n",
      "Item:5\n"
     ]
    }
   ],
   "source": [
    "numList = [1,2,3,4,5,6,7,8,9,10]\n",
    "\n",
    "for i in numList:\n",
    "    if i>5:\n",
    "        break\n",
    "    print(\"Item:{0}\".format(i))    \n",
    "        \n",
    "        "
   ]
  },
  {
   "cell_type": "code",
   "execution_count": 42,
   "id": "0e06557d",
   "metadata": {},
   "outputs": [
    {
     "name": "stdout",
     "output_type": "stream",
     "text": [
      "Item: 1\n",
      "Item: 3\n",
      "Item: 5\n",
      "Item: 7\n",
      "Item: 9\n"
     ]
    }
   ],
   "source": [
    "for i in numList:\n",
    "    if i % 2 == 0:\n",
    "        continue\n",
    "    print(\"Item: {0}\".format(i))    "
   ]
  },
  {
   "cell_type": "code",
   "execution_count": 1,
   "id": "bbe9c800",
   "metadata": {},
   "outputs": [
    {
     "name": "stdout",
     "output_type": "stream",
     "text": [
      "[0, 1, 2, 3, 4, 5, 6, 7, 8, 9]\n"
     ]
    }
   ],
   "source": [
    "print(list(range(10)))"
   ]
  },
  {
   "cell_type": "code",
   "execution_count": 2,
   "id": "458ea418",
   "metadata": {},
   "outputs": [
    {
     "name": "stdout",
     "output_type": "stream",
     "text": [
      "[5, 6, 7, 8, 9]\n"
     ]
    }
   ],
   "source": [
    "print(list(range(5,10)))"
   ]
  },
  {
   "cell_type": "code",
   "execution_count": 4,
   "id": "6004a39d",
   "metadata": {},
   "outputs": [
    {
     "name": "stdout",
     "output_type": "stream",
     "text": [
      "[10, 12, 14, 16, 18]\n"
     ]
    }
   ],
   "source": [
    "print(list(range(10,20,2)))"
   ]
  },
  {
   "cell_type": "code",
   "execution_count": 5,
   "id": "15ee0d12",
   "metadata": {},
   "outputs": [
    {
     "name": "stdout",
     "output_type": "stream",
     "text": [
      "[1, 2, 3, 4, 5, 6, 7, 8, 9, 10]\n"
     ]
    }
   ],
   "source": [
    "numList = list(range(1,11))\n",
    "\n",
    "print(numList)"
   ]
  },
  {
   "cell_type": "code",
   "execution_count": 6,
   "id": "2ca96f9f",
   "metadata": {},
   "outputs": [
    {
     "name": "stdout",
     "output_type": "stream",
     "text": [
      "idx: 0, val:Apple\n",
      "idx: 1, val:Orange\n",
      "idx: 2, val:Grape\n",
      "idx: 3, val:Banana\n"
     ]
    }
   ],
   "source": [
    "strList = [\"Apple\", \"Orange\", \"Grape\", \"Banana\"]\n",
    "\n",
    "for i in range(len(strList)):\n",
    "    print(\"idx: {0}, val:{1}\".format(i,strList[i]))"
   ]
  },
  {
   "cell_type": "code",
   "execution_count": 7,
   "id": "cd34e030",
   "metadata": {},
   "outputs": [
    {
     "name": "stdout",
     "output_type": "stream",
     "text": [
      "(0, 100)\n",
      "(1, 33)\n",
      "(2, 7)\n",
      "(3, 'Grape')\n"
     ]
    }
   ],
   "source": [
    "varList = [100,33,7,\"Grape\"]\n",
    "\n",
    "for i in enumerate(varList):\n",
    "    print(i)"
   ]
  },
  {
   "cell_type": "code",
   "execution_count": 1,
   "id": "89677240",
   "metadata": {},
   "outputs": [
    {
     "name": "stdout",
     "output_type": "stream",
     "text": [
      "[4.5, -1.5, 12, 6.0, -2.0, 16, 7.5, -2.5, 20]\n",
      "<class 'list'>\n",
      "\n"
     ]
    }
   ],
   "source": [
    "numList1 = [3,4,5]\n",
    "numList2 = [1.5,-0.5,4]\n",
    "\n",
    "\n",
    "resLists = [x * y for x in numList1 for y in numList2 ]\n",
    "\n",
    "print(resLists)\n",
    "print(type(resLists))\n",
    "\n",
    "print()"
   ]
  },
  {
   "cell_type": "code",
   "execution_count": null,
   "id": "16ee590f",
   "metadata": {},
   "outputs": [],
   "source": []
  }
 ],
 "metadata": {
  "kernelspec": {
   "display_name": "Python 3",
   "language": "python",
   "name": "python3"
  },
  "language_info": {
   "codemirror_mode": {
    "name": "ipython",
    "version": 3
   },
   "file_extension": ".py",
   "mimetype": "text/x-python",
   "name": "python",
   "nbconvert_exporter": "python",
   "pygments_lexer": "ipython3",
   "version": "3.8.8"
  }
 },
 "nbformat": 4,
 "nbformat_minor": 5
}
