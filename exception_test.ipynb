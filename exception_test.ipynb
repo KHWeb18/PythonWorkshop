{
 "cells": [
  {
   "cell_type": "code",
   "execution_count": 3,
   "id": "27f0fe4b",
   "metadata": {},
   "outputs": [
    {
     "name": "stdout",
     "output_type": "stream",
     "text": [
      "숫자(1 ~ 5): 7\n",
      "data_in =  7\n",
      "숫자(1 ~ 5): 8\n",
      "data_in =  8\n",
      "숫자(1 ~ 5): 4\n",
      "data_in =  4\n",
      "숫자(1 ~ 5): 3\n",
      "data_in =  3\n",
      "숫자(1 ~ 5): 0\n",
      "data_in =  0\n",
      "숫자(1 ~ 5): 0\n",
      "data_in =  0\n",
      "숫자(1 ~ 5): 1\n",
      "data_in =  1\n"
     ]
    }
   ],
   "source": [
    "arr = []\n",
    "arr.append(1)\n",
    "arr.append(2)\n",
    "arr.append(3)\n",
    "\n",
    "flag = True\n",
    "\n",
    "for i in range(len(arr)):\n",
    "    while flag:\n",
    "        data_in = int(input('숫자(1 ~ 5): '))\n",
    "        \n",
    "        if data_in <= 5 and data_in > 0:\n",
    "            flag = False\n",
    "            \n",
    "        print('data_in = ', data_in)\n",
    "        \n",
    "    flag = True"
   ]
  },
  {
   "cell_type": "code",
   "execution_count": null,
   "id": "5b7a4003",
   "metadata": {},
   "outputs": [],
   "source": []
  }
 ],
 "metadata": {
  "kernelspec": {
   "display_name": "Python 3",
   "language": "python",
   "name": "python3"
  },
  "language_info": {
   "codemirror_mode": {
    "name": "ipython",
    "version": 3
   },
   "file_extension": ".py",
   "mimetype": "text/x-python",
   "name": "python",
   "nbconvert_exporter": "python",
   "pygments_lexer": "ipython3",
   "version": "3.8.8"
  }
 },
 "nbformat": 4,
 "nbformat_minor": 5
}
