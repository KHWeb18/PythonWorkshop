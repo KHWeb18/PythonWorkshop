{
 "cells": [
  {
   "cell_type": "code",
   "execution_count": 3,
   "id": "bc2ad2ca",
   "metadata": {},
   "outputs": [
    {
     "name": "stdout",
     "output_type": "stream",
     "text": [
      "input val: 3\n",
      "val is smaller than 5\n"
     ]
    }
   ],
   "source": [
    "val = int(input('input val: '))\n",
    "\n",
    "if val > 5:\n",
    "    print('val is bigger than 5')\n",
    "else:\n",
    "    print('val is smaller than 5')"
   ]
  },
  {
   "cell_type": "code",
   "execution_count": 6,
   "id": "30f369e6",
   "metadata": {},
   "outputs": [
    {
     "name": "stdout",
     "output_type": "stream",
     "text": [
      "input money: 40\n",
      "false\n"
     ]
    }
   ],
   "source": [
    "money = int(input('input money: '))\n",
    "\n",
    "if money > 100:\n",
    "    whole_lotta_money = 'true'\n",
    "else:\n",
    "    whole_lotta_money = 'false'\n",
    "    \n",
    "print(whole_lotta_money)"
   ]
  },
  {
   "cell_type": "code",
   "execution_count": 10,
   "id": "b8fd7cd7",
   "metadata": {},
   "outputs": [
    {
     "name": "stdout",
     "output_type": "stream",
     "text": [
      "input Score: 91\n",
      "A\n"
     ]
    }
   ],
   "source": [
    "score = int(input('input Score: '))\n",
    "\n",
    "if 90 <= score <= 100:\n",
    "    grade = 'A'\n",
    "elif 80 <= score < 90:\n",
    "    grade = 'B'\n",
    "elif 70 <= score < 80:\n",
    "    grade = 'c'\n",
    "elif 60 <= score < 70:\n",
    "    grade = 'D'\n",
    "else:\n",
    "    grade = 'F'\n",
    "    \n",
    "print(grade)"
   ]
  },
  {
   "cell_type": "code",
   "execution_count": 11,
   "id": "a9b0a9e9",
   "metadata": {},
   "outputs": [
    {
     "name": "stdout",
     "output_type": "stream",
     "text": [
      "input Math Score: 60\n",
      "input Eng Score: 54\n",
      "input His Score: 71\n",
      "totalAv:  61.666666666666664\n",
      "합격\n"
     ]
    }
   ],
   "source": [
    "math_score = int(input('input Math Score: '))\n",
    "\n",
    "eng_score = int(input('input Eng Score: '))\n",
    "\n",
    "his_score = int(input('input His Score: '))\n",
    "\n",
    "totalAv = (math_score + eng_score + his_score) / 3\n",
    "\n",
    "print('totalAv: ', totalAv)\n",
    "\n",
    "if totalAv < 60:\n",
    "    print('평균 미달 탈락')\n",
    "elif math_score < 50:\n",
    "    print('수학 과락')\n",
    "elif eng_score < 50:\n",
    "    print('영어 과락')\n",
    "elif his_score < 50:\n",
    "    print('역사 과락')\n",
    "else:\n",
    "    print('합격')"
   ]
  },
  {
   "cell_type": "code",
   "execution_count": 17,
   "id": "7cb961ce",
   "metadata": {},
   "outputs": [
    {
     "name": "stdout",
     "output_type": "stream",
     "text": [
      "5\n",
      "4\n",
      "3\n",
      "2\n",
      "1\n"
     ]
    }
   ],
   "source": [
    "val = 5\n",
    "\n",
    "while val > 0:\n",
    "    print(val)\n",
    "    val -= 1"
   ]
  },
  {
   "cell_type": "code",
   "execution_count": 20,
   "id": "ca74791d",
   "metadata": {},
   "outputs": [
    {
     "name": "stdout",
     "output_type": "stream",
     "text": [
      "apple <class 'str'>\n",
      "100 <class 'int'>\n",
      "14.55 <class 'float'>\n"
     ]
    }
   ],
   "source": [
    "tmp_list = ['apple', 100, 14.55]\n",
    "\n",
    "for i in tmp_list:\n",
    "    print(i, type(i))"
   ]
  },
  {
   "cell_type": "code",
   "execution_count": 21,
   "id": "fd0fe7b3",
   "metadata": {},
   "outputs": [
    {
     "name": "stdout",
     "output_type": "stream",
     "text": [
      "item: 1\n",
      "item: 2\n",
      "item: 3\n",
      "item: 4\n",
      "item: 5\n"
     ]
    }
   ],
   "source": [
    "numList = [1, 2, 3, 4, 5, 6 , 7, 8, 9, 10]\n",
    "\n",
    "for i in numList:\n",
    "    if i > 5:\n",
    "        break\n",
    "    print(\"item: {0}\".format(i)) # {0}에 format(i)의 값이 들어간다!\n",
    "        "
   ]
  },
  {
   "cell_type": "code",
   "execution_count": 22,
   "id": "eaaf8933",
   "metadata": {},
   "outputs": [
    {
     "name": "stdout",
     "output_type": "stream",
     "text": [
      "Odd Number: 1\n",
      "Odd Number: 3\n",
      "Odd Number: 5\n",
      "Odd Number: 7\n",
      "Odd Number: 9\n"
     ]
    }
   ],
   "source": [
    "for i in numList:\n",
    "    if i % 2 == 0:\n",
    "        continue\n",
    "    print(\"Odd Number: {0}\".format(i))"
   ]
  },
  {
   "cell_type": "code",
   "execution_count": 25,
   "id": "ad2455f4",
   "metadata": {},
   "outputs": [
    {
     "name": "stdout",
     "output_type": "stream",
     "text": [
      "range(0, 10)\n",
      "[0, 1, 2, 3, 4, 5, 6, 7, 8, 9]\n",
      "[0, 1, 2, 3, 4, 5, 6, 7, 8, 9]\n"
     ]
    }
   ],
   "source": [
    "range_num = range(10)\n",
    "\n",
    "print(range_num)\n",
    "\n",
    "range_list = list(range_num) #list가 앞에 붙으면 사이에 모든 요소가 같이 출력된다.\n",
    "\n",
    "print(range_list)\n",
    "\n",
    "print(list(range(10)))"
   ]
  },
  {
   "cell_type": "code",
   "execution_count": 26,
   "id": "df1ada4f",
   "metadata": {},
   "outputs": [
    {
     "name": "stdout",
     "output_type": "stream",
     "text": [
      "[4, 5, 6, 7, 8, 9, 10, 11, 12, 13]\n"
     ]
    }
   ],
   "source": [
    "print(list(range(4, 14)))"
   ]
  },
  {
   "cell_type": "code",
   "execution_count": 27,
   "id": "be323644",
   "metadata": {},
   "outputs": [
    {
     "name": "stdout",
     "output_type": "stream",
     "text": [
      "[10, 15, 20, 25]\n"
     ]
    }
   ],
   "source": [
    "print(list(range(10, 30, 5))) #세번째 숫자는 간격"
   ]
  },
  {
   "cell_type": "code",
   "execution_count": 28,
   "id": "729a3647",
   "metadata": {},
   "outputs": [
    {
     "name": "stdout",
     "output_type": "stream",
     "text": [
      "[30, 27, 24, 21, 18, 15, 12]\n"
     ]
    }
   ],
   "source": [
    "print(list(range(30, 10, -3)))"
   ]
  },
  {
   "cell_type": "code",
   "execution_count": 29,
   "id": "e29ada05",
   "metadata": {},
   "outputs": [
    {
     "name": "stdout",
     "output_type": "stream",
     "text": [
      "tmpList: [3, 4, 5, 6, 7, 8, 9]\n"
     ]
    }
   ],
   "source": [
    "tmpList = list(range(3, 10))\n",
    "print('tmpList:', tmpList)"
   ]
  },
  {
   "cell_type": "code",
   "execution_count": 35,
   "id": "e6fde74d",
   "metadata": {},
   "outputs": [
    {
     "name": "stdout",
     "output_type": "stream",
     "text": [
      "idx: 0, str: water\n",
      "idx: 1, str: fire\n",
      "idx: 2, str: air\n",
      "idx: 3, str: earth\n"
     ]
    }
   ],
   "source": [
    "strList = ['water', 'fire', 'air', 'earth']\n",
    "\n",
    "for i in range(len(strList)):\n",
    "    print(\"idx: {0}, str: {1}\".format(i, strList[i]))"
   ]
  },
  {
   "cell_type": "code",
   "execution_count": 38,
   "id": "81531691",
   "metadata": {},
   "outputs": [
    {
     "name": "stdout",
     "output_type": "stream",
     "text": [
      "(0, 'GGG')\n",
      "(1, 100)\n",
      "(2, 34.5)\n"
     ]
    }
   ],
   "source": [
    "varList = ['GGG', 100, 34.5]\n",
    "\n",
    "for i in enumerate(varList): #enumerate --> '열거하다'라는 뜻\n",
    "    print(i)"
   ]
  },
  {
   "cell_type": "code",
   "execution_count": 43,
   "id": "8fde609d",
   "metadata": {},
   "outputs": [
    {
     "name": "stdout",
     "output_type": "stream",
     "text": [
      "[4.5, -1.5, 12, 6.0, -2.0, 16, 7.5, -2.5, 20] , and the type of resList is:  <class 'list'>\n"
     ]
    }
   ],
   "source": [
    "numList1 = [3, 4, 5]\n",
    "numList2 = [1.5, -0.5, 4]\n",
    "\n",
    "resList = [x * y for x in numList1 for y in numList2] #2중 for문과 같다!\n",
    "\n",
    "print(resList, ', and the type of resList is: ', type(resList))"
   ]
  }
 ],
 "metadata": {
  "kernelspec": {
   "display_name": "Python 3",
   "language": "python",
   "name": "python3"
  },
  "language_info": {
   "codemirror_mode": {
    "name": "ipython",
    "version": 3
   },
   "file_extension": ".py",
   "mimetype": "text/x-python",
   "name": "python",
   "nbconvert_exporter": "python",
   "pygments_lexer": "ipython3",
   "version": "3.8.8"
  }
 },
 "nbformat": 4,
 "nbformat_minor": 5
}
