{
 "cells": [
  {
   "cell_type": "code",
   "execution_count": 1,
   "id": "cd9fb5ff",
   "metadata": {},
   "outputs": [
    {
     "name": "stdout",
     "output_type": "stream",
     "text": [
      "Hello Python\n"
     ]
    }
   ],
   "source": [
    "print(\"Hello Python\")"
   ]
  },
  {
   "cell_type": "code",
   "execution_count": 2,
   "id": "92b0c0ee",
   "metadata": {},
   "outputs": [
    {
     "name": "stdout",
     "output_type": "stream",
     "text": [
      "1 11\n"
     ]
    }
   ],
   "source": [
    "num = 1\n",
    "Num = 11\n",
    "print(num, Num)"
   ]
  },
  {
   "cell_type": "code",
   "execution_count": 5,
   "id": "debe468e",
   "metadata": {},
   "outputs": [
    {
     "name": "stdout",
     "output_type": "stream",
     "text": [
      "2 8 16\n"
     ]
    }
   ],
   "source": [
    "binary = 0b10\n",
    "octal = 0o10\n",
    "hexa = 0x10\n",
    "print(binary, octal, hexa)"
   ]
  },
  {
   "cell_type": "code",
   "execution_count": 7,
   "id": "6db9e0e3",
   "metadata": {},
   "outputs": [
    {
     "name": "stdout",
     "output_type": "stream",
     "text": [
      "0b100110 0o46 0x26\n"
     ]
    }
   ],
   "source": [
    "binary = bin(38)\n",
    "octal = oct(38)\n",
    "hexa = hex(38)\n",
    "print(binary, octal, hexa)"
   ]
  },
  {
   "cell_type": "code",
   "execution_count": 8,
   "id": "deaef088",
   "metadata": {},
   "outputs": [
    {
     "name": "stdout",
     "output_type": "stream",
     "text": [
      "<class 'complex'>\n",
      "-4.0\n",
      "3.0\n",
      "(3+4j)\n"
     ]
    }
   ],
   "source": [
    "z = 3 - 4j\n",
    "\n",
    "print(type(z))\n",
    "print(z.imag)\n",
    "print(z.real)\n",
    "print(z.conjugate())"
   ]
  },
  {
   "cell_type": "code",
   "execution_count": 9,
   "id": "05b6ca8a",
   "metadata": {},
   "outputs": [
    {
     "name": "stdout",
     "output_type": "stream",
     "text": [
      "1.2e+30\n",
      "1.57e-20\n",
      "1024\n",
      "<class 'float'>\n",
      "<class 'float'>\n",
      "<class 'int'>\n"
     ]
    }
   ],
   "source": [
    "big = 1.2e30\n",
    "small = 1.57e-20\n",
    "test = 2**10\n",
    "\n",
    "print(big)\n",
    "print(small)\n",
    "print(test)\n",
    "\n",
    "print(type(big))\n",
    "print(type(small))\n",
    "print(type(test))"
   ]
  },
  {
   "cell_type": "code",
   "execution_count": 13,
   "id": "096c28b9",
   "metadata": {},
   "outputs": [
    {
     "name": "stdout",
     "output_type": "stream",
     "text": [
      "0 0.42857142857142855\n",
      "333 333.3\n"
     ]
    }
   ],
   "source": [
    "# //는 몫만 구하는 나누기연산 /는 우리가아는 나누기 연산 소수점 포함\n",
    "num1 = 3 // 7\n",
    "num2 = 3333 // 10\n",
    "num3 = 3 / 7\n",
    "num4 = 3333 / 10\n",
    "\n",
    "print(num1, num3)\n",
    "print(num2, num4)"
   ]
  },
  {
   "cell_type": "code",
   "execution_count": null,
   "id": "e9104385",
   "metadata": {},
   "outputs": [],
   "source": []
  }
 ],
 "metadata": {
  "kernelspec": {
   "display_name": "Python 3",
   "language": "python",
   "name": "python3"
  },
  "language_info": {
   "codemirror_mode": {
    "name": "ipython",
    "version": 3
   },
   "file_extension": ".py",
   "mimetype": "text/x-python",
   "name": "python",
   "nbconvert_exporter": "python",
   "pygments_lexer": "ipython3",
   "version": "3.8.8"
  }
 },
 "nbformat": 4,
 "nbformat_minor": 5
}
