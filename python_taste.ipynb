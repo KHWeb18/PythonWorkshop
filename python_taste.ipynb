{
 "cells": [
  {
   "cell_type": "code",
   "execution_count": 1,
   "id": "0cd5ad1f",
   "metadata": {},
   "outputs": [],
   "source": [
    "import requests"
   ]
  },
  {
   "cell_type": "code",
   "execution_count": 13,
   "id": "90eedef0",
   "metadata": {},
   "outputs": [],
   "source": [
    "url = \"https://townsquare.media/site/366/files/2019/07/GettyImages-85233636.jpg\""
   ]
  },
  {
   "cell_type": "code",
   "execution_count": 14,
   "id": "5e13eb23",
   "metadata": {},
   "outputs": [],
   "source": [
    "img_response = requests.get(url)"
   ]
  },
  {
   "cell_type": "code",
   "execution_count": 15,
   "id": "84045692",
   "metadata": {},
   "outputs": [
    {
     "name": "stdout",
     "output_type": "stream",
     "text": [
      "요청 성공!\n"
     ]
    }
   ],
   "source": [
    "if img_response.status_code == 200:\n",
    "    print(\"요청 성공!\")\n",
    "    with open(\"request_success.jpg\", \"wb\") as fp:\n",
    "        fp.write(img_response.content)"
   ]
  },
  {
   "cell_type": "code",
   "execution_count": 12,
   "id": "954b74dc",
   "metadata": {},
   "outputs": [
    {
     "name": "stdout",
     "output_type": "stream",
     "text": [
      " C 드라이브의 볼륨에는 이름이 없습니다.\n",
      " 볼륨 일련 번호: 06BB-D4B4\n",
      "\n",
      " C:\\Users\\jdy87\\python_works\\PythonWorkshop 디렉터리\n",
      "\n",
      "2021-09-17  오후 07:10    <DIR>          .\n",
      "2021-09-17  오후 07:10    <DIR>          ..\n",
      "2021-09-17  오후 06:42             1,928 .gitignore\n",
      "2021-09-17  오후 06:44    <DIR>          .ipynb_checkpoints\n",
      "2021-09-17  오후 07:09             2,920 python_taste.ipynb\n",
      "2021-09-17  오후 06:42                51 README.md\n",
      "2021-09-17  오후 07:10             9,841 request_success.jpg\n",
      "               4개 파일              14,740 바이트\n",
      "               3개 디렉터리  35,722,551,296 바이트 남음\n"
     ]
    }
   ],
   "source": [
    "!dir"
   ]
  },
  {
   "cell_type": "code",
   "execution_count": null,
   "id": "7c002f72",
   "metadata": {},
   "outputs": [],
   "source": []
  },
  {
   "cell_type": "code",
   "execution_count": null,
   "id": "192b0f53",
   "metadata": {},
   "outputs": [],
   "source": []
  },
  {
   "cell_type": "code",
   "execution_count": 133,
   "id": "d3237e24",
   "metadata": {},
   "outputs": [],
   "source": [
    "import requests\n",
    "import json"
   ]
  },
  {
   "cell_type": "code",
   "execution_count": 134,
   "id": "d461fd78",
   "metadata": {},
   "outputs": [],
   "source": [
    "url = \"https://dapi.kakao.com/v2/search/image\""
   ]
  },
  {
   "cell_type": "code",
   "execution_count": 135,
   "id": "435f7f35",
   "metadata": {},
   "outputs": [],
   "source": [
    "headers = {\n",
    "    \"Authorization\": \"KakaoAK c21c9526cec2f11dd722efa2d4a26562\"\n",
    "}"
   ]
  },
  {
   "cell_type": "code",
   "execution_count": 136,
   "id": "1672db94",
   "metadata": {},
   "outputs": [],
   "source": [
    "data = {\n",
    "    \"query\" : \"\"\n",
    "}"
   ]
  },
  {
   "cell_type": "code",
   "execution_count": 137,
   "id": "316d6120",
   "metadata": {},
   "outputs": [],
   "source": [
    "response = requests.post(url, headers=headers, data=data)"
   ]
  },
  {
   "cell_type": "code",
   "execution_count": 138,
   "id": "de65d1ea",
   "metadata": {},
   "outputs": [
    {
     "name": "stdout",
     "output_type": "stream",
     "text": [
      "200\n"
     ]
    }
   ],
   "source": [
    "print(response.status_code)"
   ]
  },
  {
   "cell_type": "code",
   "execution_count": 139,
   "id": "61442a42",
   "metadata": {},
   "outputs": [],
   "source": [
    "# 검색해온 모든 이미지를 저장한다.\n",
    "def save_image(image_url, file_name):\n",
    "    img_response = requests.get(image_url)\n",
    "    \n",
    "    # 요청 성공!\n",
    "    if img_response.status_code == 200:\n",
    "        # 저장\n",
    "        with open(file_name, \"wb\") as fp:\n",
    "            fp.write(img_response.content)"
   ]
  },
  {
   "cell_type": "code",
   "execution_count": 140,
   "id": "e13f7215",
   "metadata": {},
   "outputs": [
    {
     "name": "stdout",
     "output_type": "stream",
     "text": [
      "[0th] image_url =  https://t1.daumcdn.net/news/202109/17/THEFACT/20210917084514917qgyv.jpg\n",
      "[1th] image_url =  https://t1.daumcdn.net/news/202109/17/spotvnews/20210917194606353fwqa.jpg\n",
      "[2th] image_url =  https://t1.daumcdn.net/news/202109/17/xportsnews/20210917190124615qrge.jpg\n",
      "[3th] image_url =  https://t1.daumcdn.net/news/202109/17/interfootball/20210917190009613pxra.jpg\n",
      "[4th] image_url =  https://t1.daumcdn.net/news/202109/17/xportsnews/20210917190125919bfnj.jpg\n",
      "[5th] image_url =  https://t1.daumcdn.net/news/202109/17/interfootball/20210917190010864djpp.jpg\n",
      "[6th] image_url =  https://t1.daumcdn.net/news/202109/17/interfootball/20210917190007114eiuk.jpg\n",
      "[7th] image_url =  https://t1.daumcdn.net/news/202109/17/sportalkr/20210917183101692rexw.jpg\n",
      "[8th] image_url =  https://t1.daumcdn.net/news/202109/17/STNSPORTS/20210917173802325ppuv.png\n",
      "[9th] image_url =  https://t1.daumcdn.net/news/202109/12/maniareport/20210912001633705fwjt.jpg\n",
      "[10th] image_url =  https://t1.daumcdn.net/news/202109/11/SpoHankook/20210911194246019ivcz.jpg\n",
      "[11th] image_url =  https://t1.daumcdn.net/news/202109/17/sportstoday/20210917153711357qxav.jpg\n",
      "[12th] image_url =  https://t1.daumcdn.net/news/202109/11/ilgansports/20210911233136181vpyv.jpg\n",
      "[13th] image_url =  https://t1.daumcdn.net/news/202109/12/SPORTSSEOUL/20210912084819859vhip.jpg\n",
      "[14th] image_url =  https://t1.daumcdn.net/news/202109/12/kukminilbo/20210912055454925ocaz.jpg\n",
      "[15th] image_url =  https://t1.daumcdn.net/news/202109/12/SpoChosun/20210912062706462tfwj.jpg\n",
      "[16th] image_url =  https://t1.daumcdn.net/news/202109/11/goalcom/20210911223530651wcvr.jpg\n",
      "[17th] image_url =  https://t1.daumcdn.net/news/202109/11/goalcom/20210911223532022swuz.jpg\n",
      "[18th] image_url =  https://t1.daumcdn.net/news/202109/11/goalcom/20210911222236895vpyi.jpg\n",
      "[19th] image_url =  https://t1.daumcdn.net/news/202109/17/Edaily/20210917135447252agqj.jpg\n",
      "[20th] image_url =  https://t1.daumcdn.net/news/202109/01/poctan/20210901110630277lykf.jpg\n",
      "[21th] image_url =  https://t1.daumcdn.net/news/202109/11/sbsi/20210911095103886lukc.jpg\n",
      "[22th] image_url =  https://img.insight.co.kr/static/2021/09/11/300/img_20210911093145_yu3kx52x.jpg\n",
      "[23th] image_url =  http://www.kbsm.net/data/newsThumb/1631856210ADD_thumb580.jpg\n",
      "[24th] image_url =  http://postfiles8.naver.net/MjAyMDEwMTJfMTA5/MDAxNjAyNTA2OTkxNDAx.krBZiudVAwY4IlXyvCTHwCNP0ytGt_Rwr-KUEqsI30Ig.A3nx6srsx6cNLOW-7s_5L9J-gmDCzZqhzhRudr-D1Z4g.JPEG.jss8178/%ED%86%A0%ED%8A%B8%EB%84%98.jpg?type=w773\n",
      "[25th] image_url =  http://www.viva100.com/mnt/images/file/2018y/12m/12d/20181212000159101_1.jpg\n",
      "[26th] image_url =  https://t1.daumcdn.net/news/202109/09/moneyweek/20210909065304851mezy.jpg\n",
      "[27th] image_url =  https://t1.daumcdn.net/news/202108/31/segye/20210831170210167nfry.jpg\n",
      "[28th] image_url =  https://t1.daumcdn.net/news/202109/09/sportskhan/20210909063030760njsc.jpg\n",
      "[29th] image_url =  https://t1.daumcdn.net/news/202109/07/joongang/20210907150550985gbym.jpg\n",
      "[30th] image_url =  https://t1.daumcdn.net/news/202109/08/footballist/20210908111007807zmdy.jpg\n",
      "[31th] image_url =  http://postfiles7.naver.net/MjAxOTA5MTdfMzMg/MDAxNTY4NzIwMjExNjA1.qG5cw1BAatGTsIWEkCeDVXQ_vqerwyIu-QZ7iW7YtvUg.9lZmg0ELKk_yFka84tFjPKZDuzPDAFjU7Ap2AX4-jKwg.JPEG.hgh248657/%ED%86%A0%ED%8A%B8%EB%84%98.jpg?type=w966\n",
      "[32th] image_url =  https://t1.daumcdn.net/news/202109/08/startoday/20210908220002672rkno.jpg\n",
      "[33th] image_url =  https://t1.daumcdn.net/news/202108/09/HockeyNewsKorea/20210809150012568tmir.jpg\n",
      "[34th] image_url =  https://t1.daumcdn.net/news/202109/03/newsis/20210903120542399gxmr.jpg\n",
      "[35th] image_url =  http://www.viva100.com/mnt/images/file/2019y/05m/01d/20190501000212495_1.jpg\n",
      "[36th] image_url =  http://t1.daumcdn.net/cfile/tistory/996D294F5CF2C83D0B\n",
      "[37th] image_url =  http://postfiles13.naver.net/MjAyMDA5MjhfMTE5/MDAxNjAxMjc3NDU3NjM3.w51aDZMRWHWYCZmdsNvxb6RAFUfn3Iu55C2IAnCrt4Ug.ZmVce_Urv0-tDqbTBJImpa0oVsrJI5zf4xQNax4mXyog.JPEG.hsjhsjp/%ED%86%A0%ED%8A%B8%EB%84%98.jpg?type=w773\n",
      "[38th] image_url =  https://k.kakaocdn.net/dn/Dsvod/btqDlOPSbim/xbQpZ8MaRXazLK1JeYBqB0/img.jpg\n",
      "[39th] image_url =  http://t1.daumcdn.net/cfile/tistory/99E0C4405B9CE87007\n",
      "[40th] image_url =  http://www.viva100.com/mnt/images/file/2019y/02m/11d/20190211000057194_1.jpg\n",
      "[41th] image_url =  https://t1.daumcdn.net/news/202108/13/kukinews/20210813150516163eygz.jpg\n",
      "[42th] image_url =  https://k.kakaocdn.net/dn/yT9LM/btqPnay9Ugs/YcwUp2uZGukZfOskYb3TS0/img.jpg\n",
      "[43th] image_url =  https://t1.daumcdn.net/news/202109/11/dailian/20210911105721865hmiz.jpg\n",
      "[44th] image_url =  https://k.kakaocdn.net/dn/bO4DNb/btra09gtPDx/KsRHkyF1KJO6xNLeWBEqZ0/img.jpg\n",
      "[45th] image_url =  http://t1.daumcdn.net/cfile/tistory/995ABB33599E938A0F\n",
      "[46th] image_url =  https://k.kakaocdn.net/dn/bzRhWl/btqPsDAMuVX/7lBXQFuGamQgFpat6MHia0/img.jpg\n",
      "[47th] image_url =  https://t1.daumcdn.net/news/202108/27/nocut/20210827054803097ubxe.jpg\n",
      "[48th] image_url =  https://k.kakaocdn.net/dn/bLof0m/btqPgHxI6TJ/JsXtcvJOoIM4BdkdN7TGik/img.jpg\n",
      "[49th] image_url =  https://k.kakaocdn.net/dn/Y4LQn/btrcIVr3LOR/Br4DWDF393UAEFGxUrDsa1/img.jpg\n",
      "[50th] image_url =  http://t1.daumcdn.net/cfile/tistory/997B224E5BAF7A2423\n",
      "[51th] image_url =  http://t1.daumcdn.net/cfile/tistory/992C80495D653AB422\n",
      "[52th] image_url =  http://postfiles16.naver.net/MjAyMDA5MjBfMTUg/MDAxNjAwNTk3MzUzOTM4.F4Hrg8vH5wngLtbT4gWSmeLzw_3fOUmJ4h4rAtUMec0g.6IIwTWP9yQiHurv9i7-MU4plllqy4KcshmmSOcynN4sg.JPEG.minecraft0519/%ED%86%A0%ED%8A%B8%EB%84%98%EB%9D%BC%EC%9D%B8%EC%97%85.jpg?type=w773\n",
      "[53th] image_url =  http://postfiles5.naver.net/MjAxOTEwMjZfNDUg/MDAxNTcyMDUwODg0NDM4.s-cipNoSBPCAiA6J-cKZKzLqk0VVk0pimrqfwmaheN4g.3alzACUnatrELYSzZW1d9NfWtZH03NTk0bgwY1HEgMQg.JPEG.ssled/%ED%86%A0%ED%8A%B8%EB%84%98.jpg?type=w773\n",
      "[54th] image_url =  http://t1.daumcdn.net/cfile/tistory/995AD33359B9712A07\n",
      "[55th] image_url =  http://postfiles9.naver.net/MjAyMDEwMDRfMTMy/MDAxNjAxODEzODM5NDYw.SXjW95GUPxleoQ5Ca9ECq3bCZnIPU-Ja01yJ3FAF5R0g.D0hMX--kakoP8ie3mhqFXBOMEz_Lzi3wr2JOulttsk0g.JPEG.jss8178/%ED%86%A0%ED%8A%B8%EB%84%98.jpg?type=w773\n",
      "[56th] image_url =  http://t1.daumcdn.net/cfile/tistory/99BF65465D8C65E72C\n",
      "[57th] image_url =  http://t1.daumcdn.net/cfile/tistory/9926EE375AC0F08427\n",
      "[58th] image_url =  https://t1.daumcdn.net/news/202109/03/mydaily/20210903013944028kkcw.jpg\n",
      "[59th] image_url =  http://postfiles7.naver.net/MjAyMDA4MjlfMjUg/MDAxNTk4NzA3MjY5NTQ1.AojqCDDyEYc_xT_zcYlzcFHM4cq-vRZu-p01tU_AxKMg.EMS4KVd4xPd2mVLNym3jDkrp1CrMP_N4MHpOiO0jspog.JPEG.minecraft0519/%ED%86%A0%ED%8A%B8%EB%84%98_%EB%B2%84%EB%B0%8D%EC%97%84.jpg?type=w773\n",
      "[60th] image_url =  https://t1.daumcdn.net/news/202106/08/YTN/20210608104513472isah.png\n",
      "[61th] image_url =  http://postfiles10.naver.net/MjAyMDEyMTdfMjYg/MDAxNjA4MTQ3MjM0Nzgz.EsvSxSHvx1D9TIbut52j8Ovjmt-9MP4l2DErK3e7GaUg.-Y5zr4BXknkd4i2R2X4kSnXu0S9N4BgiPLxyzXs0RD0g.PNG.sugbean7/%ED%86%A0%ED%8A%B8%EB%84%98.png?type=w966\n",
      "[62th] image_url =  https://k.kakaocdn.net/dn/bzgNhw/btra4W8XmbE/sK1RZc6WbW7tdurj4iWdXk/img.jpg\n",
      "[63th] image_url =  https://t1.daumcdn.net/news/202012/31/khan/20201231020507511xmpr.jpg\n",
      "[64th] image_url =  http://t1.daumcdn.net/cfile/tistory/99B6A83F5E36E5D119\n",
      "[65th] image_url =  https://t1.daumcdn.net/news/202107/01/chosun/20210701140019003pbyc.jpg\n",
      "[66th] image_url =  http://t1.daumcdn.net/cfile/tistory/995939405D8C66091F\n",
      "[67th] image_url =  https://k.kakaocdn.net/dn/yJ01w/btqOdN6XwW6/KxwggCbMwknVbrlS90X6j1/img.jpg\n",
      "[68th] image_url =  https://k.kakaocdn.net/dn/KJIiN/btreJaitrUp/wJPNllCzskrNNj3buPzKE1/img.jpg\n",
      "[69th] image_url =  http://www.youthdaily.co.kr/data/photos/20210835/art_16302830181815_b3dff6.jpg\n",
      "[70th] image_url =  http://postfiles6.naver.net/20130515_245/ant2438_1368627313581nrP0j_JPEG/%C5%E4%C6%AE%B3%D1.jpg?type=w1\n",
      "[71th] image_url =  http://t1.daumcdn.net/cfile/tistory/99838D375F3CD4AE1B\n",
      "[72th] image_url =  http://postfiles13.naver.net/MjAxOTA4MDFfMTMz/MDAxNTY0NjI1MjA5NzMz.dqHZWYr87jjfJ4ZSgKDQceVLGshU-Jk6x-Ng6WiJ77Yg.qsXIDWecmF197Qc3LFj1wtvBEbJCd9Cw8uMqJz0mUlgg.JPEG.leesh7513/%ED%86%A0%ED%8A%B8%EB%84%98.jpg?type=w580\n",
      "[73th] image_url =  http://www.viva100.com/mnt/images/file/2017y/10m/26d/20171026000610532_1.jpg\n",
      "[74th] image_url =  https://t1.daumcdn.net/news/202108/26/inews24/20210826122417830kiim.jpg\n",
      "[75th] image_url =  http://t1.daumcdn.net/cfile/tistory/9994FB475E50E6AE08\n",
      "[76th] image_url =  http://t1.daumcdn.net/cfile/tistory/9964FF3A5C522CE71D\n"
     ]
    },
    {
     "name": "stdout",
     "output_type": "stream",
     "text": [
      "[77th] image_url =  https://t1.daumcdn.net/news/202108/30/hankooki/20210830080540551jjhg.jpg\n",
      "[78th] image_url =  http://postfiles14.naver.net/MjAxOTA1MDlfMzAg/MDAxNTU3MzU2NzU5OTEz.gSvoHGD-LW0h5MC-D94ir_kSGG4WOBB_TFDZDC8Y5FAg.ewPjE_zqj7hqxjyxXTW1Qa4fB7Lj-TxBtYY7O5T1RK0g.JPEG.mexicofency/%ED%86%A0%ED%8A%B8%EB%84%98.jpg?type=w966\n",
      "[79th] image_url =  http://t1.daumcdn.net/cfile/tistory/99AA343B5D4F4C7316\n"
     ]
    }
   ],
   "source": [
    "if response.status_code != 200:\n",
    "    print(\"error 발생!\")\n",
    "else:\n",
    "    count = 0\n",
    "    for image_info in response.json()['documents']:\n",
    "        print(f\"[{count}th] image_url = \", image_info['image_url'])\n",
    "        \n",
    "        # 저장될 이미지 파일명\n",
    "        count = count + 1\n",
    "        file_name = \"test_%d.jpg\" %(count)\n",
    "        \n",
    "        # 이미지 저장\n",
    "        save_image(image_info['image_url'], file_name)"
   ]
  },
  {
   "cell_type": "code",
   "execution_count": null,
   "id": "014abce7",
   "metadata": {},
   "outputs": [],
   "source": []
  },
  {
   "cell_type": "code",
   "execution_count": null,
   "id": "63861192",
   "metadata": {},
   "outputs": [],
   "source": []
  },
  {
   "cell_type": "code",
   "execution_count": null,
   "id": "5331459e",
   "metadata": {},
   "outputs": [],
   "source": []
  }
 ],
 "metadata": {
  "kernelspec": {
   "display_name": "Python 3",
   "language": "python",
   "name": "python3"
  },
  "language_info": {
   "codemirror_mode": {
    "name": "ipython",
    "version": 3
   },
   "file_extension": ".py",
   "mimetype": "text/x-python",
   "name": "python",
   "nbconvert_exporter": "python",
   "pygments_lexer": "ipython3",
   "version": "3.8.8"
  }
 },
 "nbformat": 4,
 "nbformat_minor": 5
}
