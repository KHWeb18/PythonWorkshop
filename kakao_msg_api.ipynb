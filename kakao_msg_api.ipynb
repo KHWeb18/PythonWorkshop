{
 "cells": [
  {
   "cell_type": "code",
   "execution_count": 1,
   "id": "293b8cc4",
   "metadata": {},
   "outputs": [
    {
     "name": "stdout",
     "output_type": "stream",
     "text": [
      " * Serving Flask app \"__main__\" (lazy loading)\n",
      " * Environment: production\n",
      "   WARNING: This is a development server. Do not use it in a production deployment.\n",
      "   Use a production WSGI server instead.\n",
      " * Debug mode: off\n"
     ]
    },
    {
     "name": "stderr",
     "output_type": "stream",
     "text": [
      " * Running on http://127.0.0.1:5000/ (Press CTRL+C to quit)\n",
      "127.0.0.1 - - [29/Sep/2021 15:42:29] \"\u001b[37mGET / HTTP/1.1\u001b[0m\" 200 -\n",
      "127.0.0.1 - - [29/Sep/2021 15:42:29] \"\u001b[33mGET /favicon.ico HTTP/1.1\u001b[0m\" 404 -\n"
     ]
    }
   ],
   "source": [
    "from flask import Flask\n",
    "app = Flask(__name__)\n",
    "\n",
    "# Spring Controller와 동일한 역할 수행\n",
    "@app.route(\"/\")\n",
    "def hello():\n",
    "    return \"<h1>Hello Python</h1>\"\n",
    "\n",
    "if __name__ == \"__main__\":\n",
    "    app.run()"
   ]
  },
  {
   "cell_type": "code",
   "execution_count": 2,
   "id": "f9961af4",
   "metadata": {},
   "outputs": [],
   "source": [
    "# 1) https://developers.kakao.com/ 로그인\n",
    "# 2) 내 애플리케이션 -> 이전에 만들었던 사항 클릭\n",
    "# 3) 동의항목: 닉네임 - 필수, 카카오계정 - 선택, 카톡 메시지 - 선택\n",
    "# 4) 카카오 로그인 - 활성화 설정 ON\n",
    "# 5) Redirect URI에 https://localhost.com 설정\n",
    "# 6) 플랫폼 - Web 도메인으로 https://www.naver.com과 https://localhost.com 설정\n",
    "# 7) Kakao API 문서 위치 - https://developers.kakao.com/docs/latest/ko/kakaologin/rest-api\n",
    "# 8) 주어진 정보 확인\n",
    "#    GET /oauth/authorize?client_id={REST_API_KEY}&redirect_uri={REDIRECT_URI}&response_type=code HTTP/1.1\n",
    "#    Host: kauth.kakao.com\n",
    "#    요약 정보에 있는 REST API 키가 REST_API_KEY 위치에 배치되면 됨\n",
    "#    REDIRECT_URI의 경우 앞서 등록했던 https://localhost.com\n",
    "# 9) 해당 URL로 요청을 하면 Kakao API를 활용할 수 있는 토큰을 발급받을 수 있고\n",
    "#    주어진 시간내에 처리하지 않으면 토큰이 만료되므로 먼저 코드를 작성하도록 한다."
   ]
  },
  {
   "cell_type": "code",
   "execution_count": 6,
   "id": "c4013d45",
   "metadata": {},
   "outputs": [
    {
     "name": "stdout",
     "output_type": "stream",
     "text": [
      "Error!\n"
     ]
    }
   ],
   "source": [
    "import requests\n",
    "\n",
    "url = \"https://kauth.kakao.com/oauth/token\"\n",
    "\n",
    "#data = {\n",
    "#    \"grant_type\" : \"authorization_code\",\n",
    "#    \"client_id\" : \"REST_API_키\",\n",
    "#    \"redirect_uri\" : \"https://localhost.com\",\n",
    "#    \"code\" : \"발급받은 토큰값\"\n",
    "#}\n",
    "\n",
    "data = {\n",
    "    \"grant_type\" : \"authorization_code\",\n",
    "    \"client_id\" : \"\",\n",
    "    \"redirect_uri\" : \"https://localhost.com\",\n",
    "    \"code\" : \"\"\n",
    "}\n",
    "\n",
    "response = requests.post(url, data=data)\n",
    "\n",
    "if response.status_code != 200:\n",
    "    print(\"Error!\")\n",
    "else:\n",
    "    tokens = response.json()\n",
    "    print(tokens)"
   ]
  },
  {
   "cell_type": "code",
   "execution_count": null,
   "id": "3867156b",
   "metadata": {},
   "outputs": [],
   "source": []
  }
 ],
 "metadata": {
  "kernelspec": {
   "display_name": "Python 3",
   "language": "python",
   "name": "python3"
  },
  "language_info": {
   "codemirror_mode": {
    "name": "ipython",
    "version": 3
   },
   "file_extension": ".py",
   "mimetype": "text/x-python",
   "name": "python",
   "nbconvert_exporter": "python",
   "pygments_lexer": "ipython3",
   "version": "3.8.8"
  }
 },
 "nbformat": 4,
 "nbformat_minor": 5
}
