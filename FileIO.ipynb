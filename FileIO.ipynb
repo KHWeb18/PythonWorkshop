{
 "cells": [
  {
   "cell_type": "code",
   "execution_count": 5,
   "id": "4b792c17",
   "metadata": {},
   "outputs": [
    {
     "name": "stdout",
     "output_type": "stream",
     "text": [
      "50\n"
     ]
    }
   ],
   "source": [
    "f = open('test.txt', 'w')\n",
    "print(f.write('Python Basic Programming For Interconnect with Web'))\n",
    "f.close()"
   ]
  },
  {
   "cell_type": "code",
   "execution_count": 6,
   "id": "67120c46",
   "metadata": {},
   "outputs": [
    {
     "name": "stdout",
     "output_type": "stream",
     "text": [
      " C 드라이브의 볼륨에는 이름이 없습니다.\n",
      " 볼륨 일련 번호: E68B-BC99\n",
      "\n",
      " C:\\Users\\user\\python_works\\PythonWorkshop 디렉터리\n",
      "\n",
      "2021-09-24  오후 06:01    <DIR>          .\n",
      "2021-09-24  오후 06:01    <DIR>          ..\n",
      "2021-09-17  오후 05:54             1,928 .gitignore\n",
      "2021-09-24  오후 05:55    <DIR>          .ipynb_checkpoints\n",
      "2021-09-23  오후 08:04            15,673 Array.ipynb\n",
      "2021-09-23  오후 08:03             8,642 ControlStatement.ipynb\n",
      "2021-09-23  오후 08:03             4,111 DataType.ipynb\n",
      "2021-09-24  오후 06:01             3,049 FileIO.ipynb\n",
      "2021-09-24  오후 05:55            16,074 Function(Method).ipynb\n",
      "2021-09-17  오후 07:52            18,494 python_test.ipynb\n",
      "2021-09-17  오후 05:54                51 README.md\n",
      "2021-09-17  오후 07:45            27,952 request_success.jpg\n",
      "2021-09-24  오후 06:02                50 test.txt\n",
      "              10개 파일              96,024 바이트\n",
      "               3개 디렉터리  103,863,398,400 바이트 남음\n"
     ]
    }
   ],
   "source": [
    "!dir"
   ]
  },
  {
   "cell_type": "code",
   "execution_count": 7,
   "id": "9f78b1d5",
   "metadata": {},
   "outputs": [
    {
     "name": "stdout",
     "output_type": "stream",
     "text": [
      "Python Basic Programming For Interconnect with Web\n"
     ]
    }
   ],
   "source": [
    "!type test.txt"
   ]
  },
  {
   "cell_type": "code",
   "execution_count": null,
   "id": "a62749c5",
   "metadata": {},
   "outputs": [],
   "source": [
    "# Unix & Linux\n",
    "# 시스템 프로그래밍 api를 볼 수 있음\n",
    "# Window는 볼 수 없음\n",
    "!man open"
   ]
  },
  {
   "cell_type": "code",
   "execution_count": 9,
   "id": "bc0aa19c",
   "metadata": {},
   "outputs": [
    {
     "name": "stdout",
     "output_type": "stream",
     "text": [
      "Python Basic Programming For Interconnect with Web\n",
      "True\n"
     ]
    }
   ],
   "source": [
    "# Unix의 핵심 철학\n",
    "# 모든것은 파일이다.\n",
    "# 그러다 보니 읽기던 쓰기던 뭘 하던 open()을 먼저하게 되어 있음\n",
    "f = open('test.txt')\n",
    "print(f.read())\n",
    "f.close()\n",
    "print(f.closed)"
   ]
  },
  {
   "cell_type": "code",
   "execution_count": 20,
   "id": "dc755ea1",
   "metadata": {},
   "outputs": [
    {
     "name": "stdout",
     "output_type": "stream",
     "text": [
      "['Python Basic Programming For Interconnect with Web\\n', 'Test\\n', 'Real?\\n', 'Success!!\\n', 'Ok~']\n",
      "False\n",
      "True\n"
     ]
    }
   ],
   "source": [
    "with open('test.txt') as f:\n",
    "    print(f.readlines())\n",
    "    print(f.closed)\n",
    "    \n",
    "print(f.closed)"
   ]
  },
  {
   "cell_type": "code",
   "execution_count": 21,
   "id": "3b27e372",
   "metadata": {},
   "outputs": [
    {
     "name": "stdout",
     "output_type": "stream",
     "text": [
      "['red', 'green', 'blue']\n"
     ]
    }
   ],
   "source": [
    "colors = ['red', 'green', 'blue']\n",
    "print(colors)"
   ]
  },
  {
   "cell_type": "code",
   "execution_count": 22,
   "id": "9bf83ea3",
   "metadata": {},
   "outputs": [
    {
     "name": "stdout",
     "output_type": "stream",
     "text": [
      "True\n"
     ]
    }
   ],
   "source": [
    "# globals()를 활용하는 방법\n",
    "# 실제 객체가 만들어졌는지 안만들어졌는지 등을 아래와 같은 형식으로 체크할 수 있음\n",
    "def chk_colors():\n",
    "    if 'colors' in globals():\n",
    "        print(\"True\")\n",
    "    else:\n",
    "        print(\"False\")\n",
    "        \n",
    "chk_colors()"
   ]
  },
  {
   "cell_type": "code",
   "execution_count": 23,
   "id": "3c03cde5",
   "metadata": {},
   "outputs": [
    {
     "data": {
      "text/plain": [
       "{'__name__': '__main__',\n",
       " '__doc__': 'Automatically created module for IPython interactive environment',\n",
       " '__package__': None,\n",
       " '__loader__': None,\n",
       " '__spec__': None,\n",
       " '__builtin__': <module 'builtins' (built-in)>,\n",
       " '__builtins__': <module 'builtins' (built-in)>,\n",
       " '_ih': ['',\n",
       "  \"f = open('test.txt', 'w')\\nprint(f.write('Python Basic Programing For Interconnect with Web'))\",\n",
       "  \"get_ipython().system('dir')\",\n",
       "  \"f = open('test.txt', 'w')\\nprint(f.write('Python Basic Programing For Interconnect with Web'))\\nf.close()\",\n",
       "  \"get_ipython().system('type test.txt')\",\n",
       "  \"f = open('test.txt', 'w')\\nprint(f.write('Python Basic Programming For Interconnect with Web'))\\nf.close()\",\n",
       "  \"get_ipython().system('dir')\",\n",
       "  \"get_ipython().system('type test.txt')\",\n",
       "  \"f = open('text.txt')\\nprint(f.read())\\nf.close()\\nprint(f.closed)\",\n",
       "  \"f = open('test.txt')\\nprint(f.read())\\nf.close()\\nprint(f.closed)\",\n",
       "  \"with open('test.txt') as f:\\n    print(f.readlines())\\n    print(f.closed)\\n    \\nprint(f.closed)\",\n",
       "  \"with open('test.txt') as f:\\n    print(f.readlines())\\n    print(f.closed)\\n    \\nprint(f.closed)\",\n",
       "  \"color = ['red', 'green', 'blue']\\nprint(colors)\",\n",
       "  \"colors = ['red', 'green', 'blue']\\nprint(colors)\",\n",
       "  'def chk_colors():\\n    if \\'colors\\' in globals():\\n        print(\"True\")\\n    else:\\n        print(\"False\")\\n        \\nchk_colors()',\n",
       "  'globals()',\n",
       "  \"import pickle\\n\\nf = open('colors', 'wb')\\npickle.dump(colors, f)\\nf.close()\\n\\ndel colors\\n\\nchk_colors\",\n",
       "  \"import pickle\\n\\nf = open('colors', 'wb')\\npickle.dump(colors, f)\\nf.close()\\n\\ndel colors\\n\\nchk_colors()\",\n",
       "  'globals()',\n",
       "  \"import pickle\\n\\nf = open('colors', 'wb')\\npickle.dump(colors, f)\\nf.close()\\n\\ndel colors\\n\\nchk_colors()\",\n",
       "  \"with open('test.txt') as f:\\n    print(f.readlines())\\n    print(f.closed)\\n    \\nprint(f.closed)\",\n",
       "  \"colors = ['red', 'green', 'blue']\\nprint(colors)\",\n",
       "  '# globals()를 활용하는 방법\\n# 실제 객체가 만들어졌는지 안만들어졌는지 등을 아래와 같은 형식으로 체크할 수 있음\\ndef chk_colors():\\n    if \\'colors\\' in globals():\\n        print(\"True\")\\n    else:\\n        print(\"False\")\\n        \\nchk_colors()',\n",
       "  'globals()'],\n",
       " '_oh': {15: {...}, 16: <function __main__.chk_colors()>, 18: {...}},\n",
       " '_dh': ['C:\\\\Users\\\\user\\\\python_works\\\\PythonWorkshop'],\n",
       " 'In': ['',\n",
       "  \"f = open('test.txt', 'w')\\nprint(f.write('Python Basic Programing For Interconnect with Web'))\",\n",
       "  \"get_ipython().system('dir')\",\n",
       "  \"f = open('test.txt', 'w')\\nprint(f.write('Python Basic Programing For Interconnect with Web'))\\nf.close()\",\n",
       "  \"get_ipython().system('type test.txt')\",\n",
       "  \"f = open('test.txt', 'w')\\nprint(f.write('Python Basic Programming For Interconnect with Web'))\\nf.close()\",\n",
       "  \"get_ipython().system('dir')\",\n",
       "  \"get_ipython().system('type test.txt')\",\n",
       "  \"f = open('text.txt')\\nprint(f.read())\\nf.close()\\nprint(f.closed)\",\n",
       "  \"f = open('test.txt')\\nprint(f.read())\\nf.close()\\nprint(f.closed)\",\n",
       "  \"with open('test.txt') as f:\\n    print(f.readlines())\\n    print(f.closed)\\n    \\nprint(f.closed)\",\n",
       "  \"with open('test.txt') as f:\\n    print(f.readlines())\\n    print(f.closed)\\n    \\nprint(f.closed)\",\n",
       "  \"color = ['red', 'green', 'blue']\\nprint(colors)\",\n",
       "  \"colors = ['red', 'green', 'blue']\\nprint(colors)\",\n",
       "  'def chk_colors():\\n    if \\'colors\\' in globals():\\n        print(\"True\")\\n    else:\\n        print(\"False\")\\n        \\nchk_colors()',\n",
       "  'globals()',\n",
       "  \"import pickle\\n\\nf = open('colors', 'wb')\\npickle.dump(colors, f)\\nf.close()\\n\\ndel colors\\n\\nchk_colors\",\n",
       "  \"import pickle\\n\\nf = open('colors', 'wb')\\npickle.dump(colors, f)\\nf.close()\\n\\ndel colors\\n\\nchk_colors()\",\n",
       "  'globals()',\n",
       "  \"import pickle\\n\\nf = open('colors', 'wb')\\npickle.dump(colors, f)\\nf.close()\\n\\ndel colors\\n\\nchk_colors()\",\n",
       "  \"with open('test.txt') as f:\\n    print(f.readlines())\\n    print(f.closed)\\n    \\nprint(f.closed)\",\n",
       "  \"colors = ['red', 'green', 'blue']\\nprint(colors)\",\n",
       "  '# globals()를 활용하는 방법\\n# 실제 객체가 만들어졌는지 안만들어졌는지 등을 아래와 같은 형식으로 체크할 수 있음\\ndef chk_colors():\\n    if \\'colors\\' in globals():\\n        print(\"True\")\\n    else:\\n        print(\"False\")\\n        \\nchk_colors()',\n",
       "  'globals()'],\n",
       " 'Out': {15: {...}, 16: <function __main__.chk_colors()>, 18: {...}},\n",
       " 'get_ipython': <bound method InteractiveShell.get_ipython of <ipykernel.zmqshell.ZMQInteractiveShell object at 0x000002CA66A63850>>,\n",
       " 'exit': <IPython.core.autocall.ZMQExitAutocall at 0x2ca66ad3640>,\n",
       " 'quit': <IPython.core.autocall.ZMQExitAutocall at 0x2ca66ad3640>,\n",
       " '_': {...},\n",
       " '__': <function __main__.chk_colors()>,\n",
       " '___': {...},\n",
       " '_i': '# globals()를 활용하는 방법\\n# 실제 객체가 만들어졌는지 안만들어졌는지 등을 아래와 같은 형식으로 체크할 수 있음\\ndef chk_colors():\\n    if \\'colors\\' in globals():\\n        print(\"True\")\\n    else:\\n        print(\"False\")\\n        \\nchk_colors()',\n",
       " '_ii': \"colors = ['red', 'green', 'blue']\\nprint(colors)\",\n",
       " '_iii': \"with open('test.txt') as f:\\n    print(f.readlines())\\n    print(f.closed)\\n    \\nprint(f.closed)\",\n",
       " '_i1': \"f = open('test.txt', 'w')\\nprint(f.write('Python Basic Programing For Interconnect with Web'))\",\n",
       " 'f': <_io.TextIOWrapper name='test.txt' mode='r' encoding='cp949'>,\n",
       " '_i2': '!dir',\n",
       " '_exit_code': 0,\n",
       " '_i3': \"f = open('test.txt', 'w')\\nprint(f.write('Python Basic Programing For Interconnect with Web'))\\nf.close()\",\n",
       " '_i4': '!type test.txt',\n",
       " '_i5': \"f = open('test.txt', 'w')\\nprint(f.write('Python Basic Programming For Interconnect with Web'))\\nf.close()\",\n",
       " '_i6': '!dir',\n",
       " '_i7': '!type test.txt',\n",
       " '_i8': \"f = open('text.txt')\\nprint(f.read())\\nf.close()\\nprint(f.closed)\",\n",
       " '_i9': \"f = open('test.txt')\\nprint(f.read())\\nf.close()\\nprint(f.closed)\",\n",
       " '_i10': \"with open('test.txt') as f:\\n    print(f.readlines())\\n    print(f.closed)\\n    \\nprint(f.closed)\",\n",
       " '_i11': \"with open('test.txt') as f:\\n    print(f.readlines())\\n    print(f.closed)\\n    \\nprint(f.closed)\",\n",
       " '_i12': \"color = ['red', 'green', 'blue']\\nprint(colors)\",\n",
       " 'color': ['red', 'green', 'blue'],\n",
       " '_i13': \"colors = ['red', 'green', 'blue']\\nprint(colors)\",\n",
       " '_i14': 'def chk_colors():\\n    if \\'colors\\' in globals():\\n        print(\"True\")\\n    else:\\n        print(\"False\")\\n        \\nchk_colors()',\n",
       " 'chk_colors': <function __main__.chk_colors()>,\n",
       " '_i15': 'globals()',\n",
       " '_15': {...},\n",
       " '_i16': \"import pickle\\n\\nf = open('colors', 'wb')\\npickle.dump(colors, f)\\nf.close()\\n\\ndel colors\\n\\nchk_colors\",\n",
       " 'pickle': <module 'pickle' from 'C:\\\\ProgramData\\\\anaconda3\\\\lib\\\\pickle.py'>,\n",
       " '_16': <function __main__.chk_colors()>,\n",
       " '_i17': \"import pickle\\n\\nf = open('colors', 'wb')\\npickle.dump(colors, f)\\nf.close()\\n\\ndel colors\\n\\nchk_colors()\",\n",
       " '_i18': 'globals()',\n",
       " '_18': {...},\n",
       " '_i19': \"import pickle\\n\\nf = open('colors', 'wb')\\npickle.dump(colors, f)\\nf.close()\\n\\ndel colors\\n\\nchk_colors()\",\n",
       " '_i20': \"with open('test.txt') as f:\\n    print(f.readlines())\\n    print(f.closed)\\n    \\nprint(f.closed)\",\n",
       " '_i21': \"colors = ['red', 'green', 'blue']\\nprint(colors)\",\n",
       " 'colors': ['red', 'green', 'blue'],\n",
       " '_i22': '# globals()를 활용하는 방법\\n# 실제 객체가 만들어졌는지 안만들어졌는지 등을 아래와 같은 형식으로 체크할 수 있음\\ndef chk_colors():\\n    if \\'colors\\' in globals():\\n        print(\"True\")\\n    else:\\n        print(\"False\")\\n        \\nchk_colors()',\n",
       " '_i23': 'globals()'}"
      ]
     },
     "execution_count": 23,
     "metadata": {},
     "output_type": "execute_result"
    }
   ],
   "source": [
    "globals()"
   ]
  },
  {
   "cell_type": "code",
   "execution_count": 24,
   "id": "0d7d0707",
   "metadata": {},
   "outputs": [
    {
     "name": "stdout",
     "output_type": "stream",
     "text": [
      "False\n"
     ]
    }
   ],
   "source": [
    "import pickle\n",
    "\n",
    "f = open('colors', 'wb')\n",
    "pickle.dump(colors, f)\n",
    "f.close()\n",
    "\n",
    "del colors\n",
    "\n",
    "chk_colors()"
   ]
  },
  {
   "cell_type": "code",
   "execution_count": 25,
   "id": "d044dacf",
   "metadata": {},
   "outputs": [
    {
     "data": {
      "text/plain": [
       "{'__name__': '__main__',\n",
       " '__doc__': 'Automatically created module for IPython interactive environment',\n",
       " '__package__': None,\n",
       " '__loader__': None,\n",
       " '__spec__': None,\n",
       " '__builtin__': <module 'builtins' (built-in)>,\n",
       " '__builtins__': <module 'builtins' (built-in)>,\n",
       " '_ih': ['',\n",
       "  \"f = open('test.txt', 'w')\\nprint(f.write('Python Basic Programing For Interconnect with Web'))\",\n",
       "  \"get_ipython().system('dir')\",\n",
       "  \"f = open('test.txt', 'w')\\nprint(f.write('Python Basic Programing For Interconnect with Web'))\\nf.close()\",\n",
       "  \"get_ipython().system('type test.txt')\",\n",
       "  \"f = open('test.txt', 'w')\\nprint(f.write('Python Basic Programming For Interconnect with Web'))\\nf.close()\",\n",
       "  \"get_ipython().system('dir')\",\n",
       "  \"get_ipython().system('type test.txt')\",\n",
       "  \"f = open('text.txt')\\nprint(f.read())\\nf.close()\\nprint(f.closed)\",\n",
       "  \"f = open('test.txt')\\nprint(f.read())\\nf.close()\\nprint(f.closed)\",\n",
       "  \"with open('test.txt') as f:\\n    print(f.readlines())\\n    print(f.closed)\\n    \\nprint(f.closed)\",\n",
       "  \"with open('test.txt') as f:\\n    print(f.readlines())\\n    print(f.closed)\\n    \\nprint(f.closed)\",\n",
       "  \"color = ['red', 'green', 'blue']\\nprint(colors)\",\n",
       "  \"colors = ['red', 'green', 'blue']\\nprint(colors)\",\n",
       "  'def chk_colors():\\n    if \\'colors\\' in globals():\\n        print(\"True\")\\n    else:\\n        print(\"False\")\\n        \\nchk_colors()',\n",
       "  'globals()',\n",
       "  \"import pickle\\n\\nf = open('colors', 'wb')\\npickle.dump(colors, f)\\nf.close()\\n\\ndel colors\\n\\nchk_colors\",\n",
       "  \"import pickle\\n\\nf = open('colors', 'wb')\\npickle.dump(colors, f)\\nf.close()\\n\\ndel colors\\n\\nchk_colors()\",\n",
       "  'globals()',\n",
       "  \"import pickle\\n\\nf = open('colors', 'wb')\\npickle.dump(colors, f)\\nf.close()\\n\\ndel colors\\n\\nchk_colors()\",\n",
       "  \"with open('test.txt') as f:\\n    print(f.readlines())\\n    print(f.closed)\\n    \\nprint(f.closed)\",\n",
       "  \"colors = ['red', 'green', 'blue']\\nprint(colors)\",\n",
       "  '# globals()를 활용하는 방법\\n# 실제 객체가 만들어졌는지 안만들어졌는지 등을 아래와 같은 형식으로 체크할 수 있음\\ndef chk_colors():\\n    if \\'colors\\' in globals():\\n        print(\"True\")\\n    else:\\n        print(\"False\")\\n        \\nchk_colors()',\n",
       "  'globals()',\n",
       "  \"import pickle\\n\\nf = open('colors', 'wb')\\npickle.dump(colors, f)\\nf.close()\\n\\ndel colors\\n\\nchk_colors()\",\n",
       "  'globals()'],\n",
       " '_oh': {15: {...},\n",
       "  16: <function __main__.chk_colors()>,\n",
       "  18: {...},\n",
       "  23: {...}},\n",
       " '_dh': ['C:\\\\Users\\\\user\\\\python_works\\\\PythonWorkshop'],\n",
       " 'In': ['',\n",
       "  \"f = open('test.txt', 'w')\\nprint(f.write('Python Basic Programing For Interconnect with Web'))\",\n",
       "  \"get_ipython().system('dir')\",\n",
       "  \"f = open('test.txt', 'w')\\nprint(f.write('Python Basic Programing For Interconnect with Web'))\\nf.close()\",\n",
       "  \"get_ipython().system('type test.txt')\",\n",
       "  \"f = open('test.txt', 'w')\\nprint(f.write('Python Basic Programming For Interconnect with Web'))\\nf.close()\",\n",
       "  \"get_ipython().system('dir')\",\n",
       "  \"get_ipython().system('type test.txt')\",\n",
       "  \"f = open('text.txt')\\nprint(f.read())\\nf.close()\\nprint(f.closed)\",\n",
       "  \"f = open('test.txt')\\nprint(f.read())\\nf.close()\\nprint(f.closed)\",\n",
       "  \"with open('test.txt') as f:\\n    print(f.readlines())\\n    print(f.closed)\\n    \\nprint(f.closed)\",\n",
       "  \"with open('test.txt') as f:\\n    print(f.readlines())\\n    print(f.closed)\\n    \\nprint(f.closed)\",\n",
       "  \"color = ['red', 'green', 'blue']\\nprint(colors)\",\n",
       "  \"colors = ['red', 'green', 'blue']\\nprint(colors)\",\n",
       "  'def chk_colors():\\n    if \\'colors\\' in globals():\\n        print(\"True\")\\n    else:\\n        print(\"False\")\\n        \\nchk_colors()',\n",
       "  'globals()',\n",
       "  \"import pickle\\n\\nf = open('colors', 'wb')\\npickle.dump(colors, f)\\nf.close()\\n\\ndel colors\\n\\nchk_colors\",\n",
       "  \"import pickle\\n\\nf = open('colors', 'wb')\\npickle.dump(colors, f)\\nf.close()\\n\\ndel colors\\n\\nchk_colors()\",\n",
       "  'globals()',\n",
       "  \"import pickle\\n\\nf = open('colors', 'wb')\\npickle.dump(colors, f)\\nf.close()\\n\\ndel colors\\n\\nchk_colors()\",\n",
       "  \"with open('test.txt') as f:\\n    print(f.readlines())\\n    print(f.closed)\\n    \\nprint(f.closed)\",\n",
       "  \"colors = ['red', 'green', 'blue']\\nprint(colors)\",\n",
       "  '# globals()를 활용하는 방법\\n# 실제 객체가 만들어졌는지 안만들어졌는지 등을 아래와 같은 형식으로 체크할 수 있음\\ndef chk_colors():\\n    if \\'colors\\' in globals():\\n        print(\"True\")\\n    else:\\n        print(\"False\")\\n        \\nchk_colors()',\n",
       "  'globals()',\n",
       "  \"import pickle\\n\\nf = open('colors', 'wb')\\npickle.dump(colors, f)\\nf.close()\\n\\ndel colors\\n\\nchk_colors()\",\n",
       "  'globals()'],\n",
       " 'Out': {15: {...},\n",
       "  16: <function __main__.chk_colors()>,\n",
       "  18: {...},\n",
       "  23: {...}},\n",
       " 'get_ipython': <bound method InteractiveShell.get_ipython of <ipykernel.zmqshell.ZMQInteractiveShell object at 0x000002CA66A63850>>,\n",
       " 'exit': <IPython.core.autocall.ZMQExitAutocall at 0x2ca66ad3640>,\n",
       " 'quit': <IPython.core.autocall.ZMQExitAutocall at 0x2ca66ad3640>,\n",
       " '_': {...},\n",
       " '__': {...},\n",
       " '___': <function __main__.chk_colors()>,\n",
       " '_i': \"import pickle\\n\\nf = open('colors', 'wb')\\npickle.dump(colors, f)\\nf.close()\\n\\ndel colors\\n\\nchk_colors()\",\n",
       " '_ii': 'globals()',\n",
       " '_iii': '# globals()를 활용하는 방법\\n# 실제 객체가 만들어졌는지 안만들어졌는지 등을 아래와 같은 형식으로 체크할 수 있음\\ndef chk_colors():\\n    if \\'colors\\' in globals():\\n        print(\"True\")\\n    else:\\n        print(\"False\")\\n        \\nchk_colors()',\n",
       " '_i1': \"f = open('test.txt', 'w')\\nprint(f.write('Python Basic Programing For Interconnect with Web'))\",\n",
       " 'f': <_io.BufferedWriter name='colors'>,\n",
       " '_i2': '!dir',\n",
       " '_exit_code': 0,\n",
       " '_i3': \"f = open('test.txt', 'w')\\nprint(f.write('Python Basic Programing For Interconnect with Web'))\\nf.close()\",\n",
       " '_i4': '!type test.txt',\n",
       " '_i5': \"f = open('test.txt', 'w')\\nprint(f.write('Python Basic Programming For Interconnect with Web'))\\nf.close()\",\n",
       " '_i6': '!dir',\n",
       " '_i7': '!type test.txt',\n",
       " '_i8': \"f = open('text.txt')\\nprint(f.read())\\nf.close()\\nprint(f.closed)\",\n",
       " '_i9': \"f = open('test.txt')\\nprint(f.read())\\nf.close()\\nprint(f.closed)\",\n",
       " '_i10': \"with open('test.txt') as f:\\n    print(f.readlines())\\n    print(f.closed)\\n    \\nprint(f.closed)\",\n",
       " '_i11': \"with open('test.txt') as f:\\n    print(f.readlines())\\n    print(f.closed)\\n    \\nprint(f.closed)\",\n",
       " '_i12': \"color = ['red', 'green', 'blue']\\nprint(colors)\",\n",
       " 'color': ['red', 'green', 'blue'],\n",
       " '_i13': \"colors = ['red', 'green', 'blue']\\nprint(colors)\",\n",
       " '_i14': 'def chk_colors():\\n    if \\'colors\\' in globals():\\n        print(\"True\")\\n    else:\\n        print(\"False\")\\n        \\nchk_colors()',\n",
       " 'chk_colors': <function __main__.chk_colors()>,\n",
       " '_i15': 'globals()',\n",
       " '_15': {...},\n",
       " '_i16': \"import pickle\\n\\nf = open('colors', 'wb')\\npickle.dump(colors, f)\\nf.close()\\n\\ndel colors\\n\\nchk_colors\",\n",
       " 'pickle': <module 'pickle' from 'C:\\\\ProgramData\\\\anaconda3\\\\lib\\\\pickle.py'>,\n",
       " '_16': <function __main__.chk_colors()>,\n",
       " '_i17': \"import pickle\\n\\nf = open('colors', 'wb')\\npickle.dump(colors, f)\\nf.close()\\n\\ndel colors\\n\\nchk_colors()\",\n",
       " '_i18': 'globals()',\n",
       " '_18': {...},\n",
       " '_i19': \"import pickle\\n\\nf = open('colors', 'wb')\\npickle.dump(colors, f)\\nf.close()\\n\\ndel colors\\n\\nchk_colors()\",\n",
       " '_i20': \"with open('test.txt') as f:\\n    print(f.readlines())\\n    print(f.closed)\\n    \\nprint(f.closed)\",\n",
       " '_i21': \"colors = ['red', 'green', 'blue']\\nprint(colors)\",\n",
       " '_i22': '# globals()를 활용하는 방법\\n# 실제 객체가 만들어졌는지 안만들어졌는지 등을 아래와 같은 형식으로 체크할 수 있음\\ndef chk_colors():\\n    if \\'colors\\' in globals():\\n        print(\"True\")\\n    else:\\n        print(\"False\")\\n        \\nchk_colors()',\n",
       " '_i23': 'globals()',\n",
       " '_23': {...},\n",
       " '_i24': \"import pickle\\n\\nf = open('colors', 'wb')\\npickle.dump(colors, f)\\nf.close()\\n\\ndel colors\\n\\nchk_colors()\",\n",
       " '_i25': 'globals()'}"
      ]
     },
     "execution_count": 25,
     "metadata": {},
     "output_type": "execute_result"
    }
   ],
   "source": [
    "globals()"
   ]
  },
  {
   "cell_type": "code",
   "execution_count": 26,
   "id": "0d67c756",
   "metadata": {},
   "outputs": [
    {
     "name": "stdout",
     "output_type": "stream",
     "text": [
      "['red', 'green', 'blue']\n"
     ]
    }
   ],
   "source": [
    "f = open('colors', 'rb')\n",
    "colors = pickle.load(f)\n",
    "f.close\n",
    "\n",
    "print(colors)"
   ]
  },
  {
   "cell_type": "code",
   "execution_count": 27,
   "id": "6f7ad45a",
   "metadata": {},
   "outputs": [
    {
     "name": "stdout",
     "output_type": "stream",
     "text": [
      "True\n"
     ]
    }
   ],
   "source": [
    "chk_colors()"
   ]
  },
  {
   "cell_type": "code",
   "execution_count": 28,
   "id": "41203309",
   "metadata": {},
   "outputs": [
    {
     "data": {
      "text/plain": [
       "{'__name__': '__main__',\n",
       " '__doc__': 'Automatically created module for IPython interactive environment',\n",
       " '__package__': None,\n",
       " '__loader__': None,\n",
       " '__spec__': None,\n",
       " '__builtin__': <module 'builtins' (built-in)>,\n",
       " '__builtins__': <module 'builtins' (built-in)>,\n",
       " '_ih': ['',\n",
       "  \"f = open('test.txt', 'w')\\nprint(f.write('Python Basic Programing For Interconnect with Web'))\",\n",
       "  \"get_ipython().system('dir')\",\n",
       "  \"f = open('test.txt', 'w')\\nprint(f.write('Python Basic Programing For Interconnect with Web'))\\nf.close()\",\n",
       "  \"get_ipython().system('type test.txt')\",\n",
       "  \"f = open('test.txt', 'w')\\nprint(f.write('Python Basic Programming For Interconnect with Web'))\\nf.close()\",\n",
       "  \"get_ipython().system('dir')\",\n",
       "  \"get_ipython().system('type test.txt')\",\n",
       "  \"f = open('text.txt')\\nprint(f.read())\\nf.close()\\nprint(f.closed)\",\n",
       "  \"f = open('test.txt')\\nprint(f.read())\\nf.close()\\nprint(f.closed)\",\n",
       "  \"with open('test.txt') as f:\\n    print(f.readlines())\\n    print(f.closed)\\n    \\nprint(f.closed)\",\n",
       "  \"with open('test.txt') as f:\\n    print(f.readlines())\\n    print(f.closed)\\n    \\nprint(f.closed)\",\n",
       "  \"color = ['red', 'green', 'blue']\\nprint(colors)\",\n",
       "  \"colors = ['red', 'green', 'blue']\\nprint(colors)\",\n",
       "  'def chk_colors():\\n    if \\'colors\\' in globals():\\n        print(\"True\")\\n    else:\\n        print(\"False\")\\n        \\nchk_colors()',\n",
       "  'globals()',\n",
       "  \"import pickle\\n\\nf = open('colors', 'wb')\\npickle.dump(colors, f)\\nf.close()\\n\\ndel colors\\n\\nchk_colors\",\n",
       "  \"import pickle\\n\\nf = open('colors', 'wb')\\npickle.dump(colors, f)\\nf.close()\\n\\ndel colors\\n\\nchk_colors()\",\n",
       "  'globals()',\n",
       "  \"import pickle\\n\\nf = open('colors', 'wb')\\npickle.dump(colors, f)\\nf.close()\\n\\ndel colors\\n\\nchk_colors()\",\n",
       "  \"with open('test.txt') as f:\\n    print(f.readlines())\\n    print(f.closed)\\n    \\nprint(f.closed)\",\n",
       "  \"colors = ['red', 'green', 'blue']\\nprint(colors)\",\n",
       "  '# globals()를 활용하는 방법\\n# 실제 객체가 만들어졌는지 안만들어졌는지 등을 아래와 같은 형식으로 체크할 수 있음\\ndef chk_colors():\\n    if \\'colors\\' in globals():\\n        print(\"True\")\\n    else:\\n        print(\"False\")\\n        \\nchk_colors()',\n",
       "  'globals()',\n",
       "  \"import pickle\\n\\nf = open('colors', 'wb')\\npickle.dump(colors, f)\\nf.close()\\n\\ndel colors\\n\\nchk_colors()\",\n",
       "  'globals()',\n",
       "  \"f = open('colors', 'rb')\\ncolors = pickle.load(f)\\nf.close\\n\\nprint(colors)\",\n",
       "  'chk_colors()',\n",
       "  'globals()'],\n",
       " '_oh': {15: {...},\n",
       "  16: <function __main__.chk_colors()>,\n",
       "  18: {...},\n",
       "  23: {...},\n",
       "  25: {...}},\n",
       " '_dh': ['C:\\\\Users\\\\user\\\\python_works\\\\PythonWorkshop'],\n",
       " 'In': ['',\n",
       "  \"f = open('test.txt', 'w')\\nprint(f.write('Python Basic Programing For Interconnect with Web'))\",\n",
       "  \"get_ipython().system('dir')\",\n",
       "  \"f = open('test.txt', 'w')\\nprint(f.write('Python Basic Programing For Interconnect with Web'))\\nf.close()\",\n",
       "  \"get_ipython().system('type test.txt')\",\n",
       "  \"f = open('test.txt', 'w')\\nprint(f.write('Python Basic Programming For Interconnect with Web'))\\nf.close()\",\n",
       "  \"get_ipython().system('dir')\",\n",
       "  \"get_ipython().system('type test.txt')\",\n",
       "  \"f = open('text.txt')\\nprint(f.read())\\nf.close()\\nprint(f.closed)\",\n",
       "  \"f = open('test.txt')\\nprint(f.read())\\nf.close()\\nprint(f.closed)\",\n",
       "  \"with open('test.txt') as f:\\n    print(f.readlines())\\n    print(f.closed)\\n    \\nprint(f.closed)\",\n",
       "  \"with open('test.txt') as f:\\n    print(f.readlines())\\n    print(f.closed)\\n    \\nprint(f.closed)\",\n",
       "  \"color = ['red', 'green', 'blue']\\nprint(colors)\",\n",
       "  \"colors = ['red', 'green', 'blue']\\nprint(colors)\",\n",
       "  'def chk_colors():\\n    if \\'colors\\' in globals():\\n        print(\"True\")\\n    else:\\n        print(\"False\")\\n        \\nchk_colors()',\n",
       "  'globals()',\n",
       "  \"import pickle\\n\\nf = open('colors', 'wb')\\npickle.dump(colors, f)\\nf.close()\\n\\ndel colors\\n\\nchk_colors\",\n",
       "  \"import pickle\\n\\nf = open('colors', 'wb')\\npickle.dump(colors, f)\\nf.close()\\n\\ndel colors\\n\\nchk_colors()\",\n",
       "  'globals()',\n",
       "  \"import pickle\\n\\nf = open('colors', 'wb')\\npickle.dump(colors, f)\\nf.close()\\n\\ndel colors\\n\\nchk_colors()\",\n",
       "  \"with open('test.txt') as f:\\n    print(f.readlines())\\n    print(f.closed)\\n    \\nprint(f.closed)\",\n",
       "  \"colors = ['red', 'green', 'blue']\\nprint(colors)\",\n",
       "  '# globals()를 활용하는 방법\\n# 실제 객체가 만들어졌는지 안만들어졌는지 등을 아래와 같은 형식으로 체크할 수 있음\\ndef chk_colors():\\n    if \\'colors\\' in globals():\\n        print(\"True\")\\n    else:\\n        print(\"False\")\\n        \\nchk_colors()',\n",
       "  'globals()',\n",
       "  \"import pickle\\n\\nf = open('colors', 'wb')\\npickle.dump(colors, f)\\nf.close()\\n\\ndel colors\\n\\nchk_colors()\",\n",
       "  'globals()',\n",
       "  \"f = open('colors', 'rb')\\ncolors = pickle.load(f)\\nf.close\\n\\nprint(colors)\",\n",
       "  'chk_colors()',\n",
       "  'globals()'],\n",
       " 'Out': {15: {...},\n",
       "  16: <function __main__.chk_colors()>,\n",
       "  18: {...},\n",
       "  23: {...},\n",
       "  25: {...}},\n",
       " 'get_ipython': <bound method InteractiveShell.get_ipython of <ipykernel.zmqshell.ZMQInteractiveShell object at 0x000002CA66A63850>>,\n",
       " 'exit': <IPython.core.autocall.ZMQExitAutocall at 0x2ca66ad3640>,\n",
       " 'quit': <IPython.core.autocall.ZMQExitAutocall at 0x2ca66ad3640>,\n",
       " '_': {...},\n",
       " '__': {...},\n",
       " '___': {...},\n",
       " '_i': 'chk_colors()',\n",
       " '_ii': \"f = open('colors', 'rb')\\ncolors = pickle.load(f)\\nf.close\\n\\nprint(colors)\",\n",
       " '_iii': 'globals()',\n",
       " '_i1': \"f = open('test.txt', 'w')\\nprint(f.write('Python Basic Programing For Interconnect with Web'))\",\n",
       " 'f': <_io.BufferedReader name='colors'>,\n",
       " '_i2': '!dir',\n",
       " '_exit_code': 0,\n",
       " '_i3': \"f = open('test.txt', 'w')\\nprint(f.write('Python Basic Programing For Interconnect with Web'))\\nf.close()\",\n",
       " '_i4': '!type test.txt',\n",
       " '_i5': \"f = open('test.txt', 'w')\\nprint(f.write('Python Basic Programming For Interconnect with Web'))\\nf.close()\",\n",
       " '_i6': '!dir',\n",
       " '_i7': '!type test.txt',\n",
       " '_i8': \"f = open('text.txt')\\nprint(f.read())\\nf.close()\\nprint(f.closed)\",\n",
       " '_i9': \"f = open('test.txt')\\nprint(f.read())\\nf.close()\\nprint(f.closed)\",\n",
       " '_i10': \"with open('test.txt') as f:\\n    print(f.readlines())\\n    print(f.closed)\\n    \\nprint(f.closed)\",\n",
       " '_i11': \"with open('test.txt') as f:\\n    print(f.readlines())\\n    print(f.closed)\\n    \\nprint(f.closed)\",\n",
       " '_i12': \"color = ['red', 'green', 'blue']\\nprint(colors)\",\n",
       " 'color': ['red', 'green', 'blue'],\n",
       " '_i13': \"colors = ['red', 'green', 'blue']\\nprint(colors)\",\n",
       " '_i14': 'def chk_colors():\\n    if \\'colors\\' in globals():\\n        print(\"True\")\\n    else:\\n        print(\"False\")\\n        \\nchk_colors()',\n",
       " 'chk_colors': <function __main__.chk_colors()>,\n",
       " '_i15': 'globals()',\n",
       " '_15': {...},\n",
       " '_i16': \"import pickle\\n\\nf = open('colors', 'wb')\\npickle.dump(colors, f)\\nf.close()\\n\\ndel colors\\n\\nchk_colors\",\n",
       " 'pickle': <module 'pickle' from 'C:\\\\ProgramData\\\\anaconda3\\\\lib\\\\pickle.py'>,\n",
       " '_16': <function __main__.chk_colors()>,\n",
       " '_i17': \"import pickle\\n\\nf = open('colors', 'wb')\\npickle.dump(colors, f)\\nf.close()\\n\\ndel colors\\n\\nchk_colors()\",\n",
       " '_i18': 'globals()',\n",
       " '_18': {...},\n",
       " '_i19': \"import pickle\\n\\nf = open('colors', 'wb')\\npickle.dump(colors, f)\\nf.close()\\n\\ndel colors\\n\\nchk_colors()\",\n",
       " '_i20': \"with open('test.txt') as f:\\n    print(f.readlines())\\n    print(f.closed)\\n    \\nprint(f.closed)\",\n",
       " '_i21': \"colors = ['red', 'green', 'blue']\\nprint(colors)\",\n",
       " '_i22': '# globals()를 활용하는 방법\\n# 실제 객체가 만들어졌는지 안만들어졌는지 등을 아래와 같은 형식으로 체크할 수 있음\\ndef chk_colors():\\n    if \\'colors\\' in globals():\\n        print(\"True\")\\n    else:\\n        print(\"False\")\\n        \\nchk_colors()',\n",
       " '_i23': 'globals()',\n",
       " '_23': {...},\n",
       " '_i24': \"import pickle\\n\\nf = open('colors', 'wb')\\npickle.dump(colors, f)\\nf.close()\\n\\ndel colors\\n\\nchk_colors()\",\n",
       " '_i25': 'globals()',\n",
       " '_25': {...},\n",
       " '_i26': \"f = open('colors', 'rb')\\ncolors = pickle.load(f)\\nf.close\\n\\nprint(colors)\",\n",
       " 'colors': ['red', 'green', 'blue'],\n",
       " '_i27': 'chk_colors()',\n",
       " '_i28': 'globals()'}"
      ]
     },
     "execution_count": 28,
     "metadata": {},
     "output_type": "execute_result"
    }
   ],
   "source": [
    "globals()"
   ]
  },
  {
   "cell_type": "code",
   "execution_count": 30,
   "id": "97fd3eae",
   "metadata": {},
   "outputs": [
    {
     "name": "stdout",
     "output_type": "stream",
     "text": [
      "<__main__.Test object at 0x000002CA66BF9160>\n",
      "Test\n"
     ]
    }
   ],
   "source": [
    "class Test:\n",
    "    var = None\n",
    "    \n",
    "a = Test()\n",
    "a.var = \"Test\"\n",
    "\n",
    "f = open('test', 'wb')\n",
    "pickle.dump(a, f)\n",
    "f.close()\n",
    "\n",
    "print(a)\n",
    "print(a.var)\n",
    "\n",
    "del a"
   ]
  },
  {
   "cell_type": "code",
   "execution_count": 31,
   "id": "69c3cca8",
   "metadata": {},
   "outputs": [
    {
     "ename": "NameError",
     "evalue": "name 'a' is not defined",
     "output_type": "error",
     "traceback": [
      "\u001b[1;31m---------------------------------------------------------------------------\u001b[0m",
      "\u001b[1;31mNameError\u001b[0m                                 Traceback (most recent call last)",
      "\u001b[1;32m<ipython-input-31-bca0e2660b9f>\u001b[0m in \u001b[0;36m<module>\u001b[1;34m\u001b[0m\n\u001b[1;32m----> 1\u001b[1;33m \u001b[0mprint\u001b[0m\u001b[1;33m(\u001b[0m\u001b[0ma\u001b[0m\u001b[1;33m)\u001b[0m\u001b[1;33m\u001b[0m\u001b[1;33m\u001b[0m\u001b[0m\n\u001b[0m",
      "\u001b[1;31mNameError\u001b[0m: name 'a' is not defined"
     ]
    }
   ],
   "source": [
    "print(a)"
   ]
  },
  {
   "cell_type": "code",
   "execution_count": 32,
   "id": "ff565621",
   "metadata": {},
   "outputs": [
    {
     "name": "stdout",
     "output_type": "stream",
     "text": [
      "<__main__.Test object at 0x000002CA66AFB2E0>\n",
      "Test\n"
     ]
    }
   ],
   "source": [
    "# 외부의 객체도 파일화하여 저장할 수 있다.\n",
    "f = open('test', 'rb')\n",
    "b = pickle.load(f)\n",
    "f.close()\n",
    "\n",
    "print(b)\n",
    "print(b.var)"
   ]
  },
  {
   "cell_type": "code",
   "execution_count": null,
   "id": "35c4a4a4",
   "metadata": {},
   "outputs": [],
   "source": []
  }
 ],
 "metadata": {
  "kernelspec": {
   "display_name": "Python 3",
   "language": "python",
   "name": "python3"
  },
  "language_info": {
   "codemirror_mode": {
    "name": "ipython",
    "version": 3
   },
   "file_extension": ".py",
   "mimetype": "text/x-python",
   "name": "python",
   "nbconvert_exporter": "python",
   "pygments_lexer": "ipython3",
   "version": "3.8.8"
  }
 },
 "nbformat": 4,
 "nbformat_minor": 5
}
