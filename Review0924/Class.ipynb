{
 "cells": [
  {
   "cell_type": "code",
   "execution_count": 1,
   "id": "65c9c9f0",
   "metadata": {},
   "outputs": [
    {
     "name": "stdout",
     "output_type": "stream",
     "text": [
      "['In', 'Out', 'PyTestClass', '_', '__', '___', '__builtin__', '__builtins__', '__doc__', '__loader__', '__name__', '__package__', '__spec__', '_dh', '_i', '_i1', '_ih', '_ii', '_iii', '_oh', 'exit', 'get_ipython', 'quit']\n",
      "<class 'type'>\n"
     ]
    }
   ],
   "source": [
    "class PyTestClass: \n",
    "    \"\"\"It's for Test Class\"\"\"\n",
    "    pass\n",
    "\n",
    "# dir: class들을 볼 수 있음\n",
    "print(dir())\n",
    "print(type(PyTestClass))"
   ]
  },
  {
   "cell_type": "code",
   "execution_count": 3,
   "id": "549832cd",
   "metadata": {},
   "outputs": [
    {
     "name": "stdout",
     "output_type": "stream",
     "text": [
      "My name is Default\n",
      "My name is Jungah\n",
      "My name is Jungah\n"
     ]
    }
   ],
   "source": [
    "class Person:\n",
    "    Name = 'Default'\n",
    "    \n",
    "    # self: 자바에서 this의 역할(this.Name), 자기자신\n",
    "    def Print(self):\n",
    "        print('My name is {0}'.format(self.Name))\n",
    "        \n",
    "p = Person()\n",
    "p.Print()\n",
    "\n",
    "p.Name = 'Jungah'\n",
    "p.Print()\n",
    "\n",
    "Person.Print(p)"
   ]
  },
  {
   "cell_type": "code",
   "execution_count": 4,
   "id": "2e868d8b",
   "metadata": {},
   "outputs": [
    {
     "name": "stdout",
     "output_type": "stream",
     "text": [
      "p Name:  Jungah\n",
      "p2 Name:  Default\n",
      "p title:  test\n",
      "p2 title:  test\n",
      "Person title:  test\n",
      "p age:  20\n"
     ]
    }
   ],
   "source": [
    "p2 = Person()\n",
    "\n",
    "print('p Name: ', p.Name)\n",
    "print('p2 Name: ', p2.Name)\n",
    "\n",
    "Person.title = 'test'\n",
    "print('p title: ', p.title)\n",
    "print('p2 title: ', p2.title)\n",
    "print('Person title: ', Person.title)\n",
    "\n",
    "p.age = 20\n",
    "print('p age: ', p.age)"
   ]
  },
  {
   "cell_type": "code",
   "execution_count": 5,
   "id": "25c1878e",
   "metadata": {},
   "outputs": [
    {
     "ename": "AttributeError",
     "evalue": "type object 'Person' has no attribute 'age'",
     "output_type": "error",
     "traceback": [
      "\u001b[1;31m---------------------------------------------------------------------------\u001b[0m",
      "\u001b[1;31mAttributeError\u001b[0m                            Traceback (most recent call last)",
      "\u001b[1;32m<ipython-input-5-9bce29850218>\u001b[0m in \u001b[0;36m<module>\u001b[1;34m\u001b[0m\n\u001b[1;32m----> 1\u001b[1;33m \u001b[0mprint\u001b[0m\u001b[1;33m(\u001b[0m\u001b[1;34m'Person age:'\u001b[0m\u001b[1;33m,\u001b[0m \u001b[0mPerson\u001b[0m\u001b[1;33m.\u001b[0m\u001b[0mage\u001b[0m\u001b[1;33m)\u001b[0m\u001b[1;33m\u001b[0m\u001b[1;33m\u001b[0m\u001b[0m\n\u001b[0m",
      "\u001b[1;31mAttributeError\u001b[0m: type object 'Person' has no attribute 'age'"
     ]
    }
   ],
   "source": [
    "# age는 p 객체에만 영향을 주고 Person에는 영향을 주지 않음\n",
    "print('Person age:', Person.age)"
   ]
  },
  {
   "cell_type": "code",
   "execution_count": 9,
   "id": "113bdabb",
   "metadata": {},
   "outputs": [
    {
     "name": "stdout",
     "output_type": "stream",
     "text": [
      "클래스 멤버 아님\n",
      "테스트 메세지\n"
     ]
    }
   ],
   "source": [
    "str1 = '클래스 멤버 아님'\n",
    "\n",
    "class NonSelfTest:\n",
    "    str1 = ''\n",
    "    \n",
    "    def Set(self, msg):\n",
    "        self.str1 = msg\n",
    "        \n",
    "    # self를 사용하지 않으면 전역변수 사용\n",
    "    def Print(self):\n",
    "        print(str1)\n",
    "        \n",
    "    def SelfPrint(self):\n",
    "        print(self.str1)\n",
    "        \n",
    "test = NonSelfTest()\n",
    "\n",
    "test.Set('테스트 메세지')\n",
    "test.Print()\n",
    "test.SelfPrint()"
   ]
  },
  {
   "cell_type": "code",
   "execution_count": 13,
   "id": "573c9491",
   "metadata": {},
   "outputs": [
    {
     "name": "stdout",
     "output_type": "stream",
     "text": [
      "생성자 Value =  333\n",
      "소멸자\n"
     ]
    }
   ],
   "source": [
    "# 생성자와 소멸자\n",
    "class Vehicles:\n",
    "    def __init__(self, value):\n",
    "        self.Value = value\n",
    "        print('생성자 Value = ', value)\n",
    "        \n",
    "    def __del__(self):\n",
    "        print('소멸자')\n",
    "        \n",
    "def test():\n",
    "    # 아래 선언과 함께 생성자 동작\n",
    "    v = Vehicles(333)\n",
    "    # test 함수가 끝날 때 v객체가 사라지므로 소멸자 동작\n",
    "    \n",
    "test()"
   ]
  },
  {
   "cell_type": "code",
   "execution_count": 15,
   "id": "7c018ab4",
   "metadata": {},
   "outputs": [
    {
     "name": "stdout",
     "output_type": "stream",
     "text": [
      "Info(name: Maron, phone num: 123-456-789)\n",
      "{'name': 'Maron', 'phoneNum': '123-456-789'}\n",
      "{'name': 'Lunar', 'phoneNum': '456-789-123', 'subject': 'English', 'studentId': '201423375'}\n"
     ]
    }
   ],
   "source": [
    "# 상속\n",
    "class Person:\n",
    "    def __init__(self, name, phoneNum):\n",
    "        self.name = name\n",
    "        self.phoneNum = phoneNum\n",
    "        \n",
    "    def printInfo(self):\n",
    "        print('Info(name: {0}, phone num: {1})'.format(self.name, self.phoneNum))\n",
    "\n",
    "# 자바에서는 extends를 사용하여 상속\n",
    "# 파이썬은 클래스(상속할 클래스) 하여 상속\n",
    "class Student(Person):\n",
    "    def __init__(self, name, phoneNum, subject, studentId):\n",
    "        self.name = name\n",
    "        self.phoneNum = phoneNum\n",
    "        self.subject = subject\n",
    "        self.studentId = studentId\n",
    "        \n",
    "p = Person('Maron', '123-456-789')\n",
    "s = Student('Lunar', '456-789-123', 'English', '201423375')\n",
    "\n",
    "p.printInfo()\n",
    "\n",
    "# __dict__: 클래스 내부의 정보를 확인 가능\n",
    "print(p.__dict__)\n",
    "print(s.__dict__)"
   ]
  },
  {
   "cell_type": "code",
   "execution_count": 18,
   "id": "b3aa408f",
   "metadata": {},
   "outputs": [
    {
     "name": "stdout",
     "output_type": "stream",
     "text": [
      "Sub Class: [3]\n",
      "Super Class\n",
      "{'Number': 3}\n"
     ]
    }
   ],
   "source": [
    "# super(): 부모클래스를 불러옴\n",
    "class Parent(object):\n",
    "    def __init__(self, number):\n",
    "        self.Number = number\n",
    "        \n",
    "    def printMsg(self):\n",
    "        print('Super Class')\n",
    "        \n",
    "class Child(Parent):\n",
    "    def __init__(self, number):\n",
    "        super(Child, self).__init__(number)\n",
    "        \n",
    "    def printMsg(self):\n",
    "        print('Sub Class: [%s]' % str(self.Number))\n",
    "        super(Child, self).printMsg()\n",
    "        \n",
    "c = Child(3)\n",
    "c.printMsg()\n",
    "\n",
    "print(c.__dict__)"
   ]
  },
  {
   "cell_type": "code",
   "execution_count": 21,
   "id": "565c4b0d",
   "metadata": {},
   "outputs": [
    {
     "name": "stdout",
     "output_type": "stream",
     "text": [
      "49 0.6128236160069114\n",
      "6 0.5920983992830624\n",
      "51 0.07542056294820798\n",
      "39 0.7238121973506509\n",
      "17 0.05186198598290448\n",
      "36 0.7193698274643928\n",
      "72 0.13739697730637435\n",
      "82 0.40954676667140966\n",
      "41 0.6717460561199464\n",
      "76 0.37769897930020613\n",
      "36 0.004846958357427322\n",
      "30 0.5322548515277931\n",
      "15 0.058852996366625\n",
      "78 0.3169490704942425\n",
      "29 0.004468335035034854\n",
      "78 0.6826182656828335\n",
      "57 0.8094108277885185\n",
      "98 0.08558097281844623\n",
      "50 0.15409863855844474\n",
      "87 0.014515455304375258\n"
     ]
    }
   ],
   "source": [
    "# 난수 생성하기\n",
    "from random import *\n",
    "\n",
    "for i in range(20):\n",
    "    rand_int = randint(1, 100) # (시작, 끝)\n",
    "    rand_float = random() # 0 ~ 1 사이\n",
    "    print(rand_int, rand_float)"
   ]
  },
  {
   "cell_type": "code",
   "execution_count": null,
   "id": "fddef990",
   "metadata": {},
   "outputs": [],
   "source": []
  }
 ],
 "metadata": {
  "kernelspec": {
   "display_name": "Python 3",
   "language": "python",
   "name": "python3"
  },
  "language_info": {
   "codemirror_mode": {
    "name": "ipython",
    "version": 3
   },
   "file_extension": ".py",
   "mimetype": "text/x-python",
   "name": "python",
   "nbconvert_exporter": "python",
   "pygments_lexer": "ipython3",
   "version": "3.8.8"
  }
 },
 "nbformat": 4,
 "nbformat_minor": 5
}
