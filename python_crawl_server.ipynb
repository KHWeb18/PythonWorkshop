{
 "cells": [
  {
   "cell_type": "code",
   "execution_count": 1,
   "id": "e029434e",
   "metadata": {},
   "outputs": [],
   "source": [
    "from flask import Flask, url_for, request, jsonify, redirect, Response\n",
    "from flask_cors import CORS, cross_origin\n",
    "\n",
    "import json\n",
    "import requests"
   ]
  },
  {
   "cell_type": "code",
   "execution_count": 4,
   "id": "59658084",
   "metadata": {},
   "outputs": [],
   "source": [
    "import selenium\n",
    "from selenium import webdriver"
   ]
  },
  {
   "cell_type": "code",
   "execution_count": null,
   "id": "366a462c",
   "metadata": {},
   "outputs": [
    {
     "name": "stdout",
     "output_type": "stream",
     "text": [
      " * Serving Flask app \"__main__\" (lazy loading)\n",
      " * Environment: production\n",
      "   WARNING: This is a development server. Do not use it in a production deployment.\n",
      "   Use a production WSGI server instead.\n",
      " * Debug mode: off\n"
     ]
    },
    {
     "name": "stderr",
     "output_type": "stream",
     "text": [
      " * Running on http://127.0.0.1:5000/ (Press CTRL+C to quit)\n",
      "127.0.0.1 - - [08/Oct/2021 18:04:54] \"\u001b[37mOPTIONS /vue2pythonCrawlRequest HTTP/1.1\u001b[0m\" 200 -\n",
      "<ipython-input-6-ba72f7e431cc>:7: DeprecationWarning: 'encoding' is ignored and deprecated. It will be removed in Python 3.9\n",
      "  params = json.loads(request.get_data(), encoding='utf-8')\n"
     ]
    },
    {
     "name": "stdout",
     "output_type": "stream",
     "text": [
      "params:  {'search_keyword': '최신폰'}\n"
     ]
    },
    {
     "name": "stderr",
     "output_type": "stream",
     "text": [
      "127.0.0.1 - - [08/Oct/2021 18:04:58] \"\u001b[37mPOST /vue2pythonCrawlRequest HTTP/1.1\u001b[0m\" 200 -\n"
     ]
    },
    {
     "name": "stdout",
     "output_type": "stream",
     "text": [
      "['갤럭시A42 이보다 저렴한 기기가 있을까요?', '2021년 하반기 어떤 스마트폰이 나올까? 하반기 스마트폰 기대작 BEST 5 미리보기!', '역대급 스마트폰들의 향연! 2021년 스마트폰 기대작 TOP 6 미리보기!', '10월초(1~10일) 구입 추천 휴대폰입니다.', '완전 새로운 삼성 갤럭시 3종 / 슬라이더블 폰, S-폴더블, 17인치 폴더블 + UPC', '남친이 길가다 주운 최신폰을 그냥 가지자고 하는데 어떡하죠;; | BOYFRIEND STOLE A LOST PHONE!!', '노트20보다 더 좋은기능 있는데 80만원 싸다!? 보급형 스마트폰 전쟁. 갤럭시 A32 사용기!', '갤럭시S21 VS 아이폰12 장단점 비교 나에게 맞는 폰은?', '2021년 스마트폰/태블릿 사기 전 꼭 봐야하는 영상! 올해 나올 신제품 출시 예정일 총정리. 아무 때나 사지 마세요', '9월초(1~10일) 구입 추천 휴대폰입니다.', '삼성 갤럭시S22 - 주요 변화 5가지', '스마트폰 을 새폰처럼 사용하는법 _최신 기능으로 업데이트및 설정하여 최신 휴대폰처럼 사용하기(2~3년 이상 된 핸드폰이라면 점검해 서 새폰처럼 만들기)', '스마트폰 최신 편리한 기능_핸드폰을 사용할때 알아두면 유용합니다', '확 트였다!! 갤럭시 Z 폴드2 개봉기 [4K]', '위아래로 접히는 갤럭시Z플립 진짜로 샀습니다! 좋은지 나쁜지 사용해보자! - 허팝(Galaxy Z Filp)', '휴대폰 싸게 사는 법(휴대폰 성지 갤럭시S21 0원 / 판매점 갤럭시S21 30만원)', '졸업선물로 고가의 휴대전화를 사달라는 13살 아들 [무엇이든 물어보살] | KBS Joy 210208 방송', '맨날 왜 오빠만 핸드폰 사줘 ㅠㅠ 사실 이거 니거야! 하면서 선물 준다면? 동생 핸드폰 사주기 몰래카메라 ㅋㅋㅋ 미니 유니 흔한남매 몰카 대작전 U+카카오리틀프렌즈폰4', '휴대폰 대리점에서 사지 마세요 : 온라인에서 사야 하는 이유!', '9월중순(11~20일) 구입 추천 휴대폰입니다.', '엄청 예쁜데.. 쉽게 추천 못 하는 이유? 찐으로 3주 써본 삼성 갤럭시 Z 플립 사용기!', '세상에서 제일 비싼 600만원짜리 스마트폰을 직접 써봤습니다! [갤럭시 폴드2 톰브라운]', '찐텐 나오는 갤럭시S21+ 장기 사용후기 & 케이스 추천 (ENG SUB)', '2021년에 기대되는 최고의 스마트폰 Best 6!! 한눈에 보는 2021 스마트폰!', '와우 대박~ 마이린에게 신기한 폰이 생겼어요! 완전 최신! 완전 신기 ♡ LG WING 어떻게 쓰면 좋을까 | 마이린 TV', '7월초(1~10일) 구입 추천 휴대폰입니다.', '가짜 핸드폰 판매하는 멕시코 시장. 갤럭시, 아이폰, 최신폰 다 있다. 디자인과 성능 비교를 위해 현장에서 언박싱과 리뷰를...']\n"
     ]
    },
    {
     "name": "stderr",
     "output_type": "stream",
     "text": [
      "127.0.0.1 - - [08/Oct/2021 18:05:46] \"\u001b[37mOPTIONS /vue2pythonCrawlRequest HTTP/1.1\u001b[0m\" 200 -\n"
     ]
    },
    {
     "name": "stdout",
     "output_type": "stream",
     "text": [
      "params:  {'search_keyword': '최신폰'}\n"
     ]
    },
    {
     "name": "stderr",
     "output_type": "stream",
     "text": [
      "127.0.0.1 - - [08/Oct/2021 18:05:50] \"\u001b[37mPOST /vue2pythonCrawlRequest HTTP/1.1\u001b[0m\" 200 -\n"
     ]
    },
    {
     "name": "stdout",
     "output_type": "stream",
     "text": [
      "['갤럭시노트20울트라 현재 22만원 하지만 곧 사라짐ㅠ', '2021년 하반기 어떤 스마트폰이 나올까? 하반기 스마트폰 기대작 BEST 5 미리보기!', '역대급 스마트폰들의 향연! 2021년 스마트폰 기대작 TOP 6 미리보기!', '10월초(1~10일) 구입 추천 휴대폰입니다.', '완전 새로운 삼성 갤럭시 3종 / 슬라이더블 폰, S-폴더블, 17인치 폴더블 + UPC', '갤럭시S21 VS 아이폰12 장단점 비교 나에게 맞는 폰은?', '노트20보다 더 좋은기능 있는데 80만원 싸다!? 보급형 스마트폰 전쟁. 갤럭시 A32 사용기!', '2021년 스마트폰/태블릿 사기 전 꼭 봐야하는 영상! 올해 나올 신제품 출시 예정일 총정리. 아무 때나 사지 마세요', '위아래로 접히는 갤럭시Z플립 진짜로 샀습니다! 좋은지 나쁜지 사용해보자! - 허팝(Galaxy Z Filp)', '9월초(1~10일) 구입 추천 휴대폰입니다.', '남친이 길가다 주운 최신폰을 그냥 가지자고 하는데 어떡하죠;; | BOYFRIEND STOLE A LOST PHONE!!', '스마트폰 저렴하고 현명하게 사는 방법! 어디까지 알고 계세요? (대리점, 테크노마트, 성지 등 7가지 방법)', '스마트폰 을 새폰처럼 사용하는법 _최신 기능으로 업데이트및 설정하여 최신 휴대폰처럼 사용하기(2~3년 이상 된 핸드폰이라면 점검해 서 새폰처럼 만들기)', '삼성 갤럭시S22 - 주요 변화 5가지', '확 트였다!! 갤럭시 Z 폴드2 개봉기 [4K]', '자급제폰이 싼지? 약정폰이 싼지? 정확히 알려드립니다.', '휴대폰 싸게 사는 법(휴대폰 성지 갤럭시S21 0원 / 판매점 갤럭시S21 30만원)', '올해 스마트폰 가성비 끝판왕. 갤럭시 퀀텀2 놀라운 스펙의 5G폰. 이 가격이 가능해? 거기에 양자보안까지. 빅테크 SKT가 한건함', '갤럭시 S21울트라 vs 노트20울트라, 뭘 사야할지 정해드림! 같은 듯 다른 S펜 (성능, 발열, 쓰로틀링, 카메라 등 몽땅 비교)', '엄청 예쁜데.. 쉽게 추천 못 하는 이유? 찐으로 3주 써본 삼성 갤럭시 Z 플립 사용기!', '찐텐 나오는 갤럭시S21+ 장기 사용후기 & 케이스 추천 (ENG SUB)', '9월중순(11~20일) 구입 추천 휴대폰입니다.', '세상에서 제일 비싼 600만원짜리 스마트폰을 직접 써봤습니다! [갤럭시 폴드2 톰브라운]', '2021년에 기대되는 최고의 스마트폰 Best 6!! 한눈에 보는 2021 스마트폰!', '와우 대박~ 마이린에게 신기한 폰이 생겼어요! 완전 최신! 완전 신기 ♡ LG WING 어떻게 쓰면 좋을까 | 마이린 TV', '7월초(1~10일) 구입 추천 휴대폰입니다.', '가짜 핸드폰 판매하는 멕시코 시장. 갤럭시, 아이폰, 최신폰 다 있다. 디자인과 성능 비교를 위해 현장에서 언박싱과 리뷰를...']\n"
     ]
    },
    {
     "name": "stderr",
     "output_type": "stream",
     "text": [
      "127.0.0.1 - - [08/Oct/2021 18:12:19] \"\u001b[37mOPTIONS /vue2pythonCrawlRequest HTTP/1.1\u001b[0m\" 200 -\n"
     ]
    },
    {
     "name": "stdout",
     "output_type": "stream",
     "text": [
      "params:  {'search_keyword': '최신폰'}\n"
     ]
    },
    {
     "name": "stderr",
     "output_type": "stream",
     "text": [
      "127.0.0.1 - - [08/Oct/2021 18:12:23] \"\u001b[37mPOST /vue2pythonCrawlRequest HTTP/1.1\u001b[0m\" 200 -\n"
     ]
    },
    {
     "name": "stdout",
     "output_type": "stream",
     "text": [
      "['Z플립2 3통신사 시세대전? 0원', '2021년 하반기 어떤 스마트폰이 나올까? 하반기 스마트폰 기대작 BEST 5 미리보기!', '역대급 스마트폰들의 향연! 2021년 스마트폰 기대작 TOP 6 미리보기!', '10월초(1~10일) 구입 추천 휴대폰입니다.', '완전 새로운 삼성 갤럭시 3종 / 슬라이더블 폰, S-폴더블, 17인치 폴더블 + UPC', '노트20보다 더 좋은기능 있는데 80만원 싸다!? 보급형 스마트폰 전쟁. 갤럭시 A32 사용기!', '갤럭시S21 VS 아이폰12 장단점 비교 나에게 맞는 폰은?', '2021년 스마트폰/태블릿 사기 전 꼭 봐야하는 영상! 올해 나올 신제품 출시 예정일 총정리. 아무 때나 사지 마세요', '와우 대박~ 마이린에게 신기한 폰이 생겼어요! 완전 최신! 완전 신기 ♡ LG WING 어떻게 쓰면 좋을까 | 마이린 TV', '찐텐 나오는 갤럭시S21+ 장기 사용후기 & 케이스 추천 (ENG SUB)', '9월초(1~10일) 구입 추천 휴대폰입니다.', '스마트폰 저렴하고 현명하게 사는 방법! 어디까지 알고 계세요? (대리점, 테크노마트, 성지 등 7가지 방법)', '스마트폰 최신 편리한 기능_핸드폰을 사용할때 알아두면 유용합니다', '삼성 갤럭시S22 - 주요 변화 5가지', '확 트였다!! 갤럭시 Z 폴드2 개봉기 [4K]', '자급제폰이 싼지? 약정폰이 싼지? 정확히 알려드립니다.', '갤럭시Z플립3 폴드3 역대급 성적으로 100만대 돌파하자 삼성이 갤럭시S 시리즈에 한 일 / 한 가지 희망은!', \"삼성의 진짜 아이폰 SE 대항마?! 50만원대 '갤럭시 A51 5G' 언빡싱&살펴보기!\", '올해 스마트폰 가성비 끝판왕. 갤럭시 퀀텀2 놀라운 스펙의 5G폰. 이 가격이 가능해? 거기에 양자보안까지. 빅테크 SKT가 한건함', '9월중순(11~20일) 구입 추천 휴대폰입니다.', '엄청 예쁜데.. 쉽게 추천 못 하는 이유? 찐으로 3주 써본 삼성 갤럭시 Z 플립 사용기!', '2021년에 기대되는 최고의 스마트폰 Best 6!! 한눈에 보는 2021 스마트폰!', '위아래로 접히는 갤럭시Z플립 진짜로 샀습니다! 좋은지 나쁜지 사용해보자! - 허팝(Galaxy Z Filp)', '스즈키 S750 - 속초를 떠났다. 시원하면서 추웠고 더웠다. 앞은 안보이되 경치는 좋았네.', '7월초(1~10일) 구입 추천 휴대폰입니다.', '가짜 핸드폰 판매하는 멕시코 시장. 갤럭시, 아이폰, 최신폰 다 있다. 디자인과 성능 비교를 위해 현장에서 언박싱과 리뷰를...', '전세계에서 가장 많이 팔린 스마트폰 순위! Best 10 한번에 알아보기! [2020년 총결산]']\n"
     ]
    }
   ],
   "source": [
    "app = Flask(__name__)\n",
    "CORS(app)\n",
    "\n",
    "@app.route('/vue2pythonCrawlRequest', methods = ['GET', 'POST'])\n",
    "def vue2pythonCrawlRequest():\n",
    "    \n",
    "    params = json.loads(request.get_data(), encoding='utf-8')\n",
    "    print(\"params: \", params)\n",
    "    \n",
    "    url = \"https://www.youtube.com/results?search_query=\"\n",
    "    \n",
    "    # hidden 옵션(눈에 보이지 않고 은신 상태로 동작함)\n",
    "    options = webdriver.ChromeOptions()\n",
    "    options.add_argument('--headless')\n",
    "    options.add_argument('--window-size=1024,768')\n",
    "    options.add_argument('--disable-gpu')\n",
    "\n",
    "    driver = webdriver.Chrome(r\"C:\\chromedriver.exe\", options = options)\n",
    "    \n",
    "    search_url = url + params['search_keyword']\n",
    "    driver.get(url = search_url)\n",
    "\n",
    "    allTitles = driver.find_elements_by_id(\"video-title\")\n",
    "    titles = []\n",
    "\n",
    "    for item in allTitles:\n",
    "        if (item != ''):\n",
    "            titles.append(item.get_attribute('title'))\n",
    "\n",
    "    print(titles)\n",
    "    # hidden일지라도 리소스가 사용되므로 모든 작업이 완료되었으면 종료함\n",
    "    driver.close()\n",
    "    \n",
    "    return jsonify(titles)\n",
    "    \n",
    "if __name__ == \"__main__\":\n",
    "    app.run()"
   ]
  },
  {
   "cell_type": "code",
   "execution_count": null,
   "id": "70e2cbe4",
   "metadata": {},
   "outputs": [],
   "source": []
  }
 ],
 "metadata": {
  "kernelspec": {
   "display_name": "Python 3",
   "language": "python",
   "name": "python3"
  },
  "language_info": {
   "codemirror_mode": {
    "name": "ipython",
    "version": 3
   },
   "file_extension": ".py",
   "mimetype": "text/x-python",
   "name": "python",
   "nbconvert_exporter": "python",
   "pygments_lexer": "ipython3",
   "version": "3.8.8"
  }
 },
 "nbformat": 4,
 "nbformat_minor": 5
}
