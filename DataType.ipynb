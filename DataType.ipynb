{
 "cells": [
  {
   "cell_type": "code",
   "execution_count": 15,
   "id": "89232170",
   "metadata": {},
   "outputs": [
    {
     "name": "stdout",
     "output_type": "stream",
     "text": [
      "Hello Python\n"
     ]
    }
   ],
   "source": [
    "print(\"Hello Python\")"
   ]
  },
  {
   "cell_type": "code",
   "execution_count": 16,
   "id": "f702de78",
   "metadata": {},
   "outputs": [
    {
     "name": "stdout",
     "output_type": "stream",
     "text": [
      "2 8 16\n"
     ]
    }
   ],
   "source": [
    "binary = 0b10\n",
    "octal = 0o10\n",
    "hexa = 0x10\n",
    "\n",
    "print(binary, octal, hexa)"
   ]
  },
  {
   "cell_type": "code",
   "execution_count": 16,
   "id": "a27058c6",
   "metadata": {},
   "outputs": [
    {
     "name": "stdout",
     "output_type": "stream",
     "text": [
      "1.2e+30\n",
      "<class 'float'>\n",
      "<class 'float'>\n",
      "<class 'int'>\n",
      "27\n"
     ]
    }
   ],
   "source": [
    "big = 1.2e30\n",
    "small = 1.57e-20\n",
    "test = 2 ** 10\n",
    "\n",
    "print(big)\n",
    "\n",
    "print(type(big))\n",
    "print(type(small))\n",
    "print(type(test)) \n",
    "\n",
    "test2 = 3 ** 3 # **는 제곱\n",
    "print(test2)"
   ]
  },
  {
   "cell_type": "code",
   "execution_count": 18,
   "id": "4cb0d258",
   "metadata": {},
   "outputs": [
    {
     "name": "stdout",
     "output_type": "stream",
     "text": [
      "0 333 0.42857142857142855 333.3\n"
     ]
    }
   ],
   "source": [
    "num1 = 3//7 # //는 몫만 구하는 나누기 --> 나머지 구하는거 아님\n",
    "num2 = 3333 // 10\n",
    "num3 = 3/7\n",
    "num4 = 3333/10\n",
    "\n",
    "print(num1, num2, num3, num4)"
   ]
  },
  {
   "cell_type": "code",
   "execution_count": null,
   "id": "fcbc6994",
   "metadata": {},
   "outputs": [],
   "source": []
  }
 ],
 "metadata": {
  "kernelspec": {
   "display_name": "Python 3",
   "language": "python",
   "name": "python3"
  },
  "language_info": {
   "codemirror_mode": {
    "name": "ipython",
    "version": 3
   },
   "file_extension": ".py",
   "mimetype": "text/x-python",
   "name": "python",
   "nbconvert_exporter": "python",
   "pygments_lexer": "ipython3",
   "version": "3.8.8"
  }
 },
 "nbformat": 4,
 "nbformat_minor": 5
}
