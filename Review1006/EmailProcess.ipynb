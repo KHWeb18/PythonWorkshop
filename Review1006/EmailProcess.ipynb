{
 "cells": [
  {
   "cell_type": "markdown",
   "id": "931f8f27",
   "metadata": {},
   "source": [
    "SMTP (Simple Mail Transfer Protocol)\n",
    "POP3 (Post Office Protocol 3)\n",
    "IMAP (Internet Message Access Protocol)\n",
    "\n",
    "1. 송신자의 계정으로 로그인\n",
    "2. 이메일 작성\n",
    "3. send를 통해 이메일 서버에 전송을 요청\n",
    "4. 이메일 서버가 SMTP, POP3, IMAP 프로토콜을 활용하여 수신자에게 메일 전송"
   ]
  },
  {
   "cell_type": "code",
   "execution_count": 1,
   "id": "78514f30",
   "metadata": {},
   "outputs": [],
   "source": [
    "import smtplib"
   ]
  },
  {
   "cell_type": "code",
   "execution_count": 4,
   "id": "ddedbf3d",
   "metadata": {},
   "outputs": [],
   "source": [
    "# 시스템 라이브러리 패키지\n",
    "import os\n",
    "\n",
    "# 이메일 메세지에 형식을 활용하기 위한 패키지\n",
    "from email.mime.multipart import MIMEMultipart\n",
    "\n",
    "# 이메일 메시지 프로토콜 처리기(엔코더)\n",
    "from email import encoders\n",
    "\n",
    "# 텍스트 형식 메일\n",
    "from email.mime.text import MIMEText\n",
    "\n",
    "# 이미지 형식 메일\n",
    "from email.mime.image import MIMEImage\n",
    "\n",
    "# 오디오 형식 메일\n",
    "from email.mime.audio import MIMEAudio\n",
    "\n",
    "from email.mime.base import MIMEBase"
   ]
  },
  {
   "cell_type": "code",
   "execution_count": 13,
   "id": "fb4b860c",
   "metadata": {},
   "outputs": [],
   "source": [
    "def send_email(smtp_info, msg):\n",
    "    with smtplib.SMTP(smtp_info['smtp_server'], smtp_info['smtp_port']) as server:\n",
    "        # TLS 보안 설정 및 시작(보안 정책상 필수)\n",
    "        server.starttls()\n",
    "        \n",
    "        # 로그인\n",
    "        server.login(smtp_info['smtp_user_id'], smtp_info['smtp_user_pw'])\n",
    "        \n",
    "        # 이메일 전송\n",
    "        # 이메일 전송 시 반드시 as_string()으로 변환\n",
    "        res = server.sendmail(msg['from'], msg['to'], msg.as_string())\n",
    "        \n",
    "        if not res:\n",
    "            print('이메일 전송 성공')\n",
    "        else:\n",
    "            print(res)"
   ]
  },
  {
   "cell_type": "code",
   "execution_count": 15,
   "id": "552ab554",
   "metadata": {},
   "outputs": [
    {
     "name": "stdout",
     "output_type": "stream",
     "text": [
      "이메일 전송 성공\n"
     ]
    }
   ],
   "source": [
    "smtp_info = dict({\n",
    "    'smtp_server': 'smtp.naver.com',\n",
    "    'smtp_user_id': '@naver.com',\n",
    "    'smtp_user_pw': '',\n",
    "    'smtp_port': 587\n",
    "})\n",
    "\n",
    "title = '메일보내기'\n",
    "content = '안녕하세요'\n",
    "sender = smtp_info['smtp_user_id']\n",
    "receiver = smtp_info['smtp_user_id']\n",
    "\n",
    "msg = MIMEText(_text = content, _charset = 'utf-8')\n",
    "\n",
    "msg['Subject'] = title\n",
    "msg['From'] = sender\n",
    "msg['To'] = receiver\n",
    "\n",
    "send_email(smtp_info, msg)"
   ]
  },
  {
   "cell_type": "code",
   "execution_count": null,
   "id": "5d318719",
   "metadata": {},
   "outputs": [],
   "source": []
  }
 ],
 "metadata": {
  "kernelspec": {
   "display_name": "Python 3",
   "language": "python",
   "name": "python3"
  },
  "language_info": {
   "codemirror_mode": {
    "name": "ipython",
    "version": 3
   },
   "file_extension": ".py",
   "mimetype": "text/x-python",
   "name": "python",
   "nbconvert_exporter": "python",
   "pygments_lexer": "ipython3",
   "version": "3.8.8"
  }
 },
 "nbformat": 4,
 "nbformat_minor": 5
}
