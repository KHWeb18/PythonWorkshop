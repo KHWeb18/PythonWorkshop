{
 "cells": [
  {
   "cell_type": "code",
   "execution_count": 1,
   "id": "5ef93817",
   "metadata": {},
   "outputs": [
    {
     "name": "stdout",
     "output_type": "stream",
     "text": [
      "val bigger tan 5\n"
     ]
    }
   ],
   "source": [
    "val = 10\n",
    "if val > 5:\n",
    "    print(\"val bigger tan 5\")"
   ]
  },
  {
   "cell_type": "code",
   "execution_count": 2,
   "id": "a4294afc",
   "metadata": {},
   "outputs": [
    {
     "name": "stdout",
     "output_type": "stream",
     "text": [
      "val bigger tan 5\n"
     ]
    }
   ],
   "source": [
    "val = 1\n",
    "\n",
    "if val > 5:\n",
    "    print(\"test\")\n",
    "\n",
    "print(\"val bigger tan 5\")"
   ]
  },
  {
   "cell_type": "code",
   "execution_count": 3,
   "id": "c32cabc8",
   "metadata": {},
   "outputs": [
    {
     "name": "stdout",
     "output_type": "stream",
     "text": [
      "banana\n"
     ]
    }
   ],
   "source": [
    "money = 10\n",
    "\n",
    "if money > 100:\n",
    "    item = \"apple\"\n",
    "else :\n",
    "    item = \"banana\"\n",
    "    \n",
    "print(item)"
   ]
  },
  {
   "cell_type": "code",
   "execution_count": 4,
   "id": "abc6a0d1",
   "metadata": {},
   "outputs": [
    {
     "name": "stdout",
     "output_type": "stream",
     "text": [
      "input Score: 67\n",
      "점수 통보! 등급 = D\n"
     ]
    }
   ],
   "source": [
    "score = int(input(('input Score: ')))\n",
    "\n",
    "if 90 <= score <= 100:\n",
    "    grade = 'A'\n",
    "elif 80 <= score <= 90:\n",
    "    grade = 'B'\n",
    "elif 70 <= score <= 80:\n",
    "    grade = 'C'\n",
    "elif 60 <= score <= 70:\n",
    "    grade = 'D'\n",
    "else:\n",
    "    grade = \"F\"\n",
    "print(\"점수 통보! 등급 = \" + grade)\n",
    "    "
   ]
  },
  {
   "cell_type": "code",
   "execution_count": 5,
   "id": "0c471de6",
   "metadata": {},
   "outputs": [
    {
     "name": "stdout",
     "output_type": "stream",
     "text": [
      "Math Score: 67\n",
      "English Score: 70\n",
      "History Score: 44\n",
      "국사 점수 미달! 탈락이다\n"
     ]
    }
   ],
   "source": [
    "# 수학, 영어, 국사 시험을 봤다.\n",
    "# 각각의 점수를 입력하여 토탈 평균이 60점 이하이며\n",
    "#또한 각가의 점수들이 50점 미만인 경우에도 탈락 처리\n",
    "\n",
    "math = int(input(('Math Score: ')))\n",
    "english = int(input(('English Score: ')))\n",
    "history = int(input(('History Score: ')))\n",
    "\n",
    "avg = (math+english+history)/3\n",
    "\n",
    "if avg <= 60:\n",
    "    print(\"너는 탈락이다 다시공부해\")\n",
    "elif math < 50:\n",
    "    print(\"수학 점수 미달! 탈락이다\")\n",
    "elif english < 50:\n",
    "    print(\"영어 점수 미달! 탈락이다\")\n",
    "elif history < 50:\n",
    "    print(\"국사 점수 미달! 탈락이다\")\n",
    "else:\n",
    "    print(\"합격이다\")"
   ]
  },
  {
   "cell_type": "code",
   "execution_count": 6,
   "id": "bcc37fe8",
   "metadata": {},
   "outputs": [
    {
     "name": "stdout",
     "output_type": "stream",
     "text": [
      "5\n",
      "4\n",
      "3\n",
      "2\n",
      "1\n"
     ]
    }
   ],
   "source": [
    "val = 5\n",
    "while val > 0:\n",
    "    print(val)\n",
    "    val -= 1"
   ]
  },
  {
   "cell_type": "code",
   "execution_count": 7,
   "id": "71355283",
   "metadata": {},
   "outputs": [
    {
     "name": "stdout",
     "output_type": "stream",
     "text": [
      "Apple <class 'str'>\n",
      "100 <class 'int'>\n",
      "15.33 <class 'float'>\n"
     ]
    }
   ],
   "source": [
    "lists = ['Apple', 100, 15.33]\n",
    "for i in lists:\n",
    "    print(i, type(i))"
   ]
  },
  {
   "cell_type": "code",
   "execution_count": 8,
   "id": "dee5232e",
   "metadata": {},
   "outputs": [
    {
     "name": "stdout",
     "output_type": "stream",
     "text": [
      "item: 1\n",
      "item: 2\n",
      "item: 3\n",
      "item: 4\n",
      "item: 5\n"
     ]
    }
   ],
   "source": [
    "numList = [1,2,3,4,5,6,7,8,9,10]\n",
    "\n",
    "for i in numList:\n",
    "    if i>5:\n",
    "        break\n",
    "    print(\"item: {0}\".format(i))"
   ]
  },
  {
   "cell_type": "code",
   "execution_count": 9,
   "id": "d45131fc",
   "metadata": {},
   "outputs": [
    {
     "name": "stdout",
     "output_type": "stream",
     "text": [
      "item: 1\n",
      "item: 3\n",
      "item: 5\n",
      "item: 7\n",
      "item: 9\n"
     ]
    }
   ],
   "source": [
    "for i in numList:\n",
    "    if i % 2 == 0:\n",
    "        continue\n",
    "    print(\"item: {0}\".format(i))"
   ]
  },
  {
   "cell_type": "code",
   "execution_count": 10,
   "id": "d453ffae",
   "metadata": {},
   "outputs": [
    {
     "name": "stdout",
     "output_type": "stream",
     "text": [
      "[0, 1, 2, 3, 4, 5, 6, 7, 8, 9]\n"
     ]
    }
   ],
   "source": [
    "print(list(range(10)))"
   ]
  },
  {
   "cell_type": "code",
   "execution_count": 11,
   "id": "963e760f",
   "metadata": {},
   "outputs": [
    {
     "name": "stdout",
     "output_type": "stream",
     "text": [
      "[5, 6, 7, 8, 9]\n"
     ]
    }
   ],
   "source": [
    "print(list(range(5,10)))"
   ]
  },
  {
   "cell_type": "code",
   "execution_count": 12,
   "id": "b26c9e91",
   "metadata": {},
   "outputs": [
    {
     "name": "stdout",
     "output_type": "stream",
     "text": [
      "[10, 12, 14, 16, 18]\n"
     ]
    }
   ],
   "source": [
    "print(list(range(10,20,2)))"
   ]
  },
  {
   "cell_type": "code",
   "execution_count": 13,
   "id": "8e0e7c42",
   "metadata": {},
   "outputs": [
    {
     "name": "stdout",
     "output_type": "stream",
     "text": [
      "[1, 2, 3, 4, 5, 6, 7, 8, 9, 10]\n"
     ]
    }
   ],
   "source": [
    "numList = list(range(1,11))\n",
    "\n",
    "print(numList)"
   ]
  },
  {
   "cell_type": "code",
   "execution_count": 15,
   "id": "d56cfca0",
   "metadata": {},
   "outputs": [
    {
     "name": "stdout",
     "output_type": "stream",
     "text": [
      "idx: 0, val: Apple\n",
      "idx: 1, val: Orange\n",
      "idx: 2, val:  Grape\n",
      "idx: 3, val: Banana\n"
     ]
    }
   ],
   "source": [
    "strList = ['Apple','Orange', ' Grape', 'Banana']\n",
    "for i in range(len(strList)):\n",
    "    print(\"idx: {0}, val: {1}\".format(i, strList[i]))"
   ]
  },
  {
   "cell_type": "code",
   "execution_count": 16,
   "id": "77c0dc65",
   "metadata": {},
   "outputs": [
    {
     "name": "stdout",
     "output_type": "stream",
     "text": [
      "(0, 100)\n",
      "(1, 33.7)\n",
      "(2, 'Grage')\n"
     ]
    }
   ],
   "source": [
    "varList = [100, 33.7, \"Grage\"]\n",
    "\n",
    "for i in enumerate(varList):\n",
    "    print(i)"
   ]
  },
  {
   "cell_type": "code",
   "execution_count": 20,
   "id": "8753675d",
   "metadata": {},
   "outputs": [
    {
     "name": "stdout",
     "output_type": "stream",
     "text": [
      "[4.5, -1.5, 12, 6.0, -2.0, 16, 7.5, -2.5, 20]\n",
      "<class 'list'>\n"
     ]
    }
   ],
   "source": [
    "numList1 = [3,4,5]\n",
    "numList2 = [1.5, -0.5, 4]\n",
    "\n",
    "resLists = [x * y for x in numList1 for y in numList2]\n",
    "\n",
    "print(resLists)\n",
    "print(type(resLists))"
   ]
  },
  {
   "cell_type": "code",
   "execution_count": null,
   "id": "1531543c",
   "metadata": {},
   "outputs": [],
   "source": []
  }
 ],
 "metadata": {
  "kernelspec": {
   "display_name": "Python 3",
   "language": "python",
   "name": "python3"
  },
  "language_info": {
   "codemirror_mode": {
    "name": "ipython",
    "version": 3
   },
   "file_extension": ".py",
   "mimetype": "text/x-python",
   "name": "python",
   "nbconvert_exporter": "python",
   "pygments_lexer": "ipython3",
   "version": "3.8.8"
  }
 },
 "nbformat": 4,
 "nbformat_minor": 5
}
