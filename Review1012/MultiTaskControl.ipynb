{
 "cells": [
  {
   "cell_type": "code",
   "execution_count": 1,
   "id": "21b0f692",
   "metadata": {},
   "outputs": [],
   "source": [
    "import time, multiprocessing"
   ]
  },
  {
   "cell_type": "code",
   "execution_count": 3,
   "id": "21f9b691",
   "metadata": {},
   "outputs": [
    {
     "name": "stdout",
     "output_type": "stream",
     "text": [
      "<Process name='Process-2' parent=12860 initial>\n"
     ]
    }
   ],
   "source": [
    "# 윈도우의 multiprocessing 동작 안함 \n",
    "\n",
    "def count_down(x):\n",
    "    while True:\n",
    "        if x == 0:\n",
    "            break\n",
    "            \n",
    "        print('카운트: %d' %x)\n",
    "        x -= 1\n",
    "        time.sleep(1)\n",
    "        \n",
    "p = multiprocessing.Process(target=count_down, args=(5, ))\n",
    "\n",
    "print(p)\n",
    "\n",
    "p.start()"
   ]
  },
  {
   "cell_type": "markdown",
   "id": "a748c0ac",
   "metadata": {},
   "source": [
    "Critical Section이란?\n",
    "- 여러 프로세스나 스레드가 동시다발적으로 접근할 수 있는 메모리공간(변수 및 객체)\n",
    "\n",
    "동기화 메커니즘 (Mutex, Semaphore, Spinlock)을 사용하는 이유?\n",
    "- 데이터 무결성을 보장하기 위해서"
   ]
  },
  {
   "cell_type": "code",
   "execution_count": 4,
   "id": "423110aa",
   "metadata": {},
   "outputs": [],
   "source": [
    "import threading"
   ]
  },
  {
   "cell_type": "code",
   "execution_count": 6,
   "id": "e8a94fed",
   "metadata": {},
   "outputs": [
    {
     "name": "stdout",
     "output_type": "stream",
     "text": [
      "Hello\n",
      "Hello\n",
      "Hello\n",
      "HelloHello\n",
      "\n",
      "Finish sleep\n",
      "Finish sleepFinish sleep\n",
      "Finish sleep\n",
      "\n",
      "Finish sleep\n",
      "Finished:  1.03 초\n"
     ]
    }
   ],
   "source": [
    "def print_hello():\n",
    "    print('Hello')\n",
    "    time.sleep(1)\n",
    "    print('Finish sleep')\n",
    "    \n",
    "if __name__ == '__main__':\n",
    "    # 현재 시각을 계측\n",
    "    start = time.perf_counter()\n",
    "    threads = []\n",
    "    \n",
    "    # 5개의 스레드 객체를 생성\n",
    "    for _ in range(5):\n",
    "        t = threading.Thread(target = print_hello)\n",
    "        # start(): 스레드를 구동 가능하게 함\n",
    "        t.start()\n",
    "        threads.append(t)\n",
    "     \n",
    "    # 생성한 스레드를 모두 구동(Hello 출력)\n",
    "    # 이후 1초 쉬고 Finish sleep 출력\n",
    "    for thread in threads:\n",
    "        # join(): 실제 스레드 구동\n",
    "        thread.join()\n",
    "      \n",
    "    # 현재 시각을 계측\n",
    "    finish = time.perf_counter()\n",
    "    \n",
    "    # 끝 - 시작: 동작하는데 걸린 시간\n",
    "    print('Finished: ', str(round(finish - start, 2)) , '초')"
   ]
  },
  {
   "cell_type": "code",
   "execution_count": 15,
   "id": "79a2039f",
   "metadata": {},
   "outputs": [
    {
     "name": "stdout",
     "output_type": "stream",
     "text": [
      "0번째 반복 이후 x = 2000000 \n",
      "1번째 반복 이후 x = 1851560 \n",
      "2번째 반복 이후 x = 1729778 \n",
      "3번째 반복 이후 x = 1685447 \n",
      "4번째 반복 이후 x = 1878981 \n",
      "5번째 반복 이후 x = 1685695 \n",
      "6번째 반복 이후 x = 1655094 \n",
      "7번째 반복 이후 x = 1813746 \n",
      "8번째 반복 이후 x = 1663969 \n",
      "9번째 반복 이후 x = 1917162 \n"
     ]
    }
   ],
   "source": [
    "# Critical Section에서 데이터 무결성이 지켜지지 않아 문제 발생\n",
    "# +1을 100만번 하는 동작을 2번 -> 200만이 나와야 함\n",
    "# 하지만 200만이 나오지 않음 -> 데이터 무결성이 지켜지지 않음\n",
    "# 여기서 Cretical Section은 x \n",
    "\n",
    "x = 0\n",
    "\n",
    "def increment_global():\n",
    "    global x\n",
    "    x += 1\n",
    "\n",
    "def thread_task():\n",
    "    # _는 아무것도 받지 않을 경우 사용\n",
    "    for _ in range(1000000):\n",
    "        increment_global()\n",
    "        \n",
    "def thread_main():\n",
    "    global x\n",
    "    x = 0\n",
    "    \n",
    "    t1 = threading.Thread(target = thread_task)\n",
    "    t2 = threading.Thread(target = thread_task)    \n",
    "    \n",
    "    t1.start()\n",
    "    t2.start()    \n",
    "    \n",
    "    t1.join()\n",
    "    t2.join()    \n",
    "    \n",
    "for i in range(10):\n",
    "    thread_main()\n",
    "    print('{0}번째 반복 이후 x = {1} '.format(i, x))"
   ]
  },
  {
   "cell_type": "code",
   "execution_count": 16,
   "id": "e3685f34",
   "metadata": {},
   "outputs": [
    {
     "name": "stdout",
     "output_type": "stream",
     "text": [
      "0번째 반복 이후 x = 2000000 \n",
      "1번째 반복 이후 x = 2000000 \n",
      "2번째 반복 이후 x = 2000000 \n",
      "3번째 반복 이후 x = 2000000 \n",
      "4번째 반복 이후 x = 2000000 \n",
      "5번째 반복 이후 x = 2000000 \n",
      "6번째 반복 이후 x = 2000000 \n",
      "7번째 반복 이후 x = 2000000 \n",
      "8번째 반복 이후 x = 2000000 \n",
      "9번째 반복 이후 x = 2000000 \n"
     ]
    }
   ],
   "source": [
    "# Cretical Section에 동기화 메커니즘을 적용하여 데이터 무결성을 보장 \n",
    "# 데이터는 쓰기(write)할 때 무결성이 깨지므로 그 부분에 동기화 적용해야 함\n",
    "\n",
    "lock = threading.Lock()\n",
    "\n",
    "x = 0\n",
    "\n",
    "def increment_global():\n",
    "    global x\n",
    "    x += 1\n",
    "\n",
    "def thread_task():\n",
    "    for _ in range(1000000):\n",
    "        lock.acquire()\n",
    "        increment_global()\n",
    "        lock.release()\n",
    "        \n",
    "def thread_main():\n",
    "    global x\n",
    "    x = 0\n",
    "    \n",
    "    t1 = threading.Thread(target = thread_task)\n",
    "    t2 = threading.Thread(target = thread_task)    \n",
    "    \n",
    "    t1.start()\n",
    "    t2.start()    \n",
    "    \n",
    "    t1.join()\n",
    "    t2.join()    \n",
    "    \n",
    "for i in range(10):\n",
    "    thread_main()\n",
    "    print('{0}번째 반복 이후 x = {1} '.format(i, x))"
   ]
  },
  {
   "cell_type": "code",
   "execution_count": 17,
   "id": "9f0f5bda",
   "metadata": {},
   "outputs": [
    {
     "name": "stdout",
     "output_type": "stream",
     "text": [
      "0번째 반복 이후 x = 2000000 \n",
      "1번째 반복 이후 x = 2000000 \n",
      "2번째 반복 이후 x = 2000000 \n",
      "3번째 반복 이후 x = 2000000 \n",
      "4번째 반복 이후 x = 2000000 \n",
      "5번째 반복 이후 x = 2000000 \n",
      "6번째 반복 이후 x = 2000000 \n",
      "7번째 반복 이후 x = 2000000 \n",
      "8번째 반복 이후 x = 2000000 \n",
      "9번째 반복 이후 x = 2000000 \n"
     ]
    }
   ],
   "source": [
    "# 동기화 메커니즘은 Thread에 Context Switching을 유발\n",
    "# Memory Hierarchy(메모리 계층구조) 관점에서 메모리에 자주 접근하는 것은 좋지 않음\n",
    "# 동기화 메커니즘을 어디에 적용하느냐에 따라 속도가 달라짐\n",
    "\n",
    "lock = threading.Lock()\n",
    "\n",
    "x = 0\n",
    "\n",
    "def increment_global():\n",
    "    global x\n",
    "    x += 1\n",
    "\n",
    "def thread_task():\n",
    "    lock.acquire()\n",
    "    \n",
    "    for _ in range(1000000):\n",
    "        increment_global()\n",
    "        \n",
    "    lock.release()    \n",
    "    \n",
    "def thread_main():\n",
    "    global x\n",
    "    x = 0\n",
    "    \n",
    "    t1 = threading.Thread(target = thread_task)\n",
    "    t2 = threading.Thread(target = thread_task)    \n",
    "    \n",
    "    t1.start()\n",
    "    t2.start()    \n",
    "    \n",
    "    t1.join()\n",
    "    t2.join()    \n",
    "    \n",
    "for i in range(10):\n",
    "    thread_main()\n",
    "    print('{0}번째 반복 이후 x = {1} '.format(i, x))"
   ]
  },
  {
   "cell_type": "code",
   "execution_count": null,
   "id": "d8cb8dfc",
   "metadata": {},
   "outputs": [],
   "source": []
  }
 ],
 "metadata": {
  "kernelspec": {
   "display_name": "Python 3",
   "language": "python",
   "name": "python3"
  },
  "language_info": {
   "codemirror_mode": {
    "name": "ipython",
    "version": 3
   },
   "file_extension": ".py",
   "mimetype": "text/x-python",
   "name": "python",
   "nbconvert_exporter": "python",
   "pygments_lexer": "ipython3",
   "version": "3.8.8"
  }
 },
 "nbformat": 4,
 "nbformat_minor": 5
}
