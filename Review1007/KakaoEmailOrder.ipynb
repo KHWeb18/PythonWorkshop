{
 "cells": [
  {
   "cell_type": "code",
   "execution_count": 1,
   "id": "3d4076f6",
   "metadata": {},
   "outputs": [],
   "source": [
    "from flask import Flask, url_for, request, jsonify\n",
    "from flask_cors import CORS, cross_origin\n",
    "\n",
    "import json, requests, pickle"
   ]
  },
  {
   "cell_type": "code",
   "execution_count": 2,
   "id": "0104c079",
   "metadata": {},
   "outputs": [],
   "source": [
    "import smtplib\n",
    "import os\n",
    "from email.mime.multipart import MIMEMultipart\n",
    "from email.mime.text import MIMEText\n",
    "from email.mime.image import MIMEImage\n",
    "from email.mime.audio import MIMEAudio\n",
    "from email.mime.base import MIMEBase\n",
    "from email import encoders"
   ]
  },
  {
   "cell_type": "code",
   "execution_count": 3,
   "id": "e0e439e8",
   "metadata": {},
   "outputs": [],
   "source": [
    "# Kakao Appkey 저장 파일\n",
    "APP_KEY_SAVED_FILE = 'res/kakao_msg/app_key'\n",
    "# Kakao Token 저장 파일\n",
    "KAKAO_TOKEN_SAVED_FILE = 'res/kakao_msg/kakao_token.json'\n",
    "# Naver 아이디, 비밀번호 저장 파일\n",
    "NAVER_USER_DATA_SAVED_FILE = 'res/naver/account'"
   ]
  },
  {
   "cell_type": "code",
   "execution_count": 5,
   "id": "647fa4a5",
   "metadata": {},
   "outputs": [],
   "source": [
    "# 네이버 계정 정보 저장  \n",
    "naver_user_info = dict({\n",
    "    'smtp_user_id': '@naver.com',\n",
    "    'smtp_user_pw': ''\n",
    "})\n",
    "\n",
    "f = open(NAVER_USER_DATA_SAVED_FILE, 'wb')\n",
    "pickle.dump(naver_user_info, f)\n",
    "f.close()"
   ]
  },
  {
   "cell_type": "code",
   "execution_count": 9,
   "id": "9e871767",
   "metadata": {},
   "outputs": [],
   "source": [
    "# 네이버 계정 정보 읽기\n",
    "f = open(NAVER_USER_DATA_SAVED_FILE, 'rb')\n",
    "naver_user_info = pickle.load(f)\n",
    "f.close()"
   ]
  },
  {
   "cell_type": "code",
   "execution_count": 10,
   "id": "5f4eb436",
   "metadata": {},
   "outputs": [],
   "source": [
    "# 앱키 읽기\n",
    "app_key = ''\n",
    "\n",
    "f = open(APP_KEY_SAVED_FILE, 'rb')\n",
    "app_key = pickle.load(f)\n",
    "f.close()"
   ]
  },
  {
   "cell_type": "code",
   "execution_count": 26,
   "id": "1caa2e6e",
   "metadata": {},
   "outputs": [
    {
     "name": "stdout",
     "output_type": "stream",
     "text": [
      "Error!\n"
     ]
    }
   ],
   "source": [
    "# 토큰 발급\n",
    "url = \"https://kauth.kakao.com/oauth/token\"\n",
    "\n",
    "data = {\n",
    "    \"grant_type\" : \"authorization_code\",\n",
    "    \"client_id\" : \"\",\n",
    "    \"redirect_uri\" : \"https://localhost.com\",\n",
    "    \"code\" : \"\"\n",
    "}\n",
    "\n",
    "response = requests.post(url, data=data)\n",
    "\n",
    "if response.status_code != 200:\n",
    "    print(\"Error!\")\n",
    "else:\n",
    "    tokens = response.json()\n",
    "    print(tokens)"
   ]
  },
  {
   "cell_type": "code",
   "execution_count": 19,
   "id": "e443dff1",
   "metadata": {},
   "outputs": [],
   "source": [
    "# 토큰 저장, 읽기\n",
    "def save_tokens(filename, tokens):\n",
    "    with open(filename, 'w') as fp:\n",
    "        json.dump(tokens, fp)\n",
    "        \n",
    "def load_tokens(filename):\n",
    "    with open(filename) as fp:\n",
    "        tokens = json.load(fp)\n",
    "        \n",
    "    return tokens\n",
    "\n",
    "save_tokens(KAKAO_TOKEN_SAVED_FILE, tokens)"
   ]
  },
  {
   "cell_type": "code",
   "execution_count": 12,
   "id": "1e770129",
   "metadata": {},
   "outputs": [],
   "source": [
    "def send_email(smtp_info, naver_user_info, msg):\n",
    "    with smtplib.SMTP(smtp_info['smtp_server'], smtp_info['smtp_port']) as server:\n",
    "        # TLS 보안 설정 및 시작(보안 정책상 필수)\n",
    "        server.starttls()\n",
    "        \n",
    "        # 로그인\n",
    "        server.login(naver_user_info['smtp_user_id'], naver_user_info['smtp_user_pw'])\n",
    "        \n",
    "        # 이메일 전송\n",
    "        # 이메일 전송 시 반드시 as_string()으로 변환\n",
    "        res = server.sendmail(msg['from'], msg['to'], msg.as_string())\n",
    "        \n",
    "        if not res:\n",
    "            print('이메일 전송 성공')\n",
    "        else:\n",
    "            print(res)"
   ]
  },
  {
   "cell_type": "code",
   "execution_count": 13,
   "id": "c7c9cd19",
   "metadata": {},
   "outputs": [],
   "source": [
    "def make_multimsg(msg_dict):\n",
    "    multi = MIMEMultipart(_subtype = 'mixed')\n",
    "    \n",
    "    for key, value in msg_dict.items():\n",
    "        # text 형식인 경우\n",
    "        if key == 'text':\n",
    "            with open(value['filename'], encoding='utf-8') as fp:\n",
    "                msg = MIMEText(fp.read(), _subtype = value['subtype'])\n",
    "        \n",
    "        # image 형식인 경우\n",
    "        elif key == 'image':\n",
    "            with open(value['filename'], 'rb') as fp:\n",
    "                msg = MIMEImage(fp.read(), _subtype = value['subtype'])\n",
    "                \n",
    "        # audio, video 형식은 설정x\n",
    "        elif key == 'audio':\n",
    "            print('음원은 지원하지 않습니다.')\n",
    "        elif key == 'video':\n",
    "            print('영상은 지원하지 않습니다.')\n",
    "            \n",
    "        # 그 외의 형식    \n",
    "        else:\n",
    "            with open(value['filename'], 'rb') as fp:\n",
    "                msg = MIMEBase(value['maintype'], _subtype = value['subtype'])\n",
    "                msg.set_payload(fp.read())\n",
    "                encoders.encode_base64(msg)\n",
    "        \n",
    "        # 파일 이름은 첨부파일 제목\n",
    "        msg.add_header('Content-Disposition', 'attachment',\n",
    "                      filename = os.path.basename(value['filename']))\n",
    "        \n",
    "        # 파일 첨부\n",
    "        multi.attach(msg)\n",
    "        \n",
    "    return multi"
   ]
  },
  {
   "cell_type": "code",
   "execution_count": 25,
   "id": "354543a5",
   "metadata": {},
   "outputs": [
    {
     "name": "stdout",
     "output_type": "stream",
     "text": [
      " * Serving Flask app \"__main__\" (lazy loading)\n",
      " * Environment: production\n",
      "   WARNING: This is a development server. Do not use it in a production deployment.\n",
      "   Use a production WSGI server instead.\n",
      " * Debug mode: off\n"
     ]
    },
    {
     "name": "stderr",
     "output_type": "stream",
     "text": [
      " * Running on http://127.0.0.1:5000/ (Press CTRL+C to quit)\n",
      "<ipython-input-25-a42565a42a50>:8: DeprecationWarning: 'encoding' is ignored and deprecated. It will be removed in Python 3.9\n",
      "  params = json.loads(request.get_data(), encoding='utf-8')\n"
     ]
    },
    {
     "name": "stdout",
     "output_type": "stream",
     "text": [
      "이름:  나야나 , 가격:  200000\n",
      "200\n"
     ]
    },
    {
     "name": "stderr",
     "output_type": "stream",
     "text": [
      "127.0.0.1 - - [07/Oct/2021 18:12:36] \"\u001b[37mPOST /orderTest HTTP/1.1\u001b[0m\" 200 -\n"
     ]
    },
    {
     "name": "stdout",
     "output_type": "stream",
     "text": [
      "이메일 전송 성공\n"
     ]
    }
   ],
   "source": [
    "import datetime\n",
    "\n",
    "app = Flask(__name__)\n",
    "CORS(app)\n",
    "\n",
    "@app.route('/orderTest', methods = ['GET', 'POST'])\n",
    "def orderTest():\n",
    "    params = json.loads(request.get_data(), encoding='utf-8')\n",
    "    \n",
    "    if len(params) == 0:\n",
    "        return jsonify('No Parameter')\n",
    "    \n",
    "    params_string = ''\n",
    "    \n",
    "    values = []\n",
    "    \n",
    "    for key in params.keys():\n",
    "        values.append(params[key])\n",
    "        \n",
    "    name = values[0]\n",
    "    cost = values[1]\n",
    "    \n",
    "    print('이름: ', name, ', 가격: ', cost)\n",
    "    \n",
    "    tokens = load_tokens(KAKAO_TOKEN_SAVED_FILE)\n",
    "\n",
    "    # 카톡 메세지 보내기\n",
    "    url = \"https://kapi.kakao.com/v2/api/talk/memo/default/send\"\n",
    "\n",
    "    # request parameter\n",
    "    headers = {\n",
    "        \"Authorization\" : \"Bearer \" + tokens['access_token']\n",
    "    }\n",
    "    \n",
    "    message = '이름: {0}, 가격: {1}'.format(name, cost)\n",
    "\n",
    "    data = {\n",
    "        \"template_object\" : json.dumps({\n",
    "            \"object_type\" : \"text\",\n",
    "            \"text\" : message,\n",
    "            \"link\" : {\n",
    "                \"web_url\" : \"http://localhost:8080\"\n",
    "            }\n",
    "        })\n",
    "    }\n",
    "\n",
    "    # 메세지 전송\n",
    "    response = requests.post(url, headers=headers, data=data)\n",
    "    print(response.status_code)\n",
    "        \n",
    "    # 메일 전송하기\n",
    "    smtp_info = dict({\n",
    "        'smtp_server': 'smtp.naver.com',\n",
    "        'smtp_port': 587\n",
    "    })\n",
    "\n",
    "    msg_dict = {\n",
    "        'image': {\n",
    "            'maintype': 'image',\n",
    "            'subtype': 'jfif',\n",
    "        },\n",
    "    }\n",
    "    \n",
    "    # 결제 내용(이메일) 추가하기\n",
    "    now = datetime.datetime.now()\n",
    "    now_time = now.strftime('%Y-%m-%d %H:%M:%S')\n",
    "    \n",
    "    title = name + '님 ' + now_time + ' 결제하신 내역입니다.'\n",
    "    content = '구매하신 물품은 ... 이며 결제하신 금액은 ' + str(cost) + '원 입니다.' \n",
    "    sender = naver_user_info['smtp_user_id']\n",
    "    receiver = naver_user_info['smtp_user_id']\n",
    "\n",
    "    msg = MIMEText(_text = content, _charset = 'utf-8')\n",
    "\n",
    "    # 특정위치 지정하기\n",
    "    msg_dict['image']['filename'] = 'email/보노보노.jfif'\n",
    "    \n",
    "    # 파일 첨부\n",
    "    multi = make_multimsg(msg_dict)\n",
    "    multi['Subject'] = title\n",
    "    multi['From'] = sender\n",
    "    multi['To'] = receiver\n",
    "    multi.attach(msg)\n",
    "\n",
    "    send_email(smtp_info, naver_user_info, multi)\n",
    "\n",
    "    return jsonify(params_string)\n",
    "\n",
    "if __name__ == '__main__':\n",
    "    app.run()"
   ]
  },
  {
   "cell_type": "code",
   "execution_count": null,
   "id": "f2047008",
   "metadata": {},
   "outputs": [],
   "source": []
  }
 ],
 "metadata": {
  "kernelspec": {
   "display_name": "Python 3",
   "language": "python",
   "name": "python3"
  },
  "language_info": {
   "codemirror_mode": {
    "name": "ipython",
    "version": 3
   },
   "file_extension": ".py",
   "mimetype": "text/x-python",
   "name": "python",
   "nbconvert_exporter": "python",
   "pygments_lexer": "ipython3",
   "version": "3.8.8"
  }
 },
 "nbformat": 4,
 "nbformat_minor": 5
}
