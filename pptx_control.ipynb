{
 "cells": [
  {
   "cell_type": "code",
   "execution_count": 3,
   "id": "0c0a427b",
   "metadata": {},
   "outputs": [
    {
     "name": "stdout",
     "output_type": "stream",
     "text": [
      "Requirement already satisfied: python-pptx in c:\\programdata\\anaconda3\\lib\\site-packages (0.6.21)\n",
      "Requirement already satisfied: Pillow>=3.3.2 in c:\\programdata\\anaconda3\\lib\\site-packages (from python-pptx) (8.2.0)\n",
      "Requirement already satisfied: lxml>=3.1.0 in c:\\programdata\\anaconda3\\lib\\site-packages (from python-pptx) (4.6.3)\n",
      "Requirement already satisfied: XlsxWriter>=0.5.7 in c:\\programdata\\anaconda3\\lib\\site-packages (from python-pptx) (1.3.8)\n"
     ]
    }
   ],
   "source": [
    "!pip install python-pptx"
   ]
  },
  {
   "cell_type": "code",
   "execution_count": 5,
   "id": "00003b70",
   "metadata": {},
   "outputs": [],
   "source": [
    "from pptx import Presentation\n",
    "from pptx.util import Inches"
   ]
  },
  {
   "cell_type": "code",
   "execution_count": 6,
   "id": "157d5247",
   "metadata": {},
   "outputs": [],
   "source": [
    "# PPT 객체 생성\n",
    "prs = Presentation()"
   ]
  },
  {
   "cell_type": "code",
   "execution_count": 7,
   "id": "62276a76",
   "metadata": {},
   "outputs": [
    {
     "name": "stdout",
     "output_type": "stream",
     "text": [
      " C 드라이브의 볼륨에는 이름이 없습니다.\n",
      " 볼륨 일련 번호: E68B-BC99\n",
      "\n",
      " C:\\Users\\user\\python_works\\PythonWorkshop 디렉터리\n",
      "\n",
      "2021-10-06  오후 03:58    <DIR>          .\n",
      "2021-10-06  오후 03:58    <DIR>          ..\n",
      "2021-09-17  오후 05:54             1,928 .gitignore\n",
      "2021-10-06  오후 03:44    <DIR>          .ipynb_checkpoints\n",
      "2021-09-23  오후 08:04            15,673 Array.ipynb\n",
      "2021-09-24  오후 09:12            12,169 Class.ipynb\n",
      "2021-09-24  오후 07:04                37 colors\n",
      "2021-09-23  오후 08:03             8,642 ControlStatement.ipynb\n",
      "2021-09-23  오후 08:03             4,111 DataType.ipynb\n",
      "2021-09-24  오후 08:49            37,095 FileIO.ipynb\n",
      "2021-09-24  오후 08:54            16,074 Function_Method.ipynb\n",
      "2021-09-28  오후 09:51            36,822 homework.ipynb\n",
      "2021-10-04  오후 03:58             5,793 Kakao_friend_msg_api.ipynb\n",
      "2021-09-29  오후 09:41            15,342 Kakao_msg_api.ipynb\n",
      "2021-09-28  오후 09:51             2,394 operator_overload.ipynb\n",
      "2021-10-05  오후 08:02             9,487 order_test.ipynb\n",
      "2021-10-04  오후 07:35             5,469 Python_response.ipynb\n",
      "2021-09-17  오후 07:52            18,494 python_test.ipynb\n",
      "2021-09-17  오후 05:54                51 README.md\n",
      "2021-09-17  오후 07:45            27,952 request_success.jpg\n",
      "2021-10-01  오후 06:01    <DIR>          res\n",
      "2021-09-24  오후 07:14                47 test\n",
      "2021-09-24  오후 06:11                79 test.txt\n",
      "2021-10-06  오후 03:58             1,999 Untitled.ipynb\n",
      "              20개 파일             219,658 바이트\n",
      "               4개 디렉터리  104,911,265,792 바이트 남음\n"
     ]
    }
   ],
   "source": [
    "!dir"
   ]
  },
  {
   "cell_type": "code",
   "execution_count": 8,
   "id": "91e16ea8",
   "metadata": {},
   "outputs": [],
   "source": [
    "# Python 지원하는 레이아웃이 총 11개로 알고 있음\n",
    "for i in range(0, 11):\n",
    "    title_slide_layout = prs.slide_layouts[i]\n",
    "    slide = prs.slides.add_slide(title_slide_layout)\n",
    "    \n",
    "prs.save('모든슬라이드추가.pptx')"
   ]
  },
  {
   "cell_type": "code",
   "execution_count": 9,
   "id": "a846fd2e",
   "metadata": {},
   "outputs": [
    {
     "name": "stdout",
     "output_type": "stream",
     "text": [
      " C 드라이브의 볼륨에는 이름이 없습니다.\n",
      " 볼륨 일련 번호: E68B-BC99\n",
      "\n",
      " C:\\Users\\user\\python_works\\PythonWorkshop 디렉터리\n",
      "\n",
      "2021-10-06  오후 03:59    <DIR>          .\n",
      "2021-10-06  오후 03:59    <DIR>          ..\n",
      "2021-09-17  오후 05:54             1,928 .gitignore\n",
      "2021-10-06  오후 03:59    <DIR>          .ipynb_checkpoints\n",
      "2021-09-23  오후 08:04            15,673 Array.ipynb\n",
      "2021-09-24  오후 09:12            12,169 Class.ipynb\n",
      "2021-09-24  오후 07:04                37 colors\n",
      "2021-09-23  오후 08:03             8,642 ControlStatement.ipynb\n",
      "2021-09-23  오후 08:03             4,111 DataType.ipynb\n",
      "2021-09-24  오후 08:49            37,095 FileIO.ipynb\n",
      "2021-09-24  오후 08:54            16,074 Function_Method.ipynb\n",
      "2021-09-28  오후 09:51            36,822 homework.ipynb\n",
      "2021-10-04  오후 03:58             5,793 Kakao_friend_msg_api.ipynb\n",
      "2021-09-29  오후 09:41            15,342 Kakao_msg_api.ipynb\n",
      "2021-09-28  오후 09:51             2,394 operator_overload.ipynb\n",
      "2021-10-05  오후 08:02             9,487 order_test.ipynb\n",
      "2021-10-06  오후 03:58             1,999 pptx_control.ipynb\n",
      "2021-10-04  오후 07:35             5,469 Python_response.ipynb\n",
      "2021-09-17  오후 07:52            18,494 python_test.ipynb\n",
      "2021-09-17  오후 05:54                51 README.md\n",
      "2021-09-17  오후 07:45            27,952 request_success.jpg\n",
      "2021-10-01  오후 06:01    <DIR>          res\n",
      "2021-09-24  오후 07:14                47 test\n",
      "2021-09-24  오후 06:11                79 test.txt\n",
      "2021-10-06  오후 03:59            36,383 모든슬라이드추가.pptx\n",
      "              21개 파일             256,041 바이트\n",
      "               4개 디렉터리  104,911,273,984 바이트 남음\n"
     ]
    }
   ],
   "source": [
    "!dir"
   ]
  },
  {
   "cell_type": "code",
   "execution_count": 11,
   "id": "a951ebf7",
   "metadata": {},
   "outputs": [],
   "source": [
    "del prs"
   ]
  },
  {
   "cell_type": "code",
   "execution_count": 14,
   "id": "8c0cedd0",
   "metadata": {},
   "outputs": [],
   "source": [
    "prs = Presentation()\n",
    "\n",
    "title_slide_layout = prs.slide_layouts[0]\n",
    "slide = prs.slides.add_slide(title_slide_layout)\n",
    "\n",
    "# 제목\n",
    "title = slide.placeholders[0]\n",
    "title.text = \"Hello, Python Based PPTX\"\n",
    "\n",
    "# 부제목\n",
    "subtitle = slide.placeholders[1]\n",
    "subtitle.text = \"python-pptx를 사용해서 PPT 만들기\"\n",
    "\n",
    "prs.save('test.pptx')"
   ]
  },
  {
   "cell_type": "code",
   "execution_count": 15,
   "id": "e6f6af1e",
   "metadata": {},
   "outputs": [
    {
     "name": "stdout",
     "output_type": "stream",
     "text": [
      " C 드라이브의 볼륨에는 이름이 없습니다.\n",
      " 볼륨 일련 번호: E68B-BC99\n",
      "\n",
      " C:\\Users\\user\\python_works\\PythonWorkshop 디렉터리\n",
      "\n",
      "2021-10-06  오후 04:07    <DIR>          .\n",
      "2021-10-06  오후 04:07    <DIR>          ..\n",
      "2021-09-17  오후 05:54             1,928 .gitignore\n",
      "2021-10-06  오후 03:59    <DIR>          .ipynb_checkpoints\n",
      "2021-09-23  오후 08:04            15,673 Array.ipynb\n",
      "2021-09-24  오후 09:12            12,169 Class.ipynb\n",
      "2021-09-24  오후 07:04                37 colors\n",
      "2021-09-23  오후 08:03             8,642 ControlStatement.ipynb\n",
      "2021-09-23  오후 08:03             4,111 DataType.ipynb\n",
      "2021-09-24  오후 08:49            37,095 FileIO.ipynb\n",
      "2021-09-24  오후 08:54            16,074 Function_Method.ipynb\n",
      "2021-09-28  오후 09:51            36,822 homework.ipynb\n",
      "2021-10-04  오후 03:58             5,793 Kakao_friend_msg_api.ipynb\n",
      "2021-09-29  오후 09:41            15,342 Kakao_msg_api.ipynb\n",
      "2021-09-28  오후 09:51             2,394 operator_overload.ipynb\n",
      "2021-10-05  오후 08:02             9,487 order_test.ipynb\n",
      "2021-10-06  오후 04:06             8,078 pptx_control.ipynb\n",
      "2021-10-04  오후 07:35             5,469 Python_response.ipynb\n",
      "2021-09-17  오후 07:52            18,494 python_test.ipynb\n",
      "2021-09-17  오후 05:54                51 README.md\n",
      "2021-09-17  오후 07:45            27,952 request_success.jpg\n",
      "2021-10-01  오후 06:01    <DIR>          res\n",
      "2021-09-24  오후 07:14                47 test\n",
      "2021-10-06  오후 04:07            28,309 test.pptx\n",
      "2021-09-24  오후 06:11                79 test.txt\n",
      "2021-10-06  오후 03:59            36,383 모든슬라이드추가.pptx\n",
      "              22개 파일             290,429 바이트\n",
      "               4개 디렉터리  104,889,589,760 바이트 남음\n"
     ]
    }
   ],
   "source": [
    "!dir"
   ]
  },
  {
   "cell_type": "code",
   "execution_count": 16,
   "id": "da720648",
   "metadata": {},
   "outputs": [],
   "source": [
    "del prs"
   ]
  },
  {
   "cell_type": "code",
   "execution_count": 19,
   "id": "7351c87f",
   "metadata": {},
   "outputs": [],
   "source": [
    "prs = Presentation()\n",
    "\n",
    "title_slide_layout = prs.slide_layouts[0]\n",
    "slide = prs.slides.add_slide(title_slide_layout)\n",
    "\n",
    "# 제목\n",
    "title = slide.placeholders[0]\n",
    "title.text = \"Hello, Python Based PPTX\"\n",
    "\n",
    "# 부제목\n",
    "# 즉 제목은 placeholders[0], 부제목은 [1]\n",
    "subtitle = slide.placeholders[1]\n",
    "subtitle.text = \"python-pptx로 단락(paragraph) 만들기\"\n",
    "\n",
    "# 두 번째 슬라이드\n",
    "bullet_slide_layout = prs.slide_layouts[1]\n",
    "slide = prs.slides.add_slide(bullet_slide_layout)\n",
    "\n",
    "# 마찬가지로 [0] - 제목\n",
    "title_shape = slide.placeholders[0]\n",
    "title_shape.text = '문단 추가하기'\n",
    "\n",
    "# 부제목인데 여기서는 내용물 작성하는 용도로 활용\n",
    "body_shape = slide.placeholders[1]\n",
    "# 글자 적는 공간이라고 알려줌(text_frame)\n",
    "tf = body_shape.text_frame\n",
    "tf.text = \"글자는 이렇게 추가합니다\"\n",
    "\n",
    "# 새로운 문단 추가\n",
    "p = tf.add_paragraph()\n",
    "p.text = '그 아래에 추가 문단이 들어갑니다'\n",
    "# 들여쓰기\n",
    "p.level = 1\n",
    "\n",
    "p = tf.add_paragraph()\n",
    "p.text = '하나 더 추가해봅니다'\n",
    "p.level = 2\n",
    "\n",
    "\n",
    "prs.save('글자쓰기.pptx')"
   ]
  },
  {
   "cell_type": "code",
   "execution_count": 20,
   "id": "14af7cc1",
   "metadata": {},
   "outputs": [],
   "source": [
    "del prs"
   ]
  },
  {
   "cell_type": "code",
   "execution_count": 21,
   "id": "5ba9c825",
   "metadata": {},
   "outputs": [],
   "source": [
    "prs = Presentation()\n",
    "\n",
    "title_slide_layout = prs.slide_layouts[0]\n",
    "slide = prs.slides.add_slide(title_slide_layout)\n",
    "\n",
    "# 제목\n",
    "title = slide.placeholders[0]\n",
    "title.text = \"Python-pptx로 사진넣기\"\n",
    "\n",
    "# 부제목\n",
    "subtitle = slide.placeholders[1]\n",
    "subtitle.text = \"이게 가능할까요?\"\n",
    "\n",
    "img_path = \"res/ppt/porori.jpg\"\n",
    "\n",
    "# 6번이 아까 빈 슬라이드였음\n",
    "img_slide_layout = prs.slide_layouts[6]\n",
    "slide = prs.slides.add_slide(img_slide_layout)\n",
    "\n",
    "left = top = Inches(1)\n",
    "width = height = Inches(1)\n",
    "\n",
    "pic = slide.shapes.add_picture(img_path, left, top, width=width, height=height)\n",
    "\n",
    "left = Inches(3)\n",
    "width = Inches(5.5)\n",
    "height = Inches(4)\n",
    "pic = slide.shapes.add_picture(img_path, left, top, width=width, height=height)\n",
    "\n",
    "prs.save('이미지.pptx')"
   ]
  },
  {
   "cell_type": "code",
   "execution_count": 22,
   "id": "5ba9806d",
   "metadata": {},
   "outputs": [
    {
     "name": "stdout",
     "output_type": "stream",
     "text": [
      " C 드라이브의 볼륨에는 이름이 없습니다.\n",
      " 볼륨 일련 번호: E68B-BC99\n",
      "\n",
      " C:\\Users\\user\\python_works\\PythonWorkshop 디렉터리\n",
      "\n",
      "2021-10-06  오후 04:37    <DIR>          .\n",
      "2021-10-06  오후 04:37    <DIR>          ..\n",
      "2021-09-17  오후 05:54             1,928 .gitignore\n",
      "2021-10-06  오후 03:59    <DIR>          .ipynb_checkpoints\n",
      "2021-09-23  오후 08:04            15,673 Array.ipynb\n",
      "2021-09-24  오후 09:12            12,169 Class.ipynb\n",
      "2021-09-24  오후 07:04                37 colors\n",
      "2021-09-23  오후 08:03             8,642 ControlStatement.ipynb\n",
      "2021-09-23  오후 08:03             4,111 DataType.ipynb\n",
      "2021-09-24  오후 08:49            37,095 FileIO.ipynb\n",
      "2021-09-24  오후 08:54            16,074 Function_Method.ipynb\n",
      "2021-09-28  오후 09:51            36,822 homework.ipynb\n",
      "2021-10-04  오후 03:58             5,793 Kakao_friend_msg_api.ipynb\n",
      "2021-09-29  오후 09:41            15,342 Kakao_msg_api.ipynb\n",
      "2021-09-28  오후 09:51             2,394 operator_overload.ipynb\n",
      "2021-10-05  오후 08:02             9,487 order_test.ipynb\n",
      "2021-10-06  오후 04:36            12,565 pptx_control.ipynb\n",
      "2021-10-04  오후 07:35             5,469 Python_response.ipynb\n",
      "2021-09-17  오후 07:52            18,494 python_test.ipynb\n",
      "2021-09-17  오후 05:54                51 README.md\n",
      "2021-09-17  오후 07:45            27,952 request_success.jpg\n",
      "2021-10-06  오후 04:33    <DIR>          res\n",
      "2021-09-24  오후 07:14                47 test\n",
      "2021-10-06  오후 04:07            28,309 test.pptx\n",
      "2021-09-24  오후 06:11                79 test.txt\n",
      "2021-10-06  오후 04:17            29,273 글자쓰기.pptx\n",
      "2021-10-06  오후 03:59            36,383 모든슬라이드추가.pptx\n",
      "2021-10-06  오후 04:37           122,887 이미지.pptx\n",
      "              24개 파일             447,076 바이트\n",
      "               4개 디렉터리  104,881,778,688 바이트 남음\n"
     ]
    }
   ],
   "source": [
    "!dir"
   ]
  },
  {
   "cell_type": "code",
   "execution_count": 23,
   "id": "e0fbc3d5",
   "metadata": {},
   "outputs": [],
   "source": [
    "del prs"
   ]
  },
  {
   "cell_type": "code",
   "execution_count": 25,
   "id": "7801f04e",
   "metadata": {},
   "outputs": [],
   "source": [
    "prs = Presentation()\n",
    "\n",
    "title_slide_layout = prs.slide_layouts[0]\n",
    "slide = prs.slides.add_slide(title_slide_layout)\n",
    "\n",
    "# 제목\n",
    "title = slide.placeholders[0]\n",
    "title.text = \"Python-pptx로 표 만들기\"\n",
    "\n",
    "# 부제목\n",
    "subtitle = slide.placeholders[1]\n",
    "subtitle.text = \"사실상 핵심\"\n",
    "\n",
    "\n",
    "# 5번이 표 양식임\n",
    "table_slide_layout = prs.slide_layouts[5]\n",
    "slide = prs.slides.add_slide(table_slide_layout)\n",
    "shapes = slide.shapes\n",
    "\n",
    "title_shape = slide.placeholders[0]\n",
    "title_shape.text = '표 추가하기'\n",
    "\n",
    "rows = cols = 2\n",
    "left = top = Inches(2)\n",
    "width = Inches(6)\n",
    "height = Inches(0.8)\n",
    "\n",
    "table = shapes.add_table(rows, cols, left, top, width, height).table\n",
    "\n",
    "# 열의 폭\n",
    "table.columns[0].width = Inches(2)\n",
    "table.columns[1].width = Inches(4)\n",
    "\n",
    "# 열의 제목\n",
    "table.cell(0, 0).text = '여기'\n",
    "table.cell(0, 1).text = '저기'\n",
    "\n",
    "# 셀의 내용\n",
    "table.cell(1, 0).text = '왔다'\n",
    "table.cell(1, 1).text = '갔다'\n",
    "\n",
    "\n",
    "prs.save('표.pptx')"
   ]
  },
  {
   "cell_type": "code",
   "execution_count": 26,
   "id": "360b8aa2",
   "metadata": {},
   "outputs": [
    {
     "name": "stdout",
     "output_type": "stream",
     "text": [
      " C 드라이브의 볼륨에는 이름이 없습니다.\n",
      " 볼륨 일련 번호: E68B-BC99\n",
      "\n",
      " C:\\Users\\user\\python_works\\PythonWorkshop 디렉터리\n",
      "\n",
      "2021-10-06  오후 04:57    <DIR>          .\n",
      "2021-10-06  오후 04:57    <DIR>          ..\n",
      "2021-09-17  오후 05:54             1,928 .gitignore\n",
      "2021-10-06  오후 03:59    <DIR>          .ipynb_checkpoints\n",
      "2021-09-23  오후 08:04            15,673 Array.ipynb\n",
      "2021-09-24  오후 09:12            12,169 Class.ipynb\n",
      "2021-09-24  오후 07:04                37 colors\n",
      "2021-09-23  오후 08:03             8,642 ControlStatement.ipynb\n",
      "2021-09-23  오후 08:03             4,111 DataType.ipynb\n",
      "2021-09-24  오후 08:49            37,095 FileIO.ipynb\n",
      "2021-09-24  오후 08:54            16,074 Function_Method.ipynb\n",
      "2021-09-28  오후 09:51            36,822 homework.ipynb\n",
      "2021-10-04  오후 03:58             5,793 Kakao_friend_msg_api.ipynb\n",
      "2021-09-29  오후 09:41            15,342 Kakao_msg_api.ipynb\n",
      "2021-09-28  오후 09:51             2,394 operator_overload.ipynb\n",
      "2021-10-05  오후 08:02             9,487 order_test.ipynb\n",
      "2021-10-06  오후 04:56            17,129 pptx_control.ipynb\n",
      "2021-10-04  오후 07:35             5,469 Python_response.ipynb\n",
      "2021-09-17  오후 07:52            18,494 python_test.ipynb\n",
      "2021-09-17  오후 05:54                51 README.md\n",
      "2021-09-17  오후 07:45            27,952 request_success.jpg\n",
      "2021-10-06  오후 04:33    <DIR>          res\n",
      "2021-09-24  오후 07:14                47 test\n",
      "2021-10-06  오후 04:07            28,309 test.pptx\n",
      "2021-09-24  오후 06:11                79 test.txt\n",
      "2021-10-06  오후 04:17            29,273 글자쓰기.pptx\n",
      "2021-10-06  오후 03:59            36,383 모든슬라이드추가.pptx\n",
      "2021-10-06  오후 04:43           128,545 이미지.pptx\n",
      "2021-10-06  오후 04:57            29,401 표.pptx\n",
      "              25개 파일             486,699 바이트\n",
      "               4개 디렉터리  104,863,150,080 바이트 남음\n"
     ]
    }
   ],
   "source": [
    "!dir"
   ]
  },
  {
   "cell_type": "code",
   "execution_count": null,
   "id": "fad194da",
   "metadata": {},
   "outputs": [],
   "source": []
  }
 ],
 "metadata": {
  "kernelspec": {
   "display_name": "Python 3",
   "language": "python",
   "name": "python3"
  },
  "language_info": {
   "codemirror_mode": {
    "name": "ipython",
    "version": 3
   },
   "file_extension": ".py",
   "mimetype": "text/x-python",
   "name": "python",
   "nbconvert_exporter": "python",
   "pygments_lexer": "ipython3",
   "version": "3.8.8"
  }
 },
 "nbformat": 4,
 "nbformat_minor": 5
}
