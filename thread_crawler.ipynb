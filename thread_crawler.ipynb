{
 "cells": [
  {
   "cell_type": "code",
   "execution_count": 2,
   "id": "89b1bcf3",
   "metadata": {},
   "outputs": [],
   "source": [
    "import os\n",
    "import re\n",
    "import time\n",
    "import socket"
   ]
  },
  {
   "cell_type": "code",
   "execution_count": 3,
   "id": "270a9e58",
   "metadata": {},
   "outputs": [],
   "source": [
    "# 크롤링 결과를 저장하는 파일\n",
    "CRAWLED_RESULT_SAVED_FILE = \"res/crawl_data/result.txt\""
   ]
  },
  {
   "cell_type": "code",
   "execution_count": 4,
   "id": "54c5136f",
   "metadata": {},
   "outputs": [],
   "source": [
    "def record_url_info_thread():\n",
    "    while (True):\n",
    "        f = open(CRAWLED_RESULT_SAVED_FILE, 'w')\n",
    "        print(f.write('test'))\n",
    "        f.close()"
   ]
  },
  {
   "cell_type": "code",
   "execution_count": 5,
   "id": "84e72229",
   "metadata": {},
   "outputs": [
    {
     "name": "stdout",
     "output_type": "stream",
     "text": [
      "4\n"
     ]
    }
   ],
   "source": [
    "#record_info()"
   ]
  },
  {
   "cell_type": "code",
   "execution_count": 8,
   "id": "aeb72491",
   "metadata": {},
   "outputs": [
    {
     "name": "stdout",
     "output_type": "stream",
     "text": [
      " C 드라이브의 볼륨: 오후반_OS\n",
      " 볼륨 일련 번호: E808-E5FC\n",
      "\n",
      " C:\\Users\\user2\\python_works\\PythonWorkshop-1\\res\\crawl_data 디렉터리\n",
      "\n",
      "2021-10-21  오후 03:45    <DIR>          .\n",
      "2021-10-21  오후 03:45    <DIR>          ..\n",
      "2021-10-21  오후 03:45                 4 result.txt\n",
      "               1개 파일                   4 바이트\n",
      "               2개 디렉터리  147,387,457,536 바이트 남음\n"
     ]
    }
   ],
   "source": [
    "!dir res\\crawl_data"
   ]
  },
  {
   "cell_type": "code",
   "execution_count": 9,
   "id": "45dc9f18",
   "metadata": {},
   "outputs": [
    {
     "name": "stdout",
     "output_type": "stream",
     "text": [
      "test\n"
     ]
    }
   ],
   "source": [
    "!type res\\crawl_data\\result.txt"
   ]
  },
  {
   "cell_type": "code",
   "execution_count": 10,
   "id": "bb8c70df",
   "metadata": {},
   "outputs": [],
   "source": [
    "from flask import Flask, url_for, request, jsonify, redirect, Response\n",
    "from flask_cors import CORS, cross_origin\n",
    "\n",
    "import json\n",
    "import requests"
   ]
  },
  {
   "cell_type": "code",
   "execution_count": 11,
   "id": "58158977",
   "metadata": {},
   "outputs": [],
   "source": [
    "import selenium\n",
    "from selenium import webdriver"
   ]
  },
  {
   "cell_type": "code",
   "execution_count": 45,
   "id": "f7298f13",
   "metadata": {},
   "outputs": [],
   "source": [
    "def cont_youtube_crawl_thread(text):\n",
    "    #url = \"https://www.youtube.com/\"\n",
    "    url = \"https://www.youtube.com/results?search_query=\"\n",
    "\n",
    "    driver = webdriver.Chrome(r\"C:\\chromedriver.exe\")\n",
    "    \n",
    "    search_url = url + text\n",
    "    driver.get(url = search_url)\n",
    "    \n",
    "    # URL 확보\n",
    "    allContents = driver.find_elements_by_css_selector(\n",
    "        \"#contents > ytd-item-section-renderer > div > ytd-video-renderer > div > ytd-thumbnail > a\"\n",
    "    )\n",
    "\n",
    "    hrefURL = []\n",
    "\n",
    "    for item in allContents:\n",
    "        if (item != ''):\n",
    "            hrefURL.append(item.get_attribute('href'))\n",
    "            \n",
    "    shelfContents = driver.find_elements_by_css_selector(\n",
    "        \"#contents > ytd-shelf-renderer > div > div > ytd-vertical-list-renderer > div > ytd-video-renderer > div > ytd-thumbnail > a\"\n",
    "    )\n",
    "    \n",
    "    for item in shelfContents:\n",
    "        if (item != ''):\n",
    "            hrefURL.append(item.get_attribute('href'))\n",
    "\n",
    "    print(hrefURL)\n",
    "    print(\"크롤링 개수: \", len(hrefURL))\n",
    "    \n",
    "    # y축으로 3000 픽셀 이동함\n",
    "    #driver.execute_script(\"window.scrollTo(0, 3000)\")"
   ]
  },
  {
   "cell_type": "code",
   "execution_count": 46,
   "id": "d00eef22",
   "metadata": {},
   "outputs": [],
   "source": [
    "# 현재 상황에서 기록하는 스레드와 크롤링 하는 두 개의 스레드가 있음\n",
    "# 여기에서 어떤 문제점이 발생할 수 있을까 ?\n",
    "\n",
    "# 크롤링하는 스레드 - 검색 키워드를 기반으로 크롤링\n",
    "# 기록하는 스레드 - 크롤링한 URL 저장"
   ]
  },
  {
   "cell_type": "code",
   "execution_count": 47,
   "id": "d8aadd9d",
   "metadata": {},
   "outputs": [
    {
     "name": "stdout",
     "output_type": "stream",
     "text": [
      "['https://www.youtube.com/watch?v=PJ5QuJluIWU', 'https://www.youtube.com/watch?v=-e4fC_oXvMg', 'https://www.youtube.com/watch?v=UUtnh3J8xfQ', 'https://www.youtube.com/watch?v=SIRv-UeJZXM', 'https://www.youtube.com/watch?v=9KnTJVQRYag', 'https://www.youtube.com/watch?v=OMBjyeSJLqY', 'https://www.youtube.com/watch?v=z48eJfp_HP4', 'https://www.youtube.com/watch?v=gmd4OnrxR0Q', 'https://www.youtube.com/watch?v=nfbGqacJtmw', 'https://www.youtube.com/watch?v=J1pa4irZwEM', 'https://www.youtube.com/watch?v=ePSG2dJvx48', 'https://www.youtube.com/watch?v=BgHNCRSYH5o', 'https://www.youtube.com/watch?v=JLkAv6kwGJw', 'https://www.youtube.com/watch?v=7IkGv9asbkQ', 'https://www.youtube.com/watch?v=5aNHqVXQ4W8', 'https://www.youtube.com/watch?v=22_1CRL35Qk', 'https://www.youtube.com/watch?v=-XYSZpWvSGs', 'https://www.youtube.com/watch?v=ktK-8XU8UzI', 'https://www.youtube.com/watch?v=YE5aUwt9mKs', 'https://www.youtube.com/watch?v=TYko_VKWSJ0', 'https://www.youtube.com/watch?v=-lgYmZsFK-U', 'https://www.youtube.com/watch?v=YVI-EFbFLtY', 'https://www.youtube.com/watch?v=0Qjb9cFdF-8', 'https://www.youtube.com/watch?v=d4Oerip31u8']\n",
      "크롤링 개수:  24\n"
     ]
    }
   ],
   "source": [
    "cont_youtube_crawl_thread(\"시고르자브종\")"
   ]
  },
  {
   "cell_type": "code",
   "execution_count": null,
   "id": "cdb654dd",
   "metadata": {},
   "outputs": [],
   "source": []
  }
 ],
 "metadata": {
  "kernelspec": {
   "display_name": "Python 3",
   "language": "python",
   "name": "python3"
  },
  "language_info": {
   "codemirror_mode": {
    "name": "ipython",
    "version": 3
   },
   "file_extension": ".py",
   "mimetype": "text/x-python",
   "name": "python",
   "nbconvert_exporter": "python",
   "pygments_lexer": "ipython3",
   "version": "3.8.8"
  }
 },
 "nbformat": 4,
 "nbformat_minor": 5
}
