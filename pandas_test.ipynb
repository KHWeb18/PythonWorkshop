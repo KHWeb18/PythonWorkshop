{
 "cells": [
  {
   "cell_type": "code",
   "execution_count": 2,
   "id": "91622970",
   "metadata": {},
   "outputs": [],
   "source": [
    "import pandas as pd"
   ]
  },
  {
   "cell_type": "code",
   "execution_count": 3,
   "id": "998f7da7",
   "metadata": {},
   "outputs": [
    {
     "name": "stdout",
     "output_type": "stream",
     "text": [
      "  Signal Name Direction      Target  Signal Value\n",
      "0   VehSpeed1        Tx  Component1          10.4\n",
      "1   VehSpeed2        Tx  Component1          10.3\n",
      "2   VehSpeed3        Rx  Component1          12.0\n",
      "3   VehSpeed4        Tx  Component1          13.1\n",
      "4   VehSpeed5        Tx  Component2           9.4\n",
      "5   VehSpeed6        Tx  Component2           8.4\n",
      "6   VehSpeed7        Rx  Component2           3.9\n",
      "7   VehSpeed8        Tx  Component2           7.1\n",
      "8   VehSpeed9        Tx  Component2           7.5\n",
      "9  VehSpeed10        Tx  Component2           4.3\n"
     ]
    }
   ],
   "source": [
    "data = pd.read_csv(\"Data_example.csv\")\n",
    "\n",
    "print(data)"
   ]
  },
  {
   "cell_type": "code",
   "execution_count": 4,
   "id": "4a19bafe",
   "metadata": {},
   "outputs": [
    {
     "name": "stdout",
     "output_type": "stream",
     "text": [
      "  Signal Name  Signal Value      Target\n",
      "0   VehSpeed1          10.4  Component1\n",
      "1   VehSpeed2          10.3  Component1\n",
      "2   VehSpeed3          12.0  Component1\n",
      "3   VehSpeed4          13.1  Component1\n",
      "4   VehSpeed5           9.4  Component2\n",
      "5   VehSpeed6           8.4  Component2\n",
      "6   VehSpeed7           3.9  Component2\n",
      "7   VehSpeed8           7.1  Component2\n",
      "8   VehSpeed9           7.5  Component2\n",
      "9  VehSpeed10           4.3  Component2\n"
     ]
    }
   ],
   "source": [
    "selected_data = pd.DataFrame(data, columns = ['Signal Name', 'Signal Value', 'Target'])\n",
    "\n",
    "print(selected_data)"
   ]
  },
  {
   "cell_type": "code",
   "execution_count": 5,
   "id": "c22b98eb",
   "metadata": {},
   "outputs": [],
   "source": [
    "selected_data.to_csv(\"./modify.csv\")"
   ]
  },
  {
   "cell_type": "code",
   "execution_count": 6,
   "id": "5d1d0186",
   "metadata": {},
   "outputs": [
    {
     "name": "stdout",
     "output_type": "stream",
     "text": [
      " C 드라이브의 볼륨: 오후반_OS\n",
      " 볼륨 일련 번호: E808-E5FC\n",
      "\n",
      " C:\\Users\\user2\\python_works\\PythonWorkshop-1 디렉터리\n",
      "\n",
      "2021-10-19  오후 03:55    <DIR>          .\n",
      "2021-10-19  오후 03:55    <DIR>          ..\n",
      "2021-09-17  오후 05:46             1,928 .gitignore\n",
      "2021-10-19  오후 03:33    <DIR>          .ipynb_checkpoints\n",
      "2021-09-23  오후 05:43            14,823 Array.ipynb\n",
      "2021-09-28  오후 07:33            50,831 Class.ipynb\n",
      "2021-09-24  오후 07:01                37 colors\n",
      "2021-09-23  오후 08:06             8,476 ControlStatement.ipynb\n",
      "2021-09-23  오후 04:18             4,087 DataType.ipynb\n",
      "2021-10-19  오후 03:48               337 Data_example.csv\n",
      "2021-10-07  오후 04:21             7,989 email_process.ipynb\n",
      "2021-09-27  오후 09:16             1,621 exception_test.ipynb\n",
      "2021-09-24  오후 07:19            29,669 FileIO.ipynb\n",
      "2021-09-24  오후 05:53            15,511 Function(Method).ipynb\n",
      "2021-10-07  오후 07:21            15,046 kakao_email_order_test.ipynb\n",
      "2021-10-01  오후 08:43             9,880 kakao_friends_msg_api.ipynb\n",
      "2021-10-01  오후 06:00            15,980 kakao_msg_api.ipynb\n",
      "2021-10-12  오후 05:09    <DIR>          linux_results\n",
      "2021-10-19  오후 03:55               319 modify.csv\n",
      "2021-10-12  오후 05:11            11,383 multi_task_control.ipynb\n",
      "2021-10-11  오후 09:47             2,382 ode.ipynb\n",
      "2021-10-11  오후 09:08            84,057 ode.txt\n",
      "2021-09-28  오후 07:53             2,382 operator_overload.ipynb\n",
      "2021-10-05  오후 09:49           402,051 order_test.ipynb\n",
      "2021-10-06  오후 04:58            22,179 pptx_control.ipynb\n",
      "2021-10-08  오후 07:10            45,132 python_crawl_server.ipynb\n",
      "2021-10-11  오후 06:10           285,236 python_mysql.ipynb\n",
      "2021-10-05  오후 05:11             5,468 python_response.ipynb\n",
      "2021-09-17  오후 07:52            19,755 python_taste.ipynb\n",
      "2021-09-17  오후 05:46                51 README.md\n",
      "2021-09-17  오후 07:05            27,952 request_success.jpg\n",
      "2021-10-11  오후 03:44    <DIR>          res\n",
      "2021-10-08  오후 05:08            14,938 selenium_crawling.ipynb\n",
      "2021-09-24  오후 07:14                47 test\n",
      "2021-10-06  오후 04:05            28,310 test.pptx\n",
      "2021-09-24  오후 06:10                83 test.txt\n",
      "2021-10-12  오후 07:45               576 Untitled.ipynb\n",
      "2021-10-19  오후 03:53             2,634 Untitled1.ipynb\n",
      "2021-10-06  오후 04:15            29,290 글자쓰기.pptx\n",
      "2021-10-06  오후 03:59            36,383 모든슬라이드추가.pptx\n",
      "2021-10-06  오후 04:56            29,409 이거시표다.pptx\n",
      "2021-10-06  오후 04:43            55,960 이미지.pptx\n",
      "              37개 파일           1,282,192 바이트\n",
      "               5개 디렉터리  147,048,128,512 바이트 남음\n"
     ]
    }
   ],
   "source": [
    "!dir"
   ]
  },
  {
   "cell_type": "code",
   "execution_count": null,
   "id": "169bde0a",
   "metadata": {},
   "outputs": [],
   "source": []
  },
  {
   "cell_type": "code",
   "execution_count": 9,
   "id": "f919f256",
   "metadata": {},
   "outputs": [],
   "source": [
    "import pymysql\n",
    "import datetime"
   ]
  },
  {
   "cell_type": "code",
   "execution_count": 12,
   "id": "632cb154",
   "metadata": {},
   "outputs": [
    {
     "name": "stdout",
     "output_type": "stream",
     "text": [
      "start:  2021-10-19 16:04:09\n"
     ]
    }
   ],
   "source": [
    "print('start: ', str(datetime.datetime.now())[:19])"
   ]
  },
  {
   "cell_type": "code",
   "execution_count": null,
   "id": "6c350342",
   "metadata": {},
   "outputs": [],
   "source": []
  }
 ],
 "metadata": {
  "kernelspec": {
   "display_name": "Python 3",
   "language": "python",
   "name": "python3"
  },
  "language_info": {
   "codemirror_mode": {
    "name": "ipython",
    "version": 3
   },
   "file_extension": ".py",
   "mimetype": "text/x-python",
   "name": "python",
   "nbconvert_exporter": "python",
   "pygments_lexer": "ipython3",
   "version": "3.8.8"
  }
 },
 "nbformat": 4,
 "nbformat_minor": 5
}
