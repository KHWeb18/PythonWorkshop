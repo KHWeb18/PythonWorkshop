{
 "cells": [
  {
   "cell_type": "code",
   "execution_count": 2,
   "id": "b48d342c",
   "metadata": {},
   "outputs": [
    {
     "name": "stdout",
     "output_type": "stream",
     "text": [
      "['In', 'Out', 'PyTestClass', '_', '__', '___', '__builtin__', '__builtins__', '__doc__', '__loader__', '__name__', '__package__', '__spec__', '_dh', '_i', '_i1', '_i2', '_ih', '_ii', '_iii', '_oh', 'exit', 'get_ipython', 'quit']\n",
      "<class 'type'>\n"
     ]
    }
   ],
   "source": [
    "class PyTestClass:\n",
    "    \"\"\"It's for Test Class \"\"\"\n",
    "    pass\n",
    "\n",
    "print(dir())\n",
    "print(type(PyTestClass))"
   ]
  },
  {
   "cell_type": "code",
   "execution_count": 4,
   "id": "061a7126",
   "metadata": {},
   "outputs": [
    {
     "name": "stdout",
     "output_type": "stream",
     "text": [
      "My Name is Default\n",
      "My Name is 파이썬3 테스트 클래스\n",
      "My Name is 파이썬3 테스트 클래스\n"
     ]
    }
   ],
   "source": [
    "class Person:\n",
    "    Name =\"Default\"\n",
    "    \n",
    "    def Print(self):\n",
    "        print(\"My Name is {0}\".format(self.Name))\n",
    "p = Person()\n",
    "p.Print()\n",
    "\n",
    "p.Name = \"파이썬3 테스트 클래스\"\n",
    "p.Print()\n",
    "Person.Print(p)"
   ]
  },
  {
   "cell_type": "code",
   "execution_count": 5,
   "id": "baf97c27",
   "metadata": {},
   "outputs": [
    {
     "name": "stdout",
     "output_type": "stream",
     "text": [
      "p Name:  파이썬3 테스트 클래스\n",
      "p2 Name: Default\n",
      "p title: Python3 테스트\n",
      "p2 title: Python3 테스트\n",
      "Person title: Python3 테스트\n",
      "p age: 20\n"
     ]
    }
   ],
   "source": [
    "p2  = Person()\n",
    "\n",
    "print(\"p Name: \", p.Name)\n",
    "print(\"p2 Name:\", p2.Name)\n",
    "\n",
    "Person.title = \"Python3 테스트\"\n",
    "print(\"p title:\" ,p.title)\n",
    "print(\"p2 title:\", p2.title)\n",
    "print(\"Person title:\", Person.title)\n",
    "\n",
    "p.age = 20\n",
    "print(\"p age:\", p.age)\n"
   ]
  },
  {
   "cell_type": "code",
   "execution_count": 10,
   "id": "81e5f952",
   "metadata": {},
   "outputs": [
    {
     "name": "stdout",
     "output_type": "stream",
     "text": [
      "클래스 맴버 아님\n",
      "테스트 메세지\n"
     ]
    }
   ],
   "source": [
    "str1 =\"클래스 맴버 아님\"\n",
    "\n",
    "class NonSelfTest:\n",
    "    str1 = \"\"\n",
    "    \n",
    "    def Set(self,msg):\n",
    "        self.str1 = msg\n",
    "        \n",
    "        \n",
    "    def Print(self):\n",
    "        print(str1)\n",
    "        \n",
    "    def WhyUseSelfPrint(self):\n",
    "        print(self.str1)\n",
    "        \n",
    "test = NonSelfTest()\n",
    "\n",
    "test.Set(\"테스트 메세지\")\n",
    "test.Print()\n",
    "test.WhyUseSelfPrint()"
   ]
  },
  {
   "cell_type": "code",
   "execution_count": 13,
   "id": "b4b09d2c",
   "metadata": {},
   "outputs": [
    {
     "name": "stdout",
     "output_type": "stream",
     "text": [
      "생성자! Value= 333\n",
      "소멸자!\n",
      "소멸자 끝나고나서~!\n"
     ]
    }
   ],
   "source": [
    "class Vehicles:\n",
    "    def __init__(self, value):\n",
    "        self.Value = value\n",
    "        print(\"생성자! Value=\", value)\n",
    "        \n",
    "    def __del__(self):\n",
    "        print(\"소멸자!\")\n",
    "        \n",
    "def test():\n",
    "    v = Vehicles(333);\n",
    "        \n",
    "test()        \n",
    "print(\"소멸자 끝나고나서~!\")       \n",
    "        \n",
    "        "
   ]
  },
  {
   "cell_type": "code",
   "execution_count": 14,
   "id": "873dcbf1",
   "metadata": {},
   "outputs": [
    {
     "name": "stdout",
     "output_type": "stream",
     "text": [
      "Info(name: Maron, phoneNum: 045-607-1852)\n",
      "{'name': 'Maron', 'phoneNum': '045-607-1852'}\n",
      "{'name': 'Lunar', 'phoneNum': '406-708-3821', 'subject': 'Electronic Engineering', 'studentId': '7283492'}\n"
     ]
    }
   ],
   "source": [
    "class Person:\n",
    "    def __init__(self,name,phoneNum):\n",
    "        self.name =name\n",
    "        self.phoneNum = phoneNum\n",
    "        \n",
    "    def printInfo(self):\n",
    "        print(\"Info(name: {0}, phoneNum: {1})\".format(self.name, self.phoneNum))\n",
    "        \n",
    "class Student(Person):\n",
    "    def __init__ (self, name , phoneNum, subject, studentId):\n",
    "        self.name = name\n",
    "        self.phoneNum = phoneNum\n",
    "        self.subject  = subject\n",
    "        self.studentId = studentId\n",
    "        \n",
    "p = Person(\"Maron\", \"045-607-1852\")\n",
    "s = Student(\"Lunar\", \"406-708-3821\", \"Electronic Engineering\", \"7283492\")\n",
    "\n",
    "p.printInfo()\n",
    "\n",
    "print(p.__dict__)\n",
    "print(s.__dict__)"
   ]
  },
  {
   "cell_type": "code",
   "execution_count": 16,
   "id": "f95a137d",
   "metadata": {},
   "outputs": [
    {
     "name": "stdout",
     "output_type": "stream",
     "text": [
      "I'm Sub class: [3]\n",
      "I'm super Class\n",
      "{'Number': 3}\n"
     ]
    }
   ],
   "source": [
    "# super () 활용법 \n",
    "\n",
    "class Parent(object):\n",
    "    def __init__(self, number):\n",
    "        self.Number = number\n",
    "        \n",
    "    def printMsg(self):\n",
    "        print(\"I'm super Class\")\n",
    "\n",
    "class Child(Parent):\n",
    "    def __init__(self, number):\n",
    "        super(Child,self).__init__(number)\n",
    "        \n",
    "    def printMsg(self):\n",
    "        print(\"I'm Sub class: [%s]\" % str(self.Number))\n",
    "        super(Child, self).printMsg()\n",
    "        \n",
    "c = Child(3)\n",
    "c.printMsg()\n",
    "\n",
    "print(c.__dict__)"
   ]
  },
  {
   "cell_type": "code",
   "execution_count": 17,
   "id": "7f33073b",
   "metadata": {},
   "outputs": [
    {
     "name": "stdout",
     "output_type": "stream",
     "text": [
      "64 0.22407108446364532\n",
      "39 0.12465784034947902\n",
      "50 0.46030566749\n",
      "96 0.5435502866448296\n",
      "70 0.9117926022454085\n",
      "45 0.9076895836878415\n",
      "40 0.377306728812985\n",
      "53 0.9487253522720942\n",
      "66 0.6641931514023516\n",
      "98 0.9477744288322668\n",
      "20 0.29569925421368315\n",
      "83 0.6061987728623012\n",
      "33 0.4396706883093493\n",
      "52 0.15775247986998953\n",
      "4 0.36212346699402365\n",
      "57 0.8190576345586604\n",
      "49 0.6278175834917542\n",
      "92 0.16889160058806363\n",
      "43 0.2130184474363902\n",
      "87 0.7503320003482591\n"
     ]
    }
   ],
   "source": [
    "# 파이썬 난수\n",
    "from random import *\n",
    "for i in range(20):\n",
    "    rand_int = randint(1,100)\n",
    "    rand_float = random() # 0~ 1 사이\n",
    "    print(rand_int, rand_float)\n",
    "    \n",
    "\n",
    "    \n"
   ]
  },
  {
   "cell_type": "code",
   "execution_count": 18,
   "id": "3a7d010f",
   "metadata": {},
   "outputs": [],
   "source": [
    "# 숙제 1\n",
    "# 1~ 100 까지의 숫자중 3의 배수만 추려서 출력하도록\n",
    "# 클래스 및 메서드를 프로그래밍 하시오\n",
    "\n",
    "# 숙제 2\n",
    "# 주사위 게임을 플레이 할 수있도록 클래스 및메서드를 작성하시오\n",
    "#주사위는 1개만 굴리도록 하며 승패 판정은 누가 더 높은 주사위 \n",
    "#눈금을 가지느냐에 따라 갈린다.\n",
    "\n",
    "#숙제 3\n",
    "#가상의 보드게임을 만든다.\n",
    "# 한바퀴를 도는데 총 주사위 눈금ㅇ이 40칸 필요하다\n",
    "# 1) 한바퀴를 돌면 자금으로 100만원이 주어진다\n",
    "# 2) 주사위의 특수 능력을 활용 할 수있다.\n",
    "# 2-1) 숫자 2: 모두의 자금에서 50만원을 깐다\n",
    "# 2-2) 숫자 4: 자신의 자금의 5%가 증발한다\n",
    "# 2-3) 숫자 6: 모두의 자금에서 30만원을 추가한다\n",
    "# 2-4) 모든플레이어들이 주사위를 돌린 누금이 짝수일 경우 비밀 상점이 열린다.\n",
    "#      비밀상점 물품: 레드티켓 (지정한 상대의 주사위가 5턴 동안 정지함) - 100만원\n",
    "#                     옐로티켓 (지정한 상대의 주사위가 2턴 동안 정지함) - 50만원 \n",
    "#                     카오스티켓(아무나 한명 2턴간 정지함) - 10만원\n",
    "#                뽑기티켓 (1만원 2만원 5만원 10만원  20만원 50만원 100만원) - 10만원\n",
    "#                연속굴리기(1회 2 회 3회 4회)  -20만원\n",
    "# 2-5) 플레이어가 필드를 3바퀴 돌면 게임이 종료 된다 (주사위 눈금 총 120 칸필요)\n",
    "# 2-6) 게임이 종료된 이후 가장 많은 자금을 가지고 있는 사람이경기에 승리하게된다\n",
    "# 게임 팁 :  1) 일단 돈을 많이 모은다 \n",
    "#            2) 비밀상점을 활용하여 대박(뽑기)를 노리거나 상대방을 행동 불능에\n",
    "#            빠지게한다\n",
    "#          3) 유리한 상황에서 연속굴리기를통해 게임을 빠르게 유도한다.\n",
    "#          4) 다수가 함꼐 플레이할 경우 연속굴리기를통해 정치도 가능하다.\n",
    "#\n"
   ]
  },
  {
   "cell_type": "code",
   "execution_count": 17,
   "id": "d6989025",
   "metadata": {},
   "outputs": [
    {
     "name": "stdout",
     "output_type": "stream",
     "text": [
      "0\n",
      "3\n",
      "6\n",
      "9\n",
      "12\n",
      "15\n",
      "18\n",
      "21\n",
      "24\n",
      "27\n",
      "30\n",
      "33\n",
      "36\n",
      "39\n",
      "42\n",
      "45\n",
      "48\n",
      "51\n",
      "54\n",
      "57\n",
      "60\n",
      "63\n",
      "66\n",
      "69\n",
      "72\n",
      "75\n",
      "78\n",
      "81\n",
      "84\n",
      "87\n",
      "90\n",
      "93\n",
      "96\n",
      "99\n"
     ]
    }
   ],
   "source": [
    "\n",
    "for i in range(100):\n",
    "    if i % 3  == 0:\n",
    "        print(i)\n",
    "         \n",
    "    \n",
    "       \n",
    "        \n",
    "         "
   ]
  },
  {
   "cell_type": "code",
   "execution_count": 51,
   "id": "c51c855b",
   "metadata": {},
   "outputs": [
    {
     "name": "stdout",
     "output_type": "stream",
     "text": [
      "나: 4\n",
      "컴: 4\n",
      "컴승리\n"
     ]
    }
   ],
   "source": [
    "from random import *\n",
    "for i in range(1):\n",
    "    user_int = randint(1,6)\n",
    "    print(\"나:\",user_int)\n",
    "    \n",
    "for i in range(1):\n",
    "    com_int = randint(1,6)\n",
    "    print(\"컴:\",com_int)\n",
    "\n",
    "if user_int > com_int:\n",
    "    print(\"유저승리\")\n",
    "else:\n",
    "    print(\"컴승리\")\n",
    "\n",
    "        \n"
   ]
  },
  {
   "cell_type": "code",
   "execution_count": null,
   "id": "f25e2745",
   "metadata": {},
   "outputs": [],
   "source": []
  },
  {
   "cell_type": "code",
   "execution_count": null,
   "id": "689a6050",
   "metadata": {},
   "outputs": [],
   "source": []
  }
 ],
 "metadata": {
  "kernelspec": {
   "display_name": "Python 3",
   "language": "python",
   "name": "python3"
  },
  "language_info": {
   "codemirror_mode": {
    "name": "ipython",
    "version": 3
   },
   "file_extension": ".py",
   "mimetype": "text/x-python",
   "name": "python",
   "nbconvert_exporter": "python",
   "pygments_lexer": "ipython3",
   "version": "3.8.8"
  }
 },
 "nbformat": 4,
 "nbformat_minor": 5
}
