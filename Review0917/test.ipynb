{
 "cells": [
  {
   "cell_type": "code",
   "execution_count": 1,
   "id": "b7dccb97",
   "metadata": {},
   "outputs": [],
   "source": [
    "## File Write\n",
    "data = \"hello\"\n",
    "with open(\"test.txt\", \"w\") as fp:\n",
    "    fp.write(data)"
   ]
  },
  {
   "cell_type": "code",
   "execution_count": 2,
   "id": "db9cd176",
   "metadata": {},
   "outputs": [
    {
     "name": "stdout",
     "output_type": "stream",
     "text": [
      "python test\n",
      "hello\n"
     ]
    }
   ],
   "source": [
    "## File REad\n",
    "with open(\"test.txt\", \"r\") as fp:\n",
    "    print(\"python test\")\n",
    "    print(fp.read())"
   ]
  },
  {
   "cell_type": "code",
   "execution_count": 3,
   "id": "53622d24",
   "metadata": {},
   "outputs": [
    {
     "name": "stdout",
     "output_type": "stream",
     "text": [
      " C 드라이브의 볼륨에는 이름이 없습니다.\n",
      " 볼륨 일련 번호: BC22-E86F\n",
      "\n",
      " C:\\Users\\jaqkq\\python_works\\PythonWorkshop 디렉터리\n",
      "\n",
      "2021-09-17  오후 06:25    <DIR>          .\n",
      "2021-09-17  오후 06:25    <DIR>          ..\n",
      "2021-09-17  오후 06:21             1,928 .gitignore\n",
      "2021-09-17  오후 06:22    <DIR>          .ipynb_checkpoints\n",
      "2021-09-17  오후 06:21                51 README.md\n",
      "2021-09-17  오후 06:24               615 test.ipynb\n",
      "2021-09-17  오후 06:25                 5 test.txt\n",
      "               4개 파일               2,599 바이트\n",
      "               3개 디렉터리  355,065,872,384 바이트 남음\n"
     ]
    }
   ],
   "source": [
    "!dir"
   ]
  },
  {
   "cell_type": "code",
   "execution_count": 4,
   "id": "62fb14d5",
   "metadata": {},
   "outputs": [
    {
     "name": "stdout",
     "output_type": "stream",
     "text": [
      "hello\n"
     ]
    }
   ],
   "source": [
    "!type test.txt"
   ]
  },
  {
   "cell_type": "code",
   "execution_count": null,
   "id": "104264b2",
   "metadata": {},
   "outputs": [],
   "source": []
  },
  {
   "cell_type": "code",
   "execution_count": 5,
   "id": "b919510e",
   "metadata": {},
   "outputs": [],
   "source": [
    "import requests"
   ]
  },
  {
   "cell_type": "code",
   "execution_count": 6,
   "id": "2a589512",
   "metadata": {},
   "outputs": [],
   "source": [
    "# Image URL\n",
    "url = \"https://search1.kakaocdn.net/argon/600x0_65_wr/ImZk3b2X1w8\""
   ]
  },
  {
   "cell_type": "code",
   "execution_count": 7,
   "id": "4a4c66ce",
   "metadata": {},
   "outputs": [],
   "source": [
    "# URL Image 요청\n",
    "img_response = requests.get(url)"
   ]
  },
  {
   "cell_type": "code",
   "execution_count": 8,
   "id": "c6b2c226",
   "metadata": {},
   "outputs": [
    {
     "name": "stdout",
     "output_type": "stream",
     "text": [
      "요청 성공!\n"
     ]
    }
   ],
   "source": [
    "# 요청 성공했다면\n",
    "if img_response.status_code == 200:\n",
    "    print(\"요청 성공!\")\n",
    "    with open(\"request_success.jpg\", \"wb\") as fp:\n",
    "        fp.write(img_response.content)"
   ]
  },
  {
   "cell_type": "code",
   "execution_count": 9,
   "id": "dfef5edd",
   "metadata": {},
   "outputs": [
    {
     "name": "stdout",
     "output_type": "stream",
     "text": [
      " C 드라이브의 볼륨에는 이름이 없습니다.\n",
      " 볼륨 일련 번호: BC22-E86F\n",
      "\n",
      " C:\\Users\\jaqkq\\python_works\\PythonWorkshop 디렉터리\n",
      "\n",
      "2021-09-17  오후 07:10    <DIR>          .\n",
      "2021-09-17  오후 07:10    <DIR>          ..\n",
      "2021-09-17  오후 06:21             1,928 .gitignore\n",
      "2021-09-17  오후 06:22    <DIR>          .ipynb_checkpoints\n",
      "2021-09-17  오후 06:21                51 README.md\n",
      "2021-09-17  오후 07:10            27,952 request_success.jpg\n",
      "2021-09-17  오후 07:09             3,398 test.ipynb\n",
      "2021-09-17  오후 06:25                 5 test.txt\n",
      "               5개 파일              33,334 바이트\n",
      "               3개 디렉터리  353,789,534,208 바이트 남음\n"
     ]
    }
   ],
   "source": [
    "!dir"
   ]
  },
  {
   "cell_type": "code",
   "execution_count": null,
   "id": "a448ddf9",
   "metadata": {},
   "outputs": [],
   "source": []
  },
  {
   "cell_type": "code",
   "execution_count": 10,
   "id": "97ff891f",
   "metadata": {},
   "outputs": [],
   "source": [
    "# Kakao Daum 검색 API 사용하기\n",
    "import requests\n",
    "import json"
   ]
  },
  {
   "cell_type": "code",
   "execution_count": 11,
   "id": "ad52179a",
   "metadata": {},
   "outputs": [],
   "source": [
    "# Image 검색 URL\n",
    "url = \"https://dapi.kakao.com/v2/search/image\""
   ]
  },
  {
   "cell_type": "code",
   "execution_count": 12,
   "id": "f9b2d52a",
   "metadata": {},
   "outputs": [],
   "source": [
    "# 요청 헤더\n",
    "headers =  {\n",
    "    \"Authorization\": \"KakaoAK 53fed90127f9771223bc9f5278343390\"\n",
    "}"
   ]
  },
  {
   "cell_type": "code",
   "execution_count": 13,
   "id": "8ad95969",
   "metadata": {},
   "outputs": [],
   "source": [
    "# 찾고자 하는 데이터\n",
    "data = {\n",
    "    \"query\": \"강아지\"\n",
    "}"
   ]
  },
  {
   "cell_type": "code",
   "execution_count": 14,
   "id": "82c80d00",
   "metadata": {},
   "outputs": [],
   "source": [
    "# Image 검색 요청\n",
    "response = requests.post(url, headers=headers, data=data)"
   ]
  },
  {
   "cell_type": "code",
   "execution_count": 15,
   "id": "cd86f32d",
   "metadata": {},
   "outputs": [
    {
     "name": "stdout",
     "output_type": "stream",
     "text": [
      "200\n"
     ]
    }
   ],
   "source": [
    "print(response.status_code)"
   ]
  },
  {
   "cell_type": "code",
   "execution_count": 16,
   "id": "d48eb510",
   "metadata": {},
   "outputs": [],
   "source": [
    "# 검색해온 모든 이미지 저장\n",
    "def save_image(image_url, file_name):\n",
    "    img_response = requests.get(image_url)\n",
    "    \n",
    "    #요청성공\n",
    "    if img_response.status_code == 200:\n",
    "        #저장\n",
    "        with open(file_name, \"wb\") as fp:\n",
    "            fp.write(img_response.content)"
   ]
  },
  {
   "cell_type": "code",
   "execution_count": 17,
   "id": "9741a5f5",
   "metadata": {},
   "outputs": [
    {
     "name": "stdout",
     "output_type": "stream",
     "text": [
      "[0th] image_url =  http://t1.daumcdn.net/cfile/tistory/996690445C06B6C328\n",
      "[1th] image_url =  http://cfs10.planet.daum.net/upload_control/pcp_download.php?fhandle=MzR1Q3FAZnMxMC5wbGFuZXQuZGF1bS5uZXQ6LzEwMDE3NS8wLzAuanBnLnRodW1i&filename=%EA%B0%95%EC%95%84%EC%A7%80.jpg\n",
      "[2th] image_url =  http://t1.daumcdn.net/cfile/tistory/277EA447595B51391B\n",
      "[3th] image_url =  http://postfiles2.naver.net/MjAxOTExMDVfMjE3/MDAxNTcyOTE5OTEwNTcw.jhHHEGzHDnUyheuW3OAxrpEgbIKCCuyZ3GKW9crGfCog.vlci0G-Ys1QX0Iyw6WWCPIJ50gH6fVUfhkT0Na4wAuYg.JPEG.jyo642/%EA%B0%95%EC%95%84%EC%A7%802.jpg?type=w580\n",
      "[4th] image_url =  http://postfiles9.naver.net/20120731_264/kjihee17_1343699561668Ndrys_JPEG/%B0%AD%BE%C6%C1%F63.jpg?type=w1\n",
      "[5th] image_url =  http://postfiles14.naver.net/20150211_61/ppori8521_1423654362408VMnoC_JPEG/%B0%AD%BE%C6%C1%F6_5.jpg?type=w2\n",
      "[6th] image_url =  https://images.mypetlife.co.kr/content/uploads/2018/07/09155849/dog-763058_1280-1024x781.jpg\n",
      "[7th] image_url =  http://cfs7.blog.daum.net/image/23/blog/2007/11/26/16/47/474a7a22d8771&filename=%EA%B0%95%EC%95%84%EC%A7%807.jpg\n",
      "[8th] image_url =  http://postfiles16.naver.net/20120709_287/ghcns1190_1341839449972nkoaJ_JPEG/%B0%AD%BE%C6%C1%F6.jpg?type=w2\n",
      "[9th] image_url =  http://cfs6.blog.daum.net/image/31/blog/2007/07/17/13/20/469c4386bfddf&filename=%ED%8B%B0%EC%BB%B5%EA%B0%95%EC%95%84%EC%A7%80.jpg\n",
      "[10th] image_url =  http://ncolumn-image1.daum.net/_home/G/R/02NGR/1081242259302_443.jpg\n",
      "[11th] image_url =  http://postfiles12.naver.net/MjAxOTA3MDhfOTkg/MDAxNTYyNTQ4OTYwMjc2.K4JepTS017q6ubWGOYVPsO--x8M9_DG1ZU-7Q9QzPp8g.u9kXH5EpEg_zAOLC1JS_YoSwhm9PExDJGFH4mHD6evUg.JPEG.041904190419/%EA%B0%95%EC%95%84%EC%A7%80.JPG?type=w580\n",
      "[12th] image_url =  http://cfs13.blog.daum.net/image/32/blog/2008/10/27/15/23/49055dff764bc&filename=%EA%B0%95%EC%95%84%EC%A7%8032.jpg\n",
      "[13th] image_url =  http://postfiles10.naver.net/MjAyMDEwMDlfMjU0/MDAxNjAyMjQyODkxNDE4.FMIdRuFiUk-ri_dUxsm9DxlmeFNDhrc1ehcd5OCcQc8g.li8Kh3h5CAOvllCoZtWdJEmWuT3Tgp_aZ3Cg5IJXKBEg.JPEG.dengkkomi/%EC%A7%96%EB%8A%94%EA%B0%95%EC%95%84%EC%A7%802.jpg?type=w966\n",
      "[14th] image_url =  http://t1.daumcdn.net/cfile/tistory/2653313D56EA602B36\n",
      "[15th] image_url =  http://postfiles10.naver.net/20110607_25/hie530_1307430340874JaSyz_JPEG/%B0%AD%BE%C6%C1%F629.jpg?type=w2\n",
      "[16th] image_url =  http://t1.daumcdn.net/cfile/tistory/274FCA495215649B02\n",
      "[17th] image_url =  http://blogfiles.naver.net/20141023_237/phd3406_1414042008619QL3Qg_JPEG/%B0%AD%BE%C6%C1%F61.jpg\n",
      "[18th] image_url =  http://t1.daumcdn.net/cfile/tistory/114EC6204AB7969E54\n",
      "[19th] image_url =  http://postfiles11.naver.net/20110901_138/tjdgnl8462_1314886689166MgYyf_JPEG/%B0%AD%BE%C6%C1%F64.jpg?type=w2\n",
      "[20th] image_url =  http://cfs5.planet.daum.net/upload_control/pcp_download.php?fhandle=MkdiNXBAZnM1LnBsYW5ldC5kYXVtLm5ldDovNjc2MjQyLzAvOC5qcGcudGh1bWI=&filename=%EA%B0%95%EC%95%84%EC%A7%80.jpg\n",
      "[21th] image_url =  http://postfiles5.naver.net/data2/2004/5/8/36/%B0%AD%BE%C6%C1%F6.jpg?type=w3\n",
      "[22th] image_url =  http://t1.daumcdn.net/cfile/tistory/24101B4A58F658590F\n",
      "[23th] image_url =  http://postfiles14.naver.net/MjAyMDA2MjJfNTMg/MDAxNTkyNzk2NDg1NTkw.5qKcVxYrOU5iI-IsfdvOflLTzmKZBSIGsDXHcJkcyGQg.sUnh-_MoWFKKEZ2-sXD-QPR70zz-Maq3rD_PSPm1vlwg.JPEG.ymgmarket/%EA%B0%95%EC%95%84%EC%A7%80%EC%98%A5%EC%88%98%EC%88%98.jpg?type=w773\n",
      "[24th] image_url =  http://postfiles12.naver.net/20111223_251/selin17_1324584617402OxIsh_JPEG/%B0%AD%BE%C6%C1%F61.jpg?type=w3\n",
      "[25th] image_url =  http://cfs9.blog.daum.net/image/36/blog/2007/11/20/16/20/47428aa5d30ee&filename=%EA%B0%95%EC%95%84%EC%A7%804.jpg\n",
      "[26th] image_url =  http://t1.daumcdn.net/cfile/tistory/9992903E5EAFE19219\n",
      "[27th] image_url =  http://t1.daumcdn.net/cfile/tistory/99BB023E5EAFE1920F\n",
      "[28th] image_url =  http://t1.daumcdn.net/cfile/tistory/9935863E5EAFE1911C\n",
      "[29th] image_url =  https://k.kakaocdn.net/dn/cLgVpt/btq3cbqRr5b/0C8ejUensSHvgQo6QU6mW0/img.jpg\n",
      "[30th] image_url =  http://t1.daumcdn.net/cfile/tistory/99AE713359C073652D\n",
      "[31th] image_url =  http://cfs10.blog.daum.net/image/34/blog/2007/12/29/22/06/4776462036396&filename=%EA%B0%95%EC%95%84%EC%A7%802.jpg\n",
      "[32th] image_url =  http://cfs12.blog.daum.net/image/16/blog/2008/11/10/17/43/4917f4226e809&filename=%EA%B0%95%EC%95%84%EC%A7%80.jpg\n",
      "[33th] image_url =  https://images.mypetlife.co.kr/content/uploads/2019/06/09153802/scared-2640475_1280-1024x682.jpg\n",
      "[34th] image_url =  https://mypetlife.co.kr/wp-content/uploads/2020/11/shutterstock_1272088093-300x200.jpg\n",
      "[35th] image_url =  https://images.mypetlife.co.kr/content/uploads/2020/11/09150114/shutterstock_402932878-300x188.jpg\n",
      "[36th] image_url =  https://images.mypetlife.co.kr/content/uploads/2018/06/09160219/pexels-photo-167700-1024x682.jpeg\n",
      "[37th] image_url =  https://k.kakaocdn.net/dn/enWgD1/btrdJ3Lesxn/9mPrtHbR1DtTxM8mz3mmG1/img.png\n",
      "[38th] image_url =  https://images.mypetlife.co.kr/content/uploads/2019/05/09153837/labradoodle-1499231_1280-682x1024.jpg\n",
      "[39th] image_url =  https://k.kakaocdn.net/dn/bFZQcX/btranhZVqd3/jEGt3yZikDCdXMG9akPpV0/img.jpg\n",
      "[40th] image_url =  http://t1.daumcdn.net/cfile/tistory/99125D495EC2D1BA04\n",
      "[41th] image_url =  https://images.mypetlife.co.kr/content/uploads/2019/05/09153839/shutterstock_412786489.jpg\n",
      "[42th] image_url =  https://images.mypetlife.co.kr/content/uploads/2018/06/09160219/pexels-photo-1174081-1024x681.jpeg\n",
      "[43th] image_url =  http://t1.daumcdn.net/cfile/tistory/9952CC3E5E9016DD05\n",
      "[44th] image_url =  https://images.mypetlife.co.kr/content/uploads/2018/06/09160304/pexels-photo-791862-1024x682.jpeg\n",
      "[45th] image_url =  https://images.mypetlife.co.kr/content/uploads/2018/05/09160630/adorable-animal-beautiful-464664-scaled.jpg\n",
      "[46th] image_url =  https://mypetlife.co.kr/wp-content/uploads/2019/06/adorable-animal-backyard-247937-1024x683.jpg\n",
      "[47th] image_url =  https://images.mypetlife.co.kr/content/uploads/2018/05/09160555/pexels-photo-551628-1024x683.jpeg\n",
      "[48th] image_url =  http://cfs4.planet.daum.net/upload_control/pcp_download.php?fhandle=MWpRQ0JAZnM0LnBsYW5ldC5kYXVtLm5ldDovNjg0OTAzMC8wLzIuYm1wLnRodW1i&filename=%EA%B0%95%EC%95%84%EC%A7%804.bmp\n",
      "[49th] image_url =  https://images.mypetlife.co.kr/content/uploads/2018/07/09155850/dog-1663979_1280-1024x682.jpg\n",
      "[50th] image_url =  https://images.mypetlife.co.kr/content/uploads/2018/08/09155518/pexels-photo-131071-1024x682.jpeg\n",
      "[51th] image_url =  http://cfs8.planet.daum.net/upload_control/pcp_download.php?fhandle=NHA1VHNAZnM4LnBsYW5ldC5kYXVtLm5ldDovNDY0MjkxLzAvNi5qcGcudGh1bWI=&filename=%EB%B9%A8%EB%9E%98%EB%90%9C%20%EA%B0%95%EC%95%84%EC%A7%80.jpg\n",
      "[52th] image_url =  http://t1.daumcdn.net/cfile/tistory/999CE4355B92C40D15\n",
      "[53th] image_url =  https://images.mypetlife.co.kr/content/uploads/2021/04/13104608/dog-2410875_1920-1024x681.jpg\n",
      "[54th] image_url =  https://images.mypetlife.co.kr/content/uploads/2019/08/09153224/dog-paw-1024x683.jpg\n",
      "[55th] image_url =  https://mypetlife.co.kr/wp-content/uploads/2018/07/4k-wallpaper-adorable-animal-1249208-1024x694.jpg\n",
      "[56th] image_url =  https://images.mypetlife.co.kr/content/uploads/2019/07/09153617/retriever-1865260_1280-1024x682.jpg\n",
      "[57th] image_url =  https://images.mypetlife.co.kr/content/uploads/2018/07/09155839/animal-dog-pet-sad-1024x768.jpg\n",
      "[58th] image_url =  https://images.mypetlife.co.kr/content/uploads/2021/09/10150128/dog-6394502_1280-1024x682.jpg\n",
      "[59th] image_url =  https://images.mypetlife.co.kr/content/uploads/2019/08/09153108/dogs-2-1024x768.jpg\n",
      "[60th] image_url =  https://images.mypetlife.co.kr/content/uploads/2019/06/09153756/dog-55959_1280-943x1024.jpg\n",
      "[61th] image_url =  https://images.mypetlife.co.kr/content/uploads/2018/06/09160230/dog-605714_1280.jpg\n",
      "[62th] image_url =  https://images.mypetlife.co.kr/content/uploads/2019/05/09153913/dogs-2712045_1280-1024x765.jpg\n",
      "[63th] image_url =  https://src.hidoc.co.kr/image/lib/2020/4/28/1588051486019_0.jpg\n",
      "[64th] image_url =  https://images.mypetlife.co.kr/content/uploads/2018/05/09160601/animal-animal-photography-animal-portrait-422220-scaled.jpg\n",
      "[65th] image_url =  https://images.mypetlife.co.kr/content/uploads/2021/06/07174732/jack-russel-3985228_1920-1024x683.jpg\n",
      "[66th] image_url =  http://t1.daumcdn.net/cfile/tistory/26482039568F305916\n",
      "[67th] image_url =  https://images.mypetlife.co.kr/content/uploads/2020/06/09150426/A-hungry-dog-looking-up-near-his-food-and-water-bowl.jpg\n"
     ]
    },
    {
     "name": "stdout",
     "output_type": "stream",
     "text": [
      "[68th] image_url =  https://k.kakaocdn.net/dn/cOVr36/btq9HL6WQGW/pJ2WzOt0c3P4Udpr2jPWQ1/img.jpg\n",
      "[69th] image_url =  https://images.mypetlife.co.kr/content/uploads/2018/04/09160800/pug_1524547072-1024x682.jpg\n",
      "[70th] image_url =  http://t1.daumcdn.net/cfile/tistory/2312D948547BCC8C08\n",
      "[71th] image_url =  http://t1.daumcdn.net/cfile/tistory/99381A475EB1780201\n",
      "[72th] image_url =  https://images.mypetlife.co.kr/content/uploads/2019/04/09154017/shutterstock_634201190.jpg\n",
      "[73th] image_url =  http://t1.daumcdn.net/cfile/tistory/22697E36595E3A1A3A\n",
      "[74th] image_url =  http://postfiles2.naver.net/20160112_17/hellomon7712_1452576193386PF5Hk_JPEG/%B0%AD%BE%C6%C1%F6001-20160112.jpg?type=w773\n",
      "[75th] image_url =  http://t1.daumcdn.net/cfile/tistory/264F9C3758CBF5A406\n",
      "[76th] image_url =  https://images.mypetlife.co.kr/content/uploads/2020/03/07174750/sehee-park-473fli-b_Mo-unsplash-768x1024.jpg\n",
      "[77th] image_url =  http://t1.daumcdn.net/cfile/tistory/99F662475B3C5F2F35\n",
      "[78th] image_url =  http://t1.daumcdn.net/cfile/tistory/2104DD3758D9CF8F21\n",
      "[79th] image_url =  https://images.mypetlife.co.kr/content/uploads/2018/06/09160223/retrieve-1753023_960_720.jpg\n"
     ]
    }
   ],
   "source": [
    "if response.status_code != 200:\n",
    "    print(\"error!\")\n",
    "else:\n",
    "    count = 0\n",
    "    for image_info in response.json()['documents']:\n",
    "        print(f\"[{count}th] image_url = \", image_info['image_url'])\n",
    "        \n",
    "        #저장할 이미지 파일명\n",
    "        count = count + 1\n",
    "        file_name = \"test_%d.jpg\" %(count)\n",
    "        \n",
    "        #이미지 저장\n",
    "        save_image(image_info['image_url'], file_name)"
   ]
  },
  {
   "cell_type": "code",
   "execution_count": null,
   "id": "31f76b17",
   "metadata": {},
   "outputs": [],
   "source": []
  }
 ],
 "metadata": {
  "kernelspec": {
   "display_name": "Python 3",
   "language": "python",
   "name": "python3"
  },
  "language_info": {
   "codemirror_mode": {
    "name": "ipython",
    "version": 3
   },
   "file_extension": ".py",
   "mimetype": "text/x-python",
   "name": "python",
   "nbconvert_exporter": "python",
   "pygments_lexer": "ipython3",
   "version": "3.8.8"
  }
 },
 "nbformat": 4,
 "nbformat_minor": 5
}
