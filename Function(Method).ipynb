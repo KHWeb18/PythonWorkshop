{
 "cells": [
  {
   "cell_type": "code",
   "execution_count": 1,
   "id": "e4379c42",
   "metadata": {},
   "outputs": [
    {
     "name": "stdout",
     "output_type": "stream",
     "text": [
      "<function times at 0x000002544FD30DC0>\n",
      "100\n",
      "<class 'function'>\n"
     ]
    }
   ],
   "source": [
    "def times(a, b):\n",
    "    return a * b\n",
    "print(times)\n",
    "print(times(10, 10))\n",
    "print(type(times))"
   ]
  },
  {
   "cell_type": "code",
   "execution_count": 3,
   "id": "38d938a9",
   "metadata": {},
   "outputs": [
    {
     "name": "stdout",
     "output_type": "stream",
     "text": [
      "{'__name__': '__main__', '__doc__': 'Automatically created module for IPython interactive environment', '__package__': None, '__loader__': None, '__spec__': None, '__builtin__': <module 'builtins' (built-in)>, '__builtins__': <module 'builtins' (built-in)>, '_ih': ['', 'def times(a, b):\\n    return a * b\\nprint(times)\\nprint(times(10, 10))\\nprint(type(times))', 'print(globals(0))', 'print(globals())'], '_oh': {}, '_dh': ['C:\\\\Users\\\\USER\\\\python_works\\\\PythonWorkshop'], 'In': ['', 'def times(a, b):\\n    return a * b\\nprint(times)\\nprint(times(10, 10))\\nprint(type(times))', 'print(globals(0))', 'print(globals())'], 'Out': {}, 'get_ipython': <bound method InteractiveShell.get_ipython of <ipykernel.zmqshell.ZMQInteractiveShell object at 0x000002544FC93850>>, 'exit': <IPython.core.autocall.ZMQExitAutocall object at 0x000002544FD04640>, 'quit': <IPython.core.autocall.ZMQExitAutocall object at 0x000002544FD04640>, '_': '', '__': '', '___': '', '_i': 'print(globals(0))', '_ii': 'def times(a, b):\\n    return a * b\\nprint(times)\\nprint(times(10, 10))\\nprint(type(times))', '_iii': '', '_i1': 'def times(a, b):\\n    return a * b\\nprint(times)\\nprint(times(10, 10))\\nprint(type(times))', 'times': <function times at 0x000002544FD30DC0>, '_i2': 'print(globals(0))', '_i3': 'print(globals())'}\n"
     ]
    }
   ],
   "source": [
    "print(globals())"
   ]
  },
  {
   "cell_type": "code",
   "execution_count": 5,
   "id": "605b9cda",
   "metadata": {},
   "outputs": [
    {
     "name": "stdout",
     "output_type": "stream",
     "text": [
      "100\n"
     ]
    }
   ],
   "source": [
    "# 위에서 times라는 함수의 주소는 0x000002544FD30DC0로 출력되었다.\n",
    "#이것이 의미하는 바는 상당히 중요한 부분이다.\n",
    "#먼저 운영체제(OS)에서 가상메모리와 물리메모리의 개념을 이해하는 것이 중요한데\n",
    "#사실상 이 두가직 ㅐ념을 설명하자면 커널부터 페이징 메커니즘 등등 설명할 것이 넘 많음\n",
    "#우선은 가상 메모리 관점에서만 설명하도록 한다.\n",
    "\n",
    "#가상메모리: 일반적으로 리눅스 ,맥, 윈도우의 운영체제는 가상메모리를 물리메모리로 변환하는\n",
    "#페이징(Paging) 메커니즘을 기반으로 동작한다.\n",
    "#즉 우리가 보고 있는 모든 주소값(포인터)는 전부 가상 메모리다.\n",
    "#근데 일전에도 가볍게 소개하였듯이 프로그래머가 반드시 알아야 하는 메모리 구성 4가지가 있다\n",
    "#stack(스택),Heap(힙),Data(데이터), text혹은 code\n",
    "#stack의 경우 지역 변수가 배치되는 영역이며 가상 메모리 최상단에 배치된다.\n",
    "#heap의 경우 New , malloc(c계열)로 할당된 메모리 들이 배치되며\n",
    "#stack은 위에서 아래로 증가하고 heap은 아래에서 위로 올라가는 구조다.\n",
    "#Data의 경우 전역 변수가 배치되며 heap 아래쪽에 있고 text 위에 있다.\n",
    "#text의 경우 우리가 사용하는 프로그램의 기계어(어셈블리어)에 해당한다.\n",
    "#이 내용은 가상 메모리 최하단에 배치되게 구성된다.\n",
    "\n",
    "#여기서 또 중요한 사항은 가상 메모리는 2가지 영역으로 분리된다는 것이다.\n",
    "#상단은 커널 하단은 유저 영역으로 분리가 되며\n",
    "#전체 가상메모리는 커널의 메모리 관리 체계에 의해 제어된다.\n",
    "#실제 64비트 운영체제의 경우 가상 메모리가 절반 뚝 잘라서 커널과 사용자로 나뉨\n",
    "#0xffffffff ffffffff 가 64비트가 표현할 수 있는 최대치다.\n",
    "#그러므로 0~ 0x7fffffff fffffff 까지가 하단(유저영역)\n",
    "#0x80000000 00000000 ~ 0xffffffff ffffffff까지가 상단(커널 영역)이다.\n",
    "#이 관점에서 times의 주소값을 보자면\n",
    "#사용자 영역에 해당하는 하단에 배치된 것을 알 수 있다.\n",
    "#하단의 거의 최하단에 배치되어있음을 알 수 있다(숫자상 앞에가 죄다 0)\n",
    "#그러므로 이녀석은 위의 가상메모리 구성상에서 Text에 해당함을 알 수 있다.\n",
    "\n",
    "#실제 C, C++, JAVA, Python, Golang, Rust, Litlin 등등 어떤 언어든지\n",
    "# 모든 이와 같은 프로그램 동작 구조를 가지고 컴퓨터 상에서 동작함\n",
    "#모든 기계어는 결국 Text에 배치된다는 것임\n",
    "#우리가 사용하는 모든 데이터는 어디에 올라가야 한다 ?\n",
    "#메모리(물리 메모리 < ---- 가상 메모리)\n",
    "\n",
    "#\n",
    "\n",
    "\n",
    "\n",
    "pointerOfFunction = times\n",
    "res = pointerOfFunction(10, 10) #JAVA interface는 내부적으로 요렇게 구현됨\n",
    "print(res)"
   ]
  },
  {
   "cell_type": "code",
   "execution_count": 6,
   "id": "7b6fc553",
   "metadata": {},
   "outputs": [
    {
     "name": "stdout",
     "output_type": "stream",
     "text": [
      "이것이 java interface이자 c언어 함수 포인터의 묘미\n"
     ]
    }
   ],
   "source": [
    "def test():\n",
    "    return \"이것이 java interface이자 c언어 함수 포인터의 묘미\"\n",
    "\n",
    "#C++으로 치면 virtual이 interface와 같은 역할을 수행함\n",
    "#실제 C로 작성할 경우 리턴 타입과 파라미터를 맞춰야 해서 굉장히 해괴한 문법을 사용하게\n",
    "#되는 반면 파이썬은 아래와 같이 아주 편하게 작성이 가능하다\n",
    "\n",
    "#ex) c 계열에서 singnal이라는 인터럽트 함수가 있는데 프로토타입이 아래와 같다\n",
    "#(void) (* signal(int signo void(*handler)(int)(int)))(int):\n",
    "#리턴타입 void (*)(int)\n",
    "#함수이름 signal\n",
    "#입력 int signo, void(*handler)(int)\n",
    "#분리하고 보면 리턴타입이 함수 포인터\n",
    "#이름은 시그널\n",
    "#입력은 정수형과 함수 포인터임을 볼 수 있으나\n",
    "#초기 프로토타입 형태로는 굉장히 해괴한 문법이 구성되어 있음을 볼 수 있다.\n",
    "pointerOfFunction = test\n",
    "res = pointerOfFunction()\n",
    "print(res)"
   ]
  },
  {
   "cell_type": "code",
   "execution_count": 10,
   "id": "7bb4bf5d",
   "metadata": {},
   "outputs": [
    {
     "name": "stdout",
     "output_type": "stream",
     "text": [
      "['p', 'p', 'e']\n"
     ]
    }
   ],
   "source": [
    "def intersect(prelist, postlist):\n",
    "    retList = []\n",
    "    \n",
    "    for x in prelist:\n",
    "        if x in postlist:\n",
    "            retList.append(x)\n",
    "    return retList\n",
    "\n",
    "list1 = 'Apple'\n",
    "list2 = 'grape'\n",
    "\n",
    "print(intersect(list1, list2))"
   ]
  },
  {
   "cell_type": "code",
   "execution_count": 11,
   "id": "011e9e0e",
   "metadata": {},
   "outputs": [
    {
     "name": "stdout",
     "output_type": "stream",
     "text": [
      "['A']\n"
     ]
    }
   ],
   "source": [
    "print(intersect(list1, ['H','A','M']))"
   ]
  },
  {
   "cell_type": "code",
   "execution_count": 12,
   "id": "7b962eb9",
   "metadata": {},
   "outputs": [
    {
     "name": "stdout",
     "output_type": "stream",
     "text": [
      "(7, 3)\n"
     ]
    }
   ],
   "source": [
    "def swap(x, y):\n",
    "    return y, x\n",
    "\n",
    "print(swap(3, 7))"
   ]
  },
  {
   "cell_type": "code",
   "execution_count": 13,
   "id": "4053561b",
   "metadata": {},
   "outputs": [
    {
     "name": "stdout",
     "output_type": "stream",
     "text": [
      "77\n",
      "33\n"
     ]
    }
   ],
   "source": [
    "a, b = swap(33, 77)\n",
    "\n",
    "print(a)\n",
    "print(b)"
   ]
  },
  {
   "cell_type": "code",
   "execution_count": 14,
   "id": "07b628cd",
   "metadata": {},
   "outputs": [
    {
     "name": "stdout",
     "output_type": "stream",
     "text": [
      "(777, 333)\n",
      "<class 'tuple'>\n"
     ]
    }
   ],
   "source": [
    "x = swap(333, 777)\n",
    "print(x)\n",
    "print(type(x))\n",
    "# tuple(튜플)은 변경 불가능한 리스트라 생각하면 됨\n",
    "# 변경이 불가능하다란 ? 불변(immutalbe)\n",
    "# 즉 const의 형식을 따르고 있다는 의미임\n",
    "\n",
    "#우리가 final을 사용했던 이유는?\n",
    "#수십 ~ 수백명이 프로젝트를 함께 진행할 경우\n",
    "#빠른 생산성으로 인해 상호간 정보 교환은\n",
    "#깃에 올리는 코드로 모든 소통을 대부분 진행하게 된다.\n",
    "#결론: 바꾸면 안되는 것을 바꿔서 팀 작업에 혼선을 유발할 수 있는 경우에는\n",
    "#미리 퓨틀로 만들어서 변경이 불가능하게 만들기 위함\n",
    "# 사전에 문제가 발생할 수도 있는 부분을 원천 차단하는 역할이다."
   ]
  },
  {
   "cell_type": "code",
   "execution_count": 17,
   "id": "75a70754",
   "metadata": {},
   "outputs": [
    {
     "name": "stdout",
     "output_type": "stream",
     "text": [
      "30\n"
     ]
    }
   ],
   "source": [
    "a = 10\n",
    "b = 20\n",
    "\n",
    "def mysum(x, y):\n",
    "    \n",
    "    return x + y\n",
    "\n",
    "print(mysum(a,b))"
   ]
  },
  {
   "cell_type": "code",
   "execution_count": 18,
   "id": "2fa7e734",
   "metadata": {},
   "outputs": [
    {
     "name": "stdout",
     "output_type": "stream",
     "text": [
      "11\n",
      "10\n"
     ]
    }
   ],
   "source": [
    "x = 10\n",
    "\n",
    "def mysum2(x, y):\n",
    "    x = 1\n",
    "    return x + y\n",
    "print(mysum2(x, x))\n",
    "print(x)"
   ]
  },
  {
   "cell_type": "code",
   "execution_count": 19,
   "id": "99ae9166",
   "metadata": {},
   "outputs": [
    {
     "name": "stdout",
     "output_type": "stream",
     "text": [
      "1\n",
      "10\n",
      "7\n"
     ]
    }
   ],
   "source": [
    "glob = 1\n",
    "print(glob)\n",
    "\n",
    "def exch_scope(x):\n",
    "    global glob\n",
    "    glob = 7\n",
    "    return glob + x\n",
    "\n",
    "print(exch_scope(3))\n",
    "print(glob)"
   ]
  },
  {
   "cell_type": "code",
   "execution_count": 20,
   "id": "edc229c1",
   "metadata": {},
   "outputs": [
    {
     "name": "stdout",
     "output_type": "stream",
     "text": [
      "6\n"
     ]
    }
   ],
   "source": [
    "g = lambda x, y: x * y\n",
    "print(g(2,3))"
   ]
  },
  {
   "cell_type": "code",
   "execution_count": 22,
   "id": "988c51b2",
   "metadata": {},
   "outputs": [
    {
     "name": "stdout",
     "output_type": "stream",
     "text": [
      "9\n"
     ]
    }
   ],
   "source": [
    "#이와 같이 한다면 함수 객체를 저장하는 변수가 없으므로 익명 함수가 됨\n",
    "print((lambda x: x * x)(3))"
   ]
  },
  {
   "cell_type": "code",
   "execution_count": 23,
   "id": "d8e74834",
   "metadata": {},
   "outputs": [
    {
     "name": "stdout",
     "output_type": "stream",
     "text": [
      "1\n",
      "2\n",
      "4\n"
     ]
    }
   ],
   "source": [
    "for i in range(1, 5):\n",
    "    if(i == 3):\n",
    "        pass\n",
    "    else:\n",
    "        print(i)"
   ]
  },
  {
   "cell_type": "code",
   "execution_count": 26,
   "id": "c3188474",
   "metadata": {},
   "outputs": [
    {
     "name": "stdout",
     "output_type": "stream",
     "text": [
      "0 1\n",
      "1 1\n",
      "2 2\n",
      "3 3\n",
      "4 5\n",
      "5 8\n",
      "6 13\n",
      "7 21\n",
      "8 34\n",
      "9 55\n",
      "10 89\n",
      "11 144\n",
      "12 233\n",
      "13 377\n",
      "14 610\n",
      "15 987\n",
      "16 1597\n",
      "17 2584\n",
      "18 4181\n",
      "19 6765\n"
     ]
    }
   ],
   "source": [
    "def fib():\n",
    "    a, b = 1, 1\n",
    "    \n",
    "    \n",
    "    #for(;;) 무조건\n",
    "    #while(1) 무조건\n",
    "    #while(true) 0이아니면 전부 참\n",
    "    while 1:\n",
    "        # 현재 실행 스택 메모리를 유지하면서 결과값을 호출한곳에 돌려준다\n",
    "        yield a\n",
    "        a, b = b, a + b\n",
    "        \n",
    "for i, ret in enumerate(fib()):\n",
    "    if i < 20:\n",
    "        print(i, ret)\n",
    "    else:\n",
    "        break"
   ]
  },
  {
   "cell_type": "code",
   "execution_count": 27,
   "id": "4508cfe3",
   "metadata": {},
   "outputs": [
    {
     "data": {
      "text/plain": [
       "<generator object fib at 0x000002545170F120>"
      ]
     },
     "execution_count": 27,
     "metadata": {},
     "output_type": "execute_result"
    }
   ],
   "source": [
    "fib()"
   ]
  },
  {
   "cell_type": "code",
   "execution_count": 28,
   "id": "b871ab63",
   "metadata": {},
   "outputs": [
    {
     "name": "stdout",
     "output_type": "stream",
     "text": [
      "6765\n"
     ]
    }
   ],
   "source": [
    "def fib2(n):\n",
    "    if n<2:\n",
    "        return n\n",
    "    else:\n",
    "        return fib2(n-1) + fib2(n-2)\n",
    "    \n",
    "print(fib2(20))"
   ]
  },
  {
   "cell_type": "code",
   "execution_count": null,
   "id": "2d3e45ce",
   "metadata": {},
   "outputs": [],
   "source": []
  }
 ],
 "metadata": {
  "kernelspec": {
   "display_name": "Python 3",
   "language": "python",
   "name": "python3"
  },
  "language_info": {
   "codemirror_mode": {
    "name": "ipython",
    "version": 3
   },
   "file_extension": ".py",
   "mimetype": "text/x-python",
   "name": "python",
   "nbconvert_exporter": "python",
   "pygments_lexer": "ipython3",
   "version": "3.8.8"
  }
 },
 "nbformat": 4,
 "nbformat_minor": 5
}
